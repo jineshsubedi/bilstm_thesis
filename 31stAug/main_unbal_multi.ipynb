{
 "cells": [
  {
   "cell_type": "code",
   "execution_count": 1,
   "id": "1e0f65ba",
   "metadata": {},
   "outputs": [
    {
     "name": "stderr",
     "output_type": "stream",
     "text": [
      "2025-09-02 08:47:22.915612: I tensorflow/core/util/port.cc:153] oneDNN custom operations are on. You may see slightly different numerical results due to floating-point round-off errors from different computation orders. To turn them off, set the environment variable `TF_ENABLE_ONEDNN_OPTS=0`.\n",
      "2025-09-02 08:47:23.353402: I tensorflow/core/platform/cpu_feature_guard.cc:210] This TensorFlow binary is optimized to use available CPU instructions in performance-critical operations.\n",
      "To enable the following instructions: AVX2 AVX512F AVX512_VNNI FMA, in other operations, rebuild TensorFlow with the appropriate compiler flags.\n",
      "2025-09-02 08:47:24.932682: I tensorflow/core/util/port.cc:153] oneDNN custom operations are on. You may see slightly different numerical results due to floating-point round-off errors from different computation orders. To turn them off, set the environment variable `TF_ENABLE_ONEDNN_OPTS=0`.\n"
     ]
    },
    {
     "name": "stdout",
     "output_type": "stream",
     "text": [
      "Original DataFrame Head:\n",
      "            ts         src_ip  src_port        dst_ip  dst_port proto service  \\\n",
      "0  1556499101  192.168.1.193     60396  192.168.1.33      8080   tcp       -   \n",
      "1  1556494424  192.168.1.193     59273  192.168.1.33      8080   tcp       -   \n",
      "2  1556487945  192.168.1.193     57717  192.168.1.33      8080   tcp       -   \n",
      "3  1556508616  192.168.1.193     62682  192.168.1.33        80   tcp       -   \n",
      "4  1556511697  192.168.1.193     63419  192.168.1.33      8080   tcp       -   \n",
      "\n",
      "   duration src_bytes  dst_bytes  ... http_response_body_len  \\\n",
      "0  0.000180         0          0  ...                      0   \n",
      "1  0.000111         0          0  ...                      0   \n",
      "2  0.000148         0          0  ...                      0   \n",
      "3  0.000127         0          0  ...                      0   \n",
      "4  0.000122         0          0  ...                      0   \n",
      "\n",
      "   http_status_code  http_user_agent  http_orig_mime_types  \\\n",
      "0                 0                -                     -   \n",
      "1                 0                -                     -   \n",
      "2                 0                -                     -   \n",
      "3                 0                -                     -   \n",
      "4                 0                -                     -   \n",
      "\n",
      "   http_resp_mime_types  weird_name weird_addl  weird_notice  label      type  \n",
      "0                     -           -          -             -      1  backdoor  \n",
      "1                     -           -          -             -      1  backdoor  \n",
      "2                     -           -          -             -      1  backdoor  \n",
      "3                     -           -          -             -      1  backdoor  \n",
      "4                     -           -          -             -      1  backdoor  \n",
      "\n",
      "[5 rows x 46 columns]\n",
      "\n",
      "Original Class Distribution:\n",
      " type\n",
      "normal       300000\n",
      "backdoor      20000\n",
      "ddos          20000\n",
      "injection     20000\n",
      "dos           20000\n",
      "scanning      20000\n",
      "password      20000\n",
      "xss           20000\n",
      "mitm           1043\n",
      "Name: count, dtype: int64\n",
      "\n",
      "Original Label Distribution:\n",
      " label\n",
      "0    300000\n",
      "1    141043\n",
      "Name: count, dtype: int64\n",
      "\n",
      "Original Data Types:\n",
      " ts                          int64\n",
      "src_ip                     object\n",
      "src_port                    int64\n",
      "dst_ip                     object\n",
      "dst_port                    int64\n",
      "proto                      object\n",
      "service                    object\n",
      "duration                  float64\n",
      "src_bytes                  object\n",
      "dst_bytes                   int64\n",
      "conn_state                 object\n",
      "missed_bytes                int64\n",
      "src_pkts                    int64\n",
      "src_ip_bytes                int64\n",
      "dst_pkts                    int64\n",
      "dst_ip_bytes                int64\n",
      "dns_query                  object\n",
      "dns_qclass                  int64\n",
      "dns_qtype                   int64\n",
      "dns_rcode                   int64\n",
      "dns_AA                     object\n",
      "dns_RD                     object\n",
      "dns_RA                     object\n",
      "dns_rejected               object\n",
      "ssl_version                object\n",
      "ssl_cipher                 object\n",
      "ssl_resumed                object\n",
      "ssl_established            object\n",
      "ssl_subject                object\n",
      "ssl_issuer                 object\n",
      "http_trans_depth           object\n",
      "http_method                object\n",
      "http_uri                   object\n",
      "http_referrer              object\n",
      "http_version               object\n",
      "http_request_body_len       int64\n",
      "http_response_body_len      int64\n",
      "http_status_code            int64\n",
      "http_user_agent            object\n",
      "http_orig_mime_types       object\n",
      "http_resp_mime_types       object\n",
      "weird_name                 object\n",
      "weird_addl                 object\n",
      "weird_notice               object\n",
      "label                       int64\n",
      "type                       object\n",
      "dtype: object\n",
      "\n",
      "Original Data Shapes:\n",
      " (441043, 46)\n",
      "Shape after dropping duplicates: (441043, 46)\n",
      "Shape after handling NaNs: (441043, 46)\n",
      "Encoded column: src_ip\n",
      "Encoded column: dst_ip\n",
      "Encoded column: proto\n",
      "Encoded column: service\n",
      "Encoded column: conn_state\n",
      "Encoded column: dns_query\n",
      "Encoded column: dns_AA\n",
      "Encoded column: dns_RD\n",
      "Encoded column: dns_RA\n",
      "Encoded column: dns_rejected\n",
      "Encoded column: ssl_version\n",
      "Encoded column: ssl_cipher\n",
      "Encoded column: ssl_resumed\n",
      "Encoded column: ssl_established\n",
      "Encoded column: ssl_subject\n",
      "Encoded column: ssl_issuer\n",
      "Encoded column: http_trans_depth\n",
      "Encoded column: http_method\n",
      "Encoded column: http_uri\n",
      "Encoded column: http_referrer\n",
      "Encoded column: http_version\n",
      "Encoded column: http_user_agent\n",
      "Encoded column: http_orig_mime_types\n",
      "Encoded column: http_resp_mime_types\n",
      "Encoded column: weird_name\n",
      "Encoded column: weird_addl\n",
      "Encoded column: weird_notice\n",
      "\n",
      "Categorical columns: ['src_ip', 'dst_ip', 'proto', 'service', 'conn_state', 'dns_query', 'dns_AA', 'dns_RD', 'dns_RA', 'dns_rejected', 'ssl_version', 'ssl_cipher', 'ssl_resumed', 'ssl_established', 'ssl_subject', 'ssl_issuer', 'http_trans_depth', 'http_method', 'http_uri', 'http_referrer', 'http_version', 'http_user_agent', 'http_orig_mime_types', 'http_resp_mime_types', 'weird_name', 'weird_addl', 'weird_notice']\n",
      "Numerical columns: ['ts', 'src_ip', 'src_port', 'dst_ip', 'dst_port', 'proto', 'service', 'duration', 'src_bytes', 'dst_bytes', 'conn_state', 'missed_bytes', 'src_pkts', 'src_ip_bytes', 'dst_pkts', 'dst_ip_bytes', 'dns_query', 'dns_qclass', 'dns_qtype', 'dns_rcode', 'dns_AA', 'dns_RD', 'dns_RA', 'dns_rejected', 'ssl_version', 'ssl_cipher', 'ssl_resumed', 'ssl_established', 'ssl_subject', 'ssl_issuer', 'http_trans_depth', 'http_method', 'http_uri', 'http_referrer', 'http_version', 'http_request_body_len', 'http_response_body_len', 'http_status_code', 'http_user_agent', 'http_orig_mime_types', 'http_resp_mime_types', 'weird_name', 'weird_addl', 'weird_notice']\n"
     ]
    }
   ],
   "source": [
    "# BiLSTM-based Intrusion Detection on TON IoT Dataset (Rewritten)\n",
    "\n",
    "import pandas as pd\n",
    "import numpy as np\n",
    "import tensorflow as tf\n",
    "from tensorflow.keras.utils import to_categorical\n",
    "from sklearn.preprocessing import LabelEncoder, MinMaxScaler\n",
    "from collections import Counter\n",
    "from sklearn.model_selection import StratifiedKFold, train_test_split\n",
    "\n",
    "# Load Dataset\n",
    "df = pd.read_csv('../dataset/final_df.csv', low_memory=False)\n",
    "print(\"Original DataFrame Head:\\n\", df.head())\n",
    "print(\"\\nOriginal Class Distribution:\\n\", df['type'].value_counts())\n",
    "print(\"\\nOriginal Label Distribution:\\n\", df['label'].value_counts())\n",
    "print(\"\\nOriginal Data Types:\\n\", df.dtypes)\n",
    "print(\"\\nOriginal Data Shapes:\\n\", df.shape)\n",
    "\n",
    "# --- Data Preprocessing ---\n",
    "# Clean and impute\n",
    "df['src_bytes'] = pd.to_numeric(df['src_bytes'], errors='coerce').fillna(0)\n",
    "df.drop_duplicates(inplace=True)\n",
    "\n",
    "df.fillna(df.mean(numeric_only=True), inplace=True)\n",
    "print(f\"Shape after dropping duplicates: {df.shape}\")\n",
    "\n",
    "for col in df.columns:\n",
    "    if df[col].isnull().any():\n",
    "        if df[col].dtype == 'object':\n",
    "            df[col].fillna('Missing', inplace=True) # Or df[col].mode()[0]\n",
    "        else:\n",
    "            df[col].fillna(df[col].mean(), inplace=True)\n",
    "\n",
    "print(f\"Shape after handling NaNs: {df.shape}\")\n",
    "\n",
    "# Identify targets\n",
    "TARGET_LABEL = 'label'\n",
    "TARGET_TYPE = 'type'\n",
    "\n",
    "# Encode categorical columns\n",
    "categorical_cols = df.select_dtypes(include='object').columns.tolist()\n",
    "if TARGET_TYPE in categorical_cols:\n",
    "    categorical_cols.remove(TARGET_TYPE)\n",
    "\n",
    "label_encoders = {}\n",
    "for col in categorical_cols:\n",
    "    le = LabelEncoder()\n",
    "    df[col] = le.fit_transform(df[col])\n",
    "    label_encoders[col] = le\n",
    "    print(f\"Encoded column: {col}\")\n",
    "\n",
    "# Normalize numerical features\n",
    "numerical_cols = df.select_dtypes(include=['int64', 'float64']).columns.tolist()\n",
    "if TARGET_LABEL in numerical_cols:\n",
    "    numerical_cols.remove(TARGET_LABEL)\n",
    "\n",
    "print(f\"\\nCategorical columns: {categorical_cols}\")\n",
    "print(f\"Numerical columns: {numerical_cols}\")\n"
   ]
  },
  {
   "cell_type": "code",
   "execution_count": 2,
   "id": "05742498",
   "metadata": {},
   "outputs": [
    {
     "name": "stdout",
     "output_type": "stream",
     "text": [
      "Feature shape (flat): (441043, 44)\n",
      "Binary target shape: (441043,)\n",
      "Multi-class target shape: (441043,)\n",
      "Binary target class distribution:\n",
      "Counter({np.int64(0): 300000, np.int64(1): 141043})\n",
      "Multi-class target class distribution:\n",
      "Counter({np.int64(5): 300000, np.int64(0): 20000, np.int64(1): 20000, np.int64(2): 20000, np.int64(3): 20000, np.int64(6): 20000, np.int64(7): 20000, np.int64(8): 20000, np.int64(4): 1043})\n"
     ]
    }
   ],
   "source": [
    "binary_y = df[TARGET_LABEL].values\n",
    "type_encoder = LabelEncoder()\n",
    "y_multiclass_encoded = type_encoder.fit_transform(df[TARGET_TYPE])\n",
    "num_classes = len(le.classes_)\n",
    "# Convert to one-hot encoding for Keras if using categorical_crossentropy\n",
    "y_multiclass_onehot = to_categorical(y_multiclass_encoded)\n",
    "\n",
    "y_multiclass_labels = np.argmax(y_multiclass_onehot, axis=1)\n",
    "\n",
    "# Drop targets from features\n",
    "X = df.drop(columns=[TARGET_LABEL, TARGET_TYPE]).values\n",
    "print(\"Feature shape (flat):\", X.shape)\n",
    "print(\"Binary target shape:\", binary_y.shape)\n",
    "print(\"Multi-class target shape:\", y_multiclass_labels.shape)\n",
    "\n",
    "# print the class distribution of binary_y and y_multiclass_labels\n",
    "print(\"Binary target class distribution:\")\n",
    "print(Counter(binary_y))\n",
    "print(\"Multi-class target class distribution:\")\n",
    "print(Counter(y_multiclass_labels))"
   ]
  },
  {
   "cell_type": "code",
   "execution_count": 3,
   "id": "0ade1653",
   "metadata": {},
   "outputs": [
    {
     "name": "stdout",
     "output_type": "stream",
     "text": [
      "\n",
      "X_train shape: (352834, 44)\n",
      "y_train_multiclass labels shape: (352834, 9)\n",
      "X_test  shape: (88209, 44)\n",
      "y_test_multiclass labels shape: (88209, 9)\n",
      "Multi-class target class distribution (train):\n",
      "Counter({np.int64(5): 240000, np.int64(0): 16000, np.int64(6): 16000, np.int64(7): 16000, np.int64(8): 16000, np.int64(2): 16000, np.int64(1): 16000, np.int64(3): 16000, np.int64(4): 834})\n",
      "Multi-class target class distribution (test):\n",
      "Counter({np.int64(5): 60000, np.int64(1): 4000, np.int64(3): 4000, np.int64(6): 4000, np.int64(0): 4000, np.int64(8): 4000, np.int64(7): 4000, np.int64(2): 4000, np.int64(4): 209})\n",
      "Scaling complete.\n"
     ]
    }
   ],
   "source": [
    "# 1. Split BEFORE SMOTE (to avoid leakage)\n",
    "# ----------------------------------------\n",
    "X_train, X_test, y_train_multi, y_test_multi = train_test_split(\n",
    "    X,\n",
    "    y_multiclass_onehot,\n",
    "    test_size=0.2,\n",
    "    random_state=42,\n",
    "    stratify=y_multiclass_encoded  # stratify on binary for this example\n",
    ")\n",
    "\n",
    "# Reset indices\n",
    "X_train = pd.DataFrame(X_train).reset_index(drop=True).values\n",
    "X_test = pd.DataFrame(X_test).reset_index(drop=True).values\n",
    "\n",
    "print(f\"\\nX_train shape: {X_train.shape}\")\n",
    "print(f\"y_train_multiclass labels shape: {y_train_multi.shape}\")\n",
    "print(f\"X_test  shape: {X_test.shape}\")\n",
    "print(f\"y_test_multiclass labels shape: {y_test_multi.shape}\")\n",
    "\n",
    "# print the class distribution of binary_y and y_multiclass\n",
    "# print the class distribution of binary_y and y_multiclass\n",
    "print(\"Multi-class target class distribution (train):\")\n",
    "print(Counter(np.argmax(y_train_multi, axis=1)))\n",
    "print(\"Multi-class target class distribution (test):\")\n",
    "print(Counter(np.argmax(y_test_multi, axis=1)))\n",
    "\n",
    "# scaling the training data\n",
    "scaler = MinMaxScaler()\n",
    "X_train = scaler.fit_transform(X_train)\n",
    "X_test = scaler.transform(X_test)\n",
    "\n",
    "print(\"Scaling complete.\")"
   ]
  },
  {
   "cell_type": "code",
   "execution_count": 4,
   "id": "c5844b6c",
   "metadata": {},
   "outputs": [
    {
     "name": "stdout",
     "output_type": "stream",
     "text": [
      "Total samples: 352834 | Generating 352815 sequences (window_size=20)\n",
      "\n",
      "--- Seq 1/352815 ---\n",
      "  X indices: 0 to 19\n",
      "  y index:   19 → label=[0. 0. 1. 0. 0. 0. 0. 0. 0.]\n",
      "  window.shape: (20, 44)\n",
      "\n",
      "--- Seq 2/352815 ---\n",
      "  X indices: 1 to 20\n",
      "  y index:   20 → label=[0. 0. 0. 0. 0. 1. 0. 0. 0.]\n",
      "  window.shape: (20, 44)\n",
      "\n",
      "--- Seq 3/352815 ---\n",
      "  X indices: 2 to 21\n",
      "  y index:   21 → label=[0. 0. 0. 0. 0. 1. 0. 0. 0.]\n",
      "  window.shape: (20, 44)\n",
      "\n",
      "--- Seq 4/352815 ---\n",
      "  X indices: 3 to 22\n",
      "  y index:   22 → label=[0. 0. 0. 0. 0. 1. 0. 0. 0.]\n",
      "  window.shape: (20, 44)\n",
      "\n",
      "--- Seq 5/352815 ---\n",
      "  X indices: 4 to 23\n",
      "  y index:   23 → label=[0. 0. 0. 0. 0. 1. 0. 0. 0.]\n",
      "  window.shape: (20, 44)\n",
      "\n",
      "Total sequences generated: 352815\n",
      "Total samples: 88209 | Generating 88190 sequences (window_size=20)\n",
      "\n",
      "--- Seq 1/88190 ---\n",
      "  X indices: 0 to 19\n",
      "  y index:   19 → label=[0. 0. 0. 0. 0. 1. 0. 0. 0.]\n",
      "  window.shape: (20, 44)\n",
      "\n",
      "--- Seq 2/88190 ---\n",
      "  X indices: 1 to 20\n",
      "  y index:   20 → label=[0. 0. 0. 0. 0. 1. 0. 0. 0.]\n",
      "  window.shape: (20, 44)\n",
      "\n",
      "--- Seq 3/88190 ---\n",
      "  X indices: 2 to 21\n",
      "  y index:   21 → label=[0. 0. 0. 0. 0. 1. 0. 0. 0.]\n",
      "  window.shape: (20, 44)\n",
      "\n",
      "--- Seq 4/88190 ---\n",
      "  X indices: 3 to 22\n",
      "  y index:   22 → label=[0. 0. 0. 0. 0. 1. 0. 0. 0.]\n",
      "  window.shape: (20, 44)\n",
      "\n",
      "--- Seq 5/88190 ---\n",
      "  X indices: 4 to 23\n",
      "  y index:   23 → label=[0. 0. 1. 0. 0. 0. 0. 0. 0.]\n",
      "  window.shape: (20, 44)\n",
      "\n",
      "Total sequences generated: 88190\n",
      "Train sequence shape: (352815, 20, 44)\n",
      "Test sequence shape: (88190, 20, 44)\n",
      "multi target distribution: Counter({np.int64(5): 240000, np.int64(0): 16000, np.int64(6): 16000, np.int64(7): 16000, np.int64(8): 16000, np.int64(2): 16000, np.int64(1): 16000, np.int64(3): 16000, np.int64(4): 834})\n",
      "Class distribution in y_train_seq: Counter({np.int64(5): 239988, np.int64(2): 16000, np.int64(1): 16000, np.int64(3): 16000, np.int64(6): 15999, np.int64(8): 15999, np.int64(0): 15999, np.int64(7): 15997, np.int64(4): 833})\n",
      "Class distribution in y_test_seq: Counter({np.int64(5): 59991, np.int64(2): 4000, np.int64(8): 3999, np.int64(3): 3999, np.int64(7): 3999, np.int64(6): 3998, np.int64(1): 3998, np.int64(0): 3997, np.int64(4): 209})\n"
     ]
    }
   ],
   "source": [
    "# --- Create Sequences ---\n",
    "def create_sequences(\n",
    "    X,\n",
    "    y,\n",
    "    window_size: int = 10,\n",
    "    debug: bool = False,\n",
    "    trace_limit: int = 5\n",
    "):\n",
    "    # Convert to numpy if not already\n",
    "    X = np.asarray(X)\n",
    "    y = np.asarray(y)\n",
    "\n",
    "    # Input validation\n",
    "    if len(X) != len(y):\n",
    "        raise ValueError(\"X and y must have the same number of samples\")\n",
    "    if len(X.shape) != 2:\n",
    "        raise ValueError(\"X must be a 2D array: (samples, features)\")\n",
    "    if len(y.shape) > 2:\n",
    "        raise ValueError(\"y must be a 1D or 2D array\")\n",
    "\n",
    "    X_seq, y_seq = [], []\n",
    "    total = len(X) - window_size + 1\n",
    "    if debug:\n",
    "        print(f\"Total samples: {len(X)} | Generating {total} sequences (window_size={window_size})\")\n",
    "\n",
    "    for i in range(total):\n",
    "        window = X[i : i + window_size]\n",
    "        label = y[i + window_size - 1]\n",
    "        X_seq.append(window)\n",
    "        y_seq.append(label)\n",
    "\n",
    "        if debug and i < trace_limit:\n",
    "            print(f\"\\n--- Seq {i+1}/{total} ---\")\n",
    "            print(f\"  X indices: {i} to {i+window_size-1}\")\n",
    "            print(f\"  y index:   {i+window_size-1} → label={label}\")\n",
    "            print(f\"  window.shape: {window.shape}\")\n",
    "\n",
    "    if debug:\n",
    "        print(f\"\\nTotal sequences generated: {len(X_seq)}\")\n",
    "\n",
    "    return np.array(X_seq), np.array(y_seq)\n",
    "\n",
    "\n",
    "TIMESTEPS = 20\n",
    "X_train_seq, y_train_seq = create_sequences(X_train, y_train_multi, window_size=TIMESTEPS, debug=True)\n",
    "X_test_seq, y_test_seq = create_sequences(X_test, y_test_multi, window_size=TIMESTEPS, debug=True)\n",
    "\n",
    "\n",
    "print(\"Train sequence shape:\", X_train_seq.shape)  # (samples, timesteps, features)\n",
    "print(\"Test sequence shape:\", X_test_seq.shape)\n",
    "print(\"multi target distribution:\", Counter(np.argmax(y_train_multi, axis=1)))\n",
    "\n",
    "# counters\n",
    "print(\"Class distribution in y_train_seq:\", Counter(np.argmax(y_train_seq, axis=1)))\n",
    "print(\"Class distribution in y_test_seq:\", Counter(np.argmax(y_test_seq, axis=1)))\n",
    "\n",
    "# multiclass sequence generation.\n",
    "# X_train_seq_multi, y_train_seq_multi = create_sequences(X_train, y_train_multi, debug=True)\n",
    "# X_test_seq_multi, y_test_seq_multi = create_sequences(X_test, y_test_multi, debug=True)\n"
   ]
  },
  {
   "cell_type": "code",
   "execution_count": 5,
   "id": "ce8176f5",
   "metadata": {},
   "outputs": [
    {
     "name": "stdout",
     "output_type": "stream",
     "text": [
      "Final training shapes:\n",
      "X_train_seq_final shape: (282252, 20, 44)\n",
      "y_train_seq_final shape: (282252, 9)\n",
      "X_val_seq shape: (70563, 20, 44)\n",
      "y_val_seq shape: (70563, 9)\n",
      "Final training label distributions:\n",
      "y_train_seq_final distribution: Counter({np.int64(5): 192120, np.int64(7): 12859, np.int64(2): 12851, np.int64(3): 12828, np.int64(6): 12792, np.int64(8): 12747, np.int64(0): 12710, np.int64(1): 12690, np.int64(4): 655})\n",
      "y_val_seq distribution: Counter({np.int64(5): 47868, np.int64(1): 3310, np.int64(0): 3289, np.int64(8): 3252, np.int64(6): 3207, np.int64(3): 3172, np.int64(2): 3149, np.int64(7): 3138, np.int64(4): 178})\n"
     ]
    }
   ],
   "source": [
    "from sklearn.utils import shuffle\n",
    "\n",
    "# X_train_seq_bal_shuffle, y_train_seq_bal_shuffle = shuffle(X_train_seq_bal, y_train_seq_bal, random_state=42)\n",
    "X_train_seq_bal_shuffle, y_train_seq_bal_shuffle = shuffle(X_train_seq, y_train_seq, random_state=42)\n",
    "\n",
    "val_fraction = 0.2\n",
    "n_total = X_train_seq_bal_shuffle.shape[0]\n",
    "n_val = int(n_total * val_fraction)\n",
    "\n",
    "X_val_seq = X_train_seq_bal_shuffle[-n_val:]\n",
    "y_val_seq = y_train_seq_bal_shuffle[-n_val:]\n",
    "X_train_seq_final = X_train_seq_bal_shuffle[:-n_val]\n",
    "y_train_seq_final = y_train_seq_bal_shuffle[:-n_val]\n",
    "\n",
    "print(\"Final training shapes:\")\n",
    "print(f\"X_train_seq_final shape: {X_train_seq_final.shape}\")\n",
    "print(f\"y_train_seq_final shape: {y_train_seq_final.shape}\")\n",
    "print(f\"X_val_seq shape: {X_val_seq.shape}\")\n",
    "print(f\"y_val_seq shape: {y_val_seq.shape}\")\n",
    "\n",
    "print(\"Final training label distributions:\")\n",
    "print(f\"y_train_seq_final distribution: {Counter(np.argmax(y_train_seq_final, axis=1))}\")\n",
    "print(f\"y_val_seq distribution: {Counter(np.argmax(y_val_seq, axis=1))}\")"
   ]
  },
  {
   "cell_type": "code",
   "execution_count": 6,
   "id": "8c1cd211",
   "metadata": {},
   "outputs": [
    {
     "name": "stderr",
     "output_type": "stream",
     "text": [
      "WARNING: All log messages before absl::InitializeLog() is called are written to STDERR\n",
      "I0000 00:00:1756782153.343404    3758 gpu_device.cc:2020] Created device /job:localhost/replica:0/task:0/device:GPU:0 with 2278 MB memory:  -> device: 0, name: NVIDIA GeForce RTX 2050, pci bus id: 0000:01:00.0, compute capability: 8.6\n",
      "/home/jinesh-subedi/htdocs/thesis/thesisStudy/lib/python3.12/site-packages/keras/src/layers/rnn/bidirectional.py:107: UserWarning: Do not pass an `input_shape`/`input_dim` argument to a layer. When using Sequential models, prefer using an `Input(shape)` object as the first layer in the model instead.\n",
      "  super().__init__(**kwargs)\n"
     ]
    },
    {
     "data": {
      "text/html": [
       "<pre style=\"white-space:pre;overflow-x:auto;line-height:normal;font-family:Menlo,'DejaVu Sans Mono',consolas,'Courier New',monospace\"><span style=\"font-weight: bold\">Model: \"sequential\"</span>\n",
       "</pre>\n"
      ],
      "text/plain": [
       "\u001b[1mModel: \"sequential\"\u001b[0m\n"
      ]
     },
     "metadata": {},
     "output_type": "display_data"
    },
    {
     "data": {
      "text/html": [
       "<pre style=\"white-space:pre;overflow-x:auto;line-height:normal;font-family:Menlo,'DejaVu Sans Mono',consolas,'Courier New',monospace\">┏━━━━━━━━━━━━━━━━━━━━━━━━━━━━━━━━━┳━━━━━━━━━━━━━━━━━━━━━━━━┳━━━━━━━━━━━━━━━┓\n",
       "┃<span style=\"font-weight: bold\"> Layer (type)                    </span>┃<span style=\"font-weight: bold\"> Output Shape           </span>┃<span style=\"font-weight: bold\">       Param # </span>┃\n",
       "┡━━━━━━━━━━━━━━━━━━━━━━━━━━━━━━━━━╇━━━━━━━━━━━━━━━━━━━━━━━━╇━━━━━━━━━━━━━━━┩\n",
       "│ bidirectional (<span style=\"color: #0087ff; text-decoration-color: #0087ff\">Bidirectional</span>)   │ (<span style=\"color: #00d7ff; text-decoration-color: #00d7ff\">None</span>, <span style=\"color: #00af00; text-decoration-color: #00af00\">20</span>, <span style=\"color: #00af00; text-decoration-color: #00af00\">256</span>)        │       <span style=\"color: #00af00; text-decoration-color: #00af00\">177,152</span> │\n",
       "├─────────────────────────────────┼────────────────────────┼───────────────┤\n",
       "│ layer_normalization             │ (<span style=\"color: #00d7ff; text-decoration-color: #00d7ff\">None</span>, <span style=\"color: #00af00; text-decoration-color: #00af00\">20</span>, <span style=\"color: #00af00; text-decoration-color: #00af00\">256</span>)        │           <span style=\"color: #00af00; text-decoration-color: #00af00\">512</span> │\n",
       "│ (<span style=\"color: #0087ff; text-decoration-color: #0087ff\">LayerNormalization</span>)            │                        │               │\n",
       "├─────────────────────────────────┼────────────────────────┼───────────────┤\n",
       "│ dropout (<span style=\"color: #0087ff; text-decoration-color: #0087ff\">Dropout</span>)               │ (<span style=\"color: #00d7ff; text-decoration-color: #00d7ff\">None</span>, <span style=\"color: #00af00; text-decoration-color: #00af00\">20</span>, <span style=\"color: #00af00; text-decoration-color: #00af00\">256</span>)        │             <span style=\"color: #00af00; text-decoration-color: #00af00\">0</span> │\n",
       "├─────────────────────────────────┼────────────────────────┼───────────────┤\n",
       "│ bidirectional_1 (<span style=\"color: #0087ff; text-decoration-color: #0087ff\">Bidirectional</span>) │ (<span style=\"color: #00d7ff; text-decoration-color: #00d7ff\">None</span>, <span style=\"color: #00af00; text-decoration-color: #00af00\">128</span>)            │       <span style=\"color: #00af00; text-decoration-color: #00af00\">164,352</span> │\n",
       "├─────────────────────────────────┼────────────────────────┼───────────────┤\n",
       "│ layer_normalization_1           │ (<span style=\"color: #00d7ff; text-decoration-color: #00d7ff\">None</span>, <span style=\"color: #00af00; text-decoration-color: #00af00\">128</span>)            │           <span style=\"color: #00af00; text-decoration-color: #00af00\">256</span> │\n",
       "│ (<span style=\"color: #0087ff; text-decoration-color: #0087ff\">LayerNormalization</span>)            │                        │               │\n",
       "├─────────────────────────────────┼────────────────────────┼───────────────┤\n",
       "│ dropout_1 (<span style=\"color: #0087ff; text-decoration-color: #0087ff\">Dropout</span>)             │ (<span style=\"color: #00d7ff; text-decoration-color: #00d7ff\">None</span>, <span style=\"color: #00af00; text-decoration-color: #00af00\">128</span>)            │             <span style=\"color: #00af00; text-decoration-color: #00af00\">0</span> │\n",
       "├─────────────────────────────────┼────────────────────────┼───────────────┤\n",
       "│ dense (<span style=\"color: #0087ff; text-decoration-color: #0087ff\">Dense</span>)                   │ (<span style=\"color: #00d7ff; text-decoration-color: #00d7ff\">None</span>, <span style=\"color: #00af00; text-decoration-color: #00af00\">64</span>)             │         <span style=\"color: #00af00; text-decoration-color: #00af00\">8,256</span> │\n",
       "├─────────────────────────────────┼────────────────────────┼───────────────┤\n",
       "│ dense_1 (<span style=\"color: #0087ff; text-decoration-color: #0087ff\">Dense</span>)                 │ (<span style=\"color: #00d7ff; text-decoration-color: #00d7ff\">None</span>, <span style=\"color: #00af00; text-decoration-color: #00af00\">9</span>)              │           <span style=\"color: #00af00; text-decoration-color: #00af00\">585</span> │\n",
       "└─────────────────────────────────┴────────────────────────┴───────────────┘\n",
       "</pre>\n"
      ],
      "text/plain": [
       "┏━━━━━━━━━━━━━━━━━━━━━━━━━━━━━━━━━┳━━━━━━━━━━━━━━━━━━━━━━━━┳━━━━━━━━━━━━━━━┓\n",
       "┃\u001b[1m \u001b[0m\u001b[1mLayer (type)                   \u001b[0m\u001b[1m \u001b[0m┃\u001b[1m \u001b[0m\u001b[1mOutput Shape          \u001b[0m\u001b[1m \u001b[0m┃\u001b[1m \u001b[0m\u001b[1m      Param #\u001b[0m\u001b[1m \u001b[0m┃\n",
       "┡━━━━━━━━━━━━━━━━━━━━━━━━━━━━━━━━━╇━━━━━━━━━━━━━━━━━━━━━━━━╇━━━━━━━━━━━━━━━┩\n",
       "│ bidirectional (\u001b[38;5;33mBidirectional\u001b[0m)   │ (\u001b[38;5;45mNone\u001b[0m, \u001b[38;5;34m20\u001b[0m, \u001b[38;5;34m256\u001b[0m)        │       \u001b[38;5;34m177,152\u001b[0m │\n",
       "├─────────────────────────────────┼────────────────────────┼───────────────┤\n",
       "│ layer_normalization             │ (\u001b[38;5;45mNone\u001b[0m, \u001b[38;5;34m20\u001b[0m, \u001b[38;5;34m256\u001b[0m)        │           \u001b[38;5;34m512\u001b[0m │\n",
       "│ (\u001b[38;5;33mLayerNormalization\u001b[0m)            │                        │               │\n",
       "├─────────────────────────────────┼────────────────────────┼───────────────┤\n",
       "│ dropout (\u001b[38;5;33mDropout\u001b[0m)               │ (\u001b[38;5;45mNone\u001b[0m, \u001b[38;5;34m20\u001b[0m, \u001b[38;5;34m256\u001b[0m)        │             \u001b[38;5;34m0\u001b[0m │\n",
       "├─────────────────────────────────┼────────────────────────┼───────────────┤\n",
       "│ bidirectional_1 (\u001b[38;5;33mBidirectional\u001b[0m) │ (\u001b[38;5;45mNone\u001b[0m, \u001b[38;5;34m128\u001b[0m)            │       \u001b[38;5;34m164,352\u001b[0m │\n",
       "├─────────────────────────────────┼────────────────────────┼───────────────┤\n",
       "│ layer_normalization_1           │ (\u001b[38;5;45mNone\u001b[0m, \u001b[38;5;34m128\u001b[0m)            │           \u001b[38;5;34m256\u001b[0m │\n",
       "│ (\u001b[38;5;33mLayerNormalization\u001b[0m)            │                        │               │\n",
       "├─────────────────────────────────┼────────────────────────┼───────────────┤\n",
       "│ dropout_1 (\u001b[38;5;33mDropout\u001b[0m)             │ (\u001b[38;5;45mNone\u001b[0m, \u001b[38;5;34m128\u001b[0m)            │             \u001b[38;5;34m0\u001b[0m │\n",
       "├─────────────────────────────────┼────────────────────────┼───────────────┤\n",
       "│ dense (\u001b[38;5;33mDense\u001b[0m)                   │ (\u001b[38;5;45mNone\u001b[0m, \u001b[38;5;34m64\u001b[0m)             │         \u001b[38;5;34m8,256\u001b[0m │\n",
       "├─────────────────────────────────┼────────────────────────┼───────────────┤\n",
       "│ dense_1 (\u001b[38;5;33mDense\u001b[0m)                 │ (\u001b[38;5;45mNone\u001b[0m, \u001b[38;5;34m9\u001b[0m)              │           \u001b[38;5;34m585\u001b[0m │\n",
       "└─────────────────────────────────┴────────────────────────┴───────────────┘\n"
      ]
     },
     "metadata": {},
     "output_type": "display_data"
    },
    {
     "data": {
      "text/html": [
       "<pre style=\"white-space:pre;overflow-x:auto;line-height:normal;font-family:Menlo,'DejaVu Sans Mono',consolas,'Courier New',monospace\"><span style=\"font-weight: bold\"> Total params: </span><span style=\"color: #00af00; text-decoration-color: #00af00\">351,113</span> (1.34 MB)\n",
       "</pre>\n"
      ],
      "text/plain": [
       "\u001b[1m Total params: \u001b[0m\u001b[38;5;34m351,113\u001b[0m (1.34 MB)\n"
      ]
     },
     "metadata": {},
     "output_type": "display_data"
    },
    {
     "data": {
      "text/html": [
       "<pre style=\"white-space:pre;overflow-x:auto;line-height:normal;font-family:Menlo,'DejaVu Sans Mono',consolas,'Courier New',monospace\"><span style=\"font-weight: bold\"> Trainable params: </span><span style=\"color: #00af00; text-decoration-color: #00af00\">351,113</span> (1.34 MB)\n",
       "</pre>\n"
      ],
      "text/plain": [
       "\u001b[1m Trainable params: \u001b[0m\u001b[38;5;34m351,113\u001b[0m (1.34 MB)\n"
      ]
     },
     "metadata": {},
     "output_type": "display_data"
    },
    {
     "data": {
      "text/html": [
       "<pre style=\"white-space:pre;overflow-x:auto;line-height:normal;font-family:Menlo,'DejaVu Sans Mono',consolas,'Courier New',monospace\"><span style=\"font-weight: bold\"> Non-trainable params: </span><span style=\"color: #00af00; text-decoration-color: #00af00\">0</span> (0.00 B)\n",
       "</pre>\n"
      ],
      "text/plain": [
       "\u001b[1m Non-trainable params: \u001b[0m\u001b[38;5;34m0\u001b[0m (0.00 B)\n"
      ]
     },
     "metadata": {},
     "output_type": "display_data"
    },
    {
     "name": "stdout",
     "output_type": "stream",
     "text": [
      "Epoch 1/10\n"
     ]
    },
    {
     "name": "stderr",
     "output_type": "stream",
     "text": [
      "2025-09-02 08:47:41.499164: I external/local_xla/xla/stream_executor/cuda/cuda_dnn.cc:473] Loaded cuDNN version 91200\n"
     ]
    },
    {
     "name": "stdout",
     "output_type": "stream",
     "text": [
      "\u001b[1m4411/4411\u001b[0m \u001b[32m━━━━━━━━━━━━━━━━━━━━\u001b[0m\u001b[37m\u001b[0m \u001b[1m170s\u001b[0m 37ms/step - accuracy: 0.5639 - auc: 0.9106 - loss: 1.2792 - precision: 0.7592 - recall: 0.4379 - val_accuracy: 0.7854 - val_auc: 0.9637 - val_loss: 0.7258 - val_precision: 0.8439 - val_recall: 0.7097 - learning_rate: 1.0000e-04\n",
      "Epoch 2/10\n",
      "\u001b[1m4411/4411\u001b[0m \u001b[32m━━━━━━━━━━━━━━━━━━━━\u001b[0m\u001b[37m\u001b[0m \u001b[1m164s\u001b[0m 37ms/step - accuracy: 0.7940 - auc: 0.9736 - loss: 0.6816 - precision: 0.8383 - recall: 0.7558 - val_accuracy: 0.8820 - val_auc: 0.9851 - val_loss: 0.4416 - val_precision: 0.9047 - val_recall: 0.8668 - learning_rate: 1.0000e-04\n",
      "Epoch 3/10\n",
      "\u001b[1m4411/4411\u001b[0m \u001b[32m━━━━━━━━━━━━━━━━━━━━\u001b[0m\u001b[37m\u001b[0m \u001b[1m163s\u001b[0m 37ms/step - accuracy: 0.8639 - auc: 0.9868 - loss: 0.4411 - precision: 0.8846 - recall: 0.8485 - val_accuracy: 0.9016 - val_auc: 0.9905 - val_loss: 0.3302 - val_precision: 0.9132 - val_recall: 0.8921 - learning_rate: 1.0000e-04\n",
      "Epoch 4/10\n",
      "\u001b[1m4411/4411\u001b[0m \u001b[32m━━━━━━━━━━━━━━━━━━━━\u001b[0m\u001b[37m\u001b[0m \u001b[1m164s\u001b[0m 37ms/step - accuracy: 0.8950 - auc: 0.9903 - loss: 0.3251 - precision: 0.9071 - recall: 0.8851 - val_accuracy: 0.9254 - val_auc: 0.9921 - val_loss: 0.2725 - val_precision: 0.9320 - val_recall: 0.9195 - learning_rate: 1.0000e-04\n",
      "Epoch 5/10\n",
      "\u001b[1m4411/4411\u001b[0m \u001b[32m━━━━━━━━━━━━━━━━━━━━\u001b[0m\u001b[37m\u001b[0m \u001b[1m164s\u001b[0m 37ms/step - accuracy: 0.9109 - auc: 0.9919 - loss: 0.2652 - precision: 0.9192 - recall: 0.9028 - val_accuracy: 0.9351 - val_auc: 0.9932 - val_loss: 0.2381 - val_precision: 0.9399 - val_recall: 0.9312 - learning_rate: 1.0000e-04\n",
      "Epoch 6/10\n",
      "\u001b[1m4411/4411\u001b[0m \u001b[32m━━━━━━━━━━━━━━━━━━━━\u001b[0m\u001b[37m\u001b[0m \u001b[1m164s\u001b[0m 37ms/step - accuracy: 0.9230 - auc: 0.9929 - loss: 0.2192 - precision: 0.9298 - recall: 0.9165 - val_accuracy: 0.9361 - val_auc: 0.9932 - val_loss: 0.2306 - val_precision: 0.9397 - val_recall: 0.9329 - learning_rate: 1.0000e-04\n",
      "Epoch 7/10\n",
      "\u001b[1m4411/4411\u001b[0m \u001b[32m━━━━━━━━━━━━━━━━━━━━\u001b[0m\u001b[37m\u001b[0m \u001b[1m165s\u001b[0m 37ms/step - accuracy: 0.9307 - auc: 0.9936 - loss: 0.1913 - precision: 0.9364 - recall: 0.9253 - val_accuracy: 0.9475 - val_auc: 0.9933 - val_loss: 0.1999 - val_precision: 0.9506 - val_recall: 0.9428 - learning_rate: 1.0000e-04\n",
      "Epoch 8/10\n",
      "\u001b[1m4411/4411\u001b[0m \u001b[32m━━━━━━━━━━━━━━━━━━━━\u001b[0m\u001b[37m\u001b[0m \u001b[1m165s\u001b[0m 37ms/step - accuracy: 0.9391 - auc: 0.9943 - loss: 0.1634 - precision: 0.9439 - recall: 0.9342 - val_accuracy: 0.9528 - val_auc: 0.9941 - val_loss: 0.1811 - val_precision: 0.9551 - val_recall: 0.9497 - learning_rate: 1.0000e-04\n",
      "Epoch 9/10\n",
      "\u001b[1m4411/4411\u001b[0m \u001b[32m━━━━━━━━━━━━━━━━━━━━\u001b[0m\u001b[37m\u001b[0m \u001b[1m166s\u001b[0m 38ms/step - accuracy: 0.9438 - auc: 0.9949 - loss: 0.1470 - precision: 0.9481 - recall: 0.9400 - val_accuracy: 0.9635 - val_auc: 0.9951 - val_loss: 0.1602 - val_precision: 0.9660 - val_recall: 0.9605 - learning_rate: 1.0000e-04\n",
      "Epoch 10/10\n",
      "\u001b[1m4411/4411\u001b[0m \u001b[32m━━━━━━━━━━━━━━━━━━━━\u001b[0m\u001b[37m\u001b[0m \u001b[1m166s\u001b[0m 38ms/step - accuracy: 0.9490 - auc: 0.9953 - loss: 0.1347 - precision: 0.9529 - recall: 0.9457 - val_accuracy: 0.9643 - val_auc: 0.9947 - val_loss: 0.1652 - val_precision: 0.9668 - val_recall: 0.9613 - learning_rate: 1.0000e-04\n",
      "2756/2756 - 28s - 10ms/step - accuracy: 0.9628 - auc: 0.9952 - loss: 0.1612 - precision: 0.9653 - recall: 0.9607\n",
      "Test Loss: 0.16117654740810394\n",
      "Test Accuracy: 0.9627962112426758\n"
     ]
    }
   ],
   "source": [
    "from tensorflow.keras.models import Sequential\n",
    "from tensorflow.keras.layers import Bidirectional, LSTM, Dense, Dropout\n",
    "from tensorflow.keras.callbacks import EarlyStopping, ReduceLROnPlateau\n",
    "from sklearn.utils.class_weight import compute_class_weight\n",
    "from tensorflow.keras.metrics import Precision\n",
    "from tensorflow.keras.layers import LayerNormalization\n",
    "from tensorflow.keras.regularizers import l2\n",
    "from tensorflow.keras.optimizers import Adam\n",
    "from tensorflow.keras.metrics import Recall, AUC\n",
    "from sklearn.metrics import (confusion_matrix, accuracy_score, recall_score, precision_score, f1_score, matthews_corrcoef, roc_auc_score, classification_report, roc_curve, precision_recall_curve)\n",
    "import matplotlib.pyplot as plt\n",
    "\n",
    "# Model definition\n",
    "model = Sequential([\n",
    "    Bidirectional(LSTM(\n",
    "        128, \n",
    "        return_sequences=True,  # Only final output\n",
    "        recurrent_dropout=0.2,\n",
    "        recurrent_activation='sigmoid',\n",
    "        activation='tanh'\n",
    "    ),\n",
    "    input_shape=(X_train_seq_final.shape[1], X_train_seq_final.shape[2])),\n",
    "    LayerNormalization(),\n",
    "    Dropout(0.2),\n",
    "    Bidirectional(LSTM(64)),\n",
    "    LayerNormalization(),\n",
    "    Dropout(0.2),\n",
    "    Dense(64, activation='relu'),\n",
    "    Dense(9, activation='softmax')\n",
    "])\n",
    "model.summary()\n",
    "\n",
    "optimizer = Adam(\n",
    "    learning_rate=0.0001,  # Very low initial LR\n",
    "    clipnorm=1.0,  # Gradient clipping to prevent exploding gradients\n",
    "    weight_decay=1e-4\n",
    ")\n",
    "\n",
    "model.compile(\n",
    "    optimizer=optimizer,\n",
    "    loss='categorical_crossentropy',\n",
    "    metrics=[\n",
    "        'accuracy',\n",
    "        AUC(name='auc'),\n",
    "        Recall(name='recall'),\n",
    "        Precision(name='precision')\n",
    "    ]\n",
    ")\n",
    "\n",
    "# Early stopping\n",
    "early_stopping = EarlyStopping(monitor='val_loss', patience=10, mode='min', restore_best_weights=True)\n",
    "reduce_lr = ReduceLROnPlateau(monitor='val_loss', factor=0.5, patience=5, min_lr=1e-6, verbose=1)\n",
    "\n",
    "class_weights = compute_class_weight(\n",
    "    class_weight=\"balanced\",\n",
    "    classes=np.arange(y_multiclass_onehot.shape[1]),\n",
    "    y=y_multiclass_onehot.argmax(axis=1)\n",
    ")\n",
    "class_weight_dict = dict(enumerate(class_weights))\n",
    "\n",
    "\n",
    "# Train\n",
    "history = model.fit(\n",
    "    X_train_seq_final, y_train_seq_final,\n",
    "    validation_data=(X_val_seq, y_val_seq),\n",
    "    # validation_split=0.2,\n",
    "    epochs=10,\n",
    "    batch_size=64,\n",
    "    shuffle=False,  # Important for time series\n",
    "    callbacks=[early_stopping, reduce_lr],\n",
    "    class_weight=class_weight_dict,\n",
    "    verbose=1\n",
    ")\n",
    "\n",
    "results = model.evaluate(X_test_seq, y_test_seq, verbose=2)\n",
    "\n",
    "print(\"Test Loss: {}\".format(results[0]))\n",
    "print(\"Test Accuracy: {}\".format(results[1]))\n"
   ]
  },
  {
   "cell_type": "code",
   "execution_count": 7,
   "id": "04980ee7",
   "metadata": {},
   "outputs": [
    {
     "name": "stdout",
     "output_type": "stream",
     "text": [
      "\u001b[1m2756/2756\u001b[0m \u001b[32m━━━━━━━━━━━━━━━━━━━━\u001b[0m\u001b[37m\u001b[0m \u001b[1m27s\u001b[0m 9ms/step\n",
      "              precision    recall  f1-score   support\n",
      "\n",
      "           0       0.95      1.00      0.97      3997\n",
      "           1       0.91      0.97      0.94      3998\n",
      "           2       0.91      0.97      0.94      4000\n",
      "           3       0.89      0.99      0.94      3999\n",
      "           4       0.22      0.97      0.35       209\n",
      "           5       1.00      0.95      0.98     59991\n",
      "           6       0.91      1.00      0.95      3998\n",
      "           7       0.94      0.99      0.97      3999\n",
      "           8       0.92      0.96      0.94      3999\n",
      "\n",
      "    accuracy                           0.96     88190\n",
      "   macro avg       0.85      0.98      0.89     88190\n",
      "weighted avg       0.97      0.96      0.97     88190\n",
      "\n",
      "[[ 3997     0     0     0     0     0     0     0     0]\n",
      " [    0  3863     4   101     0     9    13     8     0]\n",
      " [    0     0  3865    16     0   119     0     0     0]\n",
      " [    0    12    12  3969     0     6     0     0     0]\n",
      " [    1     0     0     0   202     5     0     0     1]\n",
      " [  228   386   335   353   727 57215   207   230   310]\n",
      " [    0     0     0     0     0     6  3982     0    10]\n",
      " [    0     1    14     0     1     8     0  3975     0]\n",
      " [    0     1     0     2     0     5   150     0  3841]]\n",
      "False Negative Rate (FNR) per class: [np.float64(0.0), np.float64(0.03376688344172086), np.float64(0.03375), np.float64(0.007501875468867217), np.float64(0.03349282296650718), np.float64(0.04627360770782284), np.float64(0.00400200100050025), np.float64(0.006001500375093774), np.float64(0.03950987746936734)]\n",
      "False Positive Rate (FPR) per class: [np.float64(0.0027199410877388856), np.float64(0.004751045229950589), np.float64(0.004335431761491863), np.float64(0.005606299960803411), np.float64(0.008274513815482889), np.float64(0.005603035568637186), np.float64(0.004394716837704295), np.float64(0.0028269054887101945), np.float64(0.0038127590835124897)]\n"
     ]
    },
    {
     "data": {
      "image/png": "[encoded data removed]",
      "text/plain": [
       "<Figure size 1200x600 with 1 Axes>"
      ]
     },
     "metadata": {},
     "output_type": "display_data"
    }
   ],
   "source": [
    "\n",
    "# Print classification report\n",
    "y_pred_probs = model.predict(X_test_seq)\n",
    "y_pred_classes = y_pred_probs.argmax(axis=1)\n",
    "y_true_classes = y_test_seq.argmax(axis=1)\n",
    "print(classification_report(y_true_classes, y_pred_classes))\n",
    "\n",
    "#confusion matrix\n",
    "cm = confusion_matrix(y_true_classes, y_pred_classes)\n",
    "print(cm)\n",
    "\n",
    "# For multi-class, FNR and FPR are not simply tn, fp, fn, tp.\n",
    "# If you want per-class FNR/FPR:\n",
    "fnr = []\n",
    "fpr = []\n",
    "for i in range(cm.shape[0]):\n",
    "    fn = cm[i, :].sum() - cm[i, i]\n",
    "    tp = cm[i, i]\n",
    "    fp = cm[:, i].sum() - cm[i, i]\n",
    "    tn = cm.sum() - (tp + fn + fp)\n",
    "    fnr.append(fn / (fn + tp) if (fn + tp) > 0 else 0)\n",
    "    fpr.append(fp / (fp + tn) if (fp + tn) > 0 else 0)\n",
    "print(\"False Negative Rate (FNR) per class:\", fnr)\n",
    "print(\"False Positive Rate (FPR) per class:\", fpr)\n",
    "\n",
    "# plot validation loss and accuracy\n",
    "plt.figure(figsize=(12, 6))\n",
    "plt.plot(history.history['loss'], label='Train Loss')\n",
    "plt.plot(history.history['val_loss'], label='Validation Loss')\n",
    "plt.plot(history.history['accuracy'], label='Train Accuracy')\n",
    "plt.plot(history.history['val_accuracy'], label='Validation Accuracy')\n",
    "plt.title('Training and Validation Loss and Accuracy')\n",
    "plt.xlabel('Epoch')\n",
    "plt.ylabel('Loss/Accuracy')\n",
    "plt.legend()\n",
    "plt.show()\n"
   ]
  },
  {
   "cell_type": "code",
   "execution_count": 8,
   "id": "24888266",
   "metadata": {},
   "outputs": [
    {
     "name": "stdout",
     "output_type": "stream",
     "text": [
      "Fitting 3 folds for each of 1 candidates, totalling 3 fits\n"
     ]
    },
    {
     "name": "stderr",
     "output_type": "stream",
     "text": [
      "/home/jinesh-subedi/htdocs/thesis/thesisStudy/lib/python3.12/site-packages/keras/src/layers/rnn/bidirectional.py:107: UserWarning: Do not pass an `input_shape`/`input_dim` argument to a layer. When using Sequential models, prefer using an `Input(shape)` object as the first layer in the model instead.\n",
      "  super().__init__(**kwargs)\n"
     ]
    },
    {
     "name": "stdout",
     "output_type": "stream",
     "text": [
      "Epoch 1/6\n",
      "\u001b[1m2353/2353\u001b[0m \u001b[32m━━━━━━━━━━━━━━━━━━━━\u001b[0m\u001b[37m\u001b[0m \u001b[1m96s\u001b[0m 39ms/step - accuracy: 0.6878 - loss: 1.0319 - val_accuracy: 0.8767 - val_loss: 0.4188\n",
      "Epoch 2/6\n",
      "\u001b[1m2353/2353\u001b[0m \u001b[32m━━━━━━━━━━━━━━━━━━━━\u001b[0m\u001b[37m\u001b[0m \u001b[1m88s\u001b[0m 37ms/step - accuracy: 0.8616 - loss: 0.4961 - val_accuracy: 0.9118 - val_loss: 0.2991\n",
      "Epoch 3/6\n",
      "\u001b[1m2353/2353\u001b[0m \u001b[32m━━━━━━━━━━━━━━━━━━━━\u001b[0m\u001b[37m\u001b[0m \u001b[1m87s\u001b[0m 37ms/step - accuracy: 0.8879 - loss: 0.3651 - val_accuracy: 0.9275 - val_loss: 0.2640\n",
      "Epoch 4/6\n",
      "\u001b[1m2353/2353\u001b[0m \u001b[32m━━━━━━━━━━━━━━━━━━━━\u001b[0m\u001b[37m\u001b[0m \u001b[1m87s\u001b[0m 37ms/step - accuracy: 0.8983 - loss: 0.3220 - val_accuracy: 0.9131 - val_loss: 0.2459\n",
      "Epoch 5/6\n",
      "\u001b[1m2353/2353\u001b[0m \u001b[32m━━━━━━━━━━━━━━━━━━━━\u001b[0m\u001b[37m\u001b[0m \u001b[1m87s\u001b[0m 37ms/step - accuracy: 0.9072 - loss: 0.3039 - val_accuracy: 0.9251 - val_loss: 0.2620\n",
      "Epoch 6/6\n",
      "\u001b[1m2353/2353\u001b[0m \u001b[32m━━━━━━━━━━━━━━━━━━━━\u001b[0m\u001b[37m\u001b[0m \u001b[1m87s\u001b[0m 37ms/step - accuracy: 0.9151 - loss: 0.2812 - val_accuracy: 0.8948 - val_loss: 0.3931\n",
      "\u001b[1m1471/1471\u001b[0m \u001b[32m━━━━━━━━━━━━━━━━━━━━\u001b[0m\u001b[37m\u001b[0m \u001b[1m16s\u001b[0m 10ms/step\n",
      "[CV] END batch_size=64, epochs=6, model__dropout=0.3521748593566639, model__hidden_layer=22, model__learning_rate=0.0012576639417933484, model__lstm_units=65; total time= 9.2min\n"
     ]
    },
    {
     "name": "stderr",
     "output_type": "stream",
     "text": [
      "/home/jinesh-subedi/htdocs/thesis/thesisStudy/lib/python3.12/site-packages/keras/src/layers/rnn/bidirectional.py:107: UserWarning: Do not pass an `input_shape`/`input_dim` argument to a layer. When using Sequential models, prefer using an `Input(shape)` object as the first layer in the model instead.\n",
      "  super().__init__(**kwargs)\n"
     ]
    },
    {
     "name": "stdout",
     "output_type": "stream",
     "text": [
      "Epoch 1/6\n",
      "\u001b[1m2353/2353\u001b[0m \u001b[32m━━━━━━━━━━━━━━━━━━━━\u001b[0m\u001b[37m\u001b[0m \u001b[1m90s\u001b[0m 37ms/step - accuracy: 0.1601 - loss: 2.1803 - val_accuracy: 0.0466 - val_loss: 2.1846\n",
      "Epoch 2/6\n",
      "\u001b[1m2353/2353\u001b[0m \u001b[32m━━━━━━━━━━━━━━━━━━━━\u001b[0m\u001b[37m\u001b[0m \u001b[1m86s\u001b[0m 37ms/step - accuracy: 0.0824 - loss: 2.1776 - val_accuracy: 0.0453 - val_loss: 2.1785\n",
      "Epoch 3/6\n",
      "\u001b[1m2353/2353\u001b[0m \u001b[32m━━━━━━━━━━━━━━━━━━━━\u001b[0m\u001b[37m\u001b[0m \u001b[1m86s\u001b[0m 37ms/step - accuracy: 0.2172 - loss: 1.8767 - val_accuracy: 0.7046 - val_loss: 0.7559\n",
      "Epoch 4/6\n",
      "\u001b[1m2353/2353\u001b[0m \u001b[32m━━━━━━━━━━━━━━━━━━━━\u001b[0m\u001b[37m\u001b[0m \u001b[1m86s\u001b[0m 37ms/step - accuracy: 0.7574 - loss: 0.8115 - val_accuracy: 0.8675 - val_loss: 0.4478\n",
      "Epoch 5/6\n",
      "\u001b[1m2353/2353\u001b[0m \u001b[32m━━━━━━━━━━━━━━━━━━━━\u001b[0m\u001b[37m\u001b[0m \u001b[1m86s\u001b[0m 37ms/step - accuracy: 0.8482 - loss: 0.5280 - val_accuracy: 0.9082 - val_loss: 0.3312\n",
      "Epoch 6/6\n",
      "\u001b[1m2353/2353\u001b[0m \u001b[32m━━━━━━━━━━━━━━━━━━━━\u001b[0m\u001b[37m\u001b[0m \u001b[1m86s\u001b[0m 37ms/step - accuracy: 0.8700 - loss: 0.4343 - val_accuracy: 0.8081 - val_loss: 0.4091\n",
      "\u001b[1m1471/1471\u001b[0m \u001b[32m━━━━━━━━━━━━━━━━━━━━\u001b[0m\u001b[37m\u001b[0m \u001b[1m15s\u001b[0m 10ms/step\n",
      "[CV] END batch_size=64, epochs=6, model__dropout=0.3521748593566639, model__hidden_layer=22, model__learning_rate=0.0012576639417933484, model__lstm_units=65; total time= 9.0min\n"
     ]
    },
    {
     "name": "stderr",
     "output_type": "stream",
     "text": [
      "/home/jinesh-subedi/htdocs/thesis/thesisStudy/lib/python3.12/site-packages/keras/src/layers/rnn/bidirectional.py:107: UserWarning: Do not pass an `input_shape`/`input_dim` argument to a layer. When using Sequential models, prefer using an `Input(shape)` object as the first layer in the model instead.\n",
      "  super().__init__(**kwargs)\n"
     ]
    },
    {
     "name": "stdout",
     "output_type": "stream",
     "text": [
      "Epoch 1/6\n",
      "\u001b[1m2353/2353\u001b[0m \u001b[32m━━━━━━━━━━━━━━━━━━━━\u001b[0m\u001b[37m\u001b[0m \u001b[1m91s\u001b[0m 37ms/step - accuracy: 0.5683 - loss: 1.2136 - val_accuracy: 0.8763 - val_loss: 0.4300\n",
      "Epoch 2/6\n",
      "\u001b[1m2353/2353\u001b[0m \u001b[32m━━━━━━━━━━━━━━━━━━━━\u001b[0m\u001b[37m\u001b[0m \u001b[1m87s\u001b[0m 37ms/step - accuracy: 0.8625 - loss: 0.5208 - val_accuracy: 0.9207 - val_loss: 0.3141\n",
      "Epoch 3/6\n",
      "\u001b[1m2353/2353\u001b[0m \u001b[32m━━━━━━━━━━━━━━━━━━━━\u001b[0m\u001b[37m\u001b[0m \u001b[1m87s\u001b[0m 37ms/step - accuracy: 0.8879 - loss: 0.4050 - val_accuracy: 0.9095 - val_loss: 0.3221\n",
      "Epoch 4/6\n",
      "\u001b[1m2353/2353\u001b[0m \u001b[32m━━━━━━━━━━━━━━━━━━━━\u001b[0m\u001b[37m\u001b[0m \u001b[1m87s\u001b[0m 37ms/step - accuracy: 0.9003 - loss: 0.3366 - val_accuracy: 0.8944 - val_loss: 0.3475\n",
      "Epoch 5/6\n",
      "\u001b[1m2353/2353\u001b[0m \u001b[32m━━━━━━━━━━━━━━━━━━━━\u001b[0m\u001b[37m\u001b[0m \u001b[1m87s\u001b[0m 37ms/step - accuracy: 0.9067 - loss: 0.3310 - val_accuracy: 0.9080 - val_loss: 0.3088\n",
      "Epoch 6/6\n",
      "\u001b[1m2353/2353\u001b[0m \u001b[32m━━━━━━━━━━━━━━━━━━━━\u001b[0m\u001b[37m\u001b[0m \u001b[1m87s\u001b[0m 37ms/step - accuracy: 0.9113 - loss: 0.3072 - val_accuracy: 0.9259 - val_loss: 0.2455\n",
      "\u001b[1m1471/1471\u001b[0m \u001b[32m━━━━━━━━━━━━━━━━━━━━\u001b[0m\u001b[37m\u001b[0m \u001b[1m15s\u001b[0m 10ms/step\n",
      "[CV] END batch_size=64, epochs=6, model__dropout=0.3521748593566639, model__hidden_layer=22, model__learning_rate=0.0012576639417933484, model__lstm_units=65; total time= 9.1min\n"
     ]
    },
    {
     "name": "stderr",
     "output_type": "stream",
     "text": [
      "/home/jinesh-subedi/htdocs/thesis/thesisStudy/lib/python3.12/site-packages/keras/src/layers/rnn/bidirectional.py:107: UserWarning: Do not pass an `input_shape`/`input_dim` argument to a layer. When using Sequential models, prefer using an `Input(shape)` object as the first layer in the model instead.\n",
      "  super().__init__(**kwargs)\n"
     ]
    },
    {
     "name": "stdout",
     "output_type": "stream",
     "text": [
      "Epoch 1/6\n",
      "\u001b[1m3529/3529\u001b[0m \u001b[32m━━━━━━━━━━━━━━━━━━━━\u001b[0m\u001b[37m\u001b[0m \u001b[1m134s\u001b[0m 37ms/step - accuracy: 0.5811 - loss: 1.1523 - val_accuracy: 0.8993 - val_loss: 0.3923\n",
      "Epoch 2/6\n",
      "\u001b[1m3529/3529\u001b[0m \u001b[32m━━━━━━━━━━━━━━━━━━━━\u001b[0m\u001b[37m\u001b[0m \u001b[1m130s\u001b[0m 37ms/step - accuracy: 0.8704 - loss: 0.4410 - val_accuracy: 0.9179 - val_loss: 0.2875\n",
      "Epoch 3/6\n",
      "\u001b[1m3529/3529\u001b[0m \u001b[32m━━━━━━━━━━━━━━━━━━━━\u001b[0m\u001b[37m\u001b[0m \u001b[1m130s\u001b[0m 37ms/step - accuracy: 0.8958 - loss: 0.3281 - val_accuracy: 0.9298 - val_loss: 0.2360\n",
      "Epoch 4/6\n",
      "\u001b[1m3529/3529\u001b[0m \u001b[32m━━━━━━━━━━━━━━━━━━━━\u001b[0m\u001b[37m\u001b[0m \u001b[1m130s\u001b[0m 37ms/step - accuracy: 0.9048 - loss: 0.3184 - val_accuracy: 0.9399 - val_loss: 0.2349\n",
      "Epoch 5/6\n",
      "\u001b[1m3529/3529\u001b[0m \u001b[32m━━━━━━━━━━━━━━━━━━━━\u001b[0m\u001b[37m\u001b[0m \u001b[1m130s\u001b[0m 37ms/step - accuracy: 0.9113 - loss: 0.3047 - val_accuracy: 0.9363 - val_loss: 0.2090\n",
      "Epoch 6/6\n",
      "\u001b[1m3529/3529\u001b[0m \u001b[32m━━━━━━━━━━━━━━━━━━━━\u001b[0m\u001b[37m\u001b[0m \u001b[1m130s\u001b[0m 37ms/step - accuracy: 0.9151 - loss: 0.2991 - val_accuracy: 0.9074 - val_loss: 0.2770\n",
      "Best parameters: OrderedDict({'batch_size': 64, 'epochs': 6, 'model__dropout': 0.3521748593566639, 'model__hidden_layer': 22, 'model__learning_rate': 0.0012576639417933484, 'model__lstm_units': 65})\n",
      "Best cross-validation accuracy: 0.8760575655796948\n",
      "\u001b[1m1378/1378\u001b[0m \u001b[32m━━━━━━━━━━━━━━━━━━━━\u001b[0m\u001b[37m\u001b[0m \u001b[1m14s\u001b[0m 10ms/step\n",
      "Test set accuracy: 0.9061571606758135\n"
     ]
    }
   ],
   "source": [
    "# Hyperparameter Tuning with Bayesian Optimization (BayesSearchCV)\n",
    "from skopt import BayesSearchCV\n",
    "from skopt.space import Real, Integer, Categorical\n",
    "from scikeras.wrappers import KerasClassifier\n",
    "from tensorflow.keras.models import Sequential\n",
    "from tensorflow.keras.layers import Bidirectional, LSTM, Dense, Dropout, LayerNormalization\n",
    "from tensorflow.keras.regularizers import l2\n",
    "from tensorflow.keras.optimizers import Adam\n",
    "from tensorflow.keras.callbacks import EarlyStopping, ReduceLROnPlateau\n",
    "from sklearn.model_selection import StratifiedKFold\n",
    "\n",
    "def build_bilstm_model(\n",
    "    lstm_units=64,\n",
    "    hidden_layer=32,\n",
    "    dropout=0.2,\n",
    "    learning_rate=0.001,\n",
    "    input_shape=(30, 44)\n",
    "):\n",
    "    model = Sequential([\n",
    "        Bidirectional(LSTM(int(lstm_units*2), return_sequences=True, activation='tanh', recurrent_activation='sigmoid', recurrent_dropout=0.2), input_shape=input_shape),\n",
    "        LayerNormalization(),\n",
    "        Dropout(dropout),\n",
    "        Bidirectional(LSTM(int(lstm_units))),\n",
    "        LayerNormalization(),\n",
    "        Dropout(dropout),\n",
    "        Dense(int(hidden_layer), activation='relu'),\n",
    "        Dense(9, activation='softmax')\n",
    "    ])\n",
    "    optimizer = Adam(learning_rate=learning_rate, clipnorm=1.0)\n",
    "    model.compile(optimizer=optimizer, loss='sparse_categorical_crossentropy', metrics=['accuracy'])\n",
    "    return model\n",
    "\n",
    "from sklearn.metrics import make_scorer\n",
    "\n",
    "def constrained_score(y_true, y_pred):\n",
    "    cm = confusion_matrix(y_true, y_pred)\n",
    "    if cm.shape == (2, 2):\n",
    "        tn, fp, fn, tp = cm.ravel()\n",
    "        fnr = fn / (fn + tp) if (fn + tp) > 0 else 0\n",
    "        fpr = fp / (fp + tn) if (fp + tn) > 0 else 0\n",
    "        acc = accuracy_score(y_true, y_pred)\n",
    "        # Constraints: FNR ≤ 0.01, FPR ≤ 0.5, Accuracy > 0.90\n",
    "        if fnr <= 0.01 and fpr <= 0.5 and acc > 0.90:\n",
    "            print(f\"Valid model found: FNR={fnr}, FPR={fpr}, Acc={acc}\")\n",
    "            return acc\n",
    "        else:\n",
    "            print(f\"Model rejected: FNR={fnr}, FPR={fpr}, Acc={acc}\")\n",
    "            return 0\n",
    "    else:\n",
    "        # If confusion matrix is not 2x2, return 0\n",
    "        return 0\n",
    "\n",
    "constrained_scorer = make_scorer(constrained_score)\n",
    "cv_strategy = StratifiedKFold(n_splits=3, shuffle=True, random_state=42)\n",
    "\n",
    "early_stopping = EarlyStopping(monitor='val_loss', patience=10, mode='min', restore_best_weights=True)\n",
    "reduce_lr = ReduceLROnPlateau(monitor='val_loss', factor=0.5, patience=5, min_lr=1e-6, verbose=1)\n",
    "\n",
    "class_weights = compute_class_weight(\n",
    "    class_weight=\"balanced\",\n",
    "    classes=np.arange(y_multiclass_onehot.shape[1]),\n",
    "    y=y_multiclass_onehot.argmax(axis=1)\n",
    ")\n",
    "class_weight_dict = dict(enumerate(class_weights))\n",
    "\n",
    "# Wrap the model for scikit-learn compatibility\n",
    "keras_clf = KerasClassifier(\n",
    "    model=build_bilstm_model,\n",
    "    input_shape=(X_train_seq_final.shape[1], X_train_seq_final.shape[2])\n",
    ")\n",
    "\n",
    "# Define the hyperparameter search space\n",
    "param_space = {\n",
    "    'model__lstm_units': Integer(64, 128),\n",
    "    'model__hidden_layer': Integer(16, 32),\n",
    "    'model__dropout': Real(0.2, 0.4),\n",
    "    'model__learning_rate': Real(1e-4, 1e-2, prior='log-uniform'),\n",
    "    'batch_size': Categorical([64, 128]),\n",
    "    'epochs': Integer(5, 10)\n",
    "}\n",
    "\n",
    "opt = BayesSearchCV(\n",
    "    estimator=keras_clf,\n",
    "    search_spaces=param_space,\n",
    "    n_iter=1,\n",
    "    # scoring=constrained_scorer,\n",
    "    scoring=\"accuracy\",\n",
    "    # cv=2,\n",
    "    cv=cv_strategy,\n",
    "    n_jobs=1,\n",
    "    verbose=2,\n",
    "    refit=True\n",
    ")\n",
    "\n",
    "# Convert one-hot encoded targets to integer labels\n",
    "y_train_seq_final_labels = np.argmax(y_train_seq_final, axis=1)\n",
    "y_test_seq_labels = np.argmax(y_test_seq, axis=1)\n",
    "\n",
    "# Fit the optimizer (this may take a while)\n",
    "opt.fit(X_train_seq_final, y_train_seq_final_labels, callbacks=[early_stopping, reduce_lr], validation_split=0.2, class_weight=class_weight_dict)\n",
    "\n",
    "print('Best parameters:', opt.best_params_)\n",
    "print('Best cross-validation accuracy:', opt.best_score_)\n",
    "\n",
    "# Evaluate on test set\n",
    "test_score = opt.score(X_test_seq, y_test_seq_labels)\n",
    "print('Test set accuracy:', test_score)"
   ]
  },
  {
   "cell_type": "code",
   "execution_count": 9,
   "id": "08b1efa1",
   "metadata": {},
   "outputs": [
    {
     "name": "stdout",
     "output_type": "stream",
     "text": [
      "Fitting 3 folds for each of 1 candidates, totalling 3 fits\n"
     ]
    },
    {
     "name": "stderr",
     "output_type": "stream",
     "text": [
      "/home/jinesh-subedi/htdocs/thesis/thesisStudy/lib/python3.12/site-packages/keras/src/layers/rnn/bidirectional.py:107: UserWarning: Do not pass an `input_shape`/`input_dim` argument to a layer. When using Sequential models, prefer using an `Input(shape)` object as the first layer in the model instead.\n",
      "  super().__init__(**kwargs)\n"
     ]
    },
    {
     "name": "stdout",
     "output_type": "stream",
     "text": [
      "Epoch 1/9\n",
      "\u001b[1m2353/2353\u001b[0m \u001b[32m━━━━━━━━━━━━━━━━━━━━\u001b[0m\u001b[37m\u001b[0m \u001b[1m107s\u001b[0m 44ms/step - accuracy: 0.1043 - loss: 2.1356 - val_accuracy: 0.3379 - val_loss: 1.3604\n",
      "Epoch 2/9\n",
      "\u001b[1m2353/2353\u001b[0m \u001b[32m━━━━━━━━━━━━━━━━━━━━\u001b[0m\u001b[37m\u001b[0m \u001b[1m102s\u001b[0m 43ms/step - accuracy: 0.6444 - loss: 1.0444 - val_accuracy: 0.8380 - val_loss: 0.5456\n",
      "Epoch 3/9\n",
      "\u001b[1m2353/2353\u001b[0m \u001b[32m━━━━━━━━━━━━━━━━━━━━\u001b[0m\u001b[37m\u001b[0m \u001b[1m102s\u001b[0m 43ms/step - accuracy: 0.8324 - loss: 0.6686 - val_accuracy: 0.8610 - val_loss: 0.4242\n",
      "Epoch 4/9\n",
      "\u001b[1m2353/2353\u001b[0m \u001b[32m━━━━━━━━━━━━━━━━━━━━\u001b[0m\u001b[37m\u001b[0m \u001b[1m101s\u001b[0m 43ms/step - accuracy: 0.8529 - loss: 0.5960 - val_accuracy: 0.8700 - val_loss: 0.4189\n",
      "Epoch 5/9\n",
      "\u001b[1m2353/2353\u001b[0m \u001b[32m━━━━━━━━━━━━━━━━━━━━\u001b[0m\u001b[37m\u001b[0m \u001b[1m101s\u001b[0m 43ms/step - accuracy: 0.8638 - loss: 0.5439 - val_accuracy: 0.9153 - val_loss: 0.3506\n",
      "Epoch 6/9\n",
      "\u001b[1m2353/2353\u001b[0m \u001b[32m━━━━━━━━━━━━━━━━━━━━\u001b[0m\u001b[37m\u001b[0m \u001b[1m101s\u001b[0m 43ms/step - accuracy: 0.8699 - loss: 0.5238 - val_accuracy: 0.9240 - val_loss: 0.3141\n",
      "Epoch 7/9\n",
      "\u001b[1m2353/2353\u001b[0m \u001b[32m━━━━━━━━━━━━━━━━━━━━\u001b[0m\u001b[37m\u001b[0m \u001b[1m101s\u001b[0m 43ms/step - accuracy: 0.8765 - loss: 0.5314 - val_accuracy: 0.9256 - val_loss: 0.3271\n",
      "Epoch 8/9\n",
      "\u001b[1m2353/2353\u001b[0m \u001b[32m━━━━━━━━━━━━━━━━━━━━\u001b[0m\u001b[37m\u001b[0m \u001b[1m100s\u001b[0m 43ms/step - accuracy: 0.8807 - loss: 0.5535 - val_accuracy: 0.9275 - val_loss: 0.3134\n",
      "Epoch 9/9\n",
      "\u001b[1m2353/2353\u001b[0m \u001b[32m━━━━━━━━━━━━━━━━━━━━\u001b[0m\u001b[37m\u001b[0m \u001b[1m100s\u001b[0m 43ms/step - accuracy: 0.8887 - loss: 0.5304 - val_accuracy: 0.9212 - val_loss: 0.2954\n",
      "\u001b[1m1471/1471\u001b[0m \u001b[32m━━━━━━━━━━━━━━━━━━━━\u001b[0m\u001b[37m\u001b[0m \u001b[1m18s\u001b[0m 12ms/step\n",
      "[CV] END batch_size=64, epochs=9, model__dropout=0.31492129240418587, model__hidden_layer=25, model__learning_rate=0.003720970959626217, model__lstm_units=120; total time=15.6min\n"
     ]
    },
    {
     "name": "stderr",
     "output_type": "stream",
     "text": [
      "/home/jinesh-subedi/htdocs/thesis/thesisStudy/lib/python3.12/site-packages/keras/src/layers/rnn/bidirectional.py:107: UserWarning: Do not pass an `input_shape`/`input_dim` argument to a layer. When using Sequential models, prefer using an `Input(shape)` object as the first layer in the model instead.\n",
      "  super().__init__(**kwargs)\n"
     ]
    },
    {
     "name": "stdout",
     "output_type": "stream",
     "text": [
      "Epoch 1/9\n",
      "\u001b[1m2353/2353\u001b[0m \u001b[32m━━━━━━━━━━━━━━━━━━━━\u001b[0m\u001b[37m\u001b[0m \u001b[1m104s\u001b[0m 43ms/step - accuracy: 0.0855 - loss: 2.1817 - val_accuracy: 0.0466 - val_loss: 2.1803\n",
      "Epoch 2/9\n",
      "\u001b[1m2353/2353\u001b[0m \u001b[32m━━━━━━━━━━━━━━━━━━━━\u001b[0m\u001b[37m\u001b[0m \u001b[1m99s\u001b[0m 42ms/step - accuracy: 0.0624 - loss: 2.1783 - val_accuracy: 0.0461 - val_loss: 2.1869\n",
      "Epoch 3/9\n",
      "\u001b[1m2353/2353\u001b[0m \u001b[32m━━━━━━━━━━━━━━━━━━━━\u001b[0m\u001b[37m\u001b[0m \u001b[1m99s\u001b[0m 42ms/step - accuracy: 0.0911 - loss: 2.1785 - val_accuracy: 0.0466 - val_loss: 2.1954\n",
      "Epoch 4/9\n",
      "\u001b[1m2353/2353\u001b[0m \u001b[32m━━━━━━━━━━━━━━━━━━━━\u001b[0m\u001b[37m\u001b[0m \u001b[1m99s\u001b[0m 42ms/step - accuracy: 0.0664 - loss: 2.1780 - val_accuracy: 0.0457 - val_loss: 2.1962\n",
      "Epoch 5/9\n",
      "\u001b[1m2353/2353\u001b[0m \u001b[32m━━━━━━━━━━━━━━━━━━━━\u001b[0m\u001b[37m\u001b[0m \u001b[1m99s\u001b[0m 42ms/step - accuracy: 0.0852 - loss: 2.1781 - val_accuracy: 0.0457 - val_loss: 2.1999\n",
      "Epoch 6/9\n",
      "\u001b[1m2353/2353\u001b[0m \u001b[32m━━━━━━━━━━━━━━━━━━━━\u001b[0m\u001b[37m\u001b[0m \u001b[1m99s\u001b[0m 42ms/step - accuracy: 0.0430 - loss: 2.1781 - val_accuracy: 0.0457 - val_loss: 2.1949\n",
      "Epoch 7/9\n",
      "\u001b[1m2353/2353\u001b[0m \u001b[32m━━━━━━━━━━━━━━━━━━━━\u001b[0m\u001b[37m\u001b[0m \u001b[1m99s\u001b[0m 42ms/step - accuracy: 0.0628 - loss: 2.1780 - val_accuracy: 0.6766 - val_loss: 2.1662\n",
      "Epoch 8/9\n",
      "\u001b[1m2353/2353\u001b[0m \u001b[32m━━━━━━━━━━━━━━━━━━━━\u001b[0m\u001b[37m\u001b[0m \u001b[1m98s\u001b[0m 42ms/step - accuracy: 0.0714 - loss: 2.1782 - val_accuracy: 0.0455 - val_loss: 2.1627\n",
      "Epoch 9/9\n",
      "\u001b[1m2353/2353\u001b[0m \u001b[32m━━━━━━━━━━━━━━━━━━━━\u001b[0m\u001b[37m\u001b[0m \u001b[1m98s\u001b[0m 42ms/step - accuracy: 0.0987 - loss: 2.1782 - val_accuracy: 0.0453 - val_loss: 2.1718\n",
      "\u001b[1m1471/1471\u001b[0m \u001b[32m━━━━━━━━━━━━━━━━━━━━\u001b[0m\u001b[37m\u001b[0m \u001b[1m17s\u001b[0m 11ms/step\n",
      "[CV] END batch_size=64, epochs=9, model__dropout=0.31492129240418587, model__hidden_layer=25, model__learning_rate=0.003720970959626217, model__lstm_units=120; total time=15.3min\n"
     ]
    },
    {
     "name": "stderr",
     "output_type": "stream",
     "text": [
      "/home/jinesh-subedi/htdocs/thesis/thesisStudy/lib/python3.12/site-packages/keras/src/layers/rnn/bidirectional.py:107: UserWarning: Do not pass an `input_shape`/`input_dim` argument to a layer. When using Sequential models, prefer using an `Input(shape)` object as the first layer in the model instead.\n",
      "  super().__init__(**kwargs)\n"
     ]
    },
    {
     "name": "stdout",
     "output_type": "stream",
     "text": [
      "Epoch 1/9\n",
      "\u001b[1m2353/2353\u001b[0m \u001b[32m━━━━━━━━━━━━━━━━━━━━\u001b[0m\u001b[37m\u001b[0m \u001b[1m101s\u001b[0m 41ms/step - accuracy: 0.0951 - loss: 2.2679 - val_accuracy: 0.0458 - val_loss: 2.1884\n",
      "Epoch 2/9\n",
      "\u001b[1m2353/2353\u001b[0m \u001b[32m━━━━━━━━━━━━━━━━━━━━\u001b[0m\u001b[37m\u001b[0m \u001b[1m97s\u001b[0m 41ms/step - accuracy: 0.1285 - loss: 2.2954 - val_accuracy: 0.6770 - val_loss: 2.0106\n",
      "Epoch 3/9\n",
      "\u001b[1m2353/2353\u001b[0m \u001b[32m━━━━━━━━━━━━━━━━━━━━\u001b[0m\u001b[37m\u001b[0m \u001b[1m97s\u001b[0m 41ms/step - accuracy: 0.1434 - loss: 2.3935 - val_accuracy: 0.0444 - val_loss: 2.1582\n",
      "Epoch 4/9\n",
      "\u001b[1m2353/2353\u001b[0m \u001b[32m━━━━━━━━━━━━━━━━━━━━\u001b[0m\u001b[37m\u001b[0m \u001b[1m97s\u001b[0m 41ms/step - accuracy: 0.1649 - loss: 2.4051 - val_accuracy: 0.4559 - val_loss: 1.7156\n",
      "Epoch 5/9\n",
      "\u001b[1m2353/2353\u001b[0m \u001b[32m━━━━━━━━━━━━━━━━━━━━\u001b[0m\u001b[37m\u001b[0m \u001b[1m97s\u001b[0m 41ms/step - accuracy: 0.3659 - loss: 1.8143 - val_accuracy: 0.5057 - val_loss: 1.0415\n",
      "Epoch 6/9\n",
      "\u001b[1m2353/2353\u001b[0m \u001b[32m━━━━━━━━━━━━━━━━━━━━\u001b[0m\u001b[37m\u001b[0m \u001b[1m97s\u001b[0m 41ms/step - accuracy: 0.7026 - loss: 1.3978 - val_accuracy: 0.8045 - val_loss: 0.6175\n",
      "Epoch 7/9\n",
      "\u001b[1m2353/2353\u001b[0m \u001b[32m━━━━━━━━━━━━━━━━━━━━\u001b[0m\u001b[37m\u001b[0m \u001b[1m97s\u001b[0m 41ms/step - accuracy: 0.8086 - loss: 1.0403 - val_accuracy: 0.8890 - val_loss: 0.3384\n",
      "Epoch 8/9\n",
      "\u001b[1m2353/2353\u001b[0m \u001b[32m━━━━━━━━━━━━━━━━━━━━\u001b[0m\u001b[37m\u001b[0m \u001b[1m97s\u001b[0m 41ms/step - accuracy: 0.8450 - loss: 0.9049 - val_accuracy: 0.8922 - val_loss: 0.3534\n",
      "Epoch 9/9\n",
      "\u001b[1m2353/2353\u001b[0m \u001b[32m━━━━━━━━━━━━━━━━━━━━\u001b[0m\u001b[37m\u001b[0m \u001b[1m97s\u001b[0m 41ms/step - accuracy: 0.8577 - loss: 0.8901 - val_accuracy: 0.9016 - val_loss: 0.3845\n",
      "\u001b[1m1471/1471\u001b[0m \u001b[32m━━━━━━━━━━━━━━━━━━━━\u001b[0m\u001b[37m\u001b[0m \u001b[1m17s\u001b[0m 12ms/step\n",
      "[CV] END batch_size=64, epochs=9, model__dropout=0.31492129240418587, model__hidden_layer=25, model__learning_rate=0.003720970959626217, model__lstm_units=120; total time=15.0min\n",
      "Fitting 3 folds for each of 1 candidates, totalling 3 fits\n"
     ]
    },
    {
     "name": "stderr",
     "output_type": "stream",
     "text": [
      "/home/jinesh-subedi/htdocs/thesis/thesisStudy/lib/python3.12/site-packages/keras/src/layers/rnn/bidirectional.py:107: UserWarning: Do not pass an `input_shape`/`input_dim` argument to a layer. When using Sequential models, prefer using an `Input(shape)` object as the first layer in the model instead.\n",
      "  super().__init__(**kwargs)\n"
     ]
    },
    {
     "name": "stdout",
     "output_type": "stream",
     "text": [
      "Epoch 1/6\n",
      "\u001b[1m1177/1177\u001b[0m \u001b[32m━━━━━━━━━━━━━━━━━━━━\u001b[0m\u001b[37m\u001b[0m \u001b[1m62s\u001b[0m 49ms/step - accuracy: 0.1630 - loss: 2.1798 - val_accuracy: 0.0469 - val_loss: 2.1791\n",
      "Epoch 2/6\n",
      "\u001b[1m1177/1177\u001b[0m \u001b[32m━━━━━━━━━━━━━━━━━━━━\u001b[0m\u001b[37m\u001b[0m \u001b[1m58s\u001b[0m 49ms/step - accuracy: 0.0612 - loss: 2.1738 - val_accuracy: 0.6773 - val_loss: 2.1855\n",
      "Epoch 3/6\n",
      "\u001b[1m1177/1177\u001b[0m \u001b[32m━━━━━━━━━━━━━━━━━━━━\u001b[0m\u001b[37m\u001b[0m \u001b[1m58s\u001b[0m 49ms/step - accuracy: 0.1063 - loss: 2.1722 - val_accuracy: 0.0461 - val_loss: 2.1922\n",
      "Epoch 4/6\n",
      "\u001b[1m1177/1177\u001b[0m \u001b[32m━━━━━━━━━━━━━━━━━━━━\u001b[0m\u001b[37m\u001b[0m \u001b[1m57s\u001b[0m 49ms/step - accuracy: 0.0802 - loss: 2.1722 - val_accuracy: 0.0469 - val_loss: 2.1768\n",
      "Epoch 5/6\n",
      "\u001b[1m1177/1177\u001b[0m \u001b[32m━━━━━━━━━━━━━━━━━━━━\u001b[0m\u001b[37m\u001b[0m \u001b[1m58s\u001b[0m 49ms/step - accuracy: 0.0680 - loss: 2.1723 - val_accuracy: 0.0455 - val_loss: 2.1660\n",
      "Epoch 6/6\n",
      "\u001b[1m1177/1177\u001b[0m \u001b[32m━━━━━━━━━━━━━━━━━━━━\u001b[0m\u001b[37m\u001b[0m \u001b[1m58s\u001b[0m 49ms/step - accuracy: 0.0755 - loss: 2.1722 - val_accuracy: 0.0447 - val_loss: 2.1862\n",
      "\u001b[1m736/736\u001b[0m \u001b[32m━━━━━━━━━━━━━━━━━━━━\u001b[0m\u001b[37m\u001b[0m \u001b[1m11s\u001b[0m 15ms/step\n",
      "[CV] END batch_size=128, epochs=6, model__dropout=0.38551840375881824, model__hidden_layer=24, model__learning_rate=0.003851666251035655, model__lstm_units=113; total time= 6.0min\n"
     ]
    },
    {
     "name": "stderr",
     "output_type": "stream",
     "text": [
      "/home/jinesh-subedi/htdocs/thesis/thesisStudy/lib/python3.12/site-packages/keras/src/layers/rnn/bidirectional.py:107: UserWarning: Do not pass an `input_shape`/`input_dim` argument to a layer. When using Sequential models, prefer using an `Input(shape)` object as the first layer in the model instead.\n",
      "  super().__init__(**kwargs)\n"
     ]
    },
    {
     "name": "stdout",
     "output_type": "stream",
     "text": [
      "Epoch 1/6\n",
      "\u001b[1m1177/1177\u001b[0m \u001b[32m━━━━━━━━━━━━━━━━━━━━\u001b[0m\u001b[37m\u001b[0m \u001b[1m62s\u001b[0m 50ms/step - accuracy: 0.0989 - loss: 2.1844 - val_accuracy: 0.6766 - val_loss: 2.1748\n",
      "Epoch 2/6\n",
      "\u001b[1m1177/1177\u001b[0m \u001b[32m━━━━━━━━━━━━━━━━━━━━\u001b[0m\u001b[37m\u001b[0m \u001b[1m58s\u001b[0m 49ms/step - accuracy: 0.0821 - loss: 2.1793 - val_accuracy: 0.0453 - val_loss: 2.1909\n",
      "Epoch 3/6\n",
      "\u001b[1m1177/1177\u001b[0m \u001b[32m━━━━━━━━━━━━━━━━━━━━\u001b[0m\u001b[37m\u001b[0m \u001b[1m58s\u001b[0m 49ms/step - accuracy: 0.0956 - loss: 2.1777 - val_accuracy: 0.0027 - val_loss: 2.2001\n",
      "Epoch 4/6\n",
      "\u001b[1m1177/1177\u001b[0m \u001b[32m━━━━━━━━━━━━━━━━━━━━\u001b[0m\u001b[37m\u001b[0m \u001b[1m58s\u001b[0m 49ms/step - accuracy: 0.0470 - loss: 2.1776 - val_accuracy: 0.0461 - val_loss: 2.1750\n",
      "Epoch 5/6\n",
      "\u001b[1m1177/1177\u001b[0m \u001b[32m━━━━━━━━━━━━━━━━━━━━\u001b[0m\u001b[37m\u001b[0m \u001b[1m58s\u001b[0m 49ms/step - accuracy: 0.1264 - loss: 2.1778 - val_accuracy: 0.0453 - val_loss: 2.1925\n",
      "Epoch 6/6\n",
      "\u001b[1m1177/1177\u001b[0m \u001b[32m━━━━━━━━━━━━━━━━━━━━\u001b[0m\u001b[37m\u001b[0m \u001b[1m58s\u001b[0m 49ms/step - accuracy: 0.1160 - loss: 2.1780 - val_accuracy: 0.0466 - val_loss: 2.2045\n",
      "\u001b[1m736/736\u001b[0m \u001b[32m━━━━━━━━━━━━━━━━━━━━\u001b[0m\u001b[37m\u001b[0m \u001b[1m11s\u001b[0m 15ms/step\n",
      "[CV] END batch_size=128, epochs=6, model__dropout=0.38551840375881824, model__hidden_layer=24, model__learning_rate=0.003851666251035655, model__lstm_units=113; total time= 6.1min\n"
     ]
    },
    {
     "name": "stderr",
     "output_type": "stream",
     "text": [
      "/home/jinesh-subedi/htdocs/thesis/thesisStudy/lib/python3.12/site-packages/keras/src/layers/rnn/bidirectional.py:107: UserWarning: Do not pass an `input_shape`/`input_dim` argument to a layer. When using Sequential models, prefer using an `Input(shape)` object as the first layer in the model instead.\n",
      "  super().__init__(**kwargs)\n"
     ]
    },
    {
     "name": "stdout",
     "output_type": "stream",
     "text": [
      "Epoch 1/6\n",
      "\u001b[1m1177/1177\u001b[0m \u001b[32m━━━━━━━━━━━━━━━━━━━━\u001b[0m\u001b[37m\u001b[0m \u001b[1m61s\u001b[0m 49ms/step - accuracy: 0.0572 - loss: 2.1777 - val_accuracy: 0.0470 - val_loss: 2.1952\n",
      "Epoch 2/6\n",
      "\u001b[1m1177/1177\u001b[0m \u001b[32m━━━━━━━━━━━━━━━━━━━━\u001b[0m\u001b[37m\u001b[0m \u001b[1m57s\u001b[0m 49ms/step - accuracy: 0.0766 - loss: 2.1766 - val_accuracy: 0.0461 - val_loss: 2.1751\n",
      "Epoch 3/6\n",
      "\u001b[1m1177/1177\u001b[0m \u001b[32m━━━━━━━━━━━━━━━━━━━━\u001b[0m\u001b[37m\u001b[0m \u001b[1m57s\u001b[0m 49ms/step - accuracy: 0.1111 - loss: 2.1765 - val_accuracy: 0.0444 - val_loss: 2.1752\n",
      "Epoch 4/6\n",
      "\u001b[1m1177/1177\u001b[0m \u001b[32m━━━━━━━━━━━━━━━━━━━━\u001b[0m\u001b[37m\u001b[0m \u001b[1m57s\u001b[0m 49ms/step - accuracy: 0.0480 - loss: 2.1761 - val_accuracy: 0.0459 - val_loss: 2.2018\n",
      "Epoch 5/6\n",
      "\u001b[1m1177/1177\u001b[0m \u001b[32m━━━━━━━━━━━━━━━━━━━━\u001b[0m\u001b[37m\u001b[0m \u001b[1m57s\u001b[0m 49ms/step - accuracy: 0.0944 - loss: 2.1764 - val_accuracy: 0.0461 - val_loss: 2.2005\n",
      "Epoch 6/6\n",
      "\u001b[1m1177/1177\u001b[0m \u001b[32m━━━━━━━━━━━━━━━━━━━━\u001b[0m\u001b[37m\u001b[0m \u001b[1m57s\u001b[0m 49ms/step - accuracy: 0.0908 - loss: 2.1764 - val_accuracy: 0.0461 - val_loss: 2.1865\n",
      "\u001b[1m736/736\u001b[0m \u001b[32m━━━━━━━━━━━━━━━━━━━━\u001b[0m\u001b[37m\u001b[0m \u001b[1m11s\u001b[0m 15ms/step\n",
      "[CV] END batch_size=128, epochs=6, model__dropout=0.38551840375881824, model__hidden_layer=24, model__learning_rate=0.003851666251035655, model__lstm_units=113; total time= 6.0min\n",
      "Fitting 3 folds for each of 1 candidates, totalling 3 fits\n"
     ]
    },
    {
     "name": "stderr",
     "output_type": "stream",
     "text": [
      "/home/jinesh-subedi/htdocs/thesis/thesisStudy/lib/python3.12/site-packages/keras/src/layers/rnn/bidirectional.py:107: UserWarning: Do not pass an `input_shape`/`input_dim` argument to a layer. When using Sequential models, prefer using an `Input(shape)` object as the first layer in the model instead.\n",
      "  super().__init__(**kwargs)\n"
     ]
    },
    {
     "name": "stdout",
     "output_type": "stream",
     "text": [
      "Epoch 1/9\n",
      "\u001b[1m2353/2353\u001b[0m \u001b[32m━━━━━━━━━━━━━━━━━━━━\u001b[0m\u001b[37m\u001b[0m \u001b[1m108s\u001b[0m 44ms/step - accuracy: 0.0810 - loss: 2.1748 - val_accuracy: 0.0455 - val_loss: 2.1783\n",
      "Epoch 2/9\n",
      "\u001b[1m2353/2353\u001b[0m \u001b[32m━━━━━━━━━━━━━━━━━━━━\u001b[0m\u001b[37m\u001b[0m \u001b[1m103s\u001b[0m 44ms/step - accuracy: 0.0626 - loss: 2.1731 - val_accuracy: 0.0447 - val_loss: 2.2021\n",
      "Epoch 3/9\n",
      "\u001b[1m2353/2353\u001b[0m \u001b[32m━━━━━━━━━━━━━━━━━━━━\u001b[0m\u001b[37m\u001b[0m \u001b[1m103s\u001b[0m 44ms/step - accuracy: 0.1240 - loss: 2.1733 - val_accuracy: 0.0467 - val_loss: 2.2052\n",
      "Epoch 4/9\n",
      "\u001b[1m2353/2353\u001b[0m \u001b[32m━━━━━━━━━━━━━━━━━━━━\u001b[0m\u001b[37m\u001b[0m \u001b[1m103s\u001b[0m 44ms/step - accuracy: 0.0575 - loss: 2.1728 - val_accuracy: 0.0469 - val_loss: 2.1656\n",
      "Epoch 5/9\n",
      "\u001b[1m2353/2353\u001b[0m \u001b[32m━━━━━━━━━━━━━━━━━━━━\u001b[0m\u001b[37m\u001b[0m \u001b[1m103s\u001b[0m 44ms/step - accuracy: 0.0736 - loss: 2.1729 - val_accuracy: 0.0447 - val_loss: 2.1742\n",
      "Epoch 6/9\n",
      "\u001b[1m2353/2353\u001b[0m \u001b[32m━━━━━━━━━━━━━━━━━━━━\u001b[0m\u001b[37m\u001b[0m \u001b[1m103s\u001b[0m 44ms/step - accuracy: 0.0585 - loss: 2.1733 - val_accuracy: 0.0455 - val_loss: 2.1867\n",
      "Epoch 7/9\n",
      "\u001b[1m2353/2353\u001b[0m \u001b[32m━━━━━━━━━━━━━━━━━━━━\u001b[0m\u001b[37m\u001b[0m \u001b[1m103s\u001b[0m 44ms/step - accuracy: 0.1075 - loss: 2.1729 - val_accuracy: 0.0455 - val_loss: 2.1638\n",
      "Epoch 8/9\n",
      "\u001b[1m2353/2353\u001b[0m \u001b[32m━━━━━━━━━━━━━━━━━━━━\u001b[0m\u001b[37m\u001b[0m \u001b[1m103s\u001b[0m 44ms/step - accuracy: 0.0488 - loss: 2.1730 - val_accuracy: 0.0029 - val_loss: 2.2080\n",
      "Epoch 9/9\n",
      "\u001b[1m2353/2353\u001b[0m \u001b[32m━━━━━━━━━━━━━━━━━━━━\u001b[0m\u001b[37m\u001b[0m \u001b[1m103s\u001b[0m 44ms/step - accuracy: 0.0790 - loss: 2.1731 - val_accuracy: 0.0445 - val_loss: 2.1981\n",
      "\u001b[1m1471/1471\u001b[0m \u001b[32m━━━━━━━━━━━━━━━━━━━━\u001b[0m\u001b[37m\u001b[0m \u001b[1m18s\u001b[0m 12ms/step\n",
      "[CV] END batch_size=64, epochs=9, model__dropout=0.26001011429466403, model__hidden_layer=26, model__learning_rate=0.007275162714171411, model__lstm_units=125; total time=15.8min\n"
     ]
    },
    {
     "name": "stderr",
     "output_type": "stream",
     "text": [
      "/home/jinesh-subedi/htdocs/thesis/thesisStudy/lib/python3.12/site-packages/keras/src/layers/rnn/bidirectional.py:107: UserWarning: Do not pass an `input_shape`/`input_dim` argument to a layer. When using Sequential models, prefer using an `Input(shape)` object as the first layer in the model instead.\n",
      "  super().__init__(**kwargs)\n"
     ]
    },
    {
     "name": "stdout",
     "output_type": "stream",
     "text": [
      "Epoch 1/9\n",
      "\u001b[1m2353/2353\u001b[0m \u001b[32m━━━━━━━━━━━━━━━━━━━━\u001b[0m\u001b[37m\u001b[0m \u001b[1m106s\u001b[0m 44ms/step - accuracy: 0.0855 - loss: 2.1880 - val_accuracy: 0.0461 - val_loss: 2.1747\n",
      "Epoch 2/9\n",
      "\u001b[1m2353/2353\u001b[0m \u001b[32m━━━━━━━━━━━━━━━━━━━━\u001b[0m\u001b[37m\u001b[0m \u001b[1m102s\u001b[0m 43ms/step - accuracy: 0.0911 - loss: 2.1798 - val_accuracy: 0.0457 - val_loss: 2.1329\n",
      "Epoch 3/9\n",
      "\u001b[1m2353/2353\u001b[0m \u001b[32m━━━━━━━━━━━━━━━━━━━━\u001b[0m\u001b[37m\u001b[0m \u001b[1m102s\u001b[0m 43ms/step - accuracy: 0.0904 - loss: 2.1789 - val_accuracy: 0.0453 - val_loss: 2.1955\n",
      "Epoch 4/9\n",
      "\u001b[1m2353/2353\u001b[0m \u001b[32m━━━━━━━━━━━━━━━━━━━━\u001b[0m\u001b[37m\u001b[0m \u001b[1m102s\u001b[0m 43ms/step - accuracy: 0.0546 - loss: 2.1789 - val_accuracy: 0.0453 - val_loss: 2.1706\n",
      "Epoch 5/9\n",
      "\u001b[1m2353/2353\u001b[0m \u001b[32m━━━━━━━━━━━━━━━━━━━━\u001b[0m\u001b[37m\u001b[0m \u001b[1m102s\u001b[0m 44ms/step - accuracy: 0.0669 - loss: 2.1794 - val_accuracy: 0.0457 - val_loss: 2.1658\n",
      "Epoch 6/9\n",
      "\u001b[1m2353/2353\u001b[0m \u001b[32m━━━━━━━━━━━━━━━━━━━━\u001b[0m\u001b[37m\u001b[0m \u001b[1m102s\u001b[0m 44ms/step - accuracy: 0.0931 - loss: 2.1786 - val_accuracy: 0.0453 - val_loss: 2.1893\n",
      "Epoch 7/9\n",
      "\u001b[1m2353/2353\u001b[0m \u001b[32m━━━━━━━━━━━━━━━━━━━━\u001b[0m\u001b[37m\u001b[0m \u001b[1m102s\u001b[0m 44ms/step - accuracy: 0.0810 - loss: 2.1790 - val_accuracy: 0.0457 - val_loss: 2.1504\n",
      "Epoch 8/9\n",
      "\u001b[1m2353/2353\u001b[0m \u001b[32m━━━━━━━━━━━━━━━━━━━━\u001b[0m\u001b[37m\u001b[0m \u001b[1m103s\u001b[0m 44ms/step - accuracy: 0.0562 - loss: 2.1788 - val_accuracy: 0.0457 - val_loss: 2.1514\n",
      "Epoch 9/9\n",
      "\u001b[1m2353/2353\u001b[0m \u001b[32m━━━━━━━━━━━━━━━━━━━━\u001b[0m\u001b[37m\u001b[0m \u001b[1m103s\u001b[0m 44ms/step - accuracy: 0.0782 - loss: 2.1779 - val_accuracy: 0.0466 - val_loss: 2.1557\n",
      "\u001b[1m1471/1471\u001b[0m \u001b[32m━━━━━━━━━━━━━━━━━━━━\u001b[0m\u001b[37m\u001b[0m \u001b[1m18s\u001b[0m 12ms/step\n",
      "[CV] END batch_size=64, epochs=9, model__dropout=0.26001011429466403, model__hidden_layer=26, model__learning_rate=0.007275162714171411, model__lstm_units=125; total time=15.7min\n"
     ]
    },
    {
     "name": "stderr",
     "output_type": "stream",
     "text": [
      "/home/jinesh-subedi/htdocs/thesis/thesisStudy/lib/python3.12/site-packages/keras/src/layers/rnn/bidirectional.py:107: UserWarning: Do not pass an `input_shape`/`input_dim` argument to a layer. When using Sequential models, prefer using an `Input(shape)` object as the first layer in the model instead.\n",
      "  super().__init__(**kwargs)\n"
     ]
    },
    {
     "name": "stdout",
     "output_type": "stream",
     "text": [
      "Epoch 1/9\n",
      "\u001b[1m2353/2353\u001b[0m \u001b[32m━━━━━━━━━━━━━━━━━━━━\u001b[0m\u001b[37m\u001b[0m \u001b[1m106s\u001b[0m 44ms/step - accuracy: 0.0915 - loss: 2.2691 - val_accuracy: 0.0468 - val_loss: 2.2443\n",
      "Epoch 2/9\n",
      "\u001b[1m2353/2353\u001b[0m \u001b[32m━━━━━━━━━━━━━━━━━━━━\u001b[0m\u001b[37m\u001b[0m \u001b[1m102s\u001b[0m 43ms/step - accuracy: 0.1500 - loss: 2.3961 - val_accuracy: 0.0458 - val_loss: 2.2935\n",
      "Epoch 3/9\n",
      "\u001b[1m2353/2353\u001b[0m \u001b[32m━━━━━━━━━━━━━━━━━━━━\u001b[0m\u001b[37m\u001b[0m \u001b[1m102s\u001b[0m 43ms/step - accuracy: 0.1465 - loss: 2.5633 - val_accuracy: 0.0470 - val_loss: 2.2217\n",
      "Epoch 4/9\n",
      "\u001b[1m2353/2353\u001b[0m \u001b[32m━━━━━━━━━━━━━━━━━━━━\u001b[0m\u001b[37m\u001b[0m \u001b[1m102s\u001b[0m 44ms/step - accuracy: 0.1281 - loss: 2.6407 - val_accuracy: 0.0470 - val_loss: 2.3408\n",
      "Epoch 5/9\n",
      "\u001b[1m2353/2353\u001b[0m \u001b[32m━━━━━━━━━━━━━━━━━━━━\u001b[0m\u001b[37m\u001b[0m \u001b[1m102s\u001b[0m 44ms/step - accuracy: 0.1240 - loss: 2.7047 - val_accuracy: 0.0444 - val_loss: 2.4832\n",
      "Epoch 6/9\n",
      "\u001b[1m2353/2353\u001b[0m \u001b[32m━━━━━━━━━━━━━━━━━━━━\u001b[0m\u001b[37m\u001b[0m \u001b[1m102s\u001b[0m 44ms/step - accuracy: 0.1223 - loss: 2.8392 - val_accuracy: 0.0444 - val_loss: 2.2484\n",
      "Epoch 7/9\n",
      "\u001b[1m2353/2353\u001b[0m \u001b[32m━━━━━━━━━━━━━━━━━━━━\u001b[0m\u001b[37m\u001b[0m \u001b[1m103s\u001b[0m 44ms/step - accuracy: 0.1142 - loss: 2.8983 - val_accuracy: 0.6770 - val_loss: 1.8513\n",
      "Epoch 8/9\n",
      "\u001b[1m2353/2353\u001b[0m \u001b[32m━━━━━━━━━━━━━━━━━━━━\u001b[0m\u001b[37m\u001b[0m \u001b[1m103s\u001b[0m 44ms/step - accuracy: 0.1121 - loss: 3.0052 - val_accuracy: 0.0444 - val_loss: 1.9779\n",
      "Epoch 9/9\n",
      "\u001b[1m2353/2353\u001b[0m \u001b[32m━━━━━━━━━━━━━━━━━━━━\u001b[0m\u001b[37m\u001b[0m \u001b[1m103s\u001b[0m 44ms/step - accuracy: 0.1145 - loss: 3.1568 - val_accuracy: 0.0459 - val_loss: 3.1031\n",
      "\u001b[1m1471/1471\u001b[0m \u001b[32m━━━━━━━━━━━━━━━━━━━━\u001b[0m\u001b[37m\u001b[0m \u001b[1m18s\u001b[0m 12ms/step\n",
      "[CV] END batch_size=64, epochs=9, model__dropout=0.26001011429466403, model__hidden_layer=26, model__learning_rate=0.007275162714171411, model__lstm_units=125; total time=15.8min\n",
      "Fitting 3 folds for each of 1 candidates, totalling 3 fits\n"
     ]
    },
    {
     "name": "stderr",
     "output_type": "stream",
     "text": [
      "/home/jinesh-subedi/htdocs/thesis/thesisStudy/lib/python3.12/site-packages/keras/src/layers/rnn/bidirectional.py:107: UserWarning: Do not pass an `input_shape`/`input_dim` argument to a layer. When using Sequential models, prefer using an `Input(shape)` object as the first layer in the model instead.\n",
      "  super().__init__(**kwargs)\n"
     ]
    },
    {
     "name": "stdout",
     "output_type": "stream",
     "text": [
      "Epoch 1/10\n",
      "\u001b[1m1177/1177\u001b[0m \u001b[32m━━━━━━━━━━━━━━━━━━━━\u001b[0m\u001b[37m\u001b[0m \u001b[1m56s\u001b[0m 44ms/step - accuracy: 0.0590 - loss: 2.1770 - val_accuracy: 0.0447 - val_loss: 2.2132\n",
      "Epoch 2/10\n",
      "\u001b[1m1177/1177\u001b[0m \u001b[32m━━━━━━━━━━━━━━━━━━━━\u001b[0m\u001b[37m\u001b[0m \u001b[1m51s\u001b[0m 43ms/step - accuracy: 0.0758 - loss: 2.1731 - val_accuracy: 0.0467 - val_loss: 2.1833\n",
      "Epoch 3/10\n",
      "\u001b[1m1177/1177\u001b[0m \u001b[32m━━━━━━━━━━━━━━━━━━━━\u001b[0m\u001b[37m\u001b[0m \u001b[1m51s\u001b[0m 43ms/step - accuracy: 0.0799 - loss: 2.1731 - val_accuracy: 0.0455 - val_loss: 2.1713\n",
      "Epoch 4/10\n",
      "\u001b[1m1177/1177\u001b[0m \u001b[32m━━━━━━━━━━━━━━━━━━━━\u001b[0m\u001b[37m\u001b[0m \u001b[1m51s\u001b[0m 43ms/step - accuracy: 0.0896 - loss: 2.1726 - val_accuracy: 0.0469 - val_loss: 2.2066\n",
      "Epoch 5/10\n",
      "\u001b[1m1177/1177\u001b[0m \u001b[32m━━━━━━━━━━━━━━━━━━━━\u001b[0m\u001b[37m\u001b[0m \u001b[1m51s\u001b[0m 43ms/step - accuracy: 0.0564 - loss: 2.1729 - val_accuracy: 0.0447 - val_loss: 2.1501\n",
      "Epoch 6/10\n",
      "\u001b[1m1177/1177\u001b[0m \u001b[32m━━━━━━━━━━━━━━━━━━━━\u001b[0m\u001b[37m\u001b[0m \u001b[1m51s\u001b[0m 43ms/step - accuracy: 0.0509 - loss: 2.1726 - val_accuracy: 0.0454 - val_loss: 2.2171\n",
      "Epoch 7/10\n",
      "\u001b[1m1177/1177\u001b[0m \u001b[32m━━━━━━━━━━━━━━━━━━━━\u001b[0m\u001b[37m\u001b[0m \u001b[1m51s\u001b[0m 43ms/step - accuracy: 0.0832 - loss: 2.1724 - val_accuracy: 0.0029 - val_loss: 2.1941\n",
      "Epoch 8/10\n",
      "\u001b[1m1177/1177\u001b[0m \u001b[32m━━━━━━━━━━━━━━━━━━━━\u001b[0m\u001b[37m\u001b[0m \u001b[1m51s\u001b[0m 43ms/step - accuracy: 0.0987 - loss: 2.1733 - val_accuracy: 0.0455 - val_loss: 2.1845\n",
      "Epoch 9/10\n",
      "\u001b[1m1177/1177\u001b[0m \u001b[32m━━━━━━━━━━━━━━━━━━━━\u001b[0m\u001b[37m\u001b[0m \u001b[1m51s\u001b[0m 43ms/step - accuracy: 0.0789 - loss: 2.1729 - val_accuracy: 0.6773 - val_loss: 2.1428\n",
      "Epoch 10/10\n",
      "\u001b[1m1177/1177\u001b[0m \u001b[32m━━━━━━━━━━━━━━━━━━━━\u001b[0m\u001b[37m\u001b[0m \u001b[1m51s\u001b[0m 43ms/step - accuracy: 0.0706 - loss: 2.1730 - val_accuracy: 0.0445 - val_loss: 2.1622\n",
      "\u001b[1m736/736\u001b[0m \u001b[32m━━━━━━━━━━━━━━━━━━━━\u001b[0m\u001b[37m\u001b[0m \u001b[1m10s\u001b[0m 13ms/step\n",
      "[CV] END batch_size=128, epochs=10, model__dropout=0.34997035609325255, model__hidden_layer=28, model__learning_rate=0.009518269149719705, model__lstm_units=100; total time= 8.7min\n"
     ]
    },
    {
     "name": "stderr",
     "output_type": "stream",
     "text": [
      "/home/jinesh-subedi/htdocs/thesis/thesisStudy/lib/python3.12/site-packages/keras/src/layers/rnn/bidirectional.py:107: UserWarning: Do not pass an `input_shape`/`input_dim` argument to a layer. When using Sequential models, prefer using an `Input(shape)` object as the first layer in the model instead.\n",
      "  super().__init__(**kwargs)\n"
     ]
    },
    {
     "name": "stdout",
     "output_type": "stream",
     "text": [
      "Epoch 1/10\n",
      "\u001b[1m1177/1177\u001b[0m \u001b[32m━━━━━━━━━━━━━━━━━━━━\u001b[0m\u001b[37m\u001b[0m \u001b[1m55s\u001b[0m 44ms/step - accuracy: 0.1039 - loss: 2.1809 - val_accuracy: 0.0027 - val_loss: 2.2234\n",
      "Epoch 2/10\n",
      "\u001b[1m1177/1177\u001b[0m \u001b[32m━━━━━━━━━━━━━━━━━━━━\u001b[0m\u001b[37m\u001b[0m \u001b[1m51s\u001b[0m 43ms/step - accuracy: 0.0438 - loss: 2.1786 - val_accuracy: 0.0457 - val_loss: 2.1728\n",
      "Epoch 3/10\n",
      "\u001b[1m1177/1177\u001b[0m \u001b[32m━━━━━━━━━━━━━━━━━━━━\u001b[0m\u001b[37m\u001b[0m \u001b[1m51s\u001b[0m 43ms/step - accuracy: 0.0684 - loss: 2.1786 - val_accuracy: 0.0461 - val_loss: 2.1872\n",
      "Epoch 4/10\n",
      "\u001b[1m1177/1177\u001b[0m \u001b[32m━━━━━━━━━━━━━━━━━━━━\u001b[0m\u001b[37m\u001b[0m \u001b[1m51s\u001b[0m 43ms/step - accuracy: 0.0887 - loss: 2.1789 - val_accuracy: 0.0027 - val_loss: 2.2162\n",
      "Epoch 5/10\n",
      "\u001b[1m1177/1177\u001b[0m \u001b[32m━━━━━━━━━━━━━━━━━━━━\u001b[0m\u001b[37m\u001b[0m \u001b[1m51s\u001b[0m 43ms/step - accuracy: 0.0603 - loss: 2.1794 - val_accuracy: 0.0457 - val_loss: 2.1776\n",
      "Epoch 6/10\n",
      "\u001b[1m1177/1177\u001b[0m \u001b[32m━━━━━━━━━━━━━━━━━━━━\u001b[0m\u001b[37m\u001b[0m \u001b[1m51s\u001b[0m 43ms/step - accuracy: 0.0772 - loss: 2.1790 - val_accuracy: 0.0466 - val_loss: 2.1575\n",
      "Epoch 7/10\n",
      "\u001b[1m1177/1177\u001b[0m \u001b[32m━━━━━━━━━━━━━━━━━━━━\u001b[0m\u001b[37m\u001b[0m \u001b[1m51s\u001b[0m 43ms/step - accuracy: 0.0616 - loss: 2.1785 - val_accuracy: 0.0453 - val_loss: 2.2194\n",
      "Epoch 8/10\n",
      "\u001b[1m1177/1177\u001b[0m \u001b[32m━━━━━━━━━━━━━━━━━━━━\u001b[0m\u001b[37m\u001b[0m \u001b[1m51s\u001b[0m 43ms/step - accuracy: 0.0629 - loss: 2.1788 - val_accuracy: 0.0453 - val_loss: 2.1954\n",
      "Epoch 9/10\n",
      "\u001b[1m1177/1177\u001b[0m \u001b[32m━━━━━━━━━━━━━━━━━━━━\u001b[0m\u001b[37m\u001b[0m \u001b[1m51s\u001b[0m 43ms/step - accuracy: 0.0675 - loss: 2.1783 - val_accuracy: 0.0027 - val_loss: 2.2318\n",
      "Epoch 10/10\n",
      "\u001b[1m1177/1177\u001b[0m \u001b[32m━━━━━━━━━━━━━━━━━━━━\u001b[0m\u001b[37m\u001b[0m \u001b[1m51s\u001b[0m 43ms/step - accuracy: 0.1049 - loss: 2.1786 - val_accuracy: 0.0453 - val_loss: 2.1735\n",
      "\u001b[1m736/736\u001b[0m \u001b[32m━━━━━━━━━━━━━━━━━━━━\u001b[0m\u001b[37m\u001b[0m \u001b[1m10s\u001b[0m 13ms/step\n",
      "[CV] END batch_size=128, epochs=10, model__dropout=0.34997035609325255, model__hidden_layer=28, model__learning_rate=0.009518269149719705, model__lstm_units=100; total time= 8.7min\n"
     ]
    },
    {
     "name": "stderr",
     "output_type": "stream",
     "text": [
      "/home/jinesh-subedi/htdocs/thesis/thesisStudy/lib/python3.12/site-packages/keras/src/layers/rnn/bidirectional.py:107: UserWarning: Do not pass an `input_shape`/`input_dim` argument to a layer. When using Sequential models, prefer using an `Input(shape)` object as the first layer in the model instead.\n",
      "  super().__init__(**kwargs)\n"
     ]
    },
    {
     "name": "stdout",
     "output_type": "stream",
     "text": [
      "Epoch 1/10\n",
      "\u001b[1m1177/1177\u001b[0m \u001b[32m━━━━━━━━━━━━━━━━━━━━\u001b[0m\u001b[37m\u001b[0m \u001b[1m55s\u001b[0m 43ms/step - accuracy: 0.0598 - loss: 2.1819 - val_accuracy: 0.0444 - val_loss: 2.2027\n",
      "Epoch 2/10\n",
      "\u001b[1m1177/1177\u001b[0m \u001b[32m━━━━━━━━━━━━━━━━━━━━\u001b[0m\u001b[37m\u001b[0m \u001b[1m51s\u001b[0m 43ms/step - accuracy: 0.0984 - loss: 2.1773 - val_accuracy: 0.0458 - val_loss: 2.2192\n",
      "Epoch 3/10\n",
      "\u001b[1m1177/1177\u001b[0m \u001b[32m━━━━━━━━━━━━━━━━━━━━\u001b[0m\u001b[37m\u001b[0m \u001b[1m51s\u001b[0m 43ms/step - accuracy: 0.0769 - loss: 2.1772 - val_accuracy: 0.0468 - val_loss: 2.1777\n",
      "Epoch 4/10\n",
      "\u001b[1m1177/1177\u001b[0m \u001b[32m━━━━━━━━━━━━━━━━━━━━\u001b[0m\u001b[37m\u001b[0m \u001b[1m51s\u001b[0m 43ms/step - accuracy: 0.0457 - loss: 2.1771 - val_accuracy: 0.0458 - val_loss: 2.1853\n",
      "Epoch 5/10\n",
      "\u001b[1m1177/1177\u001b[0m \u001b[32m━━━━━━━━━━━━━━━━━━━━\u001b[0m\u001b[37m\u001b[0m \u001b[1m51s\u001b[0m 43ms/step - accuracy: 0.0735 - loss: 2.1772 - val_accuracy: 0.0444 - val_loss: 2.1461\n",
      "Epoch 6/10\n",
      "\u001b[1m1177/1177\u001b[0m \u001b[32m━━━━━━━━━━━━━━━━━━━━\u001b[0m\u001b[37m\u001b[0m \u001b[1m51s\u001b[0m 43ms/step - accuracy: 0.0472 - loss: 2.1772 - val_accuracy: 0.0461 - val_loss: 2.1643\n",
      "Epoch 7/10\n",
      "\u001b[1m1177/1177\u001b[0m \u001b[32m━━━━━━━━━━━━━━━━━━━━\u001b[0m\u001b[37m\u001b[0m \u001b[1m51s\u001b[0m 43ms/step - accuracy: 0.0696 - loss: 2.1771 - val_accuracy: 0.0468 - val_loss: 2.2108\n",
      "Epoch 8/10\n",
      "\u001b[1m1177/1177\u001b[0m \u001b[32m━━━━━━━━━━━━━━━━━━━━\u001b[0m\u001b[37m\u001b[0m \u001b[1m51s\u001b[0m 43ms/step - accuracy: 0.0562 - loss: 2.1773 - val_accuracy: 0.0027 - val_loss: 2.2302\n",
      "Epoch 9/10\n",
      "\u001b[1m1177/1177\u001b[0m \u001b[32m━━━━━━━━━━━━━━━━━━━━\u001b[0m\u001b[37m\u001b[0m \u001b[1m51s\u001b[0m 43ms/step - accuracy: 0.0802 - loss: 2.1776 - val_accuracy: 0.0470 - val_loss: 2.1740\n",
      "Epoch 10/10\n",
      "\u001b[1m1177/1177\u001b[0m \u001b[32m━━━━━━━━━━━━━━━━━━━━\u001b[0m\u001b[37m\u001b[0m \u001b[1m51s\u001b[0m 43ms/step - accuracy: 0.0955 - loss: 2.1776 - val_accuracy: 0.0468 - val_loss: 2.1671\n",
      "\u001b[1m736/736\u001b[0m \u001b[32m━━━━━━━━━━━━━━━━━━━━\u001b[0m\u001b[37m\u001b[0m \u001b[1m10s\u001b[0m 13ms/step\n",
      "[CV] END batch_size=128, epochs=10, model__dropout=0.34997035609325255, model__hidden_layer=28, model__learning_rate=0.009518269149719705, model__lstm_units=100; total time= 8.7min\n",
      "Fitting 3 folds for each of 1 candidates, totalling 3 fits\n"
     ]
    },
    {
     "name": "stderr",
     "output_type": "stream",
     "text": [
      "/home/jinesh-subedi/htdocs/thesis/thesisStudy/lib/python3.12/site-packages/keras/src/layers/rnn/bidirectional.py:107: UserWarning: Do not pass an `input_shape`/`input_dim` argument to a layer. When using Sequential models, prefer using an `Input(shape)` object as the first layer in the model instead.\n",
      "  super().__init__(**kwargs)\n"
     ]
    },
    {
     "name": "stdout",
     "output_type": "stream",
     "text": [
      "Epoch 1/6\n",
      "\u001b[1m1177/1177\u001b[0m \u001b[32m━━━━━━━━━━━━━━━━━━━━\u001b[0m\u001b[37m\u001b[0m \u001b[1m59s\u001b[0m 46ms/step - accuracy: 0.5349 - loss: 1.3042 - val_accuracy: 0.8295 - val_loss: 0.6259\n",
      "Epoch 2/6\n",
      "\u001b[1m1177/1177\u001b[0m \u001b[32m━━━━━━━━━━━━━━━━━━━━\u001b[0m\u001b[37m\u001b[0m \u001b[1m53s\u001b[0m 45ms/step - accuracy: 0.8404 - loss: 0.5136 - val_accuracy: 0.9024 - val_loss: 0.3821\n",
      "Epoch 3/6\n",
      "\u001b[1m1177/1177\u001b[0m \u001b[32m━━━━━━━━━━━━━━━━━━━━\u001b[0m\u001b[37m\u001b[0m \u001b[1m53s\u001b[0m 45ms/step - accuracy: 0.8882 - loss: 0.3486 - val_accuracy: 0.8999 - val_loss: 0.3171\n",
      "Epoch 4/6\n",
      "\u001b[1m1177/1177\u001b[0m \u001b[32m━━━━━━━━━━━━━━━━━━━━\u001b[0m\u001b[37m\u001b[0m \u001b[1m53s\u001b[0m 45ms/step - accuracy: 0.9074 - loss: 0.2770 - val_accuracy: 0.9342 - val_loss: 0.2368\n",
      "Epoch 5/6\n",
      "\u001b[1m1177/1177\u001b[0m \u001b[32m━━━━━━━━━━━━━━━━━━━━\u001b[0m\u001b[37m\u001b[0m \u001b[1m53s\u001b[0m 45ms/step - accuracy: 0.9186 - loss: 0.2384 - val_accuracy: 0.9299 - val_loss: 0.2653\n",
      "Epoch 6/6\n",
      "\u001b[1m1177/1177\u001b[0m \u001b[32m━━━━━━━━━━━━━━━━━━━━\u001b[0m\u001b[37m\u001b[0m \u001b[1m53s\u001b[0m 45ms/step - accuracy: 0.9272 - loss: 0.2044 - val_accuracy: 0.9427 - val_loss: 0.2267\n",
      "\u001b[1m736/736\u001b[0m \u001b[32m━━━━━━━━━━━━━━━━━━━━\u001b[0m\u001b[37m\u001b[0m \u001b[1m10s\u001b[0m 13ms/step\n",
      "[CV] END batch_size=128, epochs=6, model__dropout=0.2863661696474195, model__hidden_layer=30, model__learning_rate=0.0005532304540792943, model__lstm_units=97; total time= 5.6min\n"
     ]
    },
    {
     "name": "stderr",
     "output_type": "stream",
     "text": [
      "/home/jinesh-subedi/htdocs/thesis/thesisStudy/lib/python3.12/site-packages/keras/src/layers/rnn/bidirectional.py:107: UserWarning: Do not pass an `input_shape`/`input_dim` argument to a layer. When using Sequential models, prefer using an `Input(shape)` object as the first layer in the model instead.\n",
      "  super().__init__(**kwargs)\n"
     ]
    },
    {
     "name": "stdout",
     "output_type": "stream",
     "text": [
      "Epoch 1/6\n",
      "\u001b[1m1177/1177\u001b[0m \u001b[32m━━━━━━━━━━━━━━━━━━━━\u001b[0m\u001b[37m\u001b[0m \u001b[1m57s\u001b[0m 45ms/step - accuracy: 0.5053 - loss: 1.4117 - val_accuracy: 0.7992 - val_loss: 0.6671\n",
      "Epoch 2/6\n",
      "\u001b[1m1177/1177\u001b[0m \u001b[32m━━━━━━━━━━━━━━━━━━━━\u001b[0m\u001b[37m\u001b[0m \u001b[1m53s\u001b[0m 45ms/step - accuracy: 0.8358 - loss: 0.5570 - val_accuracy: 0.8978 - val_loss: 0.3589\n",
      "Epoch 3/6\n",
      "\u001b[1m1177/1177\u001b[0m \u001b[32m━━━━━━━━━━━━━━━━━━━━\u001b[0m\u001b[37m\u001b[0m \u001b[1m53s\u001b[0m 45ms/step - accuracy: 0.8915 - loss: 0.3360 - val_accuracy: 0.9056 - val_loss: 0.2912\n",
      "Epoch 4/6\n",
      "\u001b[1m1177/1177\u001b[0m \u001b[32m━━━━━━━━━━━━━━━━━━━━\u001b[0m\u001b[37m\u001b[0m \u001b[1m53s\u001b[0m 45ms/step - accuracy: 0.9120 - loss: 0.2625 - val_accuracy: 0.9403 - val_loss: 0.2220\n",
      "Epoch 5/6\n",
      "\u001b[1m1177/1177\u001b[0m \u001b[32m━━━━━━━━━━━━━━━━━━━━\u001b[0m\u001b[37m\u001b[0m \u001b[1m53s\u001b[0m 45ms/step - accuracy: 0.9248 - loss: 0.2176 - val_accuracy: 0.9408 - val_loss: 0.2103\n",
      "Epoch 6/6\n",
      "\u001b[1m1177/1177\u001b[0m \u001b[32m━━━━━━━━━━━━━━━━━━━━\u001b[0m\u001b[37m\u001b[0m \u001b[1m53s\u001b[0m 45ms/step - accuracy: 0.9322 - loss: 0.1841 - val_accuracy: 0.9476 - val_loss: 0.2019\n",
      "\u001b[1m736/736\u001b[0m \u001b[32m━━━━━━━━━━━━━━━━━━━━\u001b[0m\u001b[37m\u001b[0m \u001b[1m10s\u001b[0m 13ms/step\n",
      "[CV] END batch_size=128, epochs=6, model__dropout=0.2863661696474195, model__hidden_layer=30, model__learning_rate=0.0005532304540792943, model__lstm_units=97; total time= 5.6min\n"
     ]
    },
    {
     "name": "stderr",
     "output_type": "stream",
     "text": [
      "/home/jinesh-subedi/htdocs/thesis/thesisStudy/lib/python3.12/site-packages/keras/src/layers/rnn/bidirectional.py:107: UserWarning: Do not pass an `input_shape`/`input_dim` argument to a layer. When using Sequential models, prefer using an `Input(shape)` object as the first layer in the model instead.\n",
      "  super().__init__(**kwargs)\n"
     ]
    },
    {
     "name": "stdout",
     "output_type": "stream",
     "text": [
      "Epoch 1/6\n",
      "\u001b[1m1177/1177\u001b[0m \u001b[32m━━━━━━━━━━━━━━━━━━━━\u001b[0m\u001b[37m\u001b[0m \u001b[1m57s\u001b[0m 46ms/step - accuracy: 0.5990 - loss: 1.1578 - val_accuracy: 0.8328 - val_loss: 0.5246\n",
      "Epoch 2/6\n",
      "\u001b[1m1177/1177\u001b[0m \u001b[32m━━━━━━━━━━━━━━━━━━━━\u001b[0m\u001b[37m\u001b[0m \u001b[1m53s\u001b[0m 45ms/step - accuracy: 0.8348 - loss: 0.5142 - val_accuracy: 0.8954 - val_loss: 0.3648\n",
      "Epoch 3/6\n",
      "\u001b[1m1177/1177\u001b[0m \u001b[32m━━━━━━━━━━━━━━━━━━━━\u001b[0m\u001b[37m\u001b[0m \u001b[1m53s\u001b[0m 45ms/step - accuracy: 0.8850 - loss: 0.3323 - val_accuracy: 0.9126 - val_loss: 0.2885\n",
      "Epoch 4/6\n",
      "\u001b[1m1177/1177\u001b[0m \u001b[32m━━━━━━━━━━━━━━━━━━━━\u001b[0m\u001b[37m\u001b[0m \u001b[1m53s\u001b[0m 45ms/step - accuracy: 0.9036 - loss: 0.2731 - val_accuracy: 0.9274 - val_loss: 0.2434\n",
      "Epoch 5/6\n",
      "\u001b[1m1177/1177\u001b[0m \u001b[32m━━━━━━━━━━━━━━━━━━━━\u001b[0m\u001b[37m\u001b[0m \u001b[1m53s\u001b[0m 45ms/step - accuracy: 0.9140 - loss: 0.2332 - val_accuracy: 0.9100 - val_loss: 0.2799\n",
      "Epoch 6/6\n",
      "\u001b[1m1177/1177\u001b[0m \u001b[32m━━━━━━━━━━━━━━━━━━━━\u001b[0m\u001b[37m\u001b[0m \u001b[1m53s\u001b[0m 45ms/step - accuracy: 0.9236 - loss: 0.1958 - val_accuracy: 0.9483 - val_loss: 0.1945\n",
      "\u001b[1m736/736\u001b[0m \u001b[32m━━━━━━━━━━━━━━━━━━━━\u001b[0m\u001b[37m\u001b[0m \u001b[1m10s\u001b[0m 13ms/step\n",
      "[CV] END batch_size=128, epochs=6, model__dropout=0.2863661696474195, model__hidden_layer=30, model__learning_rate=0.0005532304540792943, model__lstm_units=97; total time= 5.6min\n",
      "Fitting 3 folds for each of 1 candidates, totalling 3 fits\n"
     ]
    },
    {
     "name": "stderr",
     "output_type": "stream",
     "text": [
      "/home/jinesh-subedi/htdocs/thesis/thesisStudy/lib/python3.12/site-packages/keras/src/layers/rnn/bidirectional.py:107: UserWarning: Do not pass an `input_shape`/`input_dim` argument to a layer. When using Sequential models, prefer using an `Input(shape)` object as the first layer in the model instead.\n",
      "  super().__init__(**kwargs)\n"
     ]
    },
    {
     "name": "stdout",
     "output_type": "stream",
     "text": [
      "Epoch 1/9\n",
      "\u001b[1m2353/2353\u001b[0m \u001b[32m━━━━━━━━━━━━━━━━━━━━\u001b[0m\u001b[37m\u001b[0m \u001b[1m90s\u001b[0m 37ms/step - accuracy: 0.6027 - loss: 1.2016 - val_accuracy: 0.8854 - val_loss: 0.4267\n",
      "Epoch 2/9\n",
      "\u001b[1m2353/2353\u001b[0m \u001b[32m━━━━━━━━━━━━━━━━━━━━\u001b[0m\u001b[37m\u001b[0m \u001b[1m87s\u001b[0m 37ms/step - accuracy: 0.8706 - loss: 0.4946 - val_accuracy: 0.8867 - val_loss: 0.3423\n",
      "Epoch 3/9\n",
      "\u001b[1m2353/2353\u001b[0m \u001b[32m━━━━━━━━━━━━━━━━━━━━\u001b[0m\u001b[37m\u001b[0m \u001b[1m87s\u001b[0m 37ms/step - accuracy: 0.8944 - loss: 0.3581 - val_accuracy: 0.9137 - val_loss: 0.3002\n",
      "Epoch 4/9\n",
      "\u001b[1m2353/2353\u001b[0m \u001b[32m━━━━━━━━━━━━━━━━━━━━\u001b[0m\u001b[37m\u001b[0m \u001b[1m87s\u001b[0m 37ms/step - accuracy: 0.9100 - loss: 0.3015 - val_accuracy: 0.9402 - val_loss: 0.2232\n",
      "Epoch 5/9\n",
      "\u001b[1m2353/2353\u001b[0m \u001b[32m━━━━━━━━━━━━━━━━━━━━\u001b[0m\u001b[37m\u001b[0m \u001b[1m87s\u001b[0m 37ms/step - accuracy: 0.9158 - loss: 0.2780 - val_accuracy: 0.9319 - val_loss: 0.2285\n",
      "Epoch 6/9\n",
      "\u001b[1m2353/2353\u001b[0m \u001b[32m━━━━━━━━━━━━━━━━━━━━\u001b[0m\u001b[37m\u001b[0m \u001b[1m87s\u001b[0m 37ms/step - accuracy: 0.9203 - loss: 0.2693 - val_accuracy: 0.9417 - val_loss: 0.2030\n",
      "Epoch 7/9\n",
      "\u001b[1m2353/2353\u001b[0m \u001b[32m━━━━━━━━━━━━━━━━━━━━\u001b[0m\u001b[37m\u001b[0m \u001b[1m87s\u001b[0m 37ms/step - accuracy: 0.9238 - loss: 0.2675 - val_accuracy: 0.9395 - val_loss: 0.1939\n",
      "Epoch 8/9\n",
      "\u001b[1m2353/2353\u001b[0m \u001b[32m━━━━━━━━━━━━━━━━━━━━\u001b[0m\u001b[37m\u001b[0m \u001b[1m87s\u001b[0m 37ms/step - accuracy: 0.9247 - loss: 0.2725 - val_accuracy: 0.9361 - val_loss: 0.2002\n",
      "Epoch 9/9\n",
      "\u001b[1m2353/2353\u001b[0m \u001b[32m━━━━━━━━━━━━━━━━━━━━\u001b[0m\u001b[37m\u001b[0m \u001b[1m87s\u001b[0m 37ms/step - accuracy: 0.9273 - loss: 0.2634 - val_accuracy: 0.9437 - val_loss: 0.2153\n",
      "\u001b[1m1471/1471\u001b[0m \u001b[32m━━━━━━━━━━━━━━━━━━━━\u001b[0m\u001b[37m\u001b[0m \u001b[1m15s\u001b[0m 10ms/step\n",
      "[CV] END batch_size=64, epochs=9, model__dropout=0.309655881873212, model__hidden_layer=30, model__learning_rate=0.0011405544845092144, model__lstm_units=81; total time=13.4min\n"
     ]
    },
    {
     "name": "stderr",
     "output_type": "stream",
     "text": [
      "/home/jinesh-subedi/htdocs/thesis/thesisStudy/lib/python3.12/site-packages/keras/src/layers/rnn/bidirectional.py:107: UserWarning: Do not pass an `input_shape`/`input_dim` argument to a layer. When using Sequential models, prefer using an `Input(shape)` object as the first layer in the model instead.\n",
      "  super().__init__(**kwargs)\n"
     ]
    },
    {
     "name": "stdout",
     "output_type": "stream",
     "text": [
      "Epoch 1/9\n",
      "\u001b[1m2353/2353\u001b[0m \u001b[32m━━━━━━━━━━━━━━━━━━━━\u001b[0m\u001b[37m\u001b[0m \u001b[1m91s\u001b[0m 37ms/step - accuracy: 0.5490 - loss: 1.2996 - val_accuracy: 0.8538 - val_loss: 0.4557\n",
      "Epoch 2/9\n",
      "\u001b[1m2353/2353\u001b[0m \u001b[32m━━━━━━━━━━━━━━━━━━━━\u001b[0m\u001b[37m\u001b[0m \u001b[1m87s\u001b[0m 37ms/step - accuracy: 0.8622 - loss: 0.5310 - val_accuracy: 0.8796 - val_loss: 0.3604\n",
      "Epoch 3/9\n",
      "\u001b[1m2353/2353\u001b[0m \u001b[32m━━━━━━━━━━━━━━━━━━━━\u001b[0m\u001b[37m\u001b[0m \u001b[1m87s\u001b[0m 37ms/step - accuracy: 0.8909 - loss: 0.3846 - val_accuracy: 0.9259 - val_loss: 0.2665\n",
      "Epoch 4/9\n",
      "\u001b[1m2353/2353\u001b[0m \u001b[32m━━━━━━━━━━━━━━━━━━━━\u001b[0m\u001b[37m\u001b[0m \u001b[1m87s\u001b[0m 37ms/step - accuracy: 0.9055 - loss: 0.3039 - val_accuracy: 0.9171 - val_loss: 0.2528\n",
      "Epoch 5/9\n",
      "\u001b[1m2353/2353\u001b[0m \u001b[32m━━━━━━━━━━━━━━━━━━━━\u001b[0m\u001b[37m\u001b[0m \u001b[1m87s\u001b[0m 37ms/step - accuracy: 0.9132 - loss: 0.2693 - val_accuracy: 0.9346 - val_loss: 0.2096\n",
      "Epoch 6/9\n",
      "\u001b[1m2353/2353\u001b[0m \u001b[32m━━━━━━━━━━━━━━━━━━━━\u001b[0m\u001b[37m\u001b[0m \u001b[1m87s\u001b[0m 37ms/step - accuracy: 0.9216 - loss: 0.2579 - val_accuracy: 0.9589 - val_loss: 0.1600\n",
      "Epoch 7/9\n",
      "\u001b[1m2353/2353\u001b[0m \u001b[32m━━━━━━━━━━━━━━━━━━━━\u001b[0m\u001b[37m\u001b[0m \u001b[1m87s\u001b[0m 37ms/step - accuracy: 0.9268 - loss: 0.2512 - val_accuracy: 0.9331 - val_loss: 0.2343\n",
      "Epoch 8/9\n",
      "\u001b[1m2353/2353\u001b[0m \u001b[32m━━━━━━━━━━━━━━━━━━━━\u001b[0m\u001b[37m\u001b[0m \u001b[1m87s\u001b[0m 37ms/step - accuracy: 0.9224 - loss: 0.2757 - val_accuracy: 0.9453 - val_loss: 0.1899\n",
      "Epoch 9/9\n",
      "\u001b[1m2353/2353\u001b[0m \u001b[32m━━━━━━━━━━━━━━━━━━━━\u001b[0m\u001b[37m\u001b[0m \u001b[1m87s\u001b[0m 37ms/step - accuracy: 0.9283 - loss: 0.2426 - val_accuracy: 0.9501 - val_loss: 0.1927\n",
      "\u001b[1m1471/1471\u001b[0m \u001b[32m━━━━━━━━━━━━━━━━━━━━\u001b[0m\u001b[37m\u001b[0m \u001b[1m16s\u001b[0m 11ms/step\n",
      "[CV] END batch_size=64, epochs=9, model__dropout=0.309655881873212, model__hidden_layer=30, model__learning_rate=0.0011405544845092144, model__lstm_units=81; total time=13.4min\n"
     ]
    },
    {
     "name": "stderr",
     "output_type": "stream",
     "text": [
      "/home/jinesh-subedi/htdocs/thesis/thesisStudy/lib/python3.12/site-packages/keras/src/layers/rnn/bidirectional.py:107: UserWarning: Do not pass an `input_shape`/`input_dim` argument to a layer. When using Sequential models, prefer using an `Input(shape)` object as the first layer in the model instead.\n",
      "  super().__init__(**kwargs)\n"
     ]
    },
    {
     "name": "stdout",
     "output_type": "stream",
     "text": [
      "Epoch 1/9\n",
      "\u001b[1m2353/2353\u001b[0m \u001b[32m━━━━━━━━━━━━━━━━━━━━\u001b[0m\u001b[37m\u001b[0m \u001b[1m91s\u001b[0m 37ms/step - accuracy: 0.5955 - loss: 1.2202 - val_accuracy: 0.8753 - val_loss: 0.3985\n",
      "Epoch 2/9\n",
      "\u001b[1m2353/2353\u001b[0m \u001b[32m━━━━━━━━━━━━━━━━━━━━\u001b[0m\u001b[37m\u001b[0m \u001b[1m87s\u001b[0m 37ms/step - accuracy: 0.8672 - loss: 0.5191 - val_accuracy: 0.8911 - val_loss: 0.3281\n",
      "Epoch 3/9\n",
      "\u001b[1m2353/2353\u001b[0m \u001b[32m━━━━━━━━━━━━━━━━━━━━\u001b[0m\u001b[37m\u001b[0m \u001b[1m87s\u001b[0m 37ms/step - accuracy: 0.8958 - loss: 0.3756 - val_accuracy: 0.9364 - val_loss: 0.2358\n",
      "Epoch 4/9\n",
      "\u001b[1m2353/2353\u001b[0m \u001b[32m━━━━━━━━━━━━━━━━━━━━\u001b[0m\u001b[37m\u001b[0m \u001b[1m87s\u001b[0m 37ms/step - accuracy: 0.9067 - loss: 0.3074 - val_accuracy: 0.9386 - val_loss: 0.2220\n",
      "Epoch 5/9\n",
      "\u001b[1m2353/2353\u001b[0m \u001b[32m━━━━━━━━━━━━━━━━━━━━\u001b[0m\u001b[37m\u001b[0m \u001b[1m87s\u001b[0m 37ms/step - accuracy: 0.9137 - loss: 0.2905 - val_accuracy: 0.9321 - val_loss: 0.2274\n",
      "Epoch 6/9\n",
      "\u001b[1m2353/2353\u001b[0m \u001b[32m━━━━━━━━━━━━━━━━━━━━\u001b[0m\u001b[37m\u001b[0m \u001b[1m87s\u001b[0m 37ms/step - accuracy: 0.9180 - loss: 0.2869 - val_accuracy: 0.9181 - val_loss: 0.2588\n",
      "Epoch 7/9\n",
      "\u001b[1m2353/2353\u001b[0m \u001b[32m━━━━━━━━━━━━━━━━━━━━\u001b[0m\u001b[37m\u001b[0m \u001b[1m87s\u001b[0m 37ms/step - accuracy: 0.9227 - loss: 0.2768 - val_accuracy: 0.9320 - val_loss: 0.2379\n",
      "Epoch 8/9\n",
      "\u001b[1m2353/2353\u001b[0m \u001b[32m━━━━━━━━━━━━━━━━━━━━\u001b[0m\u001b[37m\u001b[0m \u001b[1m87s\u001b[0m 37ms/step - accuracy: 0.9271 - loss: 0.2659 - val_accuracy: 0.9381 - val_loss: 0.2261\n",
      "Epoch 9/9\n",
      "\u001b[1m2353/2353\u001b[0m \u001b[32m━━━━━━━━━━━━━━━━━━━━\u001b[0m\u001b[37m\u001b[0m \u001b[1m87s\u001b[0m 37ms/step - accuracy: 0.9291 - loss: 0.2484 - val_accuracy: 0.9376 - val_loss: 0.1945\n",
      "\u001b[1m1471/1471\u001b[0m \u001b[32m━━━━━━━━━━━━━━━━━━━━\u001b[0m\u001b[37m\u001b[0m \u001b[1m15s\u001b[0m 10ms/step\n",
      "[CV] END batch_size=64, epochs=9, model__dropout=0.309655881873212, model__hidden_layer=30, model__learning_rate=0.0011405544845092144, model__lstm_units=81; total time=13.4min\n",
      "Fitting 3 folds for each of 1 candidates, totalling 3 fits\n"
     ]
    },
    {
     "name": "stderr",
     "output_type": "stream",
     "text": [
      "/home/jinesh-subedi/htdocs/thesis/thesisStudy/lib/python3.12/site-packages/keras/src/layers/rnn/bidirectional.py:107: UserWarning: Do not pass an `input_shape`/`input_dim` argument to a layer. When using Sequential models, prefer using an `Input(shape)` object as the first layer in the model instead.\n",
      "  super().__init__(**kwargs)\n"
     ]
    },
    {
     "name": "stdout",
     "output_type": "stream",
     "text": [
      "Epoch 1/9\n",
      "\u001b[1m1177/1177\u001b[0m \u001b[32m━━━━━━━━━━━━━━━━━━━━\u001b[0m\u001b[37m\u001b[0m \u001b[1m58s\u001b[0m 46ms/step - accuracy: 0.0566 - loss: 2.1762 - val_accuracy: 0.0461 - val_loss: 2.1624\n",
      "Epoch 2/9\n",
      "\u001b[1m1177/1177\u001b[0m \u001b[32m━━━━━━━━━━━━━━━━━━━━\u001b[0m\u001b[37m\u001b[0m \u001b[1m54s\u001b[0m 45ms/step - accuracy: 0.1380 - loss: 2.1731 - val_accuracy: 0.0447 - val_loss: 2.2024\n",
      "Epoch 3/9\n",
      "\u001b[1m1177/1177\u001b[0m \u001b[32m━━━━━━━━━━━━━━━━━━━━\u001b[0m\u001b[37m\u001b[0m \u001b[1m54s\u001b[0m 45ms/step - accuracy: 0.1073 - loss: 2.1731 - val_accuracy: 0.0445 - val_loss: 2.1978\n",
      "Epoch 4/9\n",
      "\u001b[1m1177/1177\u001b[0m \u001b[32m━━━━━━━━━━━━━━━━━━━━\u001b[0m\u001b[37m\u001b[0m \u001b[1m53s\u001b[0m 45ms/step - accuracy: 0.0921 - loss: 2.1727 - val_accuracy: 0.0447 - val_loss: 2.1942\n",
      "Epoch 5/9\n",
      "\u001b[1m1177/1177\u001b[0m \u001b[32m━━━━━━━━━━━━━━━━━━━━\u001b[0m\u001b[37m\u001b[0m \u001b[1m54s\u001b[0m 46ms/step - accuracy: 0.1061 - loss: 2.1730 - val_accuracy: 0.0469 - val_loss: 2.1838\n",
      "Epoch 6/9\n",
      "\u001b[1m1177/1177\u001b[0m \u001b[32m━━━━━━━━━━━━━━━━━━━━\u001b[0m\u001b[37m\u001b[0m \u001b[1m53s\u001b[0m 45ms/step - accuracy: 0.0724 - loss: 2.1728 - val_accuracy: 0.6773 - val_loss: 2.1526\n",
      "Epoch 7/9\n",
      "\u001b[1m1177/1177\u001b[0m \u001b[32m━━━━━━━━━━━━━━━━━━━━\u001b[0m\u001b[37m\u001b[0m \u001b[1m54s\u001b[0m 45ms/step - accuracy: 0.0952 - loss: 2.1729 - val_accuracy: 0.0445 - val_loss: 2.1920\n",
      "Epoch 8/9\n",
      "\u001b[1m1177/1177\u001b[0m \u001b[32m━━━━━━━━━━━━━━━━━━━━\u001b[0m\u001b[37m\u001b[0m \u001b[1m54s\u001b[0m 45ms/step - accuracy: 0.1144 - loss: 2.1731 - val_accuracy: 0.0469 - val_loss: 2.1996\n",
      "Epoch 9/9\n",
      "\u001b[1m1177/1177\u001b[0m \u001b[32m━━━━━━━━━━━━━━━━━━━━\u001b[0m\u001b[37m\u001b[0m \u001b[1m54s\u001b[0m 45ms/step - accuracy: 0.1236 - loss: 2.1732 - val_accuracy: 0.0447 - val_loss: 2.1898\n",
      "\u001b[1m736/736\u001b[0m \u001b[32m━━━━━━━━━━━━━━━━━━━━\u001b[0m\u001b[37m\u001b[0m \u001b[1m10s\u001b[0m 13ms/step\n",
      "[CV] END batch_size=128, epochs=9, model__dropout=0.27530985915190886, model__hidden_layer=26, model__learning_rate=0.009368246332246071, model__lstm_units=99; total time= 8.3min\n"
     ]
    },
    {
     "name": "stderr",
     "output_type": "stream",
     "text": [
      "/home/jinesh-subedi/htdocs/thesis/thesisStudy/lib/python3.12/site-packages/keras/src/layers/rnn/bidirectional.py:107: UserWarning: Do not pass an `input_shape`/`input_dim` argument to a layer. When using Sequential models, prefer using an `Input(shape)` object as the first layer in the model instead.\n",
      "  super().__init__(**kwargs)\n"
     ]
    },
    {
     "name": "stdout",
     "output_type": "stream",
     "text": [
      "Epoch 1/9\n",
      "\u001b[1m1177/1177\u001b[0m \u001b[32m━━━━━━━━━━━━━━━━━━━━\u001b[0m\u001b[37m\u001b[0m \u001b[1m58s\u001b[0m 46ms/step - accuracy: 0.0955 - loss: 2.1802 - val_accuracy: 0.0457 - val_loss: 2.1867\n",
      "Epoch 2/9\n",
      "\u001b[1m1177/1177\u001b[0m \u001b[32m━━━━━━━━━━━━━━━━━━━━\u001b[0m\u001b[37m\u001b[0m \u001b[1m54s\u001b[0m 46ms/step - accuracy: 0.0611 - loss: 2.1814 - val_accuracy: 0.0466 - val_loss: 2.1938\n",
      "Epoch 3/9\n",
      "\u001b[1m1177/1177\u001b[0m \u001b[32m━━━━━━━━━━━━━━━━━━━━\u001b[0m\u001b[37m\u001b[0m \u001b[1m54s\u001b[0m 46ms/step - accuracy: 0.0670 - loss: 2.1786 - val_accuracy: 0.0453 - val_loss: 2.1894\n",
      "Epoch 4/9\n",
      "\u001b[1m1177/1177\u001b[0m \u001b[32m━━━━━━━━━━━━━━━━━━━━\u001b[0m\u001b[37m\u001b[0m \u001b[1m54s\u001b[0m 46ms/step - accuracy: 0.0605 - loss: 2.1782 - val_accuracy: 0.0027 - val_loss: 2.1977\n",
      "Epoch 5/9\n",
      "\u001b[1m1177/1177\u001b[0m \u001b[32m━━━━━━━━━━━━━━━━━━━━\u001b[0m\u001b[37m\u001b[0m \u001b[1m54s\u001b[0m 46ms/step - accuracy: 0.0773 - loss: 2.1783 - val_accuracy: 0.0453 - val_loss: 2.1865\n",
      "Epoch 6/9\n",
      "\u001b[1m1177/1177\u001b[0m \u001b[32m━━━━━━━━━━━━━━━━━━━━\u001b[0m\u001b[37m\u001b[0m \u001b[1m54s\u001b[0m 46ms/step - accuracy: 0.0513 - loss: 2.1789 - val_accuracy: 0.0457 - val_loss: 2.1875\n",
      "Epoch 7/9\n",
      "\u001b[1m1177/1177\u001b[0m \u001b[32m━━━━━━━━━━━━━━━━━━━━\u001b[0m\u001b[37m\u001b[0m \u001b[1m54s\u001b[0m 46ms/step - accuracy: 0.0940 - loss: 2.1787 - val_accuracy: 0.0457 - val_loss: 2.1846\n",
      "Epoch 8/9\n",
      "\u001b[1m1177/1177\u001b[0m \u001b[32m━━━━━━━━━━━━━━━━━━━━\u001b[0m\u001b[37m\u001b[0m \u001b[1m54s\u001b[0m 46ms/step - accuracy: 0.0510 - loss: 2.1789 - val_accuracy: 0.0455 - val_loss: 2.1896\n",
      "Epoch 9/9\n",
      "\u001b[1m1177/1177\u001b[0m \u001b[32m━━━━━━━━━━━━━━━━━━━━\u001b[0m\u001b[37m\u001b[0m \u001b[1m54s\u001b[0m 46ms/step - accuracy: 0.0459 - loss: 2.1783 - val_accuracy: 0.0453 - val_loss: 2.1626\n",
      "\u001b[1m736/736\u001b[0m \u001b[32m━━━━━━━━━━━━━━━━━━━━\u001b[0m\u001b[37m\u001b[0m \u001b[1m10s\u001b[0m 13ms/step\n",
      "[CV] END batch_size=128, epochs=9, model__dropout=0.27530985915190886, model__hidden_layer=26, model__learning_rate=0.009368246332246071, model__lstm_units=99; total time= 8.3min\n"
     ]
    },
    {
     "name": "stderr",
     "output_type": "stream",
     "text": [
      "/home/jinesh-subedi/htdocs/thesis/thesisStudy/lib/python3.12/site-packages/keras/src/layers/rnn/bidirectional.py:107: UserWarning: Do not pass an `input_shape`/`input_dim` argument to a layer. When using Sequential models, prefer using an `Input(shape)` object as the first layer in the model instead.\n",
      "  super().__init__(**kwargs)\n"
     ]
    },
    {
     "name": "stdout",
     "output_type": "stream",
     "text": [
      "Epoch 1/9\n",
      "\u001b[1m1177/1177\u001b[0m \u001b[32m━━━━━━━━━━━━━━━━━━━━\u001b[0m\u001b[37m\u001b[0m \u001b[1m58s\u001b[0m 46ms/step - accuracy: 0.0688 - loss: 2.1802 - val_accuracy: 0.0470 - val_loss: 2.1849\n",
      "Epoch 2/9\n",
      "\u001b[1m1177/1177\u001b[0m \u001b[32m━━━━━━━━━━━━━━━━━━━━\u001b[0m\u001b[37m\u001b[0m \u001b[1m54s\u001b[0m 46ms/step - accuracy: 0.0720 - loss: 2.1775 - val_accuracy: 0.0459 - val_loss: 2.1993\n",
      "Epoch 3/9\n",
      "\u001b[1m1177/1177\u001b[0m \u001b[32m━━━━━━━━━━━━━━━━━━━━\u001b[0m\u001b[37m\u001b[0m \u001b[1m54s\u001b[0m 46ms/step - accuracy: 0.0567 - loss: 2.1773 - val_accuracy: 0.0461 - val_loss: 2.2009\n",
      "Epoch 4/9\n",
      "\u001b[1m1177/1177\u001b[0m \u001b[32m━━━━━━━━━━━━━━━━━━━━\u001b[0m\u001b[37m\u001b[0m \u001b[1m54s\u001b[0m 46ms/step - accuracy: 0.0801 - loss: 2.1777 - val_accuracy: 0.6770 - val_loss: 2.1534\n",
      "Epoch 5/9\n",
      "\u001b[1m1177/1177\u001b[0m \u001b[32m━━━━━━━━━━━━━━━━━━━━\u001b[0m\u001b[37m\u001b[0m \u001b[1m54s\u001b[0m 46ms/step - accuracy: 0.0925 - loss: 2.1771 - val_accuracy: 0.0444 - val_loss: 2.1869\n",
      "Epoch 6/9\n",
      "\u001b[1m1177/1177\u001b[0m \u001b[32m━━━━━━━━━━━━━━━━━━━━\u001b[0m\u001b[37m\u001b[0m \u001b[1m54s\u001b[0m 45ms/step - accuracy: 0.0856 - loss: 2.1777 - val_accuracy: 0.0444 - val_loss: 2.2300\n",
      "Epoch 7/9\n",
      "\u001b[1m1177/1177\u001b[0m \u001b[32m━━━━━━━━━━━━━━━━━━━━\u001b[0m\u001b[37m\u001b[0m \u001b[1m54s\u001b[0m 45ms/step - accuracy: 0.0529 - loss: 2.1763 - val_accuracy: 0.0027 - val_loss: 2.2058\n",
      "Epoch 8/9\n",
      "\u001b[1m1177/1177\u001b[0m \u001b[32m━━━━━━━━━━━━━━━━━━━━\u001b[0m\u001b[37m\u001b[0m \u001b[1m54s\u001b[0m 45ms/step - accuracy: 0.0927 - loss: 2.1769 - val_accuracy: 0.0458 - val_loss: 2.1643\n",
      "Epoch 9/9\n",
      "\u001b[1m1177/1177\u001b[0m \u001b[32m━━━━━━━━━━━━━━━━━━━━\u001b[0m\u001b[37m\u001b[0m \u001b[1m54s\u001b[0m 46ms/step - accuracy: 0.1013 - loss: 2.1774 - val_accuracy: 0.0468 - val_loss: 2.1924\n",
      "\u001b[1m736/736\u001b[0m \u001b[32m━━━━━━━━━━━━━━━━━━━━\u001b[0m\u001b[37m\u001b[0m \u001b[1m10s\u001b[0m 13ms/step\n",
      "[CV] END batch_size=128, epochs=9, model__dropout=0.27530985915190886, model__hidden_layer=26, model__learning_rate=0.009368246332246071, model__lstm_units=99; total time= 8.3min\n",
      "Fitting 3 folds for each of 1 candidates, totalling 3 fits\n"
     ]
    },
    {
     "name": "stderr",
     "output_type": "stream",
     "text": [
      "/home/jinesh-subedi/htdocs/thesis/thesisStudy/lib/python3.12/site-packages/keras/src/layers/rnn/bidirectional.py:107: UserWarning: Do not pass an `input_shape`/`input_dim` argument to a layer. When using Sequential models, prefer using an `Input(shape)` object as the first layer in the model instead.\n",
      "  super().__init__(**kwargs)\n"
     ]
    },
    {
     "name": "stdout",
     "output_type": "stream",
     "text": [
      "Epoch 1/10\n",
      "\u001b[1m1177/1177\u001b[0m \u001b[32m━━━━━━━━━━━━━━━━━━━━\u001b[0m\u001b[37m\u001b[0m \u001b[1m60s\u001b[0m 48ms/step - accuracy: 0.6009 - loss: 1.1356 - val_accuracy: 0.8569 - val_loss: 0.4940\n",
      "Epoch 2/10\n",
      "\u001b[1m1177/1177\u001b[0m \u001b[32m━━━━━━━━━━━━━━━━━━━━\u001b[0m\u001b[37m\u001b[0m \u001b[1m56s\u001b[0m 47ms/step - accuracy: 0.8661 - loss: 0.4571 - val_accuracy: 0.8853 - val_loss: 0.3410\n",
      "Epoch 3/10\n",
      "\u001b[1m1177/1177\u001b[0m \u001b[32m━━━━━━━━━━━━━━━━━━━━\u001b[0m\u001b[37m\u001b[0m \u001b[1m56s\u001b[0m 47ms/step - accuracy: 0.8965 - loss: 0.3211 - val_accuracy: 0.9364 - val_loss: 0.2289\n",
      "Epoch 4/10\n",
      "\u001b[1m1177/1177\u001b[0m \u001b[32m━━━━━━━━━━━━━━━━━━━━\u001b[0m\u001b[37m\u001b[0m \u001b[1m56s\u001b[0m 47ms/step - accuracy: 0.9058 - loss: 0.2736 - val_accuracy: 0.9287 - val_loss: 0.2455\n",
      "Epoch 5/10\n",
      "\u001b[1m1177/1177\u001b[0m \u001b[32m━━━━━━━━━━━━━━━━━━━━\u001b[0m\u001b[37m\u001b[0m \u001b[1m56s\u001b[0m 47ms/step - accuracy: 0.9125 - loss: 0.2565 - val_accuracy: 0.9498 - val_loss: 0.1841\n",
      "Epoch 6/10\n",
      "\u001b[1m1177/1177\u001b[0m \u001b[32m━━━━━━━━━━━━━━━━━━━━\u001b[0m\u001b[37m\u001b[0m \u001b[1m56s\u001b[0m 47ms/step - accuracy: 0.9215 - loss: 0.2373 - val_accuracy: 0.9297 - val_loss: 0.2114\n",
      "Epoch 7/10\n",
      "\u001b[1m1177/1177\u001b[0m \u001b[32m━━━━━━━━━━━━━━━━━━━━\u001b[0m\u001b[37m\u001b[0m \u001b[1m56s\u001b[0m 47ms/step - accuracy: 0.9250 - loss: 0.2244 - val_accuracy: 0.9559 - val_loss: 0.1805\n",
      "Epoch 8/10\n",
      "\u001b[1m1177/1177\u001b[0m \u001b[32m━━━━━━━━━━━━━━━━━━━━\u001b[0m\u001b[37m\u001b[0m \u001b[1m56s\u001b[0m 47ms/step - accuracy: 0.9272 - loss: 0.2297 - val_accuracy: 0.9605 - val_loss: 0.1530\n",
      "Epoch 9/10\n",
      "\u001b[1m1177/1177\u001b[0m \u001b[32m━━━━━━━━━━━━━━━━━━━━\u001b[0m\u001b[37m\u001b[0m \u001b[1m56s\u001b[0m 47ms/step - accuracy: 0.9303 - loss: 0.2234 - val_accuracy: 0.9475 - val_loss: 0.1873\n",
      "Epoch 10/10\n",
      "\u001b[1m1177/1177\u001b[0m \u001b[32m━━━━━━━━━━━━━━━━━━━━\u001b[0m\u001b[37m\u001b[0m \u001b[1m56s\u001b[0m 47ms/step - accuracy: 0.9325 - loss: 0.2131 - val_accuracy: 0.9544 - val_loss: 0.1706\n",
      "\u001b[1m736/736\u001b[0m \u001b[32m━━━━━━━━━━━━━━━━━━━━\u001b[0m\u001b[37m\u001b[0m \u001b[1m11s\u001b[0m 14ms/step\n",
      "[CV] END batch_size=128, epochs=10, model__dropout=0.33424598536944505, model__hidden_layer=28, model__learning_rate=0.0010705587998148878, model__lstm_units=109; total time= 9.6min\n"
     ]
    },
    {
     "name": "stderr",
     "output_type": "stream",
     "text": [
      "/home/jinesh-subedi/htdocs/thesis/thesisStudy/lib/python3.12/site-packages/keras/src/layers/rnn/bidirectional.py:107: UserWarning: Do not pass an `input_shape`/`input_dim` argument to a layer. When using Sequential models, prefer using an `Input(shape)` object as the first layer in the model instead.\n",
      "  super().__init__(**kwargs)\n"
     ]
    },
    {
     "name": "stdout",
     "output_type": "stream",
     "text": [
      "Epoch 1/10\n",
      "\u001b[1m1177/1177\u001b[0m \u001b[32m━━━━━━━━━━━━━━━━━━━━\u001b[0m\u001b[37m\u001b[0m \u001b[1m61s\u001b[0m 48ms/step - accuracy: 0.6255 - loss: 1.1454 - val_accuracy: 0.8705 - val_loss: 0.4805\n",
      "Epoch 2/10\n",
      "\u001b[1m1177/1177\u001b[0m \u001b[32m━━━━━━━━━━━━━━━━━━━━\u001b[0m\u001b[37m\u001b[0m \u001b[1m56s\u001b[0m 48ms/step - accuracy: 0.8594 - loss: 0.5000 - val_accuracy: 0.9030 - val_loss: 0.3319\n",
      "Epoch 3/10\n",
      "\u001b[1m1177/1177\u001b[0m \u001b[32m━━━━━━━━━━━━━━━━━━━━\u001b[0m\u001b[37m\u001b[0m \u001b[1m56s\u001b[0m 48ms/step - accuracy: 0.8924 - loss: 0.3435 - val_accuracy: 0.9010 - val_loss: 0.3114\n",
      "Epoch 4/10\n",
      "\u001b[1m1177/1177\u001b[0m \u001b[32m━━━━━━━━━━━━━━━━━━━━\u001b[0m\u001b[37m\u001b[0m \u001b[1m56s\u001b[0m 48ms/step - accuracy: 0.9053 - loss: 0.2899 - val_accuracy: 0.9378 - val_loss: 0.2246\n",
      "Epoch 5/10\n",
      "\u001b[1m1177/1177\u001b[0m \u001b[32m━━━━━━━━━━━━━━━━━━━━\u001b[0m\u001b[37m\u001b[0m \u001b[1m56s\u001b[0m 48ms/step - accuracy: 0.9172 - loss: 0.2631 - val_accuracy: 0.9277 - val_loss: 0.2208\n",
      "Epoch 6/10\n",
      "\u001b[1m1177/1177\u001b[0m \u001b[32m━━━━━━━━━━━━━━━━━━━━\u001b[0m\u001b[37m\u001b[0m \u001b[1m56s\u001b[0m 48ms/step - accuracy: 0.9218 - loss: 0.2552 - val_accuracy: 0.9536 - val_loss: 0.1790\n",
      "Epoch 7/10\n",
      "\u001b[1m1177/1177\u001b[0m \u001b[32m━━━━━━━━━━━━━━━━━━━━\u001b[0m\u001b[37m\u001b[0m \u001b[1m56s\u001b[0m 48ms/step - accuracy: 0.9299 - loss: 0.2147 - val_accuracy: 0.9399 - val_loss: 0.2007\n",
      "Epoch 8/10\n",
      "\u001b[1m1177/1177\u001b[0m \u001b[32m━━━━━━━━━━━━━━━━━━━━\u001b[0m\u001b[37m\u001b[0m \u001b[1m56s\u001b[0m 48ms/step - accuracy: 0.9330 - loss: 0.2147 - val_accuracy: 0.9516 - val_loss: 0.1793\n",
      "Epoch 9/10\n",
      "\u001b[1m1177/1177\u001b[0m \u001b[32m━━━━━━━━━━━━━━━━━━━━\u001b[0m\u001b[37m\u001b[0m \u001b[1m56s\u001b[0m 48ms/step - accuracy: 0.9368 - loss: 0.1998 - val_accuracy: 0.9254 - val_loss: 0.2424\n",
      "Epoch 10/10\n",
      "\u001b[1m1177/1177\u001b[0m \u001b[32m━━━━━━━━━━━━━━━━━━━━\u001b[0m\u001b[37m\u001b[0m \u001b[1m56s\u001b[0m 48ms/step - accuracy: 0.9392 - loss: 0.1975 - val_accuracy: 0.9595 - val_loss: 0.1589\n",
      "\u001b[1m736/736\u001b[0m \u001b[32m━━━━━━━━━━━━━━━━━━━━\u001b[0m\u001b[37m\u001b[0m \u001b[1m11s\u001b[0m 14ms/step\n",
      "[CV] END batch_size=128, epochs=10, model__dropout=0.33424598536944505, model__hidden_layer=28, model__learning_rate=0.0010705587998148878, model__lstm_units=109; total time= 9.6min\n"
     ]
    },
    {
     "name": "stderr",
     "output_type": "stream",
     "text": [
      "/home/jinesh-subedi/htdocs/thesis/thesisStudy/lib/python3.12/site-packages/keras/src/layers/rnn/bidirectional.py:107: UserWarning: Do not pass an `input_shape`/`input_dim` argument to a layer. When using Sequential models, prefer using an `Input(shape)` object as the first layer in the model instead.\n",
      "  super().__init__(**kwargs)\n"
     ]
    },
    {
     "name": "stdout",
     "output_type": "stream",
     "text": [
      "Epoch 1/10\n",
      "\u001b[1m1177/1177\u001b[0m \u001b[32m━━━━━━━━━━━━━━━━━━━━\u001b[0m\u001b[37m\u001b[0m \u001b[1m60s\u001b[0m 48ms/step - accuracy: 0.6120 - loss: 1.1636 - val_accuracy: 0.8556 - val_loss: 0.4998\n",
      "Epoch 2/10\n",
      "\u001b[1m1177/1177\u001b[0m \u001b[32m━━━━━━━━━━━━━━━━━━━━\u001b[0m\u001b[37m\u001b[0m \u001b[1m56s\u001b[0m 47ms/step - accuracy: 0.8554 - loss: 0.4981 - val_accuracy: 0.9040 - val_loss: 0.3229\n",
      "Epoch 3/10\n",
      "\u001b[1m1177/1177\u001b[0m \u001b[32m━━━━━━━━━━━━━━━━━━━━\u001b[0m\u001b[37m\u001b[0m \u001b[1m56s\u001b[0m 47ms/step - accuracy: 0.8860 - loss: 0.3480 - val_accuracy: 0.9269 - val_loss: 0.2473\n",
      "Epoch 4/10\n",
      "\u001b[1m1177/1177\u001b[0m \u001b[32m━━━━━━━━━━━━━━━━━━━━\u001b[0m\u001b[37m\u001b[0m \u001b[1m56s\u001b[0m 47ms/step - accuracy: 0.9027 - loss: 0.2894 - val_accuracy: 0.9293 - val_loss: 0.2397\n",
      "Epoch 5/10\n",
      "\u001b[1m1177/1177\u001b[0m \u001b[32m━━━━━━━━━━━━━━━━━━━━\u001b[0m\u001b[37m\u001b[0m \u001b[1m56s\u001b[0m 47ms/step - accuracy: 0.9141 - loss: 0.2467 - val_accuracy: 0.9460 - val_loss: 0.2005\n",
      "Epoch 6/10\n",
      "\u001b[1m1177/1177\u001b[0m \u001b[32m━━━━━━━━━━━━━━━━━━━━\u001b[0m\u001b[37m\u001b[0m \u001b[1m56s\u001b[0m 47ms/step - accuracy: 0.9206 - loss: 0.2354 - val_accuracy: 0.9437 - val_loss: 0.2207\n",
      "Epoch 7/10\n",
      "\u001b[1m1177/1177\u001b[0m \u001b[32m━━━━━━━━━━━━━━━━━━━━\u001b[0m\u001b[37m\u001b[0m \u001b[1m56s\u001b[0m 47ms/step - accuracy: 0.9237 - loss: 0.2238 - val_accuracy: 0.9297 - val_loss: 0.2613\n",
      "Epoch 8/10\n",
      "\u001b[1m1177/1177\u001b[0m \u001b[32m━━━━━━━━━━━━━━━━━━━━\u001b[0m\u001b[37m\u001b[0m \u001b[1m56s\u001b[0m 47ms/step - accuracy: 0.9263 - loss: 0.2271 - val_accuracy: 0.9441 - val_loss: 0.2371\n",
      "Epoch 9/10\n",
      "\u001b[1m1177/1177\u001b[0m \u001b[32m━━━━━━━━━━━━━━━━━━━━\u001b[0m\u001b[37m\u001b[0m \u001b[1m56s\u001b[0m 47ms/step - accuracy: 0.9281 - loss: 0.2198 - val_accuracy: 0.9283 - val_loss: 0.2348\n",
      "Epoch 10/10\n",
      "\u001b[1m1177/1177\u001b[0m \u001b[32m━━━━━━━━━━━━━━━━━━━━\u001b[0m\u001b[37m\u001b[0m \u001b[1m56s\u001b[0m 47ms/step - accuracy: 0.9287 - loss: 0.2206 - val_accuracy: 0.9482 - val_loss: 0.1819\n",
      "\u001b[1m736/736\u001b[0m \u001b[32m━━━━━━━━━━━━━━━━━━━━\u001b[0m\u001b[37m\u001b[0m \u001b[1m11s\u001b[0m 14ms/step\n",
      "[CV] END batch_size=128, epochs=10, model__dropout=0.33424598536944505, model__hidden_layer=28, model__learning_rate=0.0010705587998148878, model__lstm_units=109; total time= 9.6min\n",
      "Fitting 3 folds for each of 1 candidates, totalling 3 fits\n"
     ]
    },
    {
     "name": "stderr",
     "output_type": "stream",
     "text": [
      "/home/jinesh-subedi/htdocs/thesis/thesisStudy/lib/python3.12/site-packages/keras/src/layers/rnn/bidirectional.py:107: UserWarning: Do not pass an `input_shape`/`input_dim` argument to a layer. When using Sequential models, prefer using an `Input(shape)` object as the first layer in the model instead.\n",
      "  super().__init__(**kwargs)\n"
     ]
    },
    {
     "name": "stdout",
     "output_type": "stream",
     "text": [
      "Epoch 1/8\n",
      "\u001b[1m2353/2353\u001b[0m \u001b[32m━━━━━━━━━━━━━━━━━━━━\u001b[0m\u001b[37m\u001b[0m \u001b[1m106s\u001b[0m 43ms/step - accuracy: 0.1444 - loss: 2.2114 - val_accuracy: 0.0469 - val_loss: 2.1164\n",
      "Epoch 2/8\n",
      "\u001b[1m2353/2353\u001b[0m \u001b[32m━━━━━━━━━━━━━━━━━━━━\u001b[0m\u001b[37m\u001b[0m \u001b[1m102s\u001b[0m 43ms/step - accuracy: 0.0917 - loss: 2.2284 - val_accuracy: 0.0447 - val_loss: 2.1605\n",
      "Epoch 3/8\n",
      "\u001b[1m2353/2353\u001b[0m \u001b[32m━━━━━━━━━━━━━━━━━━━━\u001b[0m\u001b[37m\u001b[0m \u001b[1m102s\u001b[0m 43ms/step - accuracy: 0.4518 - loss: 1.3738 - val_accuracy: 0.7611 - val_loss: 0.6371\n",
      "Epoch 4/8\n",
      "\u001b[1m2353/2353\u001b[0m \u001b[32m━━━━━━━━━━━━━━━━━━━━\u001b[0m\u001b[37m\u001b[0m \u001b[1m102s\u001b[0m 43ms/step - accuracy: 0.8145 - loss: 0.6296 - val_accuracy: 0.8770 - val_loss: 0.4213\n",
      "Epoch 5/8\n",
      "\u001b[1m2353/2353\u001b[0m \u001b[32m━━━━━━━━━━━━━━━━━━━━\u001b[0m\u001b[37m\u001b[0m \u001b[1m102s\u001b[0m 43ms/step - accuracy: 0.8642 - loss: 0.4825 - val_accuracy: 0.9147 - val_loss: 0.3305\n",
      "Epoch 6/8\n",
      "\u001b[1m2353/2353\u001b[0m \u001b[32m━━━━━━━━━━━━━━━━━━━━\u001b[0m\u001b[37m\u001b[0m \u001b[1m102s\u001b[0m 43ms/step - accuracy: 0.8866 - loss: 0.4144 - val_accuracy: 0.9065 - val_loss: 0.3379\n",
      "Epoch 7/8\n",
      "\u001b[1m2353/2353\u001b[0m \u001b[32m━━━━━━━━━━━━━━━━━━━━\u001b[0m\u001b[37m\u001b[0m \u001b[1m102s\u001b[0m 43ms/step - accuracy: 0.8994 - loss: 0.3799 - val_accuracy: 0.9324 - val_loss: 0.2526\n",
      "Epoch 8/8\n",
      "\u001b[1m2353/2353\u001b[0m \u001b[32m━━━━━━━━━━━━━━━━━━━━\u001b[0m\u001b[37m\u001b[0m \u001b[1m102s\u001b[0m 43ms/step - accuracy: 0.9129 - loss: 0.3212 - val_accuracy: 0.9242 - val_loss: 0.2514\n",
      "\u001b[1m1471/1471\u001b[0m \u001b[32m━━━━━━━━━━━━━━━━━━━━\u001b[0m\u001b[37m\u001b[0m \u001b[1m18s\u001b[0m 12ms/step\n",
      "[CV] END batch_size=64, epochs=8, model__dropout=0.3043282907157676, model__hidden_layer=28, model__learning_rate=0.0013044546093032704, model__lstm_units=123; total time=14.0min\n"
     ]
    },
    {
     "name": "stderr",
     "output_type": "stream",
     "text": [
      "/home/jinesh-subedi/htdocs/thesis/thesisStudy/lib/python3.12/site-packages/keras/src/layers/rnn/bidirectional.py:107: UserWarning: Do not pass an `input_shape`/`input_dim` argument to a layer. When using Sequential models, prefer using an `Input(shape)` object as the first layer in the model instead.\n",
      "  super().__init__(**kwargs)\n"
     ]
    },
    {
     "name": "stdout",
     "output_type": "stream",
     "text": [
      "Epoch 1/8\n",
      "\u001b[1m2353/2353\u001b[0m \u001b[32m━━━━━━━━━━━━━━━━━━━━\u001b[0m\u001b[37m\u001b[0m \u001b[1m106s\u001b[0m 44ms/step - accuracy: 0.1021 - loss: 2.1258 - val_accuracy: 0.5574 - val_loss: 1.2076\n",
      "Epoch 2/8\n",
      "\u001b[1m2353/2353\u001b[0m \u001b[32m━━━━━━━━━━━━━━━━━━━━\u001b[0m\u001b[37m\u001b[0m \u001b[1m102s\u001b[0m 43ms/step - accuracy: 0.7680 - loss: 0.8648 - val_accuracy: 0.8795 - val_loss: 0.3958\n",
      "Epoch 3/8\n",
      "\u001b[1m2353/2353\u001b[0m \u001b[32m━━━━━━━━━━━━━━━━━━━━\u001b[0m\u001b[37m\u001b[0m \u001b[1m102s\u001b[0m 43ms/step - accuracy: 0.8737 - loss: 0.4761 - val_accuracy: 0.9059 - val_loss: 0.3222\n",
      "Epoch 4/8\n",
      "\u001b[1m2353/2353\u001b[0m \u001b[32m━━━━━━━━━━━━━━━━━━━━\u001b[0m\u001b[37m\u001b[0m \u001b[1m102s\u001b[0m 43ms/step - accuracy: 0.8983 - loss: 0.3670 - val_accuracy: 0.9248 - val_loss: 0.2523\n",
      "Epoch 5/8\n",
      "\u001b[1m2353/2353\u001b[0m \u001b[32m━━━━━━━━━━━━━━━━━━━━\u001b[0m\u001b[37m\u001b[0m \u001b[1m102s\u001b[0m 43ms/step - accuracy: 0.9105 - loss: 0.3130 - val_accuracy: 0.9276 - val_loss: 0.2527\n",
      "Epoch 6/8\n",
      "\u001b[1m2353/2353\u001b[0m \u001b[32m━━━━━━━━━━━━━━━━━━━━\u001b[0m\u001b[37m\u001b[0m \u001b[1m102s\u001b[0m 43ms/step - accuracy: 0.9191 - loss: 0.2993 - val_accuracy: 0.9515 - val_loss: 0.1953\n",
      "Epoch 7/8\n",
      "\u001b[1m2353/2353\u001b[0m \u001b[32m━━━━━━━━━━━━━━━━━━━━\u001b[0m\u001b[37m\u001b[0m \u001b[1m102s\u001b[0m 43ms/step - accuracy: 0.9268 - loss: 0.2727 - val_accuracy: 0.9378 - val_loss: 0.2197\n",
      "Epoch 8/8\n",
      "\u001b[1m2353/2353\u001b[0m \u001b[32m━━━━━━━━━━━━━━━━━━━━\u001b[0m\u001b[37m\u001b[0m \u001b[1m102s\u001b[0m 43ms/step - accuracy: 0.9276 - loss: 0.2665 - val_accuracy: 0.9501 - val_loss: 0.1900\n",
      "\u001b[1m1471/1471\u001b[0m \u001b[32m━━━━━━━━━━━━━━━━━━━━\u001b[0m\u001b[37m\u001b[0m \u001b[1m18s\u001b[0m 12ms/step\n",
      "[CV] END batch_size=64, epochs=8, model__dropout=0.3043282907157676, model__hidden_layer=28, model__learning_rate=0.0013044546093032704, model__lstm_units=123; total time=14.0min\n"
     ]
    },
    {
     "name": "stderr",
     "output_type": "stream",
     "text": [
      "/home/jinesh-subedi/htdocs/thesis/thesisStudy/lib/python3.12/site-packages/keras/src/layers/rnn/bidirectional.py:107: UserWarning: Do not pass an `input_shape`/`input_dim` argument to a layer. When using Sequential models, prefer using an `Input(shape)` object as the first layer in the model instead.\n",
      "  super().__init__(**kwargs)\n"
     ]
    },
    {
     "name": "stdout",
     "output_type": "stream",
     "text": [
      "Epoch 1/8\n",
      "\u001b[1m2353/2353\u001b[0m \u001b[32m━━━━━━━━━━━━━━━━━━━━\u001b[0m\u001b[37m\u001b[0m \u001b[1m106s\u001b[0m 44ms/step - accuracy: 0.0997 - loss: 2.2235 - val_accuracy: 0.0459 - val_loss: 2.1903\n",
      "Epoch 2/8\n",
      "\u001b[1m2353/2353\u001b[0m \u001b[32m━━━━━━━━━━━━━━━━━━━━\u001b[0m\u001b[37m\u001b[0m \u001b[1m102s\u001b[0m 43ms/step - accuracy: 0.1021 - loss: 2.1996 - val_accuracy: 0.3837 - val_loss: 1.6663\n",
      "Epoch 3/8\n",
      "\u001b[1m2353/2353\u001b[0m \u001b[32m━━━━━━━━━━━━━━━━━━━━\u001b[0m\u001b[37m\u001b[0m \u001b[1m102s\u001b[0m 43ms/step - accuracy: 0.6412 - loss: 1.0220 - val_accuracy: 0.8590 - val_loss: 0.4362\n",
      "Epoch 4/8\n",
      "\u001b[1m2353/2353\u001b[0m \u001b[32m━━━━━━━━━━━━━━━━━━━━\u001b[0m\u001b[37m\u001b[0m \u001b[1m102s\u001b[0m 43ms/step - accuracy: 0.8537 - loss: 0.5321 - val_accuracy: 0.8735 - val_loss: 0.3788\n",
      "Epoch 5/8\n",
      "\u001b[1m2353/2353\u001b[0m \u001b[32m━━━━━━━━━━━━━━━━━━━━\u001b[0m\u001b[37m\u001b[0m \u001b[1m102s\u001b[0m 44ms/step - accuracy: 0.8761 - loss: 0.4283 - val_accuracy: 0.9197 - val_loss: 0.3011\n",
      "Epoch 6/8\n",
      "\u001b[1m2353/2353\u001b[0m \u001b[32m━━━━━━━━━━━━━━━━━━━━\u001b[0m\u001b[37m\u001b[0m \u001b[1m102s\u001b[0m 44ms/step - accuracy: 0.8911 - loss: 0.3919 - val_accuracy: 0.9165 - val_loss: 0.2752\n",
      "Epoch 7/8\n",
      "\u001b[1m2353/2353\u001b[0m \u001b[32m━━━━━━━━━━━━━━━━━━━━\u001b[0m\u001b[37m\u001b[0m \u001b[1m102s\u001b[0m 44ms/step - accuracy: 0.9019 - loss: 0.3638 - val_accuracy: 0.9249 - val_loss: 0.2709\n",
      "Epoch 8/8\n",
      "\u001b[1m2353/2353\u001b[0m \u001b[32m━━━━━━━━━━━━━━━━━━━━\u001b[0m\u001b[37m\u001b[0m \u001b[1m103s\u001b[0m 44ms/step - accuracy: 0.9128 - loss: 0.3272 - val_accuracy: 0.9359 - val_loss: 0.2188\n",
      "\u001b[1m1471/1471\u001b[0m \u001b[32m━━━━━━━━━━━━━━━━━━━━\u001b[0m\u001b[37m\u001b[0m \u001b[1m18s\u001b[0m 12ms/step\n",
      "[CV] END batch_size=64, epochs=8, model__dropout=0.3043282907157676, model__hidden_layer=28, model__learning_rate=0.0013044546093032704, model__lstm_units=123; total time=14.0min\n",
      "Fitting 3 folds for each of 1 candidates, totalling 3 fits\n"
     ]
    },
    {
     "name": "stderr",
     "output_type": "stream",
     "text": [
      "/home/jinesh-subedi/htdocs/thesis/thesisStudy/lib/python3.12/site-packages/keras/src/layers/rnn/bidirectional.py:107: UserWarning: Do not pass an `input_shape`/`input_dim` argument to a layer. When using Sequential models, prefer using an `Input(shape)` object as the first layer in the model instead.\n",
      "  super().__init__(**kwargs)\n"
     ]
    },
    {
     "name": "stdout",
     "output_type": "stream",
     "text": [
      "Epoch 1/8\n",
      "\u001b[1m2353/2353\u001b[0m \u001b[32m━━━━━━━━━━━━━━━━━━━━\u001b[0m\u001b[37m\u001b[0m \u001b[1m92s\u001b[0m 38ms/step - accuracy: 0.0854 - loss: 2.1753 - val_accuracy: 0.0447 - val_loss: 2.1708\n",
      "Epoch 2/8\n",
      "\u001b[1m2353/2353\u001b[0m \u001b[32m━━━━━━━━━━━━━━━━━━━━\u001b[0m\u001b[37m\u001b[0m \u001b[1m86s\u001b[0m 37ms/step - accuracy: 0.0718 - loss: 2.1725 - val_accuracy: 0.0447 - val_loss: 2.1758\n",
      "Epoch 3/8\n",
      "\u001b[1m2353/2353\u001b[0m \u001b[32m━━━━━━━━━━━━━━━━━━━━\u001b[0m\u001b[37m\u001b[0m \u001b[1m86s\u001b[0m 37ms/step - accuracy: 0.1396 - loss: 2.1722 - val_accuracy: 0.0455 - val_loss: 2.1914\n",
      "Epoch 4/8\n",
      "\u001b[1m2353/2353\u001b[0m \u001b[32m━━━━━━━━━━━━━━━━━━━━\u001b[0m\u001b[37m\u001b[0m \u001b[1m86s\u001b[0m 37ms/step - accuracy: 0.0632 - loss: 2.1719 - val_accuracy: 0.0455 - val_loss: 2.1978\n",
      "Epoch 5/8\n",
      "\u001b[1m2353/2353\u001b[0m \u001b[32m━━━━━━━━━━━━━━━━━━━━\u001b[0m\u001b[37m\u001b[0m \u001b[1m86s\u001b[0m 37ms/step - accuracy: 0.0752 - loss: 2.1723 - val_accuracy: 0.0455 - val_loss: 2.1975\n",
      "Epoch 6/8\n",
      "\u001b[1m2353/2353\u001b[0m \u001b[32m━━━━━━━━━━━━━━━━━━━━\u001b[0m\u001b[37m\u001b[0m \u001b[1m86s\u001b[0m 37ms/step - accuracy: 0.0908 - loss: 2.1727 - val_accuracy: 0.0445 - val_loss: 2.1830\n",
      "Epoch 7/8\n",
      "\u001b[1m2353/2353\u001b[0m \u001b[32m━━━━━━━━━━━━━━━━━━━━\u001b[0m\u001b[37m\u001b[0m \u001b[1m86s\u001b[0m 37ms/step - accuracy: 0.0785 - loss: 2.1722 - val_accuracy: 0.0447 - val_loss: 2.1750\n",
      "Epoch 8/8\n",
      "\u001b[1m2353/2353\u001b[0m \u001b[32m━━━━━━━━━━━━━━━━━━━━\u001b[0m\u001b[37m\u001b[0m \u001b[1m87s\u001b[0m 37ms/step - accuracy: 0.0730 - loss: 2.1725 - val_accuracy: 0.0461 - val_loss: 2.1957\n",
      "\u001b[1m1471/1471\u001b[0m \u001b[32m━━━━━━━━━━━━━━━━━━━━\u001b[0m\u001b[37m\u001b[0m \u001b[1m15s\u001b[0m 10ms/step\n",
      "[CV] END batch_size=64, epochs=8, model__dropout=0.22473116042221655, model__hidden_layer=31, model__learning_rate=0.0036433798519357177, model__lstm_units=76; total time=11.9min\n"
     ]
    },
    {
     "name": "stderr",
     "output_type": "stream",
     "text": [
      "/home/jinesh-subedi/htdocs/thesis/thesisStudy/lib/python3.12/site-packages/keras/src/layers/rnn/bidirectional.py:107: UserWarning: Do not pass an `input_shape`/`input_dim` argument to a layer. When using Sequential models, prefer using an `Input(shape)` object as the first layer in the model instead.\n",
      "  super().__init__(**kwargs)\n"
     ]
    },
    {
     "name": "stdout",
     "output_type": "stream",
     "text": [
      "Epoch 1/8\n",
      "\u001b[1m2353/2353\u001b[0m \u001b[32m━━━━━━━━━━━━━━━━━━━━\u001b[0m\u001b[37m\u001b[0m \u001b[1m90s\u001b[0m 37ms/step - accuracy: 0.6871 - loss: 0.9850 - val_accuracy: 0.8640 - val_loss: 0.4119\n",
      "Epoch 2/8\n",
      "\u001b[1m2353/2353\u001b[0m \u001b[32m━━━━━━━━━━━━━━━━━━━━\u001b[0m\u001b[37m\u001b[0m \u001b[1m86s\u001b[0m 37ms/step - accuracy: 0.8713 - loss: 0.4738 - val_accuracy: 0.9254 - val_loss: 0.3344\n",
      "Epoch 3/8\n",
      "\u001b[1m2353/2353\u001b[0m \u001b[32m━━━━━━━━━━━━━━━━━━━━\u001b[0m\u001b[37m\u001b[0m \u001b[1m86s\u001b[0m 37ms/step - accuracy: 0.8908 - loss: 0.3996 - val_accuracy: 0.9174 - val_loss: 0.2938\n",
      "Epoch 4/8\n",
      "\u001b[1m2353/2353\u001b[0m \u001b[32m━━━━━━━━━━━━━━━━━━━━\u001b[0m\u001b[37m\u001b[0m \u001b[1m86s\u001b[0m 37ms/step - accuracy: 0.9004 - loss: 0.3942 - val_accuracy: 0.9109 - val_loss: 0.2853\n",
      "Epoch 5/8\n",
      "\u001b[1m2353/2353\u001b[0m \u001b[32m━━━━━━━━━━━━━━━━━━━━\u001b[0m\u001b[37m\u001b[0m \u001b[1m86s\u001b[0m 37ms/step - accuracy: 0.9076 - loss: 0.3962 - val_accuracy: 0.9214 - val_loss: 0.2480\n",
      "Epoch 6/8\n",
      "\u001b[1m2353/2353\u001b[0m \u001b[32m━━━━━━━━━━━━━━━━━━━━\u001b[0m\u001b[37m\u001b[0m \u001b[1m86s\u001b[0m 37ms/step - accuracy: 0.9103 - loss: 0.4002 - val_accuracy: 0.9371 - val_loss: 0.2331\n",
      "Epoch 7/8\n",
      "\u001b[1m2353/2353\u001b[0m \u001b[32m━━━━━━━━━━━━━━━━━━━━\u001b[0m\u001b[37m\u001b[0m \u001b[1m86s\u001b[0m 37ms/step - accuracy: 0.9139 - loss: 0.4494 - val_accuracy: 0.9336 - val_loss: 0.2677\n",
      "Epoch 8/8\n",
      "\u001b[1m2353/2353\u001b[0m \u001b[32m━━━━━━━━━━━━━━━━━━━━\u001b[0m\u001b[37m\u001b[0m \u001b[1m86s\u001b[0m 37ms/step - accuracy: 0.9155 - loss: 0.4143 - val_accuracy: 0.9551 - val_loss: 0.1881\n",
      "\u001b[1m1471/1471\u001b[0m \u001b[32m━━━━━━━━━━━━━━━━━━━━\u001b[0m\u001b[37m\u001b[0m \u001b[1m15s\u001b[0m 10ms/step\n",
      "[CV] END batch_size=64, epochs=8, model__dropout=0.22473116042221655, model__hidden_layer=31, model__learning_rate=0.0036433798519357177, model__lstm_units=76; total time=11.9min\n"
     ]
    },
    {
     "name": "stderr",
     "output_type": "stream",
     "text": [
      "/home/jinesh-subedi/htdocs/thesis/thesisStudy/lib/python3.12/site-packages/keras/src/layers/rnn/bidirectional.py:107: UserWarning: Do not pass an `input_shape`/`input_dim` argument to a layer. When using Sequential models, prefer using an `Input(shape)` object as the first layer in the model instead.\n",
      "  super().__init__(**kwargs)\n"
     ]
    },
    {
     "name": "stdout",
     "output_type": "stream",
     "text": [
      "Epoch 1/8\n",
      "\u001b[1m2353/2353\u001b[0m \u001b[32m━━━━━━━━━━━━━━━━━━━━\u001b[0m\u001b[37m\u001b[0m \u001b[1m90s\u001b[0m 37ms/step - accuracy: 0.4017 - loss: 1.5852 - val_accuracy: 0.8227 - val_loss: 0.5396\n",
      "Epoch 2/8\n",
      "\u001b[1m2353/2353\u001b[0m \u001b[32m━━━━━━━━━━━━━━━━━━━━\u001b[0m\u001b[37m\u001b[0m \u001b[1m86s\u001b[0m 36ms/step - accuracy: 0.8536 - loss: 0.5312 - val_accuracy: 0.8670 - val_loss: 0.3448\n",
      "Epoch 3/8\n",
      "\u001b[1m2353/2353\u001b[0m \u001b[32m━━━━━━━━━━━━━━━━━━━━\u001b[0m\u001b[37m\u001b[0m \u001b[1m86s\u001b[0m 36ms/step - accuracy: 0.8854 - loss: 0.3987 - val_accuracy: 0.9151 - val_loss: 0.2633\n",
      "Epoch 4/8\n",
      "\u001b[1m2353/2353\u001b[0m \u001b[32m━━━━━━━━━━━━━━━━━━━━\u001b[0m\u001b[37m\u001b[0m \u001b[1m86s\u001b[0m 36ms/step - accuracy: 0.8958 - loss: 0.3998 - val_accuracy: 0.9182 - val_loss: 0.3127\n",
      "Epoch 5/8\n",
      "\u001b[1m2353/2353\u001b[0m \u001b[32m━━━━━━━━━━━━━━━━━━━━\u001b[0m\u001b[37m\u001b[0m \u001b[1m86s\u001b[0m 36ms/step - accuracy: 0.9027 - loss: 0.3959 - val_accuracy: 0.9305 - val_loss: 0.2401\n",
      "Epoch 6/8\n",
      "\u001b[1m2353/2353\u001b[0m \u001b[32m━━━━━━━━━━━━━━━━━━━━\u001b[0m\u001b[37m\u001b[0m \u001b[1m86s\u001b[0m 36ms/step - accuracy: 0.9090 - loss: 0.3805 - val_accuracy: 0.9384 - val_loss: 0.2449\n",
      "Epoch 7/8\n",
      "\u001b[1m2353/2353\u001b[0m \u001b[32m━━━━━━━━━━━━━━━━━━━━\u001b[0m\u001b[37m\u001b[0m \u001b[1m86s\u001b[0m 37ms/step - accuracy: 0.9133 - loss: 0.4080 - val_accuracy: 0.8769 - val_loss: 0.4304\n",
      "Epoch 8/8\n",
      "\u001b[1m2353/2353\u001b[0m \u001b[32m━━━━━━━━━━━━━━━━━━━━\u001b[0m\u001b[37m\u001b[0m \u001b[1m86s\u001b[0m 37ms/step - accuracy: 0.9193 - loss: 0.3985 - val_accuracy: 0.9483 - val_loss: 0.2286\n",
      "\u001b[1m1471/1471\u001b[0m \u001b[32m━━━━━━━━━━━━━━━━━━━━\u001b[0m\u001b[37m\u001b[0m \u001b[1m15s\u001b[0m 10ms/step\n",
      "[CV] END batch_size=64, epochs=8, model__dropout=0.22473116042221655, model__hidden_layer=31, model__learning_rate=0.0036433798519357177, model__lstm_units=76; total time=11.8min\n"
     ]
    },
    {
     "name": "stderr",
     "output_type": "stream",
     "text": [
      "/home/jinesh-subedi/htdocs/thesis/thesisStudy/lib/python3.12/site-packages/keras/src/layers/rnn/bidirectional.py:107: UserWarning: Do not pass an `input_shape`/`input_dim` argument to a layer. When using Sequential models, prefer using an `Input(shape)` object as the first layer in the model instead.\n",
      "  super().__init__(**kwargs)\n"
     ]
    },
    {
     "name": "stdout",
     "output_type": "stream",
     "text": [
      "Epoch 1/10\n",
      "\u001b[1m1765/1765\u001b[0m \u001b[32m━━━━━━━━━━━━━━━━━━━━\u001b[0m\u001b[37m\u001b[0m \u001b[1m88s\u001b[0m 48ms/step - accuracy: 0.7120 - loss: 0.8938 - val_accuracy: 0.8808 - val_loss: 0.3878\n",
      "Epoch 2/10\n",
      "\u001b[1m1765/1765\u001b[0m \u001b[32m━━━━━━━━━━━━━━━━━━━━\u001b[0m\u001b[37m\u001b[0m \u001b[1m84s\u001b[0m 48ms/step - accuracy: 0.8855 - loss: 0.3523 - val_accuracy: 0.8952 - val_loss: 0.3153\n",
      "Epoch 3/10\n",
      "\u001b[1m1765/1765\u001b[0m \u001b[32m━━━━━━━━━━━━━━━━━━━━\u001b[0m\u001b[37m\u001b[0m \u001b[1m84s\u001b[0m 48ms/step - accuracy: 0.9094 - loss: 0.2604 - val_accuracy: 0.9233 - val_loss: 0.2813\n",
      "Epoch 4/10\n",
      "\u001b[1m1765/1765\u001b[0m \u001b[32m━━━━━━━━━━━━━━━━━━━━\u001b[0m\u001b[37m\u001b[0m \u001b[1m84s\u001b[0m 48ms/step - accuracy: 0.9189 - loss: 0.2425 - val_accuracy: 0.9353 - val_loss: 0.2176\n",
      "Epoch 5/10\n",
      "\u001b[1m1765/1765\u001b[0m \u001b[32m━━━━━━━━━━━━━━━━━━━━\u001b[0m\u001b[37m\u001b[0m \u001b[1m84s\u001b[0m 48ms/step - accuracy: 0.9229 - loss: 0.2267 - val_accuracy: 0.9350 - val_loss: 0.2153\n",
      "Epoch 6/10\n",
      "\u001b[1m1765/1765\u001b[0m \u001b[32m━━━━━━━━━━━━━━━━━━━━\u001b[0m\u001b[37m\u001b[0m \u001b[1m84s\u001b[0m 48ms/step - accuracy: 0.9260 - loss: 0.2195 - val_accuracy: 0.9464 - val_loss: 0.1889\n",
      "Epoch 7/10\n",
      "\u001b[1m1765/1765\u001b[0m \u001b[32m━━━━━━━━━━━━━━━━━━━━\u001b[0m\u001b[37m\u001b[0m \u001b[1m84s\u001b[0m 48ms/step - accuracy: 0.9303 - loss: 0.2125 - val_accuracy: 0.9517 - val_loss: 0.1775\n",
      "Epoch 8/10\n",
      "\u001b[1m1765/1765\u001b[0m \u001b[32m━━━━━━━━━━━━━━━━━━━━\u001b[0m\u001b[37m\u001b[0m \u001b[1m84s\u001b[0m 48ms/step - accuracy: 0.9329 - loss: 0.2028 - val_accuracy: 0.9456 - val_loss: 0.2048\n",
      "Epoch 9/10\n",
      "\u001b[1m1765/1765\u001b[0m \u001b[32m━━━━━━━━━━━━━━━━━━━━\u001b[0m\u001b[37m\u001b[0m \u001b[1m84s\u001b[0m 48ms/step - accuracy: 0.9335 - loss: 0.2005 - val_accuracy: 0.9411 - val_loss: 0.1802\n",
      "Epoch 10/10\n",
      "\u001b[1m1765/1765\u001b[0m \u001b[32m━━━━━━━━━━━━━━━━━━━━\u001b[0m\u001b[37m\u001b[0m \u001b[1m84s\u001b[0m 48ms/step - accuracy: 0.9356 - loss: 0.1898 - val_accuracy: 0.9576 - val_loss: 0.1622\n",
      "Best parameters: OrderedDict({'batch_size': 128, 'epochs': 10, 'model__dropout': 0.33424598536944505, 'model__hidden_layer': 28, 'model__learning_rate': 0.0010705587998148878, 'model__lstm_units': 109})\n",
      "Best cross-validation accuracy: 0.9541225571475135\n",
      "\u001b[1m689/689\u001b[0m \u001b[32m━━━━━━━━━━━━━━━━━━━━\u001b[0m\u001b[37m\u001b[0m \u001b[1m10s\u001b[0m 14ms/step\n",
      "Test set accuracy: 0.9578296859054315\n"
     ]
    }
   ],
   "source": [
    "# Hyperparameter Tuning with Bayesian Optimization (BayesSearchCV)\n",
    "from skopt import BayesSearchCV\n",
    "from skopt.space import Real, Integer, Categorical\n",
    "from scikeras.wrappers import KerasClassifier\n",
    "from tensorflow.keras.models import Sequential\n",
    "from tensorflow.keras.layers import Bidirectional, LSTM, Dense, Dropout, LayerNormalization\n",
    "from tensorflow.keras.regularizers import l2\n",
    "from tensorflow.keras.optimizers import Adam\n",
    "from tensorflow.keras.callbacks import EarlyStopping, ReduceLROnPlateau\n",
    "from sklearn.model_selection import StratifiedKFold\n",
    "\n",
    "def build_bilstm_model(\n",
    "    lstm_units=64,\n",
    "    hidden_layer=32,\n",
    "    dropout=0.2,\n",
    "    learning_rate=0.001,\n",
    "    input_shape=(30, 44)\n",
    "):\n",
    "    model = Sequential([\n",
    "        Bidirectional(LSTM(int(lstm_units*2), return_sequences=True, activation='tanh', recurrent_activation='sigmoid', recurrent_dropout=0.2), input_shape=input_shape),\n",
    "        LayerNormalization(),\n",
    "        Dropout(dropout),\n",
    "        Bidirectional(LSTM(int(lstm_units))),\n",
    "        LayerNormalization(),\n",
    "        Dropout(dropout),\n",
    "        Dense(int(hidden_layer), activation='relu'),\n",
    "        Dense(9, activation='softmax')\n",
    "    ])\n",
    "    optimizer = Adam(learning_rate=learning_rate, clipnorm=1.0)\n",
    "    model.compile(optimizer=optimizer, loss='sparse_categorical_crossentropy', metrics=['accuracy'])\n",
    "    return model\n",
    "\n",
    "from sklearn.metrics import make_scorer\n",
    "\n",
    "def constrained_score(y_true, y_pred):\n",
    "    cm = confusion_matrix(y_true, y_pred)\n",
    "    if cm.shape == (2, 2):\n",
    "        tn, fp, fn, tp = cm.ravel()\n",
    "        fnr = fn / (fn + tp) if (fn + tp) > 0 else 0\n",
    "        fpr = fp / (fp + tn) if (fp + tn) > 0 else 0\n",
    "        acc = accuracy_score(y_true, y_pred)\n",
    "        # Constraints: FNR ≤ 0.01, FPR ≤ 0.5, Accuracy > 0.90\n",
    "        if fnr <= 0.01 and fpr <= 0.5 and acc > 0.90:\n",
    "            print(f\"Valid model found: FNR={fnr}, FPR={fpr}, Acc={acc}\")\n",
    "            return acc\n",
    "        else:\n",
    "            print(f\"Model rejected: FNR={fnr}, FPR={fpr}, Acc={acc}\")\n",
    "            return 0\n",
    "    else:\n",
    "        # If confusion matrix is not 2x2, return 0\n",
    "        return 0\n",
    "\n",
    "constrained_scorer = make_scorer(constrained_score)\n",
    "cv_strategy = StratifiedKFold(n_splits=3, shuffle=True, random_state=42)\n",
    "\n",
    "early_stopping = EarlyStopping(monitor='val_loss', patience=10, mode='min', restore_best_weights=True)\n",
    "reduce_lr = ReduceLROnPlateau(monitor='val_loss', factor=0.5, patience=5, min_lr=1e-6, verbose=1)\n",
    "\n",
    "class_weights = compute_class_weight(\n",
    "    class_weight=\"balanced\",\n",
    "    classes=np.arange(y_multiclass_onehot.shape[1]),\n",
    "    y=y_multiclass_onehot.argmax(axis=1)\n",
    ")\n",
    "class_weight_dict = dict(enumerate(class_weights))\n",
    "\n",
    "# Wrap the model for scikit-learn compatibility\n",
    "keras_clf = KerasClassifier(\n",
    "    model=build_bilstm_model,\n",
    "    input_shape=(X_train_seq_final.shape[1], X_train_seq_final.shape[2])\n",
    ")\n",
    "\n",
    "# Define the hyperparameter search space\n",
    "param_space = {\n",
    "    'model__lstm_units': Integer(64, 128),\n",
    "    'model__hidden_layer': Integer(16, 32),\n",
    "    'model__dropout': Real(0.2, 0.4),\n",
    "    'model__learning_rate': Real(1e-4, 1e-2, prior='log-uniform'),\n",
    "    'batch_size': Categorical([64, 128]),\n",
    "    'epochs': Integer(5, 10)\n",
    "}\n",
    "\n",
    "opt = BayesSearchCV(\n",
    "    estimator=keras_clf,\n",
    "    search_spaces=param_space,\n",
    "    n_iter=10,\n",
    "    # scoring=constrained_scorer,\n",
    "    scoring=\"accuracy\",\n",
    "    # cv=2,\n",
    "    cv=cv_strategy,\n",
    "    n_jobs=1,\n",
    "    verbose=2,\n",
    "    refit=True\n",
    ")\n",
    "\n",
    "# Convert one-hot encoded targets to integer labels\n",
    "y_train_seq_final_labels = np.argmax(y_train_seq_final, axis=1)\n",
    "y_test_seq_labels = np.argmax(y_test_seq, axis=1)\n",
    "\n",
    "# Fit the optimizer (this may take a while)\n",
    "opt.fit(X_train_seq_final, y_train_seq_final_labels, callbacks=[early_stopping, reduce_lr], validation_split=0.2, class_weight=class_weight_dict)\n",
    "\n",
    "print('Best parameters:', opt.best_params_)\n",
    "print('Best cross-validation accuracy:', opt.best_score_)\n",
    "\n",
    "# Evaluate on test set\n",
    "test_score = opt.score(X_test_seq, y_test_seq_labels)\n",
    "print('Test set accuracy:', test_score)"
   ]
  },
  {
   "cell_type": "code",
   "execution_count": 10,
   "id": "b2f9845c",
   "metadata": {},
   "outputs": [
    {
     "name": "stderr",
     "output_type": "stream",
     "text": [
      "/home/jinesh-subedi/htdocs/thesis/thesisStudy/lib/python3.12/site-packages/keras/src/layers/rnn/bidirectional.py:107: UserWarning: Do not pass an `input_shape`/`input_dim` argument to a layer. When using Sequential models, prefer using an `Input(shape)` object as the first layer in the model instead.\n",
      "  super().__init__(**kwargs)\n"
     ]
    },
    {
     "name": "stdout",
     "output_type": "stream",
     "text": [
      "Epoch 1/10\n",
      "\u001b[1m2206/2206\u001b[0m \u001b[32m━━━━━━━━━━━━━━━━━━━━\u001b[0m\u001b[37m\u001b[0m \u001b[1m112s\u001b[0m 49ms/step - accuracy: 0.6129 - loss: 1.0916 - val_accuracy: 0.8872 - val_loss: 0.3500 - learning_rate: 0.0011\n",
      "Epoch 2/10\n",
      "\u001b[1m2206/2206\u001b[0m \u001b[32m━━━━━━━━━━━━━━━━━━━━\u001b[0m\u001b[37m\u001b[0m \u001b[1m107s\u001b[0m 48ms/step - accuracy: 0.8926 - loss: 0.3527 - val_accuracy: 0.9314 - val_loss: 0.2390 - learning_rate: 0.0011\n",
      "Epoch 3/10\n",
      "\u001b[1m2206/2206\u001b[0m \u001b[32m━━━━━━━━━━━━━━━━━━━━\u001b[0m\u001b[37m\u001b[0m \u001b[1m107s\u001b[0m 48ms/step - accuracy: 0.9157 - loss: 0.2622 - val_accuracy: 0.9371 - val_loss: 0.2284 - learning_rate: 0.0011\n",
      "Epoch 4/10\n",
      "\u001b[1m2206/2206\u001b[0m \u001b[32m━━━━━━━━━━━━━━━━━━━━\u001b[0m\u001b[37m\u001b[0m \u001b[1m107s\u001b[0m 48ms/step - accuracy: 0.9264 - loss: 0.2252 - val_accuracy: 0.9384 - val_loss: 0.2118 - learning_rate: 0.0011\n",
      "Epoch 5/10\n",
      "\u001b[1m2206/2206\u001b[0m \u001b[32m━━━━━━━━━━━━━━━━━━━━\u001b[0m\u001b[37m\u001b[0m \u001b[1m107s\u001b[0m 48ms/step - accuracy: 0.9275 - loss: 0.2354 - val_accuracy: 0.9588 - val_loss: 0.1803 - learning_rate: 0.0011\n",
      "Epoch 6/10\n",
      "\u001b[1m2206/2206\u001b[0m \u001b[32m━━━━━━━━━━━━━━━━━━━━\u001b[0m\u001b[37m\u001b[0m \u001b[1m107s\u001b[0m 48ms/step - accuracy: 0.9313 - loss: 0.2205 - val_accuracy: 0.9496 - val_loss: 0.1923 - learning_rate: 0.0011\n",
      "Epoch 7/10\n",
      "\u001b[1m2206/2206\u001b[0m \u001b[32m━━━━━━━━━━━━━━━━━━━━\u001b[0m\u001b[37m\u001b[0m \u001b[1m107s\u001b[0m 48ms/step - accuracy: 0.9329 - loss: 0.2128 - val_accuracy: 0.9451 - val_loss: 0.1821 - learning_rate: 0.0011\n",
      "Epoch 8/10\n",
      "\u001b[1m2206/2206\u001b[0m \u001b[32m━━━━━━━━━━━━━━━━━━━━\u001b[0m\u001b[37m\u001b[0m \u001b[1m107s\u001b[0m 48ms/step - accuracy: 0.9339 - loss: 0.2134 - val_accuracy: 0.9415 - val_loss: 0.1919 - learning_rate: 0.0011\n",
      "Epoch 9/10\n",
      "\u001b[1m2206/2206\u001b[0m \u001b[32m━━━━━━━━━━━━━━━━━━━━\u001b[0m\u001b[37m\u001b[0m \u001b[1m107s\u001b[0m 48ms/step - accuracy: 0.9365 - loss: 0.2065 - val_accuracy: 0.9521 - val_loss: 0.1822 - learning_rate: 0.0011\n",
      "Epoch 10/10\n",
      "\u001b[1m2205/2206\u001b[0m \u001b[32m━━━━━━━━━━━━━━━━━━━\u001b[0m\u001b[37m━\u001b[0m \u001b[1m0s\u001b[0m 45ms/step - accuracy: 0.9368 - loss: 0.2113\n",
      "Epoch 10: ReduceLROnPlateau reducing learning rate to 0.0005352793959900737.\n",
      "\u001b[1m2206/2206\u001b[0m \u001b[32m━━━━━━━━━━━━━━━━━━━━\u001b[0m\u001b[37m\u001b[0m \u001b[1m107s\u001b[0m 48ms/step - accuracy: 0.9369 - loss: 0.2113 - val_accuracy: 0.9430 - val_loss: 0.2119 - learning_rate: 0.0011\n",
      "2756/2756 - 29s - 11ms/step - accuracy: 0.9584 - loss: 0.1797\n",
      "Test Loss: 0.17972227931022644\n",
      "Test Accuracy: 0.9584306478500366\n"
     ]
    }
   ],
   "source": [
    "# use the best params obtained from the above bayes search to train the model again and evaluate on test set.\n",
    "# Extract best parameters\n",
    "best_params = opt.best_params_\n",
    "# Build model with best parameters\n",
    "model = build_bilstm_model(\n",
    "    lstm_units=best_params['model__lstm_units'],\n",
    "    hidden_layer=best_params['model__hidden_layer'],\n",
    "    dropout=best_params['model__dropout'],\n",
    "    learning_rate=best_params['model__learning_rate'],\n",
    "    input_shape=(X_train_seq_final.shape[1], X_train_seq_final.shape[2])\n",
    ")\n",
    "\n",
    "# Train the model\n",
    "history = model.fit(\n",
    "    X_train_seq_final, y_train_seq_final_labels,\n",
    "    validation_data=(X_val_seq, np.argmax(y_val_seq, axis=1)),\n",
    "    epochs=best_params['epochs'],\n",
    "    batch_size=best_params['batch_size'],\n",
    "    callbacks=[early_stopping, reduce_lr],\n",
    "    class_weight=class_weight_dict,\n",
    "    verbose=1\n",
    ")\n",
    "\n",
    "# Evaluate on test set\n",
    "results = model.evaluate(X_test_seq, y_test_seq_labels, verbose=2)\n",
    "print(\"Test Loss: {}\".format(results[0]))\n",
    "print(\"Test Accuracy: {}\".format(results[1]))\n"
   ]
  },
  {
   "cell_type": "code",
   "execution_count": 11,
   "id": "fa7cef21",
   "metadata": {},
   "outputs": [
    {
     "name": "stdout",
     "output_type": "stream",
     "text": [
      "\u001b[1m2756/2756\u001b[0m \u001b[32m━━━━━━━━━━━━━━━━━━━━\u001b[0m\u001b[37m\u001b[0m \u001b[1m28s\u001b[0m 10ms/step\n",
      "              precision    recall  f1-score   support\n",
      "\n",
      "           0       0.98      1.00      0.99      3997\n",
      "           1       0.90      0.96      0.93      3998\n",
      "           2       0.82      0.97      0.89      4000\n",
      "           3       0.91      0.96      0.93      3999\n",
      "           4       0.18      0.83      0.29       209\n",
      "           5       1.00      0.95      0.97     59991\n",
      "           6       0.94      0.99      0.96      3998\n",
      "           7       0.95      1.00      0.97      3999\n",
      "           8       0.89      0.97      0.93      3999\n",
      "\n",
      "    accuracy                           0.96     88190\n",
      "   macro avg       0.84      0.96      0.87     88190\n",
      "weighted avg       0.97      0.96      0.96     88190\n",
      "\n",
      "[[ 3997     0     0     0     0     0     0     0     0]\n",
      " [    0  3844    11   134     0     4     2     2     1]\n",
      " [    0     2  3872     1     0   124     0     0     1]\n",
      " [    0    62    84  3825     0     2     0     1    25]\n",
      " [    0     0     2     0   173     6     0     0    28]\n",
      " [   89   371   723   252   802 56976   171   222   385]\n",
      " [    0     9     6     0     1     0  3957     0    25]\n",
      " [    0     1     8     1     1     5     0  3983     0]\n",
      " [    0     1     7     0     2     2    90     0  3897]]\n"
     ]
    },
    {
     "data": {
      "image/png": "[encoded data removed]",
      "text/plain": [
       "<Figure size 1200x600 with 1 Axes>"
      ]
     },
     "metadata": {},
     "output_type": "display_data"
    }
   ],
   "source": [
    "\n",
    "# Print classification report\n",
    "y_pred_probs = model.predict(X_test_seq)\n",
    "y_pred_classes = y_pred_probs.argmax(axis=1)\n",
    "y_true_classes = y_test_seq_labels\n",
    "print(classification_report(y_true_classes, y_pred_classes))\n",
    "\n",
    "# confusion matrics\n",
    "cm = confusion_matrix(y_true_classes, y_pred_classes)\n",
    "print(cm)\n",
    "\n",
    "#plot the validation loss and accuracy\n",
    "plt.figure(figsize=(12, 6))\n",
    "plt.plot(history.history['loss'], label='Train Loss')   \n",
    "plt.plot(history.history['val_loss'], label='Validation Loss')\n",
    "plt.plot(history.history['accuracy'], label='Train Accuracy')\n",
    "plt.plot(history.history['val_accuracy'], label='Validation Accuracy')\n",
    "plt.title('Training and Validation Loss and Accuracy')\n",
    "plt.xlabel('Epoch')\n",
    "plt.ylabel('Loss/Accuracy')\n",
    "plt.legend()\n",
    "plt.show()\n",
    "\n"
   ]
  },
  {
   "cell_type": "code",
   "execution_count": 13,
   "id": "cd9f03c7",
   "metadata": {},
   "outputs": [
    {
     "name": "stdout",
     "output_type": "stream",
     "text": [
      "\u001b[1m2756/2756\u001b[0m \u001b[32m━━━━━━━━━━━━━━━━━━━━\u001b[0m\u001b[37m\u001b[0m \u001b[1m28s\u001b[0m 10ms/step\n",
      "False Negative Rate (FNR) per class: [np.float64(0.0), np.float64(0.03851925962981491), np.float64(0.032), np.float64(0.04351087771942986), np.float64(0.1722488038277512), np.float64(0.05025753863079462), np.float64(0.01025512756378189), np.float64(0.004001000250062516), np.float64(0.025506376594148537)]\n",
      "False Positive Rate (FPR) per class: [np.float64(0.001057095007898519), np.float64(0.0052974154313949065), np.float64(0.009989309894286733), np.float64(0.004608568611846872), np.float64(0.00916106886714177), np.float64(0.005071101812120997), np.float64(0.0031238122386925125), np.float64(0.002672494684705016), np.float64(0.005523155681723699)]\n"
     ]
    }
   ],
   "source": [
    "# Calculate FPR and FNR\n",
    "y_pred_probs = model.predict(X_test_seq)\n",
    "y_pred_classes = y_pred_probs.argmax(axis=1)\n",
    "y_true_classes = y_test_seq_labels\n",
    "cm = confusion_matrix(y_true_classes, y_pred_classes)\n",
    "\n",
    "# For multi-class, calculate FNR and FPR per class\n",
    "fnr = []\n",
    "fpr = []\n",
    "for i in range(cm.shape[0]):\n",
    "\tfn = cm[i, :].sum() - cm[i, i]\n",
    "\ttp = cm[i, i]\n",
    "\tfp = cm[:, i].sum() - cm[i, i]\n",
    "\ttn = cm.sum() - (tp + fn + fp)\n",
    "\tfnr.append(fn / (fn + tp) if (fn + tp) > 0 else 0)\n",
    "\tfpr.append(fp / (fp + tn) if (fp + tn) > 0 else 0)\n",
    "\n",
    "print(\"False Negative Rate (FNR) per class:\", fnr)\n",
    "print(\"False Positive Rate (FPR) per class:\", fpr)"
   ]
  },
  {
   "cell_type": "code",
   "execution_count": 15,
   "id": "4cd9e546",
   "metadata": {},
   "outputs": [
    {
     "name": "stdout",
     "output_type": "stream",
     "text": [
      "    Class      FNR      FPR\n",
      " backdoor 0.000000 0.001057\n",
      "     ddos 0.038519 0.005297\n",
      "      dos 0.032000 0.009989\n",
      "injection 0.043511 0.004609\n",
      "     mitm 0.172249 0.009161\n",
      "   normal 0.050258 0.005071\n",
      " password 0.010255 0.003124\n",
      " scanning 0.004001 0.002672\n",
      "      xss 0.025506 0.005523\n"
     ]
    }
   ],
   "source": [
    "import pandas as pd\n",
    "\n",
    "# Use type_encoder.classes_ to match the order and number of classes\n",
    "results_df = pd.DataFrame({\n",
    "    \"Class\": type_encoder.classes_,\n",
    "    \"FNR\": fnr,\n",
    "    \"FPR\": fpr\n",
    "})\n",
    "\n",
    "print(results_df.to_string(index=False))\n"
   ]
  }
 ],
 "metadata": {
  "kernelspec": {
   "display_name": "thesisStudy",
   "language": "python",
   "name": "python3"
  },
  "language_info": {
   "codemirror_mode": {
    "name": "ipython",
    "version": 3
   },
   "file_extension": ".py",
   "mimetype": "text/x-python",
   "name": "python",
   "nbconvert_exporter": "python",
   "pygments_lexer": "ipython3",
   "version": "3.12.3"
  }
 },
 "nbformat": 4,
 "nbformat_minor": 5
}
