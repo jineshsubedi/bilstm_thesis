{
 "cells": [
  {
   "cell_type": "code",
   "execution_count": 1,
   "id": "1e0f65ba",
   "metadata": {},
   "outputs": [
    {
     "name": "stderr",
     "output_type": "stream",
     "text": [
      "2025-09-03 19:49:54.469447: I tensorflow/core/util/port.cc:153] oneDNN custom operations are on. You may see slightly different numerical results due to floating-point round-off errors from different computation orders. To turn them off, set the environment variable `TF_ENABLE_ONEDNN_OPTS=0`.\n",
      "2025-09-03 19:49:54.874113: I tensorflow/core/platform/cpu_feature_guard.cc:210] This TensorFlow binary is optimized to use available CPU instructions in performance-critical operations.\n",
      "To enable the following instructions: AVX2 AVX512F AVX512_VNNI FMA, in other operations, rebuild TensorFlow with the appropriate compiler flags.\n",
      "2025-09-03 19:49:56.267078: I tensorflow/core/util/port.cc:153] oneDNN custom operations are on. You may see slightly different numerical results due to floating-point round-off errors from different computation orders. To turn them off, set the environment variable `TF_ENABLE_ONEDNN_OPTS=0`.\n"
     ]
    },
    {
     "name": "stdout",
     "output_type": "stream",
     "text": [
      "Original DataFrame Head:\n",
      "            ts         src_ip  src_port        dst_ip  dst_port proto service  \\\n",
      "0  1556499101  192.168.1.193     60396  192.168.1.33      8080   tcp       -   \n",
      "1  1556494424  192.168.1.193     59273  192.168.1.33      8080   tcp       -   \n",
      "2  1556487945  192.168.1.193     57717  192.168.1.33      8080   tcp       -   \n",
      "3  1556508616  192.168.1.193     62682  192.168.1.33        80   tcp       -   \n",
      "4  1556511697  192.168.1.193     63419  192.168.1.33      8080   tcp       -   \n",
      "\n",
      "   duration src_bytes  dst_bytes  ... http_response_body_len  \\\n",
      "0  0.000180         0          0  ...                      0   \n",
      "1  0.000111         0          0  ...                      0   \n",
      "2  0.000148         0          0  ...                      0   \n",
      "3  0.000127         0          0  ...                      0   \n",
      "4  0.000122         0          0  ...                      0   \n",
      "\n",
      "   http_status_code  http_user_agent  http_orig_mime_types  \\\n",
      "0                 0                -                     -   \n",
      "1                 0                -                     -   \n",
      "2                 0                -                     -   \n",
      "3                 0                -                     -   \n",
      "4                 0                -                     -   \n",
      "\n",
      "   http_resp_mime_types  weird_name weird_addl  weird_notice  label      type  \n",
      "0                     -           -          -             -      1  backdoor  \n",
      "1                     -           -          -             -      1  backdoor  \n",
      "2                     -           -          -             -      1  backdoor  \n",
      "3                     -           -          -             -      1  backdoor  \n",
      "4                     -           -          -             -      1  backdoor  \n",
      "\n",
      "[5 rows x 46 columns]\n",
      "\n",
      "Original Class Distribution:\n",
      " type\n",
      "normal       300000\n",
      "backdoor      20000\n",
      "ddos          20000\n",
      "injection     20000\n",
      "dos           20000\n",
      "scanning      20000\n",
      "password      20000\n",
      "xss           20000\n",
      "mitm           1043\n",
      "Name: count, dtype: int64\n",
      "\n",
      "Original Label Distribution:\n",
      " label\n",
      "0    300000\n",
      "1    141043\n",
      "Name: count, dtype: int64\n",
      "\n",
      "Original Data Types:\n",
      " ts                          int64\n",
      "src_ip                     object\n",
      "src_port                    int64\n",
      "dst_ip                     object\n",
      "dst_port                    int64\n",
      "proto                      object\n",
      "service                    object\n",
      "duration                  float64\n",
      "src_bytes                  object\n",
      "dst_bytes                   int64\n",
      "conn_state                 object\n",
      "missed_bytes                int64\n",
      "src_pkts                    int64\n",
      "src_ip_bytes                int64\n",
      "dst_pkts                    int64\n",
      "dst_ip_bytes                int64\n",
      "dns_query                  object\n",
      "dns_qclass                  int64\n",
      "dns_qtype                   int64\n",
      "dns_rcode                   int64\n",
      "dns_AA                     object\n",
      "dns_RD                     object\n",
      "dns_RA                     object\n",
      "dns_rejected               object\n",
      "ssl_version                object\n",
      "ssl_cipher                 object\n",
      "ssl_resumed                object\n",
      "ssl_established            object\n",
      "ssl_subject                object\n",
      "ssl_issuer                 object\n",
      "http_trans_depth           object\n",
      "http_method                object\n",
      "http_uri                   object\n",
      "http_referrer              object\n",
      "http_version               object\n",
      "http_request_body_len       int64\n",
      "http_response_body_len      int64\n",
      "http_status_code            int64\n",
      "http_user_agent            object\n",
      "http_orig_mime_types       object\n",
      "http_resp_mime_types       object\n",
      "weird_name                 object\n",
      "weird_addl                 object\n",
      "weird_notice               object\n",
      "label                       int64\n",
      "type                       object\n",
      "dtype: object\n",
      "\n",
      "Original Data Shapes:\n",
      " (441043, 46)\n",
      "Shape after dropping duplicates: (441043, 46)\n",
      "Shape after handling NaNs: (441043, 46)\n",
      "Encoded column: src_ip\n",
      "Encoded column: dst_ip\n",
      "Encoded column: proto\n",
      "Encoded column: service\n",
      "Encoded column: conn_state\n",
      "Encoded column: dns_query\n",
      "Encoded column: dns_AA\n",
      "Encoded column: dns_RD\n",
      "Encoded column: dns_RA\n",
      "Encoded column: dns_rejected\n",
      "Encoded column: ssl_version\n",
      "Encoded column: ssl_cipher\n",
      "Encoded column: ssl_resumed\n",
      "Encoded column: ssl_established\n",
      "Encoded column: ssl_subject\n",
      "Encoded column: ssl_issuer\n",
      "Encoded column: http_trans_depth\n",
      "Encoded column: http_method\n",
      "Encoded column: http_uri\n",
      "Encoded column: http_referrer\n",
      "Encoded column: http_version\n",
      "Encoded column: http_user_agent\n",
      "Encoded column: http_orig_mime_types\n",
      "Encoded column: http_resp_mime_types\n",
      "Encoded column: weird_name\n",
      "Encoded column: weird_addl\n",
      "Encoded column: weird_notice\n",
      "\n",
      "Categorical columns: ['src_ip', 'dst_ip', 'proto', 'service', 'conn_state', 'dns_query', 'dns_AA', 'dns_RD', 'dns_RA', 'dns_rejected', 'ssl_version', 'ssl_cipher', 'ssl_resumed', 'ssl_established', 'ssl_subject', 'ssl_issuer', 'http_trans_depth', 'http_method', 'http_uri', 'http_referrer', 'http_version', 'http_user_agent', 'http_orig_mime_types', 'http_resp_mime_types', 'weird_name', 'weird_addl', 'weird_notice']\n",
      "Numerical columns: ['ts', 'src_ip', 'src_port', 'dst_ip', 'dst_port', 'proto', 'service', 'duration', 'src_bytes', 'dst_bytes', 'conn_state', 'missed_bytes', 'src_pkts', 'src_ip_bytes', 'dst_pkts', 'dst_ip_bytes', 'dns_query', 'dns_qclass', 'dns_qtype', 'dns_rcode', 'dns_AA', 'dns_RD', 'dns_RA', 'dns_rejected', 'ssl_version', 'ssl_cipher', 'ssl_resumed', 'ssl_established', 'ssl_subject', 'ssl_issuer', 'http_trans_depth', 'http_method', 'http_uri', 'http_referrer', 'http_version', 'http_request_body_len', 'http_response_body_len', 'http_status_code', 'http_user_agent', 'http_orig_mime_types', 'http_resp_mime_types', 'weird_name', 'weird_addl', 'weird_notice']\n"
     ]
    }
   ],
   "source": [
    "# BiLSTM-based Intrusion Detection on TON IoT Dataset (Rewritten)\n",
    "\n",
    "import pandas as pd\n",
    "import numpy as np\n",
    "import tensorflow as tf\n",
    "from tensorflow.keras.utils import to_categorical\n",
    "from sklearn.preprocessing import LabelEncoder, MinMaxScaler\n",
    "from collections import Counter\n",
    "from sklearn.model_selection import StratifiedKFold, train_test_split\n",
    "\n",
    "# Load Dataset\n",
    "df = pd.read_csv('../dataset/final_df.csv', low_memory=False)\n",
    "print(\"Original DataFrame Head:\\n\", df.head())\n",
    "print(\"\\nOriginal Class Distribution:\\n\", df['type'].value_counts())\n",
    "print(\"\\nOriginal Label Distribution:\\n\", df['label'].value_counts())\n",
    "print(\"\\nOriginal Data Types:\\n\", df.dtypes)\n",
    "print(\"\\nOriginal Data Shapes:\\n\", df.shape)\n",
    "\n",
    "# --- Data Preprocessing ---\n",
    "# Clean and impute\n",
    "df['src_bytes'] = pd.to_numeric(df['src_bytes'], errors='coerce').fillna(0)\n",
    "df.drop_duplicates(inplace=True)\n",
    "\n",
    "df.fillna(df.mean(numeric_only=True), inplace=True)\n",
    "print(f\"Shape after dropping duplicates: {df.shape}\")\n",
    "\n",
    "for col in df.columns:\n",
    "    if df[col].isnull().any():\n",
    "        if df[col].dtype == 'object':\n",
    "            df[col].fillna('Missing', inplace=True) # Or df[col].mode()[0]\n",
    "        else:\n",
    "            df[col].fillna(df[col].mean(), inplace=True)\n",
    "\n",
    "print(f\"Shape after handling NaNs: {df.shape}\")\n",
    "\n",
    "# Identify targets\n",
    "TARGET_LABEL = 'label'\n",
    "TARGET_TYPE = 'type'\n",
    "\n",
    "# Encode categorical columns\n",
    "categorical_cols = df.select_dtypes(include='object').columns.tolist()\n",
    "if TARGET_TYPE in categorical_cols:\n",
    "    categorical_cols.remove(TARGET_TYPE)\n",
    "\n",
    "label_encoders = {}\n",
    "for col in categorical_cols:\n",
    "    le = LabelEncoder()\n",
    "    df[col] = le.fit_transform(df[col])\n",
    "    label_encoders[col] = le\n",
    "    print(f\"Encoded column: {col}\")\n",
    "\n",
    "# Normalize numerical features\n",
    "numerical_cols = df.select_dtypes(include=['int64', 'float64']).columns.tolist()\n",
    "if TARGET_LABEL in numerical_cols:\n",
    "    numerical_cols.remove(TARGET_LABEL)\n",
    "\n",
    "print(f\"\\nCategorical columns: {categorical_cols}\")\n",
    "print(f\"Numerical columns: {numerical_cols}\")\n"
   ]
  },
  {
   "cell_type": "code",
   "execution_count": 2,
   "id": "05742498",
   "metadata": {},
   "outputs": [
    {
     "name": "stdout",
     "output_type": "stream",
     "text": [
      "Feature shape (flat): (441043, 44)\n",
      "Multi-class target shape: (441043,)\n",
      "Multi-class target class distribution:\n",
      "Counter({np.int64(5): 300000, np.int64(0): 20000, np.int64(1): 20000, np.int64(2): 20000, np.int64(3): 20000, np.int64(6): 20000, np.int64(7): 20000, np.int64(8): 20000, np.int64(4): 1043})\n"
     ]
    }
   ],
   "source": [
    "# binary_y = df[TARGET_LABEL].values\n",
    "type_encoder = LabelEncoder()\n",
    "y_multiclass_encoded = type_encoder.fit_transform(df[TARGET_TYPE])\n",
    "num_classes = len(le.classes_)\n",
    "# Convert to one-hot encoding for Keras if using categorical_crossentropy\n",
    "y_multiclass_onehot = to_categorical(y_multiclass_encoded)\n",
    "\n",
    "y_multiclass_labels = np.argmax(y_multiclass_onehot, axis=1)\n",
    "\n",
    "# Drop targets from features\n",
    "X = df.drop(columns=[TARGET_LABEL, TARGET_TYPE]).values\n",
    "print(\"Feature shape (flat):\", X.shape)\n",
    "# print(\"Binary target shape:\", binary_y.shape)\n",
    "print(\"Multi-class target shape:\", y_multiclass_labels.shape)\n",
    "\n",
    "# print the class distribution of binary_y and y_multiclass_labels\n",
    "# print(\"Binary target class distribution:\")\n",
    "# print(Counter(binary_y))\n",
    "print(\"Multi-class target class distribution:\")\n",
    "print(Counter(y_multiclass_labels))"
   ]
  },
  {
   "cell_type": "code",
   "execution_count": 3,
   "id": "0ade1653",
   "metadata": {},
   "outputs": [
    {
     "name": "stdout",
     "output_type": "stream",
     "text": [
      "\n",
      "X_train shape: (352834, 44)\n",
      "y_train_multiclass labels shape: (352834, 9)\n",
      "X_test  shape: (88209, 44)\n",
      "y_test_multiclass labels shape: (88209, 9)\n",
      "Multi-class target class distribution (train):\n",
      "Counter({np.int64(5): 240000, np.int64(0): 16000, np.int64(6): 16000, np.int64(7): 16000, np.int64(8): 16000, np.int64(2): 16000, np.int64(1): 16000, np.int64(3): 16000, np.int64(4): 834})\n",
      "Multi-class target class distribution (test):\n",
      "Counter({np.int64(5): 60000, np.int64(1): 4000, np.int64(3): 4000, np.int64(6): 4000, np.int64(0): 4000, np.int64(8): 4000, np.int64(7): 4000, np.int64(2): 4000, np.int64(4): 209})\n",
      "Scaling complete.\n"
     ]
    }
   ],
   "source": [
    "# 1. Split BEFORE SMOTE (to avoid leakage)\n",
    "# ----------------------------------------\n",
    "X_train, X_test, y_train_multi, y_test_multi = train_test_split(\n",
    "    X,\n",
    "    y_multiclass_onehot,\n",
    "    test_size=0.2,\n",
    "    random_state=42,\n",
    "    stratify=y_multiclass_encoded  # stratify on binary for this example\n",
    ")\n",
    "\n",
    "# Reset indices\n",
    "X_train = pd.DataFrame(X_train).reset_index(drop=True).values\n",
    "X_test = pd.DataFrame(X_test).reset_index(drop=True).values\n",
    "\n",
    "print(f\"\\nX_train shape: {X_train.shape}\")\n",
    "print(f\"y_train_multiclass labels shape: {y_train_multi.shape}\")\n",
    "print(f\"X_test  shape: {X_test.shape}\")\n",
    "print(f\"y_test_multiclass labels shape: {y_test_multi.shape}\")\n",
    "\n",
    "# print the class distribution of binary_y and y_multiclass\n",
    "# print the class distribution of binary_y and y_multiclass\n",
    "print(\"Multi-class target class distribution (train):\")\n",
    "print(Counter(np.argmax(y_train_multi, axis=1)))\n",
    "print(\"Multi-class target class distribution (test):\")\n",
    "print(Counter(np.argmax(y_test_multi, axis=1)))\n",
    "\n",
    "# scaling the training data\n",
    "scaler = MinMaxScaler()\n",
    "X_train = scaler.fit_transform(X_train)\n",
    "X_test = scaler.transform(X_test)\n",
    "\n",
    "print(\"Scaling complete.\")"
   ]
  },
  {
   "cell_type": "code",
   "execution_count": 4,
   "id": "c5844b6c",
   "metadata": {},
   "outputs": [
    {
     "name": "stdout",
     "output_type": "stream",
     "text": [
      "Total samples: 352834 | Generating 352815 sequences (window_size=20)\n",
      "\n",
      "--- Seq 1/352815 ---\n",
      "  X indices: 0 to 19\n",
      "  y index:   19 → label=[0. 0. 1. 0. 0. 0. 0. 0. 0.]\n",
      "  window.shape: (20, 44)\n",
      "\n",
      "--- Seq 2/352815 ---\n",
      "  X indices: 1 to 20\n",
      "  y index:   20 → label=[0. 0. 0. 0. 0. 1. 0. 0. 0.]\n",
      "  window.shape: (20, 44)\n",
      "\n",
      "--- Seq 3/352815 ---\n",
      "  X indices: 2 to 21\n",
      "  y index:   21 → label=[0. 0. 0. 0. 0. 1. 0. 0. 0.]\n",
      "  window.shape: (20, 44)\n",
      "\n",
      "--- Seq 4/352815 ---\n",
      "  X indices: 3 to 22\n",
      "  y index:   22 → label=[0. 0. 0. 0. 0. 1. 0. 0. 0.]\n",
      "  window.shape: (20, 44)\n",
      "\n",
      "--- Seq 5/352815 ---\n",
      "  X indices: 4 to 23\n",
      "  y index:   23 → label=[0. 0. 0. 0. 0. 1. 0. 0. 0.]\n",
      "  window.shape: (20, 44)\n",
      "\n",
      "Total sequences generated: 352815\n",
      "Total samples: 88209 | Generating 88190 sequences (window_size=20)\n",
      "\n",
      "--- Seq 1/88190 ---\n",
      "  X indices: 0 to 19\n",
      "  y index:   19 → label=[0. 0. 0. 0. 0. 1. 0. 0. 0.]\n",
      "  window.shape: (20, 44)\n",
      "\n",
      "--- Seq 2/88190 ---\n",
      "  X indices: 1 to 20\n",
      "  y index:   20 → label=[0. 0. 0. 0. 0. 1. 0. 0. 0.]\n",
      "  window.shape: (20, 44)\n",
      "\n",
      "--- Seq 3/88190 ---\n",
      "  X indices: 2 to 21\n",
      "  y index:   21 → label=[0. 0. 0. 0. 0. 1. 0. 0. 0.]\n",
      "  window.shape: (20, 44)\n",
      "\n",
      "--- Seq 4/88190 ---\n",
      "  X indices: 3 to 22\n",
      "  y index:   22 → label=[0. 0. 0. 0. 0. 1. 0. 0. 0.]\n",
      "  window.shape: (20, 44)\n",
      "\n",
      "--- Seq 5/88190 ---\n",
      "  X indices: 4 to 23\n",
      "  y index:   23 → label=[0. 0. 1. 0. 0. 0. 0. 0. 0.]\n",
      "  window.shape: (20, 44)\n",
      "\n",
      "Total sequences generated: 88190\n",
      "Train sequence shape: (352815, 20, 44)\n",
      "Test sequence shape: (88190, 20, 44)\n",
      "multi target distribution: Counter({np.int64(5): 240000, np.int64(0): 16000, np.int64(6): 16000, np.int64(7): 16000, np.int64(8): 16000, np.int64(2): 16000, np.int64(1): 16000, np.int64(3): 16000, np.int64(4): 834})\n",
      "Class distribution in y_train_seq: Counter({np.int64(5): 239988, np.int64(2): 16000, np.int64(1): 16000, np.int64(3): 16000, np.int64(6): 15999, np.int64(8): 15999, np.int64(0): 15999, np.int64(7): 15997, np.int64(4): 833})\n",
      "Class distribution in y_test_seq: Counter({np.int64(5): 59991, np.int64(2): 4000, np.int64(8): 3999, np.int64(3): 3999, np.int64(7): 3999, np.int64(6): 3998, np.int64(1): 3998, np.int64(0): 3997, np.int64(4): 209})\n"
     ]
    }
   ],
   "source": [
    "# --- Create Sequences ---\n",
    "def create_sequences(\n",
    "    X,\n",
    "    y,\n",
    "    window_size: int = 10,\n",
    "    debug: bool = False,\n",
    "    trace_limit: int = 5\n",
    "):\n",
    "    # Convert to numpy if not already\n",
    "    X = np.asarray(X)\n",
    "    y = np.asarray(y)\n",
    "\n",
    "    # Input validation\n",
    "    if len(X) != len(y):\n",
    "        raise ValueError(\"X and y must have the same number of samples\")\n",
    "    if len(X.shape) != 2:\n",
    "        raise ValueError(\"X must be a 2D array: (samples, features)\")\n",
    "    if len(y.shape) > 2:\n",
    "        raise ValueError(\"y must be a 1D or 2D array\")\n",
    "\n",
    "    X_seq, y_seq = [], []\n",
    "    total = len(X) - window_size + 1\n",
    "    if debug:\n",
    "        print(f\"Total samples: {len(X)} | Generating {total} sequences (window_size={window_size})\")\n",
    "\n",
    "    for i in range(total):\n",
    "        window = X[i : i + window_size]\n",
    "        label = y[i + window_size - 1]\n",
    "        X_seq.append(window)\n",
    "        y_seq.append(label)\n",
    "\n",
    "        if debug and i < trace_limit:\n",
    "            print(f\"\\n--- Seq {i+1}/{total} ---\")\n",
    "            print(f\"  X indices: {i} to {i+window_size-1}\")\n",
    "            print(f\"  y index:   {i+window_size-1} → label={label}\")\n",
    "            print(f\"  window.shape: {window.shape}\")\n",
    "\n",
    "    if debug:\n",
    "        print(f\"\\nTotal sequences generated: {len(X_seq)}\")\n",
    "\n",
    "    return np.array(X_seq), np.array(y_seq)\n",
    "\n",
    "\n",
    "TIMESTEPS = 20\n",
    "X_train_seq, y_train_seq = create_sequences(X_train, y_train_multi, window_size=TIMESTEPS, debug=True)\n",
    "X_test_seq, y_test_seq = create_sequences(X_test, y_test_multi, window_size=TIMESTEPS, debug=True)\n",
    "\n",
    "\n",
    "print(\"Train sequence shape:\", X_train_seq.shape)  # (samples, timesteps, features)\n",
    "print(\"Test sequence shape:\", X_test_seq.shape)\n",
    "print(\"multi target distribution:\", Counter(np.argmax(y_train_multi, axis=1)))\n",
    "\n",
    "# counters\n",
    "print(\"Class distribution in y_train_seq:\", Counter(np.argmax(y_train_seq, axis=1)))\n",
    "print(\"Class distribution in y_test_seq:\", Counter(np.argmax(y_test_seq, axis=1)))\n",
    "\n",
    "# multiclass sequence generation.\n",
    "# X_train_seq_multi, y_train_seq_multi = create_sequences(X_train, y_train_multi, debug=True)\n",
    "# X_test_seq_multi, y_test_seq_multi = create_sequences(X_test, y_test_multi, debug=True)\n"
   ]
  },
  {
   "cell_type": "code",
   "execution_count": 5,
   "id": "ce8176f5",
   "metadata": {},
   "outputs": [
    {
     "name": "stdout",
     "output_type": "stream",
     "text": [
      "Final training shapes:\n",
      "X_train_seq_final shape: (282252, 20, 44)\n",
      "y_train_seq_final shape: (282252, 9)\n",
      "X_val_seq shape: (70563, 20, 44)\n",
      "y_val_seq shape: (70563, 9)\n",
      "Final training label distributions:\n",
      "y_train_seq_final distribution: Counter({np.int64(5): 192120, np.int64(7): 12859, np.int64(2): 12851, np.int64(3): 12828, np.int64(6): 12792, np.int64(8): 12747, np.int64(0): 12710, np.int64(1): 12690, np.int64(4): 655})\n",
      "y_val_seq distribution: Counter({np.int64(5): 47868, np.int64(1): 3310, np.int64(0): 3289, np.int64(8): 3252, np.int64(6): 3207, np.int64(3): 3172, np.int64(2): 3149, np.int64(7): 3138, np.int64(4): 178})\n"
     ]
    }
   ],
   "source": [
    "from sklearn.utils import shuffle\n",
    "\n",
    "# X_train_seq_bal_shuffle, y_train_seq_bal_shuffle = shuffle(X_train_seq_bal, y_train_seq_bal, random_state=42)\n",
    "X_train_seq_bal_shuffle, y_train_seq_bal_shuffle = shuffle(X_train_seq, y_train_seq, random_state=42)\n",
    "\n",
    "val_fraction = 0.2\n",
    "n_total = X_train_seq_bal_shuffle.shape[0]\n",
    "n_val = int(n_total * val_fraction)\n",
    "\n",
    "X_val_seq = X_train_seq_bal_shuffle[-n_val:]\n",
    "y_val_seq = y_train_seq_bal_shuffle[-n_val:]\n",
    "X_train_seq_final = X_train_seq_bal_shuffle[:-n_val]\n",
    "y_train_seq_final = y_train_seq_bal_shuffle[:-n_val]\n",
    "\n",
    "print(\"Final training shapes:\")\n",
    "print(f\"X_train_seq_final shape: {X_train_seq_final.shape}\")\n",
    "print(f\"y_train_seq_final shape: {y_train_seq_final.shape}\")\n",
    "print(f\"X_val_seq shape: {X_val_seq.shape}\")\n",
    "print(f\"y_val_seq shape: {y_val_seq.shape}\")\n",
    "\n",
    "print(\"Final training label distributions:\")\n",
    "print(f\"y_train_seq_final distribution: {Counter(np.argmax(y_train_seq_final, axis=1))}\")\n",
    "print(f\"y_val_seq distribution: {Counter(np.argmax(y_val_seq, axis=1))}\")"
   ]
  },
  {
   "cell_type": "code",
   "execution_count": 6,
   "id": "8c1cd211",
   "metadata": {},
   "outputs": [
    {
     "name": "stderr",
     "output_type": "stream",
     "text": [
      "WARNING: All log messages before absl::InitializeLog() is called are written to STDERR\n",
      "I0000 00:00:1756908304.710665    3750 gpu_device.cc:2020] Created device /job:localhost/replica:0/task:0/device:GPU:0 with 2278 MB memory:  -> device: 0, name: NVIDIA GeForce RTX 2050, pci bus id: 0000:01:00.0, compute capability: 8.6\n",
      "/home/jinesh-subedi/htdocs/thesis/thesisStudy/lib/python3.12/site-packages/keras/src/layers/rnn/bidirectional.py:107: UserWarning: Do not pass an `input_shape`/`input_dim` argument to a layer. When using Sequential models, prefer using an `Input(shape)` object as the first layer in the model instead.\n",
      "  super().__init__(**kwargs)\n"
     ]
    },
    {
     "data": {
      "text/html": [
       "<pre style=\"white-space:pre;overflow-x:auto;line-height:normal;font-family:Menlo,'DejaVu Sans Mono',consolas,'Courier New',monospace\"><span style=\"font-weight: bold\">Model: \"sequential\"</span>\n",
       "</pre>\n"
      ],
      "text/plain": [
       "\u001b[1mModel: \"sequential\"\u001b[0m\n"
      ]
     },
     "metadata": {},
     "output_type": "display_data"
    },
    {
     "data": {
      "text/html": [
       "<pre style=\"white-space:pre;overflow-x:auto;line-height:normal;font-family:Menlo,'DejaVu Sans Mono',consolas,'Courier New',monospace\">┏━━━━━━━━━━━━━━━━━━━━━━━━━━━━━━━━━┳━━━━━━━━━━━━━━━━━━━━━━━━┳━━━━━━━━━━━━━━━┓\n",
       "┃<span style=\"font-weight: bold\"> Layer (type)                    </span>┃<span style=\"font-weight: bold\"> Output Shape           </span>┃<span style=\"font-weight: bold\">       Param # </span>┃\n",
       "┡━━━━━━━━━━━━━━━━━━━━━━━━━━━━━━━━━╇━━━━━━━━━━━━━━━━━━━━━━━━╇━━━━━━━━━━━━━━━┩\n",
       "│ bidirectional (<span style=\"color: #0087ff; text-decoration-color: #0087ff\">Bidirectional</span>)   │ (<span style=\"color: #00d7ff; text-decoration-color: #00d7ff\">None</span>, <span style=\"color: #00af00; text-decoration-color: #00af00\">20</span>, <span style=\"color: #00af00; text-decoration-color: #00af00\">256</span>)        │       <span style=\"color: #00af00; text-decoration-color: #00af00\">177,152</span> │\n",
       "├─────────────────────────────────┼────────────────────────┼───────────────┤\n",
       "│ layer_normalization             │ (<span style=\"color: #00d7ff; text-decoration-color: #00d7ff\">None</span>, <span style=\"color: #00af00; text-decoration-color: #00af00\">20</span>, <span style=\"color: #00af00; text-decoration-color: #00af00\">256</span>)        │           <span style=\"color: #00af00; text-decoration-color: #00af00\">512</span> │\n",
       "│ (<span style=\"color: #0087ff; text-decoration-color: #0087ff\">LayerNormalization</span>)            │                        │               │\n",
       "├─────────────────────────────────┼────────────────────────┼───────────────┤\n",
       "│ dropout (<span style=\"color: #0087ff; text-decoration-color: #0087ff\">Dropout</span>)               │ (<span style=\"color: #00d7ff; text-decoration-color: #00d7ff\">None</span>, <span style=\"color: #00af00; text-decoration-color: #00af00\">20</span>, <span style=\"color: #00af00; text-decoration-color: #00af00\">256</span>)        │             <span style=\"color: #00af00; text-decoration-color: #00af00\">0</span> │\n",
       "├─────────────────────────────────┼────────────────────────┼───────────────┤\n",
       "│ bidirectional_1 (<span style=\"color: #0087ff; text-decoration-color: #0087ff\">Bidirectional</span>) │ (<span style=\"color: #00d7ff; text-decoration-color: #00d7ff\">None</span>, <span style=\"color: #00af00; text-decoration-color: #00af00\">128</span>)            │       <span style=\"color: #00af00; text-decoration-color: #00af00\">164,352</span> │\n",
       "├─────────────────────────────────┼────────────────────────┼───────────────┤\n",
       "│ layer_normalization_1           │ (<span style=\"color: #00d7ff; text-decoration-color: #00d7ff\">None</span>, <span style=\"color: #00af00; text-decoration-color: #00af00\">128</span>)            │           <span style=\"color: #00af00; text-decoration-color: #00af00\">256</span> │\n",
       "│ (<span style=\"color: #0087ff; text-decoration-color: #0087ff\">LayerNormalization</span>)            │                        │               │\n",
       "├─────────────────────────────────┼────────────────────────┼───────────────┤\n",
       "│ dropout_1 (<span style=\"color: #0087ff; text-decoration-color: #0087ff\">Dropout</span>)             │ (<span style=\"color: #00d7ff; text-decoration-color: #00d7ff\">None</span>, <span style=\"color: #00af00; text-decoration-color: #00af00\">128</span>)            │             <span style=\"color: #00af00; text-decoration-color: #00af00\">0</span> │\n",
       "├─────────────────────────────────┼────────────────────────┼───────────────┤\n",
       "│ dense (<span style=\"color: #0087ff; text-decoration-color: #0087ff\">Dense</span>)                   │ (<span style=\"color: #00d7ff; text-decoration-color: #00d7ff\">None</span>, <span style=\"color: #00af00; text-decoration-color: #00af00\">64</span>)             │         <span style=\"color: #00af00; text-decoration-color: #00af00\">8,256</span> │\n",
       "├─────────────────────────────────┼────────────────────────┼───────────────┤\n",
       "│ dense_1 (<span style=\"color: #0087ff; text-decoration-color: #0087ff\">Dense</span>)                 │ (<span style=\"color: #00d7ff; text-decoration-color: #00d7ff\">None</span>, <span style=\"color: #00af00; text-decoration-color: #00af00\">9</span>)              │           <span style=\"color: #00af00; text-decoration-color: #00af00\">585</span> │\n",
       "└─────────────────────────────────┴────────────────────────┴───────────────┘\n",
       "</pre>\n"
      ],
      "text/plain": [
       "┏━━━━━━━━━━━━━━━━━━━━━━━━━━━━━━━━━┳━━━━━━━━━━━━━━━━━━━━━━━━┳━━━━━━━━━━━━━━━┓\n",
       "┃\u001b[1m \u001b[0m\u001b[1mLayer (type)                   \u001b[0m\u001b[1m \u001b[0m┃\u001b[1m \u001b[0m\u001b[1mOutput Shape          \u001b[0m\u001b[1m \u001b[0m┃\u001b[1m \u001b[0m\u001b[1m      Param #\u001b[0m\u001b[1m \u001b[0m┃\n",
       "┡━━━━━━━━━━━━━━━━━━━━━━━━━━━━━━━━━╇━━━━━━━━━━━━━━━━━━━━━━━━╇━━━━━━━━━━━━━━━┩\n",
       "│ bidirectional (\u001b[38;5;33mBidirectional\u001b[0m)   │ (\u001b[38;5;45mNone\u001b[0m, \u001b[38;5;34m20\u001b[0m, \u001b[38;5;34m256\u001b[0m)        │       \u001b[38;5;34m177,152\u001b[0m │\n",
       "├─────────────────────────────────┼────────────────────────┼───────────────┤\n",
       "│ layer_normalization             │ (\u001b[38;5;45mNone\u001b[0m, \u001b[38;5;34m20\u001b[0m, \u001b[38;5;34m256\u001b[0m)        │           \u001b[38;5;34m512\u001b[0m │\n",
       "│ (\u001b[38;5;33mLayerNormalization\u001b[0m)            │                        │               │\n",
       "├─────────────────────────────────┼────────────────────────┼───────────────┤\n",
       "│ dropout (\u001b[38;5;33mDropout\u001b[0m)               │ (\u001b[38;5;45mNone\u001b[0m, \u001b[38;5;34m20\u001b[0m, \u001b[38;5;34m256\u001b[0m)        │             \u001b[38;5;34m0\u001b[0m │\n",
       "├─────────────────────────────────┼────────────────────────┼───────────────┤\n",
       "│ bidirectional_1 (\u001b[38;5;33mBidirectional\u001b[0m) │ (\u001b[38;5;45mNone\u001b[0m, \u001b[38;5;34m128\u001b[0m)            │       \u001b[38;5;34m164,352\u001b[0m │\n",
       "├─────────────────────────────────┼────────────────────────┼───────────────┤\n",
       "│ layer_normalization_1           │ (\u001b[38;5;45mNone\u001b[0m, \u001b[38;5;34m128\u001b[0m)            │           \u001b[38;5;34m256\u001b[0m │\n",
       "│ (\u001b[38;5;33mLayerNormalization\u001b[0m)            │                        │               │\n",
       "├─────────────────────────────────┼────────────────────────┼───────────────┤\n",
       "│ dropout_1 (\u001b[38;5;33mDropout\u001b[0m)             │ (\u001b[38;5;45mNone\u001b[0m, \u001b[38;5;34m128\u001b[0m)            │             \u001b[38;5;34m0\u001b[0m │\n",
       "├─────────────────────────────────┼────────────────────────┼───────────────┤\n",
       "│ dense (\u001b[38;5;33mDense\u001b[0m)                   │ (\u001b[38;5;45mNone\u001b[0m, \u001b[38;5;34m64\u001b[0m)             │         \u001b[38;5;34m8,256\u001b[0m │\n",
       "├─────────────────────────────────┼────────────────────────┼───────────────┤\n",
       "│ dense_1 (\u001b[38;5;33mDense\u001b[0m)                 │ (\u001b[38;5;45mNone\u001b[0m, \u001b[38;5;34m9\u001b[0m)              │           \u001b[38;5;34m585\u001b[0m │\n",
       "└─────────────────────────────────┴────────────────────────┴───────────────┘\n"
      ]
     },
     "metadata": {},
     "output_type": "display_data"
    },
    {
     "data": {
      "text/html": [
       "<pre style=\"white-space:pre;overflow-x:auto;line-height:normal;font-family:Menlo,'DejaVu Sans Mono',consolas,'Courier New',monospace\"><span style=\"font-weight: bold\"> Total params: </span><span style=\"color: #00af00; text-decoration-color: #00af00\">351,113</span> (1.34 MB)\n",
       "</pre>\n"
      ],
      "text/plain": [
       "\u001b[1m Total params: \u001b[0m\u001b[38;5;34m351,113\u001b[0m (1.34 MB)\n"
      ]
     },
     "metadata": {},
     "output_type": "display_data"
    },
    {
     "data": {
      "text/html": [
       "<pre style=\"white-space:pre;overflow-x:auto;line-height:normal;font-family:Menlo,'DejaVu Sans Mono',consolas,'Courier New',monospace\"><span style=\"font-weight: bold\"> Trainable params: </span><span style=\"color: #00af00; text-decoration-color: #00af00\">351,113</span> (1.34 MB)\n",
       "</pre>\n"
      ],
      "text/plain": [
       "\u001b[1m Trainable params: \u001b[0m\u001b[38;5;34m351,113\u001b[0m (1.34 MB)\n"
      ]
     },
     "metadata": {},
     "output_type": "display_data"
    },
    {
     "data": {
      "text/html": [
       "<pre style=\"white-space:pre;overflow-x:auto;line-height:normal;font-family:Menlo,'DejaVu Sans Mono',consolas,'Courier New',monospace\"><span style=\"font-weight: bold\"> Non-trainable params: </span><span style=\"color: #00af00; text-decoration-color: #00af00\">0</span> (0.00 B)\n",
       "</pre>\n"
      ],
      "text/plain": [
       "\u001b[1m Non-trainable params: \u001b[0m\u001b[38;5;34m0\u001b[0m (0.00 B)\n"
      ]
     },
     "metadata": {},
     "output_type": "display_data"
    },
    {
     "name": "stdout",
     "output_type": "stream",
     "text": [
      "Epoch 1/10\n"
     ]
    },
    {
     "name": "stderr",
     "output_type": "stream",
     "text": [
      "2025-09-03 19:50:13.105469: I external/local_xla/xla/stream_executor/cuda/cuda_dnn.cc:473] Loaded cuDNN version 91200\n"
     ]
    },
    {
     "name": "stdout",
     "output_type": "stream",
     "text": [
      "\u001b[1m4411/4411\u001b[0m \u001b[32m━━━━━━━━━━━━━━━━━━━━\u001b[0m\u001b[37m\u001b[0m \u001b[1m168s\u001b[0m 37ms/step - accuracy: 0.5848 - auc: 0.9139 - loss: 1.5430 - precision: 0.7620 - recall: 0.4621 - val_accuracy: 0.7841 - val_auc: 0.9638 - val_loss: 0.7225 - val_precision: 0.8398 - val_recall: 0.7154 - learning_rate: 1.0000e-04\n",
      "Epoch 2/10\n",
      "\u001b[1m4411/4411\u001b[0m \u001b[32m━━━━━━━━━━━━━━━━━━━━\u001b[0m\u001b[37m\u001b[0m \u001b[1m162s\u001b[0m 37ms/step - accuracy: 0.8118 - auc: 0.9760 - loss: 0.8073 - precision: 0.8540 - recall: 0.7744 - val_accuracy: 0.8830 - val_auc: 0.9855 - val_loss: 0.4234 - val_precision: 0.8968 - val_recall: 0.8685 - learning_rate: 1.0000e-04\n",
      "Epoch 3/10\n",
      "\u001b[1m4411/4411\u001b[0m \u001b[32m━━━━━━━━━━━━━━━━━━━━\u001b[0m\u001b[37m\u001b[0m \u001b[1m166s\u001b[0m 38ms/step - accuracy: 0.8743 - auc: 0.9877 - loss: 0.5017 - precision: 0.8928 - recall: 0.8589 - val_accuracy: 0.9129 - val_auc: 0.9894 - val_loss: 0.3214 - val_precision: 0.9219 - val_recall: 0.9044 - learning_rate: 1.0000e-04\n",
      "Epoch 4/10\n",
      "\u001b[1m4411/4411\u001b[0m \u001b[32m━━━━━━━━━━━━━━━━━━━━\u001b[0m\u001b[37m\u001b[0m \u001b[1m166s\u001b[0m 38ms/step - accuracy: 0.9013 - auc: 0.9907 - loss: 0.3634 - precision: 0.9129 - recall: 0.8907 - val_accuracy: 0.9231 - val_auc: 0.9912 - val_loss: 0.2711 - val_precision: 0.9291 - val_recall: 0.9176 - learning_rate: 1.0000e-04\n",
      "Epoch 5/10\n",
      "\u001b[1m4411/4411\u001b[0m \u001b[32m━━━━━━━━━━━━━━━━━━━━\u001b[0m\u001b[37m\u001b[0m \u001b[1m166s\u001b[0m 38ms/step - accuracy: 0.9165 - auc: 0.9921 - loss: 0.2887 - precision: 0.9250 - recall: 0.9081 - val_accuracy: 0.9356 - val_auc: 0.9924 - val_loss: 0.2359 - val_precision: 0.9405 - val_recall: 0.9284 - learning_rate: 1.0000e-04\n",
      "Epoch 6/10\n",
      "\u001b[1m4411/4411\u001b[0m \u001b[32m━━━━━━━━━━━━━━━━━━━━\u001b[0m\u001b[37m\u001b[0m \u001b[1m166s\u001b[0m 38ms/step - accuracy: 0.9282 - auc: 0.9931 - loss: 0.2471 - precision: 0.9352 - recall: 0.9213 - val_accuracy: 0.9521 - val_auc: 0.9929 - val_loss: 0.2032 - val_precision: 0.9559 - val_recall: 0.9494 - learning_rate: 1.0000e-04\n",
      "Epoch 7/10\n",
      "\u001b[1m4411/4411\u001b[0m \u001b[32m━━━━━━━━━━━━━━━━━━━━\u001b[0m\u001b[37m\u001b[0m \u001b[1m166s\u001b[0m 38ms/step - accuracy: 0.9374 - auc: 0.9939 - loss: 0.2114 - precision: 0.9431 - recall: 0.9319 - val_accuracy: 0.9512 - val_auc: 0.9937 - val_loss: 0.1956 - val_precision: 0.9545 - val_recall: 0.9486 - learning_rate: 1.0000e-04\n",
      "Epoch 8/10\n",
      "\u001b[1m4411/4411\u001b[0m \u001b[32m━━━━━━━━━━━━━━━━━━━━\u001b[0m\u001b[37m\u001b[0m \u001b[1m167s\u001b[0m 38ms/step - accuracy: 0.9439 - auc: 0.9944 - loss: 0.1967 - precision: 0.9487 - recall: 0.9395 - val_accuracy: 0.9615 - val_auc: 0.9943 - val_loss: 0.1723 - val_precision: 0.9649 - val_recall: 0.9585 - learning_rate: 1.0000e-04\n",
      "Epoch 9/10\n",
      "\u001b[1m4411/4411\u001b[0m \u001b[32m━━━━━━━━━━━━━━━━━━━━\u001b[0m\u001b[37m\u001b[0m \u001b[1m167s\u001b[0m 38ms/step - accuracy: 0.9486 - auc: 0.9947 - loss: 0.1718 - precision: 0.9530 - recall: 0.9444 - val_accuracy: 0.9622 - val_auc: 0.9945 - val_loss: 0.1700 - val_precision: 0.9644 - val_recall: 0.9603 - learning_rate: 1.0000e-04\n",
      "Epoch 10/10\n",
      "\u001b[1m4411/4411\u001b[0m \u001b[32m━━━━━━━━━━━━━━━━━━━━\u001b[0m\u001b[37m\u001b[0m \u001b[1m167s\u001b[0m 38ms/step - accuracy: 0.9510 - auc: 0.9950 - loss: 0.1587 - precision: 0.9549 - recall: 0.9472 - val_accuracy: 0.9651 - val_auc: 0.9946 - val_loss: 0.1577 - val_precision: 0.9676 - val_recall: 0.9623 - learning_rate: 1.0000e-04\n",
      "2756/2756 - 28s - 10ms/step - accuracy: 0.9647 - auc: 0.9947 - loss: 0.1582 - precision: 0.9670 - recall: 0.9622\n",
      "Test Loss: 0.15816934406757355\n",
      "Test Accuracy: 0.964655876159668\n"
     ]
    }
   ],
   "source": [
    "from tensorflow.keras.models import Sequential\n",
    "from tensorflow.keras.layers import Bidirectional, LSTM, Dense, Dropout\n",
    "from tensorflow.keras.callbacks import EarlyStopping, ReduceLROnPlateau\n",
    "from sklearn.utils.class_weight import compute_class_weight\n",
    "from tensorflow.keras.metrics import Precision\n",
    "from tensorflow.keras.layers import LayerNormalization\n",
    "from tensorflow.keras.regularizers import l2\n",
    "from tensorflow.keras.optimizers import Adam\n",
    "from tensorflow.keras.metrics import Recall, AUC\n",
    "from sklearn.metrics import (confusion_matrix, accuracy_score, recall_score, precision_score, f1_score, matthews_corrcoef, roc_auc_score, classification_report, roc_curve, precision_recall_curve)\n",
    "import matplotlib.pyplot as plt\n",
    "\n",
    "# Model definition\n",
    "model = Sequential([\n",
    "    Bidirectional(LSTM(\n",
    "        128, \n",
    "        return_sequences=True,  # Only final output\n",
    "        recurrent_dropout=0.2,\n",
    "        recurrent_activation='sigmoid',\n",
    "        activation='tanh'\n",
    "    ),\n",
    "    input_shape=(X_train_seq_final.shape[1], X_train_seq_final.shape[2])),\n",
    "    LayerNormalization(),\n",
    "    Dropout(0.2),\n",
    "    Bidirectional(LSTM(64)),\n",
    "    LayerNormalization(),\n",
    "    Dropout(0.2),\n",
    "    Dense(64, activation='relu'),\n",
    "    Dense(9, activation='softmax')\n",
    "])\n",
    "model.summary()\n",
    "\n",
    "optimizer = Adam(\n",
    "    learning_rate=0.0001,  # Very low initial LR\n",
    "    clipnorm=1.0,  # Gradient clipping to prevent exploding gradients\n",
    "    weight_decay=1e-4\n",
    ")\n",
    "\n",
    "model.compile(\n",
    "    optimizer=optimizer,\n",
    "    loss='categorical_crossentropy',\n",
    "    metrics=[\n",
    "        'accuracy',\n",
    "        AUC(name='auc'),\n",
    "        Recall(name='recall'),\n",
    "        Precision(name='precision')\n",
    "    ]\n",
    ")\n",
    "\n",
    "# Early stopping\n",
    "early_stopping = EarlyStopping(monitor='val_loss', patience=10, mode='min', restore_best_weights=True)\n",
    "reduce_lr = ReduceLROnPlateau(monitor='val_loss', factor=0.5, patience=5, min_lr=1e-6, verbose=1)\n",
    "\n",
    "class_weights = compute_class_weight(\n",
    "    class_weight=\"balanced\",\n",
    "    classes=np.arange(y_multiclass_onehot.shape[1]),\n",
    "    y=y_multiclass_onehot.argmax(axis=1)\n",
    ")\n",
    "class_weight_dict = dict(enumerate(class_weights))\n",
    "# 🚀 Boost class 4 priority (e.g., 2x higher than balanced weight)\n",
    "class_weight_dict[4] *= 2.0\n",
    "\n",
    "# Train\n",
    "history = model.fit(\n",
    "    X_train_seq_final, y_train_seq_final,\n",
    "    validation_data=(X_val_seq, y_val_seq),\n",
    "    epochs=10,\n",
    "    batch_size=64,\n",
    "    shuffle=False,  # Important for time series\n",
    "    callbacks=[early_stopping, reduce_lr],\n",
    "    class_weight=class_weight_dict,\n",
    "    verbose=1\n",
    ")\n",
    "\n",
    "results = model.evaluate(X_test_seq, y_test_seq, verbose=2)\n",
    "\n",
    "print(\"Test Loss: {}\".format(results[0]))\n",
    "print(\"Test Accuracy: {}\".format(results[1]))\n"
   ]
  },
  {
   "cell_type": "code",
   "execution_count": 7,
   "id": "04980ee7",
   "metadata": {},
   "outputs": [
    {
     "name": "stdout",
     "output_type": "stream",
     "text": [
      "\u001b[1m2756/2756\u001b[0m \u001b[32m━━━━━━━━━━━━━━━━━━━━\u001b[0m\u001b[37m\u001b[0m \u001b[1m26s\u001b[0m 9ms/step\n",
      "              precision    recall  f1-score   support\n",
      "\n",
      "           0       0.98      1.00      0.99      3997\n",
      "           1       0.91      0.97      0.94      3998\n",
      "           2       0.92      0.97      0.94      4000\n",
      "           3       0.91      0.98      0.95      3999\n",
      "           4       0.23      0.95      0.37       209\n",
      "           5       1.00      0.96      0.98     59991\n",
      "           6       0.89      1.00      0.94      3998\n",
      "           7       0.95      0.99      0.97      3999\n",
      "           8       0.91      0.92      0.91      3999\n",
      "\n",
      "    accuracy                           0.96     88190\n",
      "   macro avg       0.85      0.97      0.89     88190\n",
      "weighted avg       0.97      0.96      0.97     88190\n",
      "\n",
      "[[ 3997     0     0     0     0     0     0     0     0]\n",
      " [    0  3866     0    97     2    14     7     9     3]\n",
      " [    0     0  3866    15     0   119     0     0     0]\n",
      " [    0    16    36  3937     0     7     1     2     0]\n",
      " [    0     0     0     0   199     9     0     0     1]\n",
      " [   74   358   288   268   653 57551   205   218   376]\n",
      " [    1     0     0     0     0     7  3986     0     4]\n",
      " [    0     0    10     0     1    11     0  3977     0]\n",
      " [    0     1     0     1     0    11   292     0  3694]]\n",
      "False Negative Rate (FNR) per class: [np.float64(0.0), np.float64(0.03301650825412707), np.float64(0.0335), np.float64(0.015503875968992248), np.float64(0.04784688995215311), np.float64(0.04067276758180394), np.float64(0.0030015007503751876), np.float64(0.005501375343835959), np.float64(0.0762690672668167)]\n",
      "False Positive Rate (FPR) per class: [np.float64(0.0008908103999144822), np.float64(0.004454104903078677), np.float64(0.003967217009145979), np.float64(0.00452542433276716), np.float64(0.007456155306259306), np.float64(0.006312280577325437), np.float64(0.0059981946028126185), np.float64(0.002720005701321994), np.float64(0.004561057595229894)]\n"
     ]
    },
    {
     "data": {
      "image/png": "[encoded data removed]",
      "text/plain": [
       "<Figure size 1200x600 with 1 Axes>"
      ]
     },
     "metadata": {},
     "output_type": "display_data"
    }
   ],
   "source": [
    "\n",
    "# Print classification report\n",
    "y_pred_probs = model.predict(X_test_seq)\n",
    "y_pred_classes = y_pred_probs.argmax(axis=1)\n",
    "y_true_classes = y_test_seq.argmax(axis=1)\n",
    "print(classification_report(y_true_classes, y_pred_classes))\n",
    "\n",
    "#confusion matrix\n",
    "cm = confusion_matrix(y_true_classes, y_pred_classes)\n",
    "print(cm)\n",
    "\n",
    "# For multi-class, FNR and FPR are not simply tn, fp, fn, tp.\n",
    "# If you want per-class FNR/FPR:\n",
    "fnr = []\n",
    "fpr = []\n",
    "for i in range(cm.shape[0]):\n",
    "    fn = cm[i, :].sum() - cm[i, i]\n",
    "    tp = cm[i, i]\n",
    "    fp = cm[:, i].sum() - cm[i, i]\n",
    "    tn = cm.sum() - (tp + fn + fp)\n",
    "    fnr.append(fn / (fn + tp) if (fn + tp) > 0 else 0)\n",
    "    fpr.append(fp / (fp + tn) if (fp + tn) > 0 else 0)\n",
    "print(\"False Negative Rate (FNR) per class:\", fnr)\n",
    "print(\"False Positive Rate (FPR) per class:\", fpr)\n",
    "\n",
    "# plot validation loss and accuracy\n",
    "plt.figure(figsize=(12, 6))\n",
    "plt.plot(history.history['loss'], label='Train Loss')\n",
    "plt.plot(history.history['val_loss'], label='Validation Loss')\n",
    "plt.plot(history.history['accuracy'], label='Train Accuracy')\n",
    "plt.plot(history.history['val_accuracy'], label='Validation Accuracy')\n",
    "plt.title('Training and Validation Loss and Accuracy')\n",
    "plt.xlabel('Epoch')\n",
    "plt.ylabel('Loss/Accuracy')\n",
    "plt.legend()\n",
    "plt.show()\n"
   ]
  },
  {
   "cell_type": "code",
   "execution_count": 8,
   "id": "08b1efa1",
   "metadata": {},
   "outputs": [
    {
     "name": "stdout",
     "output_type": "stream",
     "text": [
      "Fitting 2 folds for each of 1 candidates, totalling 2 fits\n"
     ]
    },
    {
     "name": "stderr",
     "output_type": "stream",
     "text": [
      "/home/jinesh-subedi/htdocs/thesis/thesisStudy/lib/python3.12/site-packages/keras/src/layers/rnn/bidirectional.py:107: UserWarning: Do not pass an `input_shape`/`input_dim` argument to a layer. When using Sequential models, prefer using an `Input(shape)` object as the first layer in the model instead.\n",
      "  super().__init__(**kwargs)\n"
     ]
    },
    {
     "name": "stdout",
     "output_type": "stream",
     "text": [
      "Epoch 1/6\n",
      "\u001b[1m1765/1765\u001b[0m \u001b[32m━━━━━━━━━━━━━━━━━━━━\u001b[0m\u001b[37m\u001b[0m \u001b[1m76s\u001b[0m 41ms/step - accuracy: 0.4055 - loss: 3.2449 - val_accuracy: 0.6667 - val_loss: 0.8954\n",
      "Epoch 2/6\n",
      "\u001b[1m1765/1765\u001b[0m \u001b[32m━━━━━━━━━━━━━━━━━━━━\u001b[0m\u001b[37m\u001b[0m \u001b[1m71s\u001b[0m 40ms/step - accuracy: 0.7000 - loss: 2.3052 - val_accuracy: 0.7910 - val_loss: 0.7083\n",
      "Epoch 3/6\n",
      "\u001b[1m1765/1765\u001b[0m \u001b[32m━━━━━━━━━━━━━━━━━━━━\u001b[0m\u001b[37m\u001b[0m \u001b[1m71s\u001b[0m 40ms/step - accuracy: 0.7771 - loss: 1.8398 - val_accuracy: 0.8570 - val_loss: 0.5261\n",
      "Epoch 4/6\n",
      "\u001b[1m1765/1765\u001b[0m \u001b[32m━━━━━━━━━━━━━━━━━━━━\u001b[0m\u001b[37m\u001b[0m \u001b[1m71s\u001b[0m 40ms/step - accuracy: 0.8255 - loss: 1.2783 - val_accuracy: 0.8786 - val_loss: 0.4408\n",
      "Epoch 5/6\n",
      "\u001b[1m1765/1765\u001b[0m \u001b[32m━━━━━━━━━━━━━━━━━━━━\u001b[0m\u001b[37m\u001b[0m \u001b[1m70s\u001b[0m 40ms/step - accuracy: 0.8539 - loss: 0.9768 - val_accuracy: 0.8977 - val_loss: 0.3601\n",
      "Epoch 6/6\n",
      "\u001b[1m1765/1765\u001b[0m \u001b[32m━━━━━━━━━━━━━━━━━━━━\u001b[0m\u001b[37m\u001b[0m \u001b[1m70s\u001b[0m 40ms/step - accuracy: 0.8742 - loss: 0.6932 - val_accuracy: 0.9125 - val_loss: 0.3305\n",
      "\u001b[1m2206/2206\u001b[0m \u001b[32m━━━━━━━━━━━━━━━━━━━━\u001b[0m\u001b[37m\u001b[0m \u001b[1m25s\u001b[0m 11ms/step\n",
      "[CV] END batch_size=64, epochs=6, model__dropout=0.35720287593601613, model__hidden_layer=21, model__learning_rate=0.00016553202292661593, model__lstm_units=95; total time= 7.6min\n"
     ]
    },
    {
     "name": "stderr",
     "output_type": "stream",
     "text": [
      "/home/jinesh-subedi/htdocs/thesis/thesisStudy/lib/python3.12/site-packages/keras/src/layers/rnn/bidirectional.py:107: UserWarning: Do not pass an `input_shape`/`input_dim` argument to a layer. When using Sequential models, prefer using an `Input(shape)` object as the first layer in the model instead.\n",
      "  super().__init__(**kwargs)\n"
     ]
    },
    {
     "name": "stdout",
     "output_type": "stream",
     "text": [
      "Epoch 1/6\n",
      "\u001b[1m1765/1765\u001b[0m \u001b[32m━━━━━━━━━━━━━━━━━━━━\u001b[0m\u001b[37m\u001b[0m \u001b[1m74s\u001b[0m 40ms/step - accuracy: 0.4444 - loss: 2.8000 - val_accuracy: 0.7283 - val_loss: 0.8655\n",
      "Epoch 2/6\n",
      "\u001b[1m1765/1765\u001b[0m \u001b[32m━━━━━━━━━━━━━━━━━━━━\u001b[0m\u001b[37m\u001b[0m \u001b[1m70s\u001b[0m 39ms/step - accuracy: 0.6960 - loss: 2.1409 - val_accuracy: 0.7816 - val_loss: 0.7241\n",
      "Epoch 3/6\n",
      "\u001b[1m1765/1765\u001b[0m \u001b[32m━━━━━━━━━━━━━━━━━━━━\u001b[0m\u001b[37m\u001b[0m \u001b[1m69s\u001b[0m 39ms/step - accuracy: 0.7542 - loss: 1.9087 - val_accuracy: 0.8378 - val_loss: 0.5609\n",
      "Epoch 4/6\n",
      "\u001b[1m1765/1765\u001b[0m \u001b[32m━━━━━━━━━━━━━━━━━━━━\u001b[0m\u001b[37m\u001b[0m \u001b[1m69s\u001b[0m 39ms/step - accuracy: 0.8040 - loss: 1.5616 - val_accuracy: 0.8795 - val_loss: 0.4563\n",
      "Epoch 5/6\n",
      "\u001b[1m1765/1765\u001b[0m \u001b[32m━━━━━━━━━━━━━━━━━━━━\u001b[0m\u001b[37m\u001b[0m \u001b[1m69s\u001b[0m 39ms/step - accuracy: 0.8412 - loss: 1.1874 - val_accuracy: 0.8968 - val_loss: 0.4001\n",
      "Epoch 6/6\n",
      "\u001b[1m1765/1765\u001b[0m \u001b[32m━━━━━━━━━━━━━━━━━━━━\u001b[0m\u001b[37m\u001b[0m \u001b[1m69s\u001b[0m 39ms/step - accuracy: 0.8601 - loss: 0.9055 - val_accuracy: 0.8879 - val_loss: 0.3729\n",
      "\u001b[1m2206/2206\u001b[0m \u001b[32m━━━━━━━━━━━━━━━━━━━━\u001b[0m\u001b[37m\u001b[0m \u001b[1m25s\u001b[0m 11ms/step\n",
      "[CV] END batch_size=64, epochs=6, model__dropout=0.35720287593601613, model__hidden_layer=21, model__learning_rate=0.00016553202292661593, model__lstm_units=95; total time= 7.5min\n",
      "Fitting 2 folds for each of 1 candidates, totalling 2 fits\n"
     ]
    },
    {
     "name": "stderr",
     "output_type": "stream",
     "text": [
      "/home/jinesh-subedi/htdocs/thesis/thesisStudy/lib/python3.12/site-packages/keras/src/layers/rnn/bidirectional.py:107: UserWarning: Do not pass an `input_shape`/`input_dim` argument to a layer. When using Sequential models, prefer using an `Input(shape)` object as the first layer in the model instead.\n",
      "  super().__init__(**kwargs)\n"
     ]
    },
    {
     "name": "stdout",
     "output_type": "stream",
     "text": [
      "Epoch 1/7\n",
      "\u001b[1m1765/1765\u001b[0m \u001b[32m━━━━━━━━━━━━━━━━━━━━\u001b[0m\u001b[37m\u001b[0m \u001b[1m79s\u001b[0m 43ms/step - accuracy: 0.0056 - loss: 3.0682 - val_accuracy: 0.0027 - val_loss: 2.2204\n",
      "Epoch 2/7\n",
      "\u001b[1m1765/1765\u001b[0m \u001b[32m━━━━━━━━━━━━━━━━━━━━\u001b[0m\u001b[37m\u001b[0m \u001b[1m75s\u001b[0m 42ms/step - accuracy: 0.0028 - loss: 3.0244 - val_accuracy: 0.0027 - val_loss: 2.2301\n",
      "Epoch 3/7\n",
      "\u001b[1m1765/1765\u001b[0m \u001b[32m━━━━━━━━━━━━━━━━━━━━\u001b[0m\u001b[37m\u001b[0m \u001b[1m75s\u001b[0m 42ms/step - accuracy: 0.0022 - loss: 2.9918 - val_accuracy: 0.0027 - val_loss: 2.2390\n",
      "Epoch 4/7\n",
      "\u001b[1m1765/1765\u001b[0m \u001b[32m━━━━━━━━━━━━━━━━━━━━\u001b[0m\u001b[37m\u001b[0m \u001b[1m75s\u001b[0m 42ms/step - accuracy: 0.0023 - loss: 2.9684 - val_accuracy: 0.0027 - val_loss: 2.2435\n",
      "Epoch 5/7\n",
      "\u001b[1m1765/1765\u001b[0m \u001b[32m━━━━━━━━━━━━━━━━━━━━\u001b[0m\u001b[37m\u001b[0m \u001b[1m75s\u001b[0m 42ms/step - accuracy: 0.0022 - loss: 2.9615 - val_accuracy: 0.0027 - val_loss: 2.2485\n",
      "Epoch 6/7\n",
      "\u001b[1m1765/1765\u001b[0m \u001b[32m━━━━━━━━━━━━━━━━━━━━\u001b[0m\u001b[37m\u001b[0m \u001b[1m74s\u001b[0m 42ms/step - accuracy: 0.0023 - loss: 2.9538 - val_accuracy: 0.0027 - val_loss: 2.2526\n",
      "Epoch 7/7\n",
      "\u001b[1m1765/1765\u001b[0m \u001b[32m━━━━━━━━━━━━━━━━━━━━\u001b[0m\u001b[37m\u001b[0m \u001b[1m74s\u001b[0m 42ms/step - accuracy: 0.0022 - loss: 2.9578 - val_accuracy: 0.0027 - val_loss: 2.2601\n",
      "\u001b[1m2206/2206\u001b[0m \u001b[32m━━━━━━━━━━━━━━━━━━━━\u001b[0m\u001b[37m\u001b[0m \u001b[1m26s\u001b[0m 11ms/step\n",
      "[CV] END batch_size=64, epochs=7, model__dropout=0.2938783380331291, model__hidden_layer=17, model__learning_rate=0.0007122198563859446, model__lstm_units=124; total time= 9.2min\n"
     ]
    },
    {
     "name": "stderr",
     "output_type": "stream",
     "text": [
      "/home/jinesh-subedi/htdocs/thesis/thesisStudy/lib/python3.12/site-packages/keras/src/layers/rnn/bidirectional.py:107: UserWarning: Do not pass an `input_shape`/`input_dim` argument to a layer. When using Sequential models, prefer using an `Input(shape)` object as the first layer in the model instead.\n",
      "  super().__init__(**kwargs)\n"
     ]
    },
    {
     "name": "stdout",
     "output_type": "stream",
     "text": [
      "Epoch 1/7\n",
      "\u001b[1m1765/1765\u001b[0m \u001b[32m━━━━━━━━━━━━━━━━━━━━\u001b[0m\u001b[37m\u001b[0m \u001b[1m78s\u001b[0m 42ms/step - accuracy: 0.0055 - loss: 3.0488 - val_accuracy: 0.0028 - val_loss: 2.2159\n",
      "Epoch 2/7\n",
      "\u001b[1m1765/1765\u001b[0m \u001b[32m━━━━━━━━━━━━━━━━━━━━\u001b[0m\u001b[37m\u001b[0m \u001b[1m75s\u001b[0m 43ms/step - accuracy: 0.0022 - loss: 3.0030 - val_accuracy: 0.0028 - val_loss: 2.2188\n",
      "Epoch 3/7\n",
      "\u001b[1m1765/1765\u001b[0m \u001b[32m━━━━━━━━━━━━━━━━━━━━\u001b[0m\u001b[37m\u001b[0m \u001b[1m74s\u001b[0m 42ms/step - accuracy: 0.0022 - loss: 2.9865 - val_accuracy: 0.0028 - val_loss: 2.2343\n",
      "Epoch 4/7\n",
      "\u001b[1m1765/1765\u001b[0m \u001b[32m━━━━━━━━━━━━━━━━━━━━\u001b[0m\u001b[37m\u001b[0m \u001b[1m74s\u001b[0m 42ms/step - accuracy: 0.0022 - loss: 2.9639 - val_accuracy: 0.0028 - val_loss: 2.2429\n",
      "Epoch 5/7\n",
      "\u001b[1m1765/1765\u001b[0m \u001b[32m━━━━━━━━━━━━━━━━━━━━\u001b[0m\u001b[37m\u001b[0m \u001b[1m74s\u001b[0m 42ms/step - accuracy: 0.0023 - loss: 2.9601 - val_accuracy: 0.0028 - val_loss: 2.2514\n",
      "Epoch 6/7\n",
      "\u001b[1m1765/1765\u001b[0m \u001b[32m━━━━━━━━━━━━━━━━━━━━\u001b[0m\u001b[37m\u001b[0m \u001b[1m74s\u001b[0m 42ms/step - accuracy: 0.0032 - loss: 2.9499 - val_accuracy: 0.0028 - val_loss: 2.2500\n",
      "Epoch 7/7\n",
      "\u001b[1m1765/1765\u001b[0m \u001b[32m━━━━━━━━━━━━━━━━━━━━\u001b[0m\u001b[37m\u001b[0m \u001b[1m74s\u001b[0m 42ms/step - accuracy: 0.0022 - loss: 2.9425 - val_accuracy: 0.0028 - val_loss: 2.2498\n",
      "\u001b[1m2206/2206\u001b[0m \u001b[32m━━━━━━━━━━━━━━━━━━━━\u001b[0m\u001b[37m\u001b[0m \u001b[1m26s\u001b[0m 12ms/step\n",
      "[CV] END batch_size=64, epochs=7, model__dropout=0.2938783380331291, model__hidden_layer=17, model__learning_rate=0.0007122198563859446, model__lstm_units=124; total time= 9.2min\n",
      "Fitting 2 folds for each of 1 candidates, totalling 2 fits\n"
     ]
    },
    {
     "name": "stderr",
     "output_type": "stream",
     "text": [
      "/home/jinesh-subedi/htdocs/thesis/thesisStudy/lib/python3.12/site-packages/keras/src/layers/rnn/bidirectional.py:107: UserWarning: Do not pass an `input_shape`/`input_dim` argument to a layer. When using Sequential models, prefer using an `Input(shape)` object as the first layer in the model instead.\n",
      "  super().__init__(**kwargs)\n"
     ]
    },
    {
     "name": "stdout",
     "output_type": "stream",
     "text": [
      "Epoch 1/10\n",
      "\u001b[1m883/883\u001b[0m \u001b[32m━━━━━━━━━━━━━━━━━━━━\u001b[0m\u001b[37m\u001b[0m \u001b[1m40s\u001b[0m 41ms/step - accuracy: 0.0085 - loss: 2.8636 - val_accuracy: 0.0027 - val_loss: 2.4246\n",
      "Epoch 2/10\n",
      "\u001b[1m883/883\u001b[0m \u001b[32m━━━━━━━━━━━━━━━━━━━━\u001b[0m\u001b[37m\u001b[0m \u001b[1m36s\u001b[0m 41ms/step - accuracy: 0.0022 - loss: 2.7843 - val_accuracy: 0.0027 - val_loss: 2.5254\n",
      "Epoch 3/10\n",
      "\u001b[1m883/883\u001b[0m \u001b[32m━━━━━━━━━━━━━━━━━━━━\u001b[0m\u001b[37m\u001b[0m \u001b[1m36s\u001b[0m 40ms/step - accuracy: 0.0022 - loss: 2.7801 - val_accuracy: 0.0027 - val_loss: 2.4693\n",
      "Epoch 4/10\n",
      "\u001b[1m883/883\u001b[0m \u001b[32m━━━━━━━━━━━━━━━━━━━━\u001b[0m\u001b[37m\u001b[0m \u001b[1m36s\u001b[0m 40ms/step - accuracy: 0.0022 - loss: 2.7801 - val_accuracy: 0.0027 - val_loss: 2.4545\n",
      "Epoch 5/10\n",
      "\u001b[1m883/883\u001b[0m \u001b[32m━━━━━━━━━━━━━━━━━━━━\u001b[0m\u001b[37m\u001b[0m \u001b[1m36s\u001b[0m 40ms/step - accuracy: 0.0022 - loss: 2.7820 - val_accuracy: 0.0027 - val_loss: 2.4923\n",
      "Epoch 6/10\n",
      "\u001b[1m883/883\u001b[0m \u001b[32m━━━━━━━━━━━━━━━━━━━━\u001b[0m\u001b[37m\u001b[0m \u001b[1m36s\u001b[0m 40ms/step - accuracy: 0.0022 - loss: 2.7793 - val_accuracy: 0.0027 - val_loss: 2.3985\n",
      "Epoch 7/10\n",
      "\u001b[1m883/883\u001b[0m \u001b[32m━━━━━━━━━━━━━━━━━━━━\u001b[0m\u001b[37m\u001b[0m \u001b[1m36s\u001b[0m 41ms/step - accuracy: 0.0022 - loss: 2.7821 - val_accuracy: 0.0027 - val_loss: 2.4701\n",
      "Epoch 8/10\n",
      "\u001b[1m883/883\u001b[0m \u001b[32m━━━━━━━━━━━━━━━━━━━━\u001b[0m\u001b[37m\u001b[0m \u001b[1m36s\u001b[0m 40ms/step - accuracy: 0.0022 - loss: 2.7785 - val_accuracy: 0.0027 - val_loss: 2.4997\n",
      "Epoch 9/10\n",
      "\u001b[1m883/883\u001b[0m \u001b[32m━━━━━━━━━━━━━━━━━━━━\u001b[0m\u001b[37m\u001b[0m \u001b[1m36s\u001b[0m 40ms/step - accuracy: 0.0180 - loss: 3.0441 - val_accuracy: 0.0027 - val_loss: 2.3070\n",
      "Epoch 10/10\n",
      "\u001b[1m883/883\u001b[0m \u001b[32m━━━━━━━━━━━━━━━━━━━━\u001b[0m\u001b[37m\u001b[0m \u001b[1m36s\u001b[0m 41ms/step - accuracy: 0.0653 - loss: 3.6499 - val_accuracy: 0.0462 - val_loss: 2.1495\n",
      "\u001b[1m1103/1103\u001b[0m \u001b[32m━━━━━━━━━━━━━━━━━━━━\u001b[0m\u001b[37m\u001b[0m \u001b[1m14s\u001b[0m 12ms/step\n",
      "[CV] END batch_size=128, epochs=10, model__dropout=0.358910481255748, model__hidden_layer=17, model__learning_rate=0.0069720710707996255, model__lstm_units=74; total time= 6.3min\n"
     ]
    },
    {
     "name": "stderr",
     "output_type": "stream",
     "text": [
      "/home/jinesh-subedi/htdocs/thesis/thesisStudy/lib/python3.12/site-packages/keras/src/layers/rnn/bidirectional.py:107: UserWarning: Do not pass an `input_shape`/`input_dim` argument to a layer. When using Sequential models, prefer using an `Input(shape)` object as the first layer in the model instead.\n",
      "  super().__init__(**kwargs)\n"
     ]
    },
    {
     "name": "stdout",
     "output_type": "stream",
     "text": [
      "Epoch 1/10\n",
      "\u001b[1m883/883\u001b[0m \u001b[32m━━━━━━━━━━━━━━━━━━━━\u001b[0m\u001b[37m\u001b[0m \u001b[1m40s\u001b[0m 41ms/step - accuracy: 0.0415 - loss: 3.1906 - val_accuracy: 0.0456 - val_loss: 2.1542\n",
      "Epoch 2/10\n",
      "\u001b[1m883/883\u001b[0m \u001b[32m━━━━━━━━━━━━━━━━━━━━\u001b[0m\u001b[37m\u001b[0m \u001b[1m35s\u001b[0m 40ms/step - accuracy: 0.0818 - loss: 3.6564 - val_accuracy: 0.0456 - val_loss: 2.1819\n",
      "Epoch 3/10\n",
      "\u001b[1m883/883\u001b[0m \u001b[32m━━━━━━━━━━━━━━━━━━━━\u001b[0m\u001b[37m\u001b[0m \u001b[1m36s\u001b[0m 40ms/step - accuracy: 0.0828 - loss: 4.0962 - val_accuracy: 0.0468 - val_loss: 2.0441\n",
      "Epoch 4/10\n",
      "\u001b[1m883/883\u001b[0m \u001b[32m━━━━━━━━━━━━━━━━━━━━\u001b[0m\u001b[37m\u001b[0m \u001b[1m36s\u001b[0m 40ms/step - accuracy: 0.1146 - loss: 4.5268 - val_accuracy: 0.0445 - val_loss: 2.0651\n",
      "Epoch 5/10\n",
      "\u001b[1m883/883\u001b[0m \u001b[32m━━━━━━━━━━━━━━━━━━━━\u001b[0m\u001b[37m\u001b[0m \u001b[1m36s\u001b[0m 40ms/step - accuracy: 0.1160 - loss: 4.7906 - val_accuracy: 0.0445 - val_loss: 2.1779\n",
      "Epoch 6/10\n",
      "\u001b[1m883/883\u001b[0m \u001b[32m━━━━━━━━━━━━━━━━━━━━\u001b[0m\u001b[37m\u001b[0m \u001b[1m36s\u001b[0m 40ms/step - accuracy: 0.1035 - loss: 4.9723 - val_accuracy: 0.0456 - val_loss: 2.1974\n",
      "Epoch 7/10\n",
      "\u001b[1m883/883\u001b[0m \u001b[32m━━━━━━━━━━━━━━━━━━━━\u001b[0m\u001b[37m\u001b[0m \u001b[1m36s\u001b[0m 40ms/step - accuracy: 0.1102 - loss: 5.2720 - val_accuracy: 0.0470 - val_loss: 2.0000\n",
      "Epoch 8/10\n",
      "\u001b[1m883/883\u001b[0m \u001b[32m━━━━━━━━━━━━━━━━━━━━\u001b[0m\u001b[37m\u001b[0m \u001b[1m36s\u001b[0m 40ms/step - accuracy: 0.1075 - loss: 5.4460 - val_accuracy: 0.0470 - val_loss: 2.0629\n",
      "Epoch 9/10\n",
      "\u001b[1m883/883\u001b[0m \u001b[32m━━━━━━━━━━━━━━━━━━━━\u001b[0m\u001b[37m\u001b[0m \u001b[1m35s\u001b[0m 40ms/step - accuracy: 0.1019 - loss: 6.0967 - val_accuracy: 0.0458 - val_loss: 2.0926\n",
      "Epoch 10/10\n",
      "\u001b[1m883/883\u001b[0m \u001b[32m━━━━━━━━━━━━━━━━━━━━\u001b[0m\u001b[37m\u001b[0m \u001b[1m36s\u001b[0m 40ms/step - accuracy: 0.1032 - loss: 5.8513 - val_accuracy: 0.0468 - val_loss: 2.0884\n",
      "\u001b[1m1103/1103\u001b[0m \u001b[32m━━━━━━━━━━━━━━━━━━━━\u001b[0m\u001b[37m\u001b[0m \u001b[1m13s\u001b[0m 12ms/step\n",
      "[CV] END batch_size=128, epochs=10, model__dropout=0.358910481255748, model__hidden_layer=17, model__learning_rate=0.0069720710707996255, model__lstm_units=74; total time= 6.2min\n",
      "Fitting 2 folds for each of 1 candidates, totalling 2 fits\n"
     ]
    },
    {
     "name": "stderr",
     "output_type": "stream",
     "text": [
      "/home/jinesh-subedi/htdocs/thesis/thesisStudy/lib/python3.12/site-packages/keras/src/layers/rnn/bidirectional.py:107: UserWarning: Do not pass an `input_shape`/`input_dim` argument to a layer. When using Sequential models, prefer using an `Input(shape)` object as the first layer in the model instead.\n",
      "  super().__init__(**kwargs)\n"
     ]
    },
    {
     "name": "stdout",
     "output_type": "stream",
     "text": [
      "Epoch 1/7\n",
      "\u001b[1m883/883\u001b[0m \u001b[32m━━━━━━━━━━━━━━━━━━━━\u001b[0m\u001b[37m\u001b[0m \u001b[1m38s\u001b[0m 39ms/step - accuracy: 0.0055 - loss: 2.9585 - val_accuracy: 0.0027 - val_loss: 2.3501\n",
      "Epoch 2/7\n",
      "\u001b[1m883/883\u001b[0m \u001b[32m━━━━━━━━━━━━━━━━━━━━\u001b[0m\u001b[37m\u001b[0m \u001b[1m34s\u001b[0m 38ms/step - accuracy: 0.0176 - loss: 2.9501 - val_accuracy: 0.0470 - val_loss: 2.1272\n",
      "Epoch 3/7\n",
      "\u001b[1m883/883\u001b[0m \u001b[32m━━━━━━━━━━━━━━━━━━━━\u001b[0m\u001b[37m\u001b[0m \u001b[1m34s\u001b[0m 38ms/step - accuracy: 0.0796 - loss: 3.2879 - val_accuracy: 0.0027 - val_loss: 2.3220\n",
      "Epoch 4/7\n",
      "\u001b[1m883/883\u001b[0m \u001b[32m━━━━━━━━━━━━━━━━━━━━\u001b[0m\u001b[37m\u001b[0m \u001b[1m34s\u001b[0m 38ms/step - accuracy: 0.2000 - loss: 2.4757 - val_accuracy: 0.5994 - val_loss: 1.0985\n",
      "Epoch 5/7\n",
      "\u001b[1m883/883\u001b[0m \u001b[32m━━━━━━━━━━━━━━━━━━━━\u001b[0m\u001b[37m\u001b[0m \u001b[1m34s\u001b[0m 39ms/step - accuracy: 0.6124 - loss: 1.7741 - val_accuracy: 0.7244 - val_loss: 0.8101\n",
      "Epoch 6/7\n",
      "\u001b[1m883/883\u001b[0m \u001b[32m━━━━━━━━━━━━━━━━━━━━\u001b[0m\u001b[37m\u001b[0m \u001b[1m34s\u001b[0m 38ms/step - accuracy: 0.7446 - loss: 1.3882 - val_accuracy: 0.8284 - val_loss: 0.6083\n",
      "Epoch 7/7\n",
      "\u001b[1m883/883\u001b[0m \u001b[32m━━━━━━━━━━━━━━━━━━━━\u001b[0m\u001b[37m\u001b[0m \u001b[1m34s\u001b[0m 38ms/step - accuracy: 0.7808 - loss: 1.1646 - val_accuracy: 0.8811 - val_loss: 0.4767\n",
      "\u001b[1m1103/1103\u001b[0m \u001b[32m━━━━━━━━━━━━━━━━━━━━\u001b[0m\u001b[37m\u001b[0m \u001b[1m13s\u001b[0m 11ms/step\n",
      "[CV] END batch_size=128, epochs=7, model__dropout=0.2295293296967488, model__hidden_layer=21, model__learning_rate=0.002002833549389117, model__lstm_units=67; total time= 4.2min\n"
     ]
    },
    {
     "name": "stderr",
     "output_type": "stream",
     "text": [
      "/home/jinesh-subedi/htdocs/thesis/thesisStudy/lib/python3.12/site-packages/keras/src/layers/rnn/bidirectional.py:107: UserWarning: Do not pass an `input_shape`/`input_dim` argument to a layer. When using Sequential models, prefer using an `Input(shape)` object as the first layer in the model instead.\n",
      "  super().__init__(**kwargs)\n"
     ]
    },
    {
     "name": "stdout",
     "output_type": "stream",
     "text": [
      "Epoch 1/7\n",
      "\u001b[1m883/883\u001b[0m \u001b[32m━━━━━━━━━━━━━━━━━━━━\u001b[0m\u001b[37m\u001b[0m \u001b[1m39s\u001b[0m 39ms/step - accuracy: 0.0196 - loss: 2.9625 - val_accuracy: 0.0028 - val_loss: 2.3144\n",
      "Epoch 2/7\n",
      "\u001b[1m883/883\u001b[0m \u001b[32m━━━━━━━━━━━━━━━━━━━━\u001b[0m\u001b[37m\u001b[0m \u001b[1m34s\u001b[0m 38ms/step - accuracy: 0.0435 - loss: 3.0855 - val_accuracy: 0.0028 - val_loss: 2.1325\n",
      "Epoch 3/7\n",
      "\u001b[1m883/883\u001b[0m \u001b[32m━━━━━━━━━━━━━━━━━━━━\u001b[0m\u001b[37m\u001b[0m \u001b[1m34s\u001b[0m 38ms/step - accuracy: 0.0889 - loss: 2.8850 - val_accuracy: 0.2600 - val_loss: 1.5666\n",
      "Epoch 4/7\n",
      "\u001b[1m883/883\u001b[0m \u001b[32m━━━━━━━━━━━━━━━━━━━━\u001b[0m\u001b[37m\u001b[0m \u001b[1m34s\u001b[0m 38ms/step - accuracy: 0.5738 - loss: 1.7657 - val_accuracy: 0.7468 - val_loss: 0.7683\n",
      "Epoch 5/7\n",
      "\u001b[1m883/883\u001b[0m \u001b[32m━━━━━━━━━━━━━━━━━━━━\u001b[0m\u001b[37m\u001b[0m \u001b[1m34s\u001b[0m 38ms/step - accuracy: 0.7164 - loss: 1.4375 - val_accuracy: 0.8160 - val_loss: 0.6299\n",
      "Epoch 6/7\n",
      "\u001b[1m883/883\u001b[0m \u001b[32m━━━━━━━━━━━━━━━━━━━━\u001b[0m\u001b[37m\u001b[0m \u001b[1m34s\u001b[0m 38ms/step - accuracy: 0.7964 - loss: 1.0143 - val_accuracy: 0.8597 - val_loss: 0.4178\n",
      "Epoch 7/7\n",
      "\u001b[1m883/883\u001b[0m \u001b[32m━━━━━━━━━━━━━━━━━━━━\u001b[0m\u001b[37m\u001b[0m \u001b[1m34s\u001b[0m 38ms/step - accuracy: 0.8394 - loss: 0.8442 - val_accuracy: 0.8777 - val_loss: 0.3880\n",
      "\u001b[1m1103/1103\u001b[0m \u001b[32m━━━━━━━━━━━━━━━━━━━━\u001b[0m\u001b[37m\u001b[0m \u001b[1m13s\u001b[0m 11ms/step\n",
      "[CV] END batch_size=128, epochs=7, model__dropout=0.2295293296967488, model__hidden_layer=21, model__learning_rate=0.002002833549389117, model__lstm_units=67; total time= 4.3min\n",
      "Fitting 2 folds for each of 1 candidates, totalling 2 fits\n"
     ]
    },
    {
     "name": "stderr",
     "output_type": "stream",
     "text": [
      "/home/jinesh-subedi/htdocs/thesis/thesisStudy/lib/python3.12/site-packages/keras/src/layers/rnn/bidirectional.py:107: UserWarning: Do not pass an `input_shape`/`input_dim` argument to a layer. When using Sequential models, prefer using an `Input(shape)` object as the first layer in the model instead.\n",
      "  super().__init__(**kwargs)\n"
     ]
    },
    {
     "name": "stdout",
     "output_type": "stream",
     "text": [
      "Epoch 1/6\n",
      "\u001b[1m883/883\u001b[0m \u001b[32m━━━━━━━━━━━━━━━━━━━━\u001b[0m\u001b[37m\u001b[0m \u001b[1m46s\u001b[0m 48ms/step - accuracy: 0.2829 - loss: 3.0974 - val_accuracy: 0.6012 - val_loss: 1.1488\n",
      "Epoch 2/6\n",
      "\u001b[1m883/883\u001b[0m \u001b[32m━━━━━━━━━━━━━━━━━━━━\u001b[0m\u001b[37m\u001b[0m \u001b[1m42s\u001b[0m 47ms/step - accuracy: 0.6081 - loss: 2.1720 - val_accuracy: 0.6841 - val_loss: 0.9304\n",
      "Epoch 3/6\n",
      "\u001b[1m883/883\u001b[0m \u001b[32m━━━━━━━━━━━━━━━━━━━━\u001b[0m\u001b[37m\u001b[0m \u001b[1m42s\u001b[0m 47ms/step - accuracy: 0.6766 - loss: 1.8267 - val_accuracy: 0.7118 - val_loss: 0.8245\n",
      "Epoch 4/6\n",
      "\u001b[1m883/883\u001b[0m \u001b[32m━━━━━━━━━━━━━━━━━━━━\u001b[0m\u001b[37m\u001b[0m \u001b[1m42s\u001b[0m 47ms/step - accuracy: 0.7304 - loss: 1.5486 - val_accuracy: 0.8033 - val_loss: 0.7082\n",
      "Epoch 5/6\n",
      "\u001b[1m883/883\u001b[0m \u001b[32m━━━━━━━━━━━━━━━━━━━━\u001b[0m\u001b[37m\u001b[0m \u001b[1m42s\u001b[0m 47ms/step - accuracy: 0.7790 - loss: 1.2202 - val_accuracy: 0.8437 - val_loss: 0.5777\n",
      "Epoch 6/6\n",
      "\u001b[1m883/883\u001b[0m \u001b[32m━━━━━━━━━━━━━━━━━━━━\u001b[0m\u001b[37m\u001b[0m \u001b[1m42s\u001b[0m 47ms/step - accuracy: 0.8155 - loss: 0.9769 - val_accuracy: 0.8602 - val_loss: 0.5173\n",
      "\u001b[1m1103/1103\u001b[0m \u001b[32m━━━━━━━━━━━━━━━━━━━━\u001b[0m\u001b[37m\u001b[0m \u001b[1m15s\u001b[0m 14ms/step\n",
      "[CV] END batch_size=128, epochs=6, model__dropout=0.38150892628478994, model__hidden_layer=29, model__learning_rate=0.0001639226525747661, model__lstm_units=116; total time= 4.5min\n"
     ]
    },
    {
     "name": "stderr",
     "output_type": "stream",
     "text": [
      "/home/jinesh-subedi/htdocs/thesis/thesisStudy/lib/python3.12/site-packages/keras/src/layers/rnn/bidirectional.py:107: UserWarning: Do not pass an `input_shape`/`input_dim` argument to a layer. When using Sequential models, prefer using an `Input(shape)` object as the first layer in the model instead.\n",
      "  super().__init__(**kwargs)\n"
     ]
    },
    {
     "name": "stdout",
     "output_type": "stream",
     "text": [
      "Epoch 1/6\n",
      "\u001b[1m883/883\u001b[0m \u001b[32m━━━━━━━━━━━━━━━━━━━━\u001b[0m\u001b[37m\u001b[0m \u001b[1m46s\u001b[0m 48ms/step - accuracy: 0.3204 - loss: 2.8036 - val_accuracy: 0.5628 - val_loss: 1.2240\n",
      "Epoch 2/6\n",
      "\u001b[1m883/883\u001b[0m \u001b[32m━━━━━━━━━━━━━━━━━━━━\u001b[0m\u001b[37m\u001b[0m \u001b[1m42s\u001b[0m 47ms/step - accuracy: 0.6273 - loss: 1.9846 - val_accuracy: 0.7221 - val_loss: 0.9037\n",
      "Epoch 3/6\n",
      "\u001b[1m883/883\u001b[0m \u001b[32m━━━━━━━━━━━━━━━━━━━━\u001b[0m\u001b[37m\u001b[0m \u001b[1m42s\u001b[0m 47ms/step - accuracy: 0.7020 - loss: 1.7414 - val_accuracy: 0.7584 - val_loss: 0.7445\n",
      "Epoch 4/6\n",
      "\u001b[1m883/883\u001b[0m \u001b[32m━━━━━━━━━━━━━━━━━━━━\u001b[0m\u001b[37m\u001b[0m \u001b[1m42s\u001b[0m 47ms/step - accuracy: 0.7468 - loss: 1.5604 - val_accuracy: 0.8271 - val_loss: 0.6338\n",
      "Epoch 5/6\n",
      "\u001b[1m883/883\u001b[0m \u001b[32m━━━━━━━━━━━━━━━━━━━━\u001b[0m\u001b[37m\u001b[0m \u001b[1m42s\u001b[0m 47ms/step - accuracy: 0.7850 - loss: 1.3025 - val_accuracy: 0.8578 - val_loss: 0.5230\n",
      "Epoch 6/6\n",
      "\u001b[1m883/883\u001b[0m \u001b[32m━━━━━━━━━━━━━━━━━━━━\u001b[0m\u001b[37m\u001b[0m \u001b[1m42s\u001b[0m 47ms/step - accuracy: 0.8143 - loss: 1.1219 - val_accuracy: 0.8742 - val_loss: 0.4484\n",
      "\u001b[1m1103/1103\u001b[0m \u001b[32m━━━━━━━━━━━━━━━━━━━━\u001b[0m\u001b[37m\u001b[0m \u001b[1m15s\u001b[0m 14ms/step\n",
      "[CV] END batch_size=128, epochs=6, model__dropout=0.38150892628478994, model__hidden_layer=29, model__learning_rate=0.0001639226525747661, model__lstm_units=116; total time= 4.5min\n",
      "Fitting 2 folds for each of 1 candidates, totalling 2 fits\n"
     ]
    },
    {
     "name": "stderr",
     "output_type": "stream",
     "text": [
      "/home/jinesh-subedi/htdocs/thesis/thesisStudy/lib/python3.12/site-packages/keras/src/layers/rnn/bidirectional.py:107: UserWarning: Do not pass an `input_shape`/`input_dim` argument to a layer. When using Sequential models, prefer using an `Input(shape)` object as the first layer in the model instead.\n",
      "  super().__init__(**kwargs)\n"
     ]
    },
    {
     "name": "stdout",
     "output_type": "stream",
     "text": [
      "Epoch 1/5\n",
      "\u001b[1m883/883\u001b[0m \u001b[32m━━━━━━━━━━━━━━━━━━━━\u001b[0m\u001b[37m\u001b[0m \u001b[1m39s\u001b[0m 39ms/step - accuracy: 0.2490 - loss: 2.9432 - val_accuracy: 0.5179 - val_loss: 1.2126\n",
      "Epoch 2/5\n",
      "\u001b[1m883/883\u001b[0m \u001b[32m━━━━━━━━━━━━━━━━━━━━\u001b[0m\u001b[37m\u001b[0m \u001b[1m34s\u001b[0m 38ms/step - accuracy: 0.6019 - loss: 2.1755 - val_accuracy: 0.7079 - val_loss: 0.8982\n",
      "Epoch 3/5\n",
      "\u001b[1m883/883\u001b[0m \u001b[32m━━━━━━━━━━━━━━━━━━━━\u001b[0m\u001b[37m\u001b[0m \u001b[1m34s\u001b[0m 38ms/step - accuracy: 0.6856 - loss: 1.7392 - val_accuracy: 0.7532 - val_loss: 0.7634\n",
      "Epoch 4/5\n",
      "\u001b[1m883/883\u001b[0m \u001b[32m━━━━━━━━━━━━━━━━━━━━\u001b[0m\u001b[37m\u001b[0m \u001b[1m35s\u001b[0m 40ms/step - accuracy: 0.7420 - loss: 1.4917 - val_accuracy: 0.8213 - val_loss: 0.6197\n",
      "Epoch 5/5\n",
      "\u001b[1m883/883\u001b[0m \u001b[32m━━━━━━━━━━━━━━━━━━━━\u001b[0m\u001b[37m\u001b[0m \u001b[1m34s\u001b[0m 39ms/step - accuracy: 0.7838 - loss: 1.1643 - val_accuracy: 0.8504 - val_loss: 0.5069\n",
      "\u001b[1m1103/1103\u001b[0m \u001b[32m━━━━━━━━━━━━━━━━━━━━\u001b[0m\u001b[37m\u001b[0m \u001b[1m13s\u001b[0m 11ms/step\n",
      "[CV] END batch_size=128, epochs=5, model__dropout=0.29817213067030646, model__hidden_layer=30, model__learning_rate=0.00017284312738353647, model__lstm_units=67; total time= 3.2min\n"
     ]
    },
    {
     "name": "stderr",
     "output_type": "stream",
     "text": [
      "/home/jinesh-subedi/htdocs/thesis/thesisStudy/lib/python3.12/site-packages/keras/src/layers/rnn/bidirectional.py:107: UserWarning: Do not pass an `input_shape`/`input_dim` argument to a layer. When using Sequential models, prefer using an `Input(shape)` object as the first layer in the model instead.\n",
      "  super().__init__(**kwargs)\n"
     ]
    },
    {
     "name": "stdout",
     "output_type": "stream",
     "text": [
      "Epoch 1/5\n",
      "\u001b[1m883/883\u001b[0m \u001b[32m━━━━━━━━━━━━━━━━━━━━\u001b[0m\u001b[37m\u001b[0m \u001b[1m38s\u001b[0m 39ms/step - accuracy: 0.3590 - loss: 2.8139 - val_accuracy: 0.5841 - val_loss: 1.2054\n",
      "Epoch 2/5\n",
      "\u001b[1m883/883\u001b[0m \u001b[32m━━━━━━━━━━━━━━━━━━━━\u001b[0m\u001b[37m\u001b[0m \u001b[1m34s\u001b[0m 38ms/step - accuracy: 0.6192 - loss: 1.9245 - val_accuracy: 0.7057 - val_loss: 0.8823\n",
      "Epoch 3/5\n",
      "\u001b[1m883/883\u001b[0m \u001b[32m━━━━━━━━━━━━━━━━━━━━\u001b[0m\u001b[37m\u001b[0m \u001b[1m34s\u001b[0m 38ms/step - accuracy: 0.6894 - loss: 1.6800 - val_accuracy: 0.7428 - val_loss: 0.7647\n",
      "Epoch 4/5\n",
      "\u001b[1m883/883\u001b[0m \u001b[32m━━━━━━━━━━━━━━━━━━━━\u001b[0m\u001b[37m\u001b[0m \u001b[1m34s\u001b[0m 38ms/step - accuracy: 0.7362 - loss: 1.4528 - val_accuracy: 0.8060 - val_loss: 0.6312\n",
      "Epoch 5/5\n",
      "\u001b[1m883/883\u001b[0m \u001b[32m━━━━━━━━━━━━━━━━━━━━\u001b[0m\u001b[37m\u001b[0m \u001b[1m34s\u001b[0m 38ms/step - accuracy: 0.7750 - loss: 1.2054 - val_accuracy: 0.8595 - val_loss: 0.5147\n",
      "\u001b[1m1103/1103\u001b[0m \u001b[32m━━━━━━━━━━━━━━━━━━━━\u001b[0m\u001b[37m\u001b[0m \u001b[1m13s\u001b[0m 11ms/step\n",
      "[CV] END batch_size=128, epochs=5, model__dropout=0.29817213067030646, model__hidden_layer=30, model__learning_rate=0.00017284312738353647, model__lstm_units=67; total time= 3.1min\n",
      "Fitting 2 folds for each of 1 candidates, totalling 2 fits\n"
     ]
    },
    {
     "name": "stderr",
     "output_type": "stream",
     "text": [
      "/home/jinesh-subedi/htdocs/thesis/thesisStudy/lib/python3.12/site-packages/keras/src/layers/rnn/bidirectional.py:107: UserWarning: Do not pass an `input_shape`/`input_dim` argument to a layer. When using Sequential models, prefer using an `Input(shape)` object as the first layer in the model instead.\n",
      "  super().__init__(**kwargs)\n"
     ]
    },
    {
     "name": "stdout",
     "output_type": "stream",
     "text": [
      "Epoch 1/6\n",
      "\u001b[1m883/883\u001b[0m \u001b[32m━━━━━━━━━━━━━━━━━━━━\u001b[0m\u001b[37m\u001b[0m \u001b[1m45s\u001b[0m 46ms/step - accuracy: 0.2519 - loss: 3.0187 - val_accuracy: 0.6199 - val_loss: 1.1288\n",
      "Epoch 2/6\n",
      "\u001b[1m883/883\u001b[0m \u001b[32m━━━━━━━━━━━━━━━━━━━━\u001b[0m\u001b[37m\u001b[0m \u001b[1m40s\u001b[0m 46ms/step - accuracy: 0.6415 - loss: 1.9855 - val_accuracy: 0.7332 - val_loss: 0.8611\n",
      "Epoch 3/6\n",
      "\u001b[1m883/883\u001b[0m \u001b[32m━━━━━━━━━━━━━━━━━━━━\u001b[0m\u001b[37m\u001b[0m \u001b[1m40s\u001b[0m 46ms/step - accuracy: 0.7153 - loss: 1.5876 - val_accuracy: 0.7461 - val_loss: 0.8442\n",
      "Epoch 4/6\n",
      "\u001b[1m883/883\u001b[0m \u001b[32m━━━━━━━━━━━━━━━━━━━━\u001b[0m\u001b[37m\u001b[0m \u001b[1m40s\u001b[0m 46ms/step - accuracy: 0.7628 - loss: 1.2896 - val_accuracy: 0.8394 - val_loss: 0.5887\n",
      "Epoch 5/6\n",
      "\u001b[1m883/883\u001b[0m \u001b[32m━━━━━━━━━━━━━━━━━━━━\u001b[0m\u001b[37m\u001b[0m \u001b[1m40s\u001b[0m 46ms/step - accuracy: 0.8094 - loss: 1.0515 - val_accuracy: 0.8603 - val_loss: 0.5565\n",
      "Epoch 6/6\n",
      "\u001b[1m883/883\u001b[0m \u001b[32m━━━━━━━━━━━━━━━━━━━━\u001b[0m\u001b[37m\u001b[0m \u001b[1m40s\u001b[0m 46ms/step - accuracy: 0.8384 - loss: 0.8625 - val_accuracy: 0.8946 - val_loss: 0.4411\n",
      "\u001b[1m1103/1103\u001b[0m \u001b[32m━━━━━━━━━━━━━━━━━━━━\u001b[0m\u001b[37m\u001b[0m \u001b[1m15s\u001b[0m 13ms/step\n",
      "[CV] END batch_size=128, epochs=6, model__dropout=0.2734005066464352, model__hidden_layer=19, model__learning_rate=0.000178763115965137, model__lstm_units=97; total time= 4.4min\n"
     ]
    },
    {
     "name": "stderr",
     "output_type": "stream",
     "text": [
      "/home/jinesh-subedi/htdocs/thesis/thesisStudy/lib/python3.12/site-packages/keras/src/layers/rnn/bidirectional.py:107: UserWarning: Do not pass an `input_shape`/`input_dim` argument to a layer. When using Sequential models, prefer using an `Input(shape)` object as the first layer in the model instead.\n",
      "  super().__init__(**kwargs)\n"
     ]
    },
    {
     "name": "stdout",
     "output_type": "stream",
     "text": [
      "Epoch 1/6\n",
      "\u001b[1m883/883\u001b[0m \u001b[32m━━━━━━━━━━━━━━━━━━━━\u001b[0m\u001b[37m\u001b[0m \u001b[1m45s\u001b[0m 46ms/step - accuracy: 0.1462 - loss: 2.9258 - val_accuracy: 0.3447 - val_loss: 1.6025\n",
      "Epoch 2/6\n",
      "\u001b[1m883/883\u001b[0m \u001b[32m━━━━━━━━━━━━━━━━━━━━\u001b[0m\u001b[37m\u001b[0m \u001b[1m40s\u001b[0m 46ms/step - accuracy: 0.6062 - loss: 2.0028 - val_accuracy: 0.6677 - val_loss: 0.9996\n",
      "Epoch 3/6\n",
      "\u001b[1m883/883\u001b[0m \u001b[32m━━━━━━━━━━━━━━━━━━━━\u001b[0m\u001b[37m\u001b[0m \u001b[1m40s\u001b[0m 46ms/step - accuracy: 0.6901 - loss: 1.7051 - val_accuracy: 0.7632 - val_loss: 0.7601\n",
      "Epoch 4/6\n",
      "\u001b[1m883/883\u001b[0m \u001b[32m━━━━━━━━━━━━━━━━━━━━\u001b[0m\u001b[37m\u001b[0m \u001b[1m40s\u001b[0m 46ms/step - accuracy: 0.7456 - loss: 1.4707 - val_accuracy: 0.8104 - val_loss: 0.6860\n",
      "Epoch 5/6\n",
      "\u001b[1m883/883\u001b[0m \u001b[32m━━━━━━━━━━━━━━━━━━━━\u001b[0m\u001b[37m\u001b[0m \u001b[1m40s\u001b[0m 46ms/step - accuracy: 0.7892 - loss: 1.2344 - val_accuracy: 0.8589 - val_loss: 0.5513\n",
      "Epoch 6/6\n",
      "\u001b[1m883/883\u001b[0m \u001b[32m━━━━━━━━━━━━━━━━━━━━\u001b[0m\u001b[37m\u001b[0m \u001b[1m40s\u001b[0m 46ms/step - accuracy: 0.8305 - loss: 0.9294 - val_accuracy: 0.8885 - val_loss: 0.4637\n",
      "\u001b[1m1103/1103\u001b[0m \u001b[32m━━━━━━━━━━━━━━━━━━━━\u001b[0m\u001b[37m\u001b[0m \u001b[1m15s\u001b[0m 13ms/step\n",
      "[CV] END batch_size=128, epochs=6, model__dropout=0.2734005066464352, model__hidden_layer=19, model__learning_rate=0.000178763115965137, model__lstm_units=97; total time= 4.4min\n",
      "Fitting 2 folds for each of 1 candidates, totalling 2 fits\n"
     ]
    },
    {
     "name": "stderr",
     "output_type": "stream",
     "text": [
      "/home/jinesh-subedi/htdocs/thesis/thesisStudy/lib/python3.12/site-packages/keras/src/layers/rnn/bidirectional.py:107: UserWarning: Do not pass an `input_shape`/`input_dim` argument to a layer. When using Sequential models, prefer using an `Input(shape)` object as the first layer in the model instead.\n",
      "  super().__init__(**kwargs)\n"
     ]
    },
    {
     "name": "stdout",
     "output_type": "stream",
     "text": [
      "Epoch 1/9\n",
      "\u001b[1m1765/1765\u001b[0m \u001b[32m━━━━━━━━━━━━━━━━━━━━\u001b[0m\u001b[37m\u001b[0m \u001b[1m81s\u001b[0m 44ms/step - accuracy: 0.5699 - loss: 2.9272 - val_accuracy: 0.7685 - val_loss: 0.6929\n",
      "Epoch 2/9\n",
      "\u001b[1m1765/1765\u001b[0m \u001b[32m━━━━━━━━━━━━━━━━━━━━\u001b[0m\u001b[37m\u001b[0m \u001b[1m76s\u001b[0m 43ms/step - accuracy: 0.7841 - loss: 1.6921 - val_accuracy: 0.8424 - val_loss: 0.5377\n",
      "Epoch 3/9\n",
      "\u001b[1m1765/1765\u001b[0m \u001b[32m━━━━━━━━━━━━━━━━━━━━\u001b[0m\u001b[37m\u001b[0m \u001b[1m76s\u001b[0m 43ms/step - accuracy: 0.8516 - loss: 1.0294 - val_accuracy: 0.9025 - val_loss: 0.3495\n",
      "Epoch 4/9\n",
      "\u001b[1m1765/1765\u001b[0m \u001b[32m━━━━━━━━━━━━━━━━━━━━\u001b[0m\u001b[37m\u001b[0m \u001b[1m76s\u001b[0m 43ms/step - accuracy: 0.8807 - loss: 0.7691 - val_accuracy: 0.9097 - val_loss: 0.2908\n",
      "Epoch 5/9\n",
      "\u001b[1m1765/1765\u001b[0m \u001b[32m━━━━━━━━━━━━━━━━━━━━\u001b[0m\u001b[37m\u001b[0m \u001b[1m76s\u001b[0m 43ms/step - accuracy: 0.8980 - loss: 0.6208 - val_accuracy: 0.9206 - val_loss: 0.2530\n",
      "Epoch 6/9\n",
      "\u001b[1m1765/1765\u001b[0m \u001b[32m━━━━━━━━━━━━━━━━━━━━\u001b[0m\u001b[37m\u001b[0m \u001b[1m76s\u001b[0m 43ms/step - accuracy: 0.9078 - loss: 0.5622 - val_accuracy: 0.9276 - val_loss: 0.2412\n",
      "Epoch 7/9\n",
      "\u001b[1m1765/1765\u001b[0m \u001b[32m━━━━━━━━━━━━━━━━━━━━\u001b[0m\u001b[37m\u001b[0m \u001b[1m77s\u001b[0m 43ms/step - accuracy: 0.9172 - loss: 0.4608 - val_accuracy: 0.9505 - val_loss: 0.1945\n",
      "Epoch 8/9\n",
      "\u001b[1m1765/1765\u001b[0m \u001b[32m━━━━━━━━━━━━━━━━━━━━\u001b[0m\u001b[37m\u001b[0m \u001b[1m77s\u001b[0m 43ms/step - accuracy: 0.9257 - loss: 0.4462 - val_accuracy: 0.9585 - val_loss: 0.1766\n",
      "Epoch 9/9\n",
      "\u001b[1m1765/1765\u001b[0m \u001b[32m━━━━━━━━━━━━━━━━━━━━\u001b[0m\u001b[37m\u001b[0m \u001b[1m77s\u001b[0m 43ms/step - accuracy: 0.9315 - loss: 0.3337 - val_accuracy: 0.9464 - val_loss: 0.2105\n",
      "\u001b[1m2206/2206\u001b[0m \u001b[32m━━━━━━━━━━━━━━━━━━━━\u001b[0m\u001b[37m\u001b[0m \u001b[1m27s\u001b[0m 12ms/step\n",
      "[CV] END batch_size=64, epochs=9, model__dropout=0.30163781473389384, model__hidden_layer=25, model__learning_rate=0.00024458820883492994, model__lstm_units=121; total time=12.0min\n"
     ]
    },
    {
     "name": "stderr",
     "output_type": "stream",
     "text": [
      "/home/jinesh-subedi/htdocs/thesis/thesisStudy/lib/python3.12/site-packages/keras/src/layers/rnn/bidirectional.py:107: UserWarning: Do not pass an `input_shape`/`input_dim` argument to a layer. When using Sequential models, prefer using an `Input(shape)` object as the first layer in the model instead.\n",
      "  super().__init__(**kwargs)\n"
     ]
    },
    {
     "name": "stdout",
     "output_type": "stream",
     "text": [
      "Epoch 1/9\n",
      "\u001b[1m1765/1765\u001b[0m \u001b[32m━━━━━━━━━━━━━━━━━━━━\u001b[0m\u001b[37m\u001b[0m \u001b[1m80s\u001b[0m 43ms/step - accuracy: 0.5449 - loss: 2.9399 - val_accuracy: 0.7732 - val_loss: 0.7637\n",
      "Epoch 2/9\n",
      "\u001b[1m1765/1765\u001b[0m \u001b[32m━━━━━━━━━━━━━━━━━━━━\u001b[0m\u001b[37m\u001b[0m \u001b[1m76s\u001b[0m 43ms/step - accuracy: 0.7710 - loss: 1.8290 - val_accuracy: 0.8257 - val_loss: 0.6183\n",
      "Epoch 3/9\n",
      "\u001b[1m1765/1765\u001b[0m \u001b[32m━━━━━━━━━━━━━━━━━━━━\u001b[0m\u001b[37m\u001b[0m \u001b[1m76s\u001b[0m 43ms/step - accuracy: 0.8416 - loss: 1.2598 - val_accuracy: 0.9020 - val_loss: 0.3947\n",
      "Epoch 4/9\n",
      "\u001b[1m1765/1765\u001b[0m \u001b[32m━━━━━━━━━━━━━━━━━━━━\u001b[0m\u001b[37m\u001b[0m \u001b[1m76s\u001b[0m 43ms/step - accuracy: 0.8782 - loss: 0.8247 - val_accuracy: 0.9117 - val_loss: 0.3143\n",
      "Epoch 5/9\n",
      "\u001b[1m1765/1765\u001b[0m \u001b[32m━━━━━━━━━━━━━━━━━━━━\u001b[0m\u001b[37m\u001b[0m \u001b[1m76s\u001b[0m 43ms/step - accuracy: 0.8957 - loss: 0.6147 - val_accuracy: 0.9235 - val_loss: 0.3016\n",
      "Epoch 6/9\n",
      "\u001b[1m1765/1765\u001b[0m \u001b[32m━━━━━━━━━━━━━━━━━━━━\u001b[0m\u001b[37m\u001b[0m \u001b[1m76s\u001b[0m 43ms/step - accuracy: 0.9093 - loss: 0.4714 - val_accuracy: 0.9335 - val_loss: 0.2465\n",
      "Epoch 7/9\n",
      "\u001b[1m1765/1765\u001b[0m \u001b[32m━━━━━━━━━━━━━━━━━━━━\u001b[0m\u001b[37m\u001b[0m \u001b[1m78s\u001b[0m 44ms/step - accuracy: 0.9177 - loss: 0.4157 - val_accuracy: 0.9245 - val_loss: 0.2709\n",
      "Epoch 8/9\n",
      "\u001b[1m1765/1765\u001b[0m \u001b[32m━━━━━━━━━━━━━━━━━━━━\u001b[0m\u001b[37m\u001b[0m \u001b[1m77s\u001b[0m 44ms/step - accuracy: 0.9259 - loss: 0.3852 - val_accuracy: 0.9454 - val_loss: 0.2085\n",
      "Epoch 9/9\n",
      "\u001b[1m1765/1765\u001b[0m \u001b[32m━━━━━━━━━━━━━━━━━━━━\u001b[0m\u001b[37m\u001b[0m \u001b[1m77s\u001b[0m 44ms/step - accuracy: 0.9321 - loss: 0.3368 - val_accuracy: 0.9443 - val_loss: 0.1912\n",
      "\u001b[1m2206/2206\u001b[0m \u001b[32m━━━━━━━━━━━━━━━━━━━━\u001b[0m\u001b[37m\u001b[0m \u001b[1m27s\u001b[0m 12ms/step\n",
      "[CV] END batch_size=64, epochs=9, model__dropout=0.30163781473389384, model__hidden_layer=25, model__learning_rate=0.00024458820883492994, model__lstm_units=121; total time=12.0min\n",
      "Fitting 2 folds for each of 1 candidates, totalling 2 fits\n"
     ]
    },
    {
     "name": "stderr",
     "output_type": "stream",
     "text": [
      "/home/jinesh-subedi/htdocs/thesis/thesisStudy/lib/python3.12/site-packages/keras/src/layers/rnn/bidirectional.py:107: UserWarning: Do not pass an `input_shape`/`input_dim` argument to a layer. When using Sequential models, prefer using an `Input(shape)` object as the first layer in the model instead.\n",
      "  super().__init__(**kwargs)\n"
     ]
    },
    {
     "name": "stdout",
     "output_type": "stream",
     "text": [
      "Epoch 1/6\n",
      "\u001b[1m883/883\u001b[0m \u001b[32m━━━━━━━━━━━━━━━━━━━━\u001b[0m\u001b[37m\u001b[0m \u001b[1m52s\u001b[0m 53ms/step - accuracy: 0.0083 - loss: 3.0214 - val_accuracy: 0.0027 - val_loss: 2.2817\n",
      "Epoch 2/6\n",
      "\u001b[1m883/883\u001b[0m \u001b[32m━━━━━━━━━━━━━━━━━━━━\u001b[0m\u001b[37m\u001b[0m \u001b[1m46s\u001b[0m 52ms/step - accuracy: 0.0165 - loss: 2.9610 - val_accuracy: 0.0456 - val_loss: 2.2270\n",
      "Epoch 3/6\n",
      "\u001b[1m883/883\u001b[0m \u001b[32m━━━━━━━━━━━━━━━━━━━━\u001b[0m\u001b[37m\u001b[0m \u001b[1m46s\u001b[0m 53ms/step - accuracy: 0.0558 - loss: 3.3596 - val_accuracy: 0.0027 - val_loss: 2.2602\n",
      "Epoch 4/6\n",
      "\u001b[1m883/883\u001b[0m \u001b[32m━━━━━━━━━━━━━━━━━━━━\u001b[0m\u001b[37m\u001b[0m \u001b[1m46s\u001b[0m 52ms/step - accuracy: 0.0643 - loss: 3.3471 - val_accuracy: 0.1508 - val_loss: 2.0357\n",
      "Epoch 5/6\n",
      "\u001b[1m883/883\u001b[0m \u001b[32m━━━━━━━━━━━━━━━━━━━━\u001b[0m\u001b[37m\u001b[0m \u001b[1m46s\u001b[0m 52ms/step - accuracy: 0.2580 - loss: 2.4649 - val_accuracy: 0.6423 - val_loss: 1.1510\n",
      "Epoch 6/6\n",
      "\u001b[1m883/883\u001b[0m \u001b[32m━━━━━━━━━━━━━━━━━━━━\u001b[0m\u001b[37m\u001b[0m \u001b[1m46s\u001b[0m 53ms/step - accuracy: 0.6564 - loss: 1.8426 - val_accuracy: 0.7286 - val_loss: 0.7969\n",
      "\u001b[1m1103/1103\u001b[0m \u001b[32m━━━━━━━━━━━━━━━━━━━━\u001b[0m\u001b[37m\u001b[0m \u001b[1m17s\u001b[0m 15ms/step\n",
      "[CV] END batch_size=128, epochs=6, model__dropout=0.20938003373968628, model__hidden_layer=29, model__learning_rate=0.0013314248262967707, model__lstm_units=125; total time= 5.0min\n"
     ]
    },
    {
     "name": "stderr",
     "output_type": "stream",
     "text": [
      "/home/jinesh-subedi/htdocs/thesis/thesisStudy/lib/python3.12/site-packages/keras/src/layers/rnn/bidirectional.py:107: UserWarning: Do not pass an `input_shape`/`input_dim` argument to a layer. When using Sequential models, prefer using an `Input(shape)` object as the first layer in the model instead.\n",
      "  super().__init__(**kwargs)\n"
     ]
    },
    {
     "name": "stdout",
     "output_type": "stream",
     "text": [
      "Epoch 1/6\n",
      "\u001b[1m883/883\u001b[0m \u001b[32m━━━━━━━━━━━━━━━━━━━━\u001b[0m\u001b[37m\u001b[0m \u001b[1m50s\u001b[0m 53ms/step - accuracy: 0.0035 - loss: 2.9850 - val_accuracy: 0.0028 - val_loss: 2.2915\n",
      "Epoch 2/6\n",
      "\u001b[1m883/883\u001b[0m \u001b[32m━━━━━━━━━━━━━━━━━━━━\u001b[0m\u001b[37m\u001b[0m \u001b[1m46s\u001b[0m 52ms/step - accuracy: 0.0022 - loss: 2.8459 - val_accuracy: 0.0028 - val_loss: 2.3658\n",
      "Epoch 3/6\n",
      "\u001b[1m883/883\u001b[0m \u001b[32m━━━━━━━━━━━━━━━━━━━━\u001b[0m\u001b[37m\u001b[0m \u001b[1m46s\u001b[0m 52ms/step - accuracy: 0.0022 - loss: 2.7971 - val_accuracy: 0.0028 - val_loss: 2.4194\n",
      "Epoch 4/6\n",
      "\u001b[1m883/883\u001b[0m \u001b[32m━━━━━━━━━━━━━━━━━━━━\u001b[0m\u001b[37m\u001b[0m \u001b[1m46s\u001b[0m 52ms/step - accuracy: 0.0022 - loss: 2.7775 - val_accuracy: 0.0028 - val_loss: 2.4688\n",
      "Epoch 5/6\n",
      "\u001b[1m883/883\u001b[0m \u001b[32m━━━━━━━━━━━━━━━━━━━━\u001b[0m\u001b[37m\u001b[0m \u001b[1m46s\u001b[0m 52ms/step - accuracy: 0.0023 - loss: 2.7678 - val_accuracy: 0.0028 - val_loss: 2.4609\n",
      "Epoch 6/6\n",
      "\u001b[1m883/883\u001b[0m \u001b[32m━━━━━━━━━━━━━━━━━━━━\u001b[0m\u001b[37m\u001b[0m \u001b[1m46s\u001b[0m 52ms/step - accuracy: 0.0041 - loss: 2.8170 - val_accuracy: 0.0458 - val_loss: 2.0507\n",
      "\u001b[1m1103/1103\u001b[0m \u001b[32m━━━━━━━━━━━━━━━━━━━━\u001b[0m\u001b[37m\u001b[0m \u001b[1m17s\u001b[0m 15ms/step\n",
      "[CV] END batch_size=128, epochs=6, model__dropout=0.20938003373968628, model__hidden_layer=29, model__learning_rate=0.0013314248262967707, model__lstm_units=125; total time= 5.0min\n",
      "Fitting 2 folds for each of 1 candidates, totalling 2 fits\n"
     ]
    },
    {
     "name": "stderr",
     "output_type": "stream",
     "text": [
      "/home/jinesh-subedi/htdocs/thesis/thesisStudy/lib/python3.12/site-packages/keras/src/layers/rnn/bidirectional.py:107: UserWarning: Do not pass an `input_shape`/`input_dim` argument to a layer. When using Sequential models, prefer using an `Input(shape)` object as the first layer in the model instead.\n",
      "  super().__init__(**kwargs)\n"
     ]
    },
    {
     "name": "stdout",
     "output_type": "stream",
     "text": [
      "Epoch 1/7\n",
      "\u001b[1m883/883\u001b[0m \u001b[32m━━━━━━━━━━━━━━━━━━━━\u001b[0m\u001b[37m\u001b[0m \u001b[1m40s\u001b[0m 41ms/step - accuracy: 0.3749 - loss: 2.5311 - val_accuracy: 0.6715 - val_loss: 0.9834\n",
      "Epoch 2/7\n",
      "\u001b[1m883/883\u001b[0m \u001b[32m━━━━━━━━━━━━━━━━━━━━\u001b[0m\u001b[37m\u001b[0m \u001b[1m36s\u001b[0m 41ms/step - accuracy: 0.7213 - loss: 1.5291 - val_accuracy: 0.8364 - val_loss: 0.5897\n",
      "Epoch 3/7\n",
      "\u001b[1m883/883\u001b[0m \u001b[32m━━━━━━━━━━━━━━━━━━━━\u001b[0m\u001b[37m\u001b[0m \u001b[1m36s\u001b[0m 41ms/step - accuracy: 0.8204 - loss: 1.0055 - val_accuracy: 0.8808 - val_loss: 0.4061\n",
      "Epoch 4/7\n",
      "\u001b[1m883/883\u001b[0m \u001b[32m━━━━━━━━━━━━━━━━━━━━\u001b[0m\u001b[37m\u001b[0m \u001b[1m36s\u001b[0m 41ms/step - accuracy: 0.8566 - loss: 0.7897 - val_accuracy: 0.8957 - val_loss: 0.4058\n",
      "Epoch 5/7\n",
      "\u001b[1m883/883\u001b[0m \u001b[32m━━━━━━━━━━━━━━━━━━━━\u001b[0m\u001b[37m\u001b[0m \u001b[1m36s\u001b[0m 41ms/step - accuracy: 0.8741 - loss: 0.6757 - val_accuracy: 0.9106 - val_loss: 0.3197\n",
      "Epoch 6/7\n",
      "\u001b[1m883/883\u001b[0m \u001b[32m━━━━━━━━━━━━━━━━━━━━\u001b[0m\u001b[37m\u001b[0m \u001b[1m36s\u001b[0m 41ms/step - accuracy: 0.8883 - loss: 0.5484 - val_accuracy: 0.9286 - val_loss: 0.2683\n",
      "Epoch 7/7\n",
      "\u001b[1m883/883\u001b[0m \u001b[32m━━━━━━━━━━━━━━━━━━━━\u001b[0m\u001b[37m\u001b[0m \u001b[1m36s\u001b[0m 41ms/step - accuracy: 0.8971 - loss: 0.5190 - val_accuracy: 0.9387 - val_loss: 0.2213\n",
      "\u001b[1m1103/1103\u001b[0m \u001b[32m━━━━━━━━━━━━━━━━━━━━\u001b[0m\u001b[37m\u001b[0m \u001b[1m14s\u001b[0m 12ms/step\n",
      "[CV] END batch_size=128, epochs=7, model__dropout=0.33258954951937025, model__hidden_layer=26, model__learning_rate=0.0009037270647545381, model__lstm_units=77; total time= 4.5min\n"
     ]
    },
    {
     "name": "stderr",
     "output_type": "stream",
     "text": [
      "/home/jinesh-subedi/htdocs/thesis/thesisStudy/lib/python3.12/site-packages/keras/src/layers/rnn/bidirectional.py:107: UserWarning: Do not pass an `input_shape`/`input_dim` argument to a layer. When using Sequential models, prefer using an `Input(shape)` object as the first layer in the model instead.\n",
      "  super().__init__(**kwargs)\n"
     ]
    },
    {
     "name": "stdout",
     "output_type": "stream",
     "text": [
      "Epoch 1/7\n",
      "\u001b[1m883/883\u001b[0m \u001b[32m━━━━━━━━━━━━━━━━━━━━\u001b[0m\u001b[37m\u001b[0m \u001b[1m40s\u001b[0m 41ms/step - accuracy: 0.3133 - loss: 2.5053 - val_accuracy: 0.6580 - val_loss: 0.9780\n",
      "Epoch 2/7\n",
      "\u001b[1m883/883\u001b[0m \u001b[32m━━━━━━━━━━━━━━━━━━━━\u001b[0m\u001b[37m\u001b[0m \u001b[1m36s\u001b[0m 41ms/step - accuracy: 0.6902 - loss: 1.7484 - val_accuracy: 0.8228 - val_loss: 0.5941\n",
      "Epoch 3/7\n",
      "\u001b[1m883/883\u001b[0m \u001b[32m━━━━━━━━━━━━━━━━━━━━\u001b[0m\u001b[37m\u001b[0m \u001b[1m36s\u001b[0m 41ms/step - accuracy: 0.8024 - loss: 1.1178 - val_accuracy: 0.8891 - val_loss: 0.3976\n",
      "Epoch 4/7\n",
      "\u001b[1m883/883\u001b[0m \u001b[32m━━━━━━━━━━━━━━━━━━━━\u001b[0m\u001b[37m\u001b[0m \u001b[1m36s\u001b[0m 41ms/step - accuracy: 0.8483 - loss: 0.8659 - val_accuracy: 0.9042 - val_loss: 0.3604\n",
      "Epoch 5/7\n",
      "\u001b[1m883/883\u001b[0m \u001b[32m━━━━━━━━━━━━━━━━━━━━\u001b[0m\u001b[37m\u001b[0m \u001b[1m36s\u001b[0m 41ms/step - accuracy: 0.8704 - loss: 0.7417 - val_accuracy: 0.9111 - val_loss: 0.3442\n",
      "Epoch 6/7\n",
      "\u001b[1m883/883\u001b[0m \u001b[32m━━━━━━━━━━━━━━━━━━━━\u001b[0m\u001b[37m\u001b[0m \u001b[1m36s\u001b[0m 41ms/step - accuracy: 0.8784 - loss: 0.5865 - val_accuracy: 0.9133 - val_loss: 0.3370\n",
      "Epoch 7/7\n",
      "\u001b[1m883/883\u001b[0m \u001b[32m━━━━━━━━━━━━━━━━━━━━\u001b[0m\u001b[37m\u001b[0m \u001b[1m36s\u001b[0m 41ms/step - accuracy: 0.8850 - loss: 0.5250 - val_accuracy: 0.9135 - val_loss: 0.2976\n",
      "\u001b[1m1103/1103\u001b[0m \u001b[32m━━━━━━━━━━━━━━━━━━━━\u001b[0m\u001b[37m\u001b[0m \u001b[1m14s\u001b[0m 12ms/step\n",
      "[CV] END batch_size=128, epochs=7, model__dropout=0.33258954951937025, model__hidden_layer=26, model__learning_rate=0.0009037270647545381, model__lstm_units=77; total time= 4.5min\n"
     ]
    },
    {
     "name": "stderr",
     "output_type": "stream",
     "text": [
      "/home/jinesh-subedi/htdocs/thesis/thesisStudy/lib/python3.12/site-packages/keras/src/layers/rnn/bidirectional.py:107: UserWarning: Do not pass an `input_shape`/`input_dim` argument to a layer. When using Sequential models, prefer using an `Input(shape)` object as the first layer in the model instead.\n",
      "  super().__init__(**kwargs)\n"
     ]
    },
    {
     "name": "stdout",
     "output_type": "stream",
     "text": [
      "Epoch 1/9\n",
      "\u001b[1m3529/3529\u001b[0m \u001b[32m━━━━━━━━━━━━━━━━━━━━\u001b[0m\u001b[37m\u001b[0m \u001b[1m159s\u001b[0m 44ms/step - accuracy: 0.6999 - loss: 2.0105 - val_accuracy: 0.8853 - val_loss: 0.4198\n",
      "Epoch 2/9\n",
      "\u001b[1m3529/3529\u001b[0m \u001b[32m━━━━━━━━━━━━━━━━━━━━\u001b[0m\u001b[37m\u001b[0m \u001b[1m154s\u001b[0m 43ms/step - accuracy: 0.8724 - loss: 0.7795 - val_accuracy: 0.9260 - val_loss: 0.2727\n",
      "Epoch 3/9\n",
      "\u001b[1m3529/3529\u001b[0m \u001b[32m━━━━━━━━━━━━━━━━━━━━\u001b[0m\u001b[37m\u001b[0m \u001b[1m154s\u001b[0m 44ms/step - accuracy: 0.9063 - loss: 0.5563 - val_accuracy: 0.9396 - val_loss: 0.2623\n",
      "Epoch 4/9\n",
      "\u001b[1m3529/3529\u001b[0m \u001b[32m━━━━━━━━━━━━━━━━━━━━\u001b[0m\u001b[37m\u001b[0m \u001b[1m154s\u001b[0m 44ms/step - accuracy: 0.9237 - loss: 0.4257 - val_accuracy: 0.9361 - val_loss: 0.2296\n",
      "Epoch 5/9\n",
      "\u001b[1m3529/3529\u001b[0m \u001b[32m━━━━━━━━━━━━━━━━━━━━\u001b[0m\u001b[37m\u001b[0m \u001b[1m154s\u001b[0m 44ms/step - accuracy: 0.9352 - loss: 0.3268 - val_accuracy: 0.9501 - val_loss: 0.1962\n",
      "Epoch 6/9\n",
      "\u001b[1m3529/3529\u001b[0m \u001b[32m━━━━━━━━━━━━━━━━━━━━\u001b[0m\u001b[37m\u001b[0m \u001b[1m154s\u001b[0m 44ms/step - accuracy: 0.9430 - loss: 0.2734 - val_accuracy: 0.9581 - val_loss: 0.1738\n",
      "Epoch 7/9\n",
      "\u001b[1m3529/3529\u001b[0m \u001b[32m━━━━━━━━━━━━━━━━━━━━\u001b[0m\u001b[37m\u001b[0m \u001b[1m154s\u001b[0m 44ms/step - accuracy: 0.9473 - loss: 0.2436 - val_accuracy: 0.9660 - val_loss: 0.1451\n",
      "Epoch 8/9\n",
      "\u001b[1m3529/3529\u001b[0m \u001b[32m━━━━━━━━━━━━━━━━━━━━\u001b[0m\u001b[37m\u001b[0m \u001b[1m154s\u001b[0m 44ms/step - accuracy: 0.9509 - loss: 0.2381 - val_accuracy: 0.9691 - val_loss: 0.1576\n",
      "Epoch 9/9\n",
      "\u001b[1m3529/3529\u001b[0m \u001b[32m━━━━━━━━━━━━━━━━━━━━\u001b[0m\u001b[37m\u001b[0m \u001b[1m155s\u001b[0m 44ms/step - accuracy: 0.9529 - loss: 0.2239 - val_accuracy: 0.9656 - val_loss: 0.1465\n",
      "Best parameters: OrderedDict({'batch_size': 64, 'epochs': 9, 'model__dropout': 0.30163781473389384, 'model__hidden_layer': 25, 'model__learning_rate': 0.00024458820883492994, 'model__lstm_units': 121})\n",
      "Best cross-validation accuracy: 0.9445566373311792\n",
      "\u001b[1m1378/1378\u001b[0m \u001b[32m━━━━━━━━━━━━━━━━━━━━\u001b[0m\u001b[37m\u001b[0m \u001b[1m17s\u001b[0m 12ms/step\n",
      "Test set accuracy: 0.965937181086291\n"
     ]
    }
   ],
   "source": [
    "# Hyperparameter Tuning with Bayesian Optimization (BayesSearchCV)\n",
    "from skopt import BayesSearchCV\n",
    "from skopt.space import Real, Integer, Categorical\n",
    "from scikeras.wrappers import KerasClassifier\n",
    "from tensorflow.keras.models import Sequential\n",
    "from tensorflow.keras.layers import Bidirectional, LSTM, Dense, Dropout, LayerNormalization\n",
    "from tensorflow.keras.regularizers import l2\n",
    "from tensorflow.keras.optimizers import Adam\n",
    "from tensorflow.keras.callbacks import EarlyStopping, ReduceLROnPlateau\n",
    "from sklearn.model_selection import StratifiedKFold\n",
    "\n",
    "def build_bilstm_model(\n",
    "    lstm_units=64,\n",
    "    hidden_layer=32,\n",
    "    dropout=0.2,\n",
    "    learning_rate=0.001,\n",
    "    input_shape=(30, 44)\n",
    "):\n",
    "    model = Sequential([\n",
    "        Bidirectional(LSTM(int(lstm_units*2), return_sequences=True, activation='tanh', recurrent_activation='sigmoid', recurrent_dropout=0.2), input_shape=input_shape),\n",
    "        LayerNormalization(),\n",
    "        Dropout(dropout),\n",
    "        Bidirectional(LSTM(int(lstm_units))),\n",
    "        LayerNormalization(),\n",
    "        Dropout(dropout),\n",
    "        Dense(int(hidden_layer), activation='relu'),\n",
    "        Dense(9, activation='softmax')\n",
    "    ])\n",
    "    optimizer = Adam(learning_rate=learning_rate, clipnorm=1.0)\n",
    "    model.compile(optimizer=optimizer, loss='sparse_categorical_crossentropy', metrics=['accuracy'])\n",
    "    return model\n",
    "\n",
    "from sklearn.metrics import make_scorer\n",
    "\n",
    "def constrained_score(y_true, y_pred):\n",
    "    cm = confusion_matrix(y_true, y_pred)\n",
    "    if cm.shape == (2, 2):\n",
    "        tn, fp, fn, tp = cm.ravel()\n",
    "        fnr = fn / (fn + tp) if (fn + tp) > 0 else 0\n",
    "        fpr = fp / (fp + tn) if (fp + tn) > 0 else 0\n",
    "        acc = accuracy_score(y_true, y_pred)\n",
    "        # Constraints: FNR ≤ 0.01, FPR ≤ 0.5, Accuracy > 0.90\n",
    "        if fnr <= 0.01 and fpr <= 0.5 and acc > 0.90:\n",
    "            print(f\"Valid model found: FNR={fnr}, FPR={fpr}, Acc={acc}\")\n",
    "            return acc\n",
    "        else:\n",
    "            print(f\"Model rejected: FNR={fnr}, FPR={fpr}, Acc={acc}\")\n",
    "            return 0\n",
    "    else:\n",
    "        # If confusion matrix is not 2x2, return 0\n",
    "        return 0\n",
    "\n",
    "constrained_scorer = make_scorer(constrained_score)\n",
    "cv_strategy = StratifiedKFold(n_splits=2, shuffle=True, random_state=42)\n",
    "\n",
    "early_stopping = EarlyStopping(monitor='val_loss', patience=10, mode='min', restore_best_weights=True)\n",
    "reduce_lr = ReduceLROnPlateau(monitor='val_loss', factor=0.5, patience=5, min_lr=1e-6, verbose=1)\n",
    "\n",
    "class_weights = compute_class_weight(\n",
    "    class_weight=\"balanced\",\n",
    "    classes=np.arange(y_multiclass_onehot.shape[1]),\n",
    "    y=y_multiclass_onehot.argmax(axis=1)\n",
    ")\n",
    "class_weight_dict = dict(enumerate(class_weights))\n",
    "class_weight_dict[4] *= 5.0\n",
    "\n",
    "# Wrap the model for scikit-learn compatibility\n",
    "keras_clf = KerasClassifier(\n",
    "    model=build_bilstm_model,\n",
    "    input_shape=(X_train_seq_final.shape[1], X_train_seq_final.shape[2])\n",
    ")\n",
    "\n",
    "# Define the hyperparameter search space\n",
    "param_space = {\n",
    "    'model__lstm_units': Integer(64, 128),\n",
    "    'model__hidden_layer': Integer(16, 32),\n",
    "    'model__dropout': Real(0.2, 0.4),\n",
    "    'model__learning_rate': Real(1e-4, 1e-2, prior='log-uniform'),\n",
    "    'batch_size': Categorical([64, 128]),\n",
    "    'epochs': Integer(5, 10)\n",
    "}\n",
    "\n",
    "opt = BayesSearchCV(\n",
    "    estimator=keras_clf,\n",
    "    search_spaces=param_space,\n",
    "    n_iter=10,\n",
    "    # scoring=constrained_scorer,\n",
    "    scoring=\"accuracy\",\n",
    "    # cv=2,\n",
    "    cv=cv_strategy,\n",
    "    n_jobs=1,\n",
    "    verbose=2,\n",
    "    refit=True\n",
    ")\n",
    "\n",
    "# Convert one-hot encoded targets to integer labels\n",
    "y_train_seq_final_labels = np.argmax(y_train_seq_final, axis=1)\n",
    "y_test_seq_labels = np.argmax(y_test_seq, axis=1)\n",
    "\n",
    "# Fit the optimizer (this may take a while)\n",
    "opt.fit(X_train_seq_final, y_train_seq_final_labels, callbacks=[early_stopping, reduce_lr], validation_split=0.2, class_weight=class_weight_dict)\n",
    "\n",
    "print('Best parameters:', opt.best_params_)\n",
    "print('Best cross-validation accuracy:', opt.best_score_)\n",
    "\n",
    "# Evaluate on test set\n",
    "test_score = opt.score(X_test_seq, y_test_seq_labels)\n",
    "print('Test set accuracy:', test_score)"
   ]
  },
  {
   "cell_type": "code",
   "execution_count": 9,
   "id": "b2f9845c",
   "metadata": {},
   "outputs": [
    {
     "name": "stderr",
     "output_type": "stream",
     "text": [
      "/home/jinesh-subedi/htdocs/thesis/thesisStudy/lib/python3.12/site-packages/keras/src/layers/rnn/bidirectional.py:107: UserWarning: Do not pass an `input_shape`/`input_dim` argument to a layer. When using Sequential models, prefer using an `Input(shape)` object as the first layer in the model instead.\n",
      "  super().__init__(**kwargs)\n"
     ]
    },
    {
     "name": "stdout",
     "output_type": "stream",
     "text": [
      "Epoch 1/9\n",
      "\u001b[1m4411/4411\u001b[0m \u001b[32m━━━━━━━━━━━━━━━━━━━━\u001b[0m\u001b[37m\u001b[0m \u001b[1m196s\u001b[0m 44ms/step - accuracy: 0.6893 - loss: 1.8499 - val_accuracy: 0.8972 - val_loss: 0.3714 - learning_rate: 2.4459e-04\n",
      "Epoch 2/9\n",
      "\u001b[1m4411/4411\u001b[0m \u001b[32m━━━━━━━━━━━━━━━━━━━━\u001b[0m\u001b[37m\u001b[0m \u001b[1m192s\u001b[0m 44ms/step - accuracy: 0.8843 - loss: 0.7391 - val_accuracy: 0.9279 - val_loss: 0.2691 - learning_rate: 2.4459e-04\n",
      "Epoch 3/9\n",
      "\u001b[1m4411/4411\u001b[0m \u001b[32m━━━━━━━━━━━━━━━━━━━━\u001b[0m\u001b[37m\u001b[0m \u001b[1m192s\u001b[0m 44ms/step - accuracy: 0.9144 - loss: 0.5289 - val_accuracy: 0.9267 - val_loss: 0.2396 - learning_rate: 2.4459e-04\n",
      "Epoch 4/9\n",
      "\u001b[1m4411/4411\u001b[0m \u001b[32m━━━━━━━━━━━━━━━━━━━━\u001b[0m\u001b[37m\u001b[0m \u001b[1m193s\u001b[0m 44ms/step - accuracy: 0.9320 - loss: 0.3465 - val_accuracy: 0.9571 - val_loss: 0.1622 - learning_rate: 2.4459e-04\n",
      "Epoch 5/9\n",
      "\u001b[1m4411/4411\u001b[0m \u001b[32m━━━━━━━━━━━━━━━━━━━━\u001b[0m\u001b[37m\u001b[0m \u001b[1m193s\u001b[0m 44ms/step - accuracy: 0.9423 - loss: 0.3275 - val_accuracy: 0.9613 - val_loss: 0.1544 - learning_rate: 2.4459e-04\n",
      "Epoch 6/9\n",
      "\u001b[1m4411/4411\u001b[0m \u001b[32m━━━━━━━━━━━━━━━━━━━━\u001b[0m\u001b[37m\u001b[0m \u001b[1m193s\u001b[0m 44ms/step - accuracy: 0.9473 - loss: 0.2522 - val_accuracy: 0.9661 - val_loss: 0.1342 - learning_rate: 2.4459e-04\n",
      "Epoch 7/9\n",
      "\u001b[1m4411/4411\u001b[0m \u001b[32m━━━━━━━━━━━━━━━━━━━━\u001b[0m\u001b[37m\u001b[0m \u001b[1m193s\u001b[0m 44ms/step - accuracy: 0.9497 - loss: 0.2499 - val_accuracy: 0.9615 - val_loss: 0.1858 - learning_rate: 2.4459e-04\n",
      "Epoch 8/9\n",
      "\u001b[1m4411/4411\u001b[0m \u001b[32m━━━━━━━━━━━━━━━━━━━━\u001b[0m\u001b[37m\u001b[0m \u001b[1m193s\u001b[0m 44ms/step - accuracy: 0.9515 - loss: 0.2455 - val_accuracy: 0.9599 - val_loss: 0.1523 - learning_rate: 2.4459e-04\n",
      "Epoch 9/9\n",
      "\u001b[1m4411/4411\u001b[0m \u001b[32m━━━━━━━━━━━━━━━━━━━━\u001b[0m\u001b[37m\u001b[0m \u001b[1m193s\u001b[0m 44ms/step - accuracy: 0.9542 - loss: 0.2260 - val_accuracy: 0.9586 - val_loss: 0.1507 - learning_rate: 2.4459e-04\n",
      "2756/2756 - 30s - 11ms/step - accuracy: 0.9660 - loss: 0.1364\n",
      "Test Loss: 0.1364244520664215\n",
      "Test Accuracy: 0.9659938812255859\n"
     ]
    }
   ],
   "source": [
    "# use the best params obtained from the above bayes search to train the model again and evaluate on test set.\n",
    "# Extract best parameters\n",
    "best_params = opt.best_params_\n",
    "# Build model with best parameters\n",
    "model = build_bilstm_model(\n",
    "    lstm_units=best_params['model__lstm_units'],\n",
    "    hidden_layer=best_params['model__hidden_layer'],\n",
    "    dropout=best_params['model__dropout'],\n",
    "    learning_rate=best_params['model__learning_rate'],\n",
    "    input_shape=(X_train_seq_final.shape[1], X_train_seq_final.shape[2])\n",
    ")\n",
    "\n",
    "# Train the model\n",
    "history = model.fit(\n",
    "    X_train_seq_final, y_train_seq_final_labels,\n",
    "    validation_data=(X_val_seq, np.argmax(y_val_seq, axis=1)),\n",
    "    epochs=best_params['epochs'],\n",
    "    batch_size=best_params['batch_size'],\n",
    "    callbacks=[early_stopping, reduce_lr],\n",
    "    class_weight=class_weight_dict,\n",
    "    verbose=1\n",
    ")\n",
    "\n",
    "# Evaluate on test set\n",
    "results = model.evaluate(X_test_seq, y_test_seq_labels, verbose=2)\n",
    "print(\"Test Loss: {}\".format(results[0]))\n",
    "print(\"Test Accuracy: {}\".format(results[1]))\n"
   ]
  },
  {
   "cell_type": "code",
   "execution_count": 10,
   "id": "fa7cef21",
   "metadata": {},
   "outputs": [
    {
     "name": "stdout",
     "output_type": "stream",
     "text": [
      "\u001b[1m2756/2756\u001b[0m \u001b[32m━━━━━━━━━━━━━━━━━━━━\u001b[0m\u001b[37m\u001b[0m \u001b[1m29s\u001b[0m 11ms/step\n",
      "              precision    recall  f1-score   support\n",
      "\n",
      "           0       0.97      1.00      0.99      3997\n",
      "           1       0.89      0.99      0.94      3998\n",
      "           2       0.89      0.97      0.93      4000\n",
      "           3       0.92      0.94      0.93      3999\n",
      "           4       0.30      0.95      0.45       209\n",
      "           5       1.00      0.96      0.98     59991\n",
      "           6       0.94      0.94      0.94      3998\n",
      "           7       0.94      1.00      0.97      3999\n",
      "           8       0.90      0.99      0.95      3999\n",
      "\n",
      "    accuracy                           0.97     88190\n",
      "   macro avg       0.86      0.97      0.90     88190\n",
      "weighted avg       0.97      0.97      0.97     88190\n",
      "\n",
      "[[ 3997     0     0     0     0     0     0     0     0]\n",
      " [    0  3962     1    17     0     9     5     4     0]\n",
      " [    0     0  3866    15     0   119     0     0     0]\n",
      " [    0   144    73  3776     0     6     0     0     0]\n",
      " [    1     0     1     0   199     8     0     0     0]\n",
      " [  120   368   404   287   470 57695   211   254   182]\n",
      " [    0     0     0     0     0     8  3752     0   238]\n",
      " [    0     1     7     2     1     7     0  3981     0]\n",
      " [    0     1     1     0     0     8    26     0  3963]]\n"
     ]
    },
    {
     "data": {
      "image/png": "[encoded data removed]",
      "text/plain": [
       "<Figure size 1200x600 with 1 Axes>"
      ]
     },
     "metadata": {},
     "output_type": "display_data"
    }
   ],
   "source": [
    "\n",
    "# Print classification report\n",
    "y_pred_probs = model.predict(X_test_seq)\n",
    "y_pred_classes = y_pred_probs.argmax(axis=1)\n",
    "y_true_classes = y_test_seq_labels\n",
    "print(classification_report(y_true_classes, y_pred_classes))\n",
    "\n",
    "# confusion matrics\n",
    "cm = confusion_matrix(y_true_classes, y_pred_classes)\n",
    "print(cm)\n",
    "\n",
    "#plot the validation loss and accuracy\n",
    "plt.figure(figsize=(12, 6))\n",
    "plt.plot(history.history['loss'], label='Train Loss')   \n",
    "plt.plot(history.history['val_loss'], label='Validation Loss')\n",
    "plt.plot(history.history['accuracy'], label='Train Accuracy')\n",
    "plt.plot(history.history['val_accuracy'], label='Validation Accuracy')\n",
    "plt.title('Training and Validation Loss and Accuracy')\n",
    "plt.xlabel('Epoch')\n",
    "plt.ylabel('Loss/Accuracy')\n",
    "plt.legend()\n",
    "plt.show()\n",
    "\n"
   ]
  },
  {
   "cell_type": "code",
   "execution_count": 11,
   "id": "cd9f03c7",
   "metadata": {},
   "outputs": [
    {
     "name": "stdout",
     "output_type": "stream",
     "text": [
      "\u001b[1m2756/2756\u001b[0m \u001b[32m━━━━━━━━━━━━━━━━━━━━\u001b[0m\u001b[37m\u001b[0m \u001b[1m29s\u001b[0m 10ms/step\n",
      "False Negative Rate (FNR) per class: [np.float64(0.0), np.float64(0.009004502251125562), np.float64(0.0335), np.float64(0.05576394098524631), np.float64(0.04784688995215311), np.float64(0.038272407527795836), np.float64(0.061530765382691345), np.float64(0.00450112528132033), np.float64(0.00900225056264066)]\n",
      "False Positive Rate (FPR) per class: [np.float64(0.0014371741118620312), np.float64(0.006105093120486507), np.float64(0.005784534980401473), np.float64(0.0038127590835124897), np.float64(0.005353428581170935), np.float64(0.005851271321678074), np.float64(0.0028743823641201064), np.float64(0.003064460571795085), np.float64(0.004988656744782697)]\n"
     ]
    }
   ],
   "source": [
    "# Calculate FPR and FNR\n",
    "y_pred_probs = model.predict(X_test_seq)\n",
    "y_pred_classes = y_pred_probs.argmax(axis=1)\n",
    "y_true_classes = y_test_seq_labels\n",
    "cm = confusion_matrix(y_true_classes, y_pred_classes)\n",
    "\n",
    "# For multi-class, calculate FNR and FPR per class\n",
    "fnr = []\n",
    "fpr = []\n",
    "for i in range(cm.shape[0]):\n",
    "\tfn = cm[i, :].sum() - cm[i, i]\n",
    "\ttp = cm[i, i]\n",
    "\tfp = cm[:, i].sum() - cm[i, i]\n",
    "\ttn = cm.sum() - (tp + fn + fp)\n",
    "\tfnr.append(fn / (fn + tp) if (fn + tp) > 0 else 0)\n",
    "\tfpr.append(fp / (fp + tn) if (fp + tn) > 0 else 0)\n",
    "\n",
    "print(\"False Negative Rate (FNR) per class:\", fnr)\n",
    "print(\"False Positive Rate (FPR) per class:\", fpr)"
   ]
  },
  {
   "cell_type": "code",
   "execution_count": 12,
   "id": "4cd9e546",
   "metadata": {},
   "outputs": [
    {
     "name": "stdout",
     "output_type": "stream",
     "text": [
      "    Class      FNR      FPR\n",
      " backdoor 0.000000 0.001437\n",
      "     ddos 0.009005 0.006105\n",
      "      dos 0.033500 0.005785\n",
      "injection 0.055764 0.003813\n",
      "     mitm 0.047847 0.005353\n",
      "   normal 0.038272 0.005851\n",
      " password 0.061531 0.002874\n",
      " scanning 0.004501 0.003064\n",
      "      xss 0.009002 0.004989\n"
     ]
    }
   ],
   "source": [
    "import pandas as pd\n",
    "\n",
    "# Use type_encoder.classes_ to match the order and number of classes\n",
    "results_df = pd.DataFrame({\n",
    "    \"Class\": type_encoder.classes_,\n",
    "    \"FNR\": fnr,\n",
    "    \"FPR\": fpr\n",
    "})\n",
    "\n",
    "print(results_df.to_string(index=False))\n"
   ]
  }
 ],
 "metadata": {
  "kernelspec": {
   "display_name": "thesisStudy",
   "language": "python",
   "name": "python3"
  },
  "language_info": {
   "codemirror_mode": {
    "name": "ipython",
    "version": 3
   },
   "file_extension": ".py",
   "mimetype": "text/x-python",
   "name": "python",
   "nbconvert_exporter": "python",
   "pygments_lexer": "ipython3",
   "version": "3.12.3"
  }
 },
 "nbformat": 4,
 "nbformat_minor": 5
}
