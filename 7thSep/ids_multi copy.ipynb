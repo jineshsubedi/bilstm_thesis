{
 "cells": [
  {
   "cell_type": "code",
   "execution_count": 3,
   "id": "1e0f65ba",
   "metadata": {},
   "outputs": [
    {
     "name": "stdout",
     "output_type": "stream",
     "text": [
      "Original DataFrame Head:\n",
      "            ts         src_ip  src_port        dst_ip  dst_port proto service  \\\n",
      "0  1556499101  192.168.1.193     60396  192.168.1.33      8080   tcp       -   \n",
      "1  1556494424  192.168.1.193     59273  192.168.1.33      8080   tcp       -   \n",
      "2  1556487945  192.168.1.193     57717  192.168.1.33      8080   tcp       -   \n",
      "3  1556508616  192.168.1.193     62682  192.168.1.33        80   tcp       -   \n",
      "4  1556511697  192.168.1.193     63419  192.168.1.33      8080   tcp       -   \n",
      "\n",
      "   duration src_bytes  dst_bytes  ... http_response_body_len  \\\n",
      "0  0.000180         0          0  ...                      0   \n",
      "1  0.000111         0          0  ...                      0   \n",
      "2  0.000148         0          0  ...                      0   \n",
      "3  0.000127         0          0  ...                      0   \n",
      "4  0.000122         0          0  ...                      0   \n",
      "\n",
      "   http_status_code  http_user_agent  http_orig_mime_types  \\\n",
      "0                 0                -                     -   \n",
      "1                 0                -                     -   \n",
      "2                 0                -                     -   \n",
      "3                 0                -                     -   \n",
      "4                 0                -                     -   \n",
      "\n",
      "   http_resp_mime_types  weird_name weird_addl  weird_notice  label      type  \n",
      "0                     -           -          -             -      1  backdoor  \n",
      "1                     -           -          -             -      1  backdoor  \n",
      "2                     -           -          -             -      1  backdoor  \n",
      "3                     -           -          -             -      1  backdoor  \n",
      "4                     -           -          -             -      1  backdoor  \n",
      "\n",
      "[5 rows x 46 columns]\n",
      "\n",
      "Original Class Distribution:\n",
      " type\n",
      "normal       300000\n",
      "backdoor      20000\n",
      "ddos          20000\n",
      "injection     20000\n",
      "dos           20000\n",
      "scanning      20000\n",
      "password      20000\n",
      "xss           20000\n",
      "mitm           1043\n",
      "Name: count, dtype: int64\n",
      "\n",
      "Original Label Distribution:\n",
      " label\n",
      "0    300000\n",
      "1    141043\n",
      "Name: count, dtype: int64\n",
      "\n",
      "Original Data Types:\n",
      " ts                          int64\n",
      "src_ip                     object\n",
      "src_port                    int64\n",
      "dst_ip                     object\n",
      "dst_port                    int64\n",
      "proto                      object\n",
      "service                    object\n",
      "duration                  float64\n",
      "src_bytes                  object\n",
      "dst_bytes                   int64\n",
      "conn_state                 object\n",
      "missed_bytes                int64\n",
      "src_pkts                    int64\n",
      "src_ip_bytes                int64\n",
      "dst_pkts                    int64\n",
      "dst_ip_bytes                int64\n",
      "dns_query                  object\n",
      "dns_qclass                  int64\n",
      "dns_qtype                   int64\n",
      "dns_rcode                   int64\n",
      "dns_AA                     object\n",
      "dns_RD                     object\n",
      "dns_RA                     object\n",
      "dns_rejected               object\n",
      "ssl_version                object\n",
      "ssl_cipher                 object\n",
      "ssl_resumed                object\n",
      "ssl_established            object\n",
      "ssl_subject                object\n",
      "ssl_issuer                 object\n",
      "http_trans_depth           object\n",
      "http_method                object\n",
      "http_uri                   object\n",
      "http_referrer              object\n",
      "http_version               object\n",
      "http_request_body_len       int64\n",
      "http_response_body_len      int64\n",
      "http_status_code            int64\n",
      "http_user_agent            object\n",
      "http_orig_mime_types       object\n",
      "http_resp_mime_types       object\n",
      "weird_name                 object\n",
      "weird_addl                 object\n",
      "weird_notice               object\n",
      "label                       int64\n",
      "type                       object\n",
      "dtype: object\n",
      "\n",
      "Original Data Shapes:\n",
      " (441043, 46)\n",
      "Shape after dropping duplicates: (441043, 46)\n",
      "Shape after handling NaNs: (441043, 46)\n",
      "Encoded column: src_ip\n",
      "Encoded column: dst_ip\n",
      "Encoded column: proto\n",
      "Encoded column: service\n",
      "Encoded column: conn_state\n",
      "Encoded column: dns_query\n",
      "Encoded column: dns_AA\n",
      "Encoded column: dns_RD\n",
      "Encoded column: dns_RA\n",
      "Encoded column: dns_rejected\n",
      "Encoded column: ssl_version\n",
      "Encoded column: ssl_cipher\n",
      "Encoded column: ssl_resumed\n",
      "Encoded column: ssl_established\n",
      "Encoded column: ssl_subject\n",
      "Encoded column: ssl_issuer\n",
      "Encoded column: http_trans_depth\n",
      "Encoded column: http_method\n",
      "Encoded column: http_uri\n",
      "Encoded column: http_referrer\n",
      "Encoded column: http_version\n",
      "Encoded column: http_user_agent\n",
      "Encoded column: http_orig_mime_types\n",
      "Encoded column: http_resp_mime_types\n",
      "Encoded column: weird_name\n",
      "Encoded column: weird_addl\n",
      "Encoded column: weird_notice\n",
      "\n",
      "Categorical columns: ['src_ip', 'dst_ip', 'proto', 'service', 'conn_state', 'dns_query', 'dns_AA', 'dns_RD', 'dns_RA', 'dns_rejected', 'ssl_version', 'ssl_cipher', 'ssl_resumed', 'ssl_established', 'ssl_subject', 'ssl_issuer', 'http_trans_depth', 'http_method', 'http_uri', 'http_referrer', 'http_version', 'http_user_agent', 'http_orig_mime_types', 'http_resp_mime_types', 'weird_name', 'weird_addl', 'weird_notice']\n",
      "Numerical columns: ['ts', 'src_ip', 'src_port', 'dst_ip', 'dst_port', 'proto', 'service', 'duration', 'src_bytes', 'dst_bytes', 'conn_state', 'missed_bytes', 'src_pkts', 'src_ip_bytes', 'dst_pkts', 'dst_ip_bytes', 'dns_query', 'dns_qclass', 'dns_qtype', 'dns_rcode', 'dns_AA', 'dns_RD', 'dns_RA', 'dns_rejected', 'ssl_version', 'ssl_cipher', 'ssl_resumed', 'ssl_established', 'ssl_subject', 'ssl_issuer', 'http_trans_depth', 'http_method', 'http_uri', 'http_referrer', 'http_version', 'http_request_body_len', 'http_response_body_len', 'http_status_code', 'http_user_agent', 'http_orig_mime_types', 'http_resp_mime_types', 'weird_name', 'weird_addl', 'weird_notice']\n"
     ]
    }
   ],
   "source": [
    "# BiLSTM-based Intrusion Detection on TON IoT Dataset (Rewritten)\n",
    "\n",
    "import pandas as pd\n",
    "import numpy as np\n",
    "import tensorflow as tf\n",
    "from tensorflow.keras.utils import to_categorical\n",
    "from sklearn.preprocessing import LabelEncoder, MinMaxScaler\n",
    "from collections import Counter\n",
    "from sklearn.model_selection import StratifiedKFold, train_test_split\n",
    "\n",
    "# Load Dataset\n",
    "df = pd.read_csv('../dataset/final_df.csv', low_memory=False)\n",
    "print(\"Original DataFrame Head:\\n\", df.head())\n",
    "print(\"\\nOriginal Class Distribution:\\n\", df['type'].value_counts())\n",
    "print(\"\\nOriginal Label Distribution:\\n\", df['label'].value_counts())\n",
    "print(\"\\nOriginal Data Types:\\n\", df.dtypes)\n",
    "print(\"\\nOriginal Data Shapes:\\n\", df.shape)\n",
    "\n",
    "# --- Data Preprocessing ---\n",
    "# Clean and impute\n",
    "df['src_bytes'] = pd.to_numeric(df['src_bytes'], errors='coerce').fillna(0)\n",
    "df.drop_duplicates(inplace=True)\n",
    "\n",
    "df.fillna(df.mean(numeric_only=True), inplace=True)\n",
    "print(f\"Shape after dropping duplicates: {df.shape}\")\n",
    "\n",
    "for col in df.columns:\n",
    "    if df[col].isnull().any():\n",
    "        if df[col].dtype == 'object':\n",
    "            df[col].fillna('Missing', inplace=True) # Or df[col].mode()[0]\n",
    "        else:\n",
    "            df[col].fillna(df[col].mean(), inplace=True)\n",
    "\n",
    "print(f\"Shape after handling NaNs: {df.shape}\")\n",
    "\n",
    "# Identify targets\n",
    "TARGET_LABEL = 'label'\n",
    "TARGET_TYPE = 'type'\n",
    "\n",
    "# Encode categorical columns\n",
    "categorical_cols = df.select_dtypes(include='object').columns.tolist()\n",
    "if TARGET_TYPE in categorical_cols:\n",
    "    categorical_cols.remove(TARGET_TYPE)\n",
    "\n",
    "label_encoders = {}\n",
    "for col in categorical_cols:\n",
    "    le = LabelEncoder()\n",
    "    df[col] = le.fit_transform(df[col])\n",
    "    label_encoders[col] = le\n",
    "    print(f\"Encoded column: {col}\")\n",
    "\n",
    "# Normalize numerical features\n",
    "numerical_cols = df.select_dtypes(include=['int64', 'float64']).columns.tolist()\n",
    "if TARGET_LABEL in numerical_cols:\n",
    "    numerical_cols.remove(TARGET_LABEL)\n",
    "\n",
    "print(f\"\\nCategorical columns: {categorical_cols}\")\n",
    "print(f\"Numerical columns: {numerical_cols}\")\n"
   ]
  },
  {
   "cell_type": "code",
   "execution_count": 4,
   "id": "05742498",
   "metadata": {},
   "outputs": [
    {
     "name": "stdout",
     "output_type": "stream",
     "text": [
      "Feature shape (flat): (441043, 44)\n",
      "Binary target shape: (441043,)\n",
      "Multi-class target shape: (441043,)\n",
      "Binary target class distribution:\n",
      "Counter({np.int64(0): 300000, np.int64(1): 141043})\n",
      "Multi-class target class distribution:\n",
      "Counter({np.int64(5): 300000, np.int64(0): 20000, np.int64(1): 20000, np.int64(2): 20000, np.int64(3): 20000, np.int64(6): 20000, np.int64(7): 20000, np.int64(8): 20000, np.int64(4): 1043})\n"
     ]
    }
   ],
   "source": [
    "binary_y = df[TARGET_LABEL].values\n",
    "type_encoder = LabelEncoder()\n",
    "y_multiclass_encoded = type_encoder.fit_transform(df[TARGET_TYPE])\n",
    "num_classes = len(le.classes_)\n",
    "# Convert to one-hot encoding for Keras if using categorical_crossentropy\n",
    "y_multiclass_onehot = to_categorical(y_multiclass_encoded)\n",
    "\n",
    "y_multiclass_labels = np.argmax(y_multiclass_onehot, axis=1)\n",
    "\n",
    "# Drop targets from features\n",
    "X = df.drop(columns=[TARGET_LABEL, TARGET_TYPE]).values\n",
    "print(\"Feature shape (flat):\", X.shape)\n",
    "print(\"Binary target shape:\", binary_y.shape)\n",
    "print(\"Multi-class target shape:\", y_multiclass_labels.shape)\n",
    "\n",
    "# print the class distribution of binary_y and y_multiclass_labels\n",
    "print(\"Binary target class distribution:\")\n",
    "print(Counter(binary_y))\n",
    "print(\"Multi-class target class distribution:\")\n",
    "print(Counter(y_multiclass_labels))"
   ]
  },
  {
   "cell_type": "code",
   "execution_count": 5,
   "id": "0ade1653",
   "metadata": {},
   "outputs": [
    {
     "name": "stdout",
     "output_type": "stream",
     "text": [
      "\n",
      "X_train shape: (352834, 44)\n",
      "y_train_multiclass labels shape: (352834, 9)\n",
      "X_test  shape: (88209, 44)\n",
      "y_test_multiclass labels shape: (88209, 9)\n",
      "Multi-class target class distribution (train):\n",
      "Counter({np.int64(5): 240000, np.int64(0): 16000, np.int64(6): 16000, np.int64(7): 16000, np.int64(8): 16000, np.int64(2): 16000, np.int64(1): 16000, np.int64(3): 16000, np.int64(4): 834})\n",
      "Multi-class target class distribution (test):\n",
      "Counter({np.int64(5): 60000, np.int64(1): 4000, np.int64(3): 4000, np.int64(6): 4000, np.int64(0): 4000, np.int64(8): 4000, np.int64(7): 4000, np.int64(2): 4000, np.int64(4): 209})\n",
      "Scaling complete.\n"
     ]
    }
   ],
   "source": [
    "# 1. Split BEFORE SMOTE (to avoid leakage)\n",
    "# ----------------------------------------\n",
    "X_train, X_test, y_train_multi, y_test_multi = train_test_split(\n",
    "    X,\n",
    "    y_multiclass_onehot,\n",
    "    test_size=0.2,\n",
    "    random_state=42,\n",
    "    stratify=y_multiclass_encoded  # stratify on binary for this example\n",
    ")\n",
    "\n",
    "# Reset indices\n",
    "X_train = pd.DataFrame(X_train).reset_index(drop=True).values\n",
    "X_test = pd.DataFrame(X_test).reset_index(drop=True).values\n",
    "\n",
    "print(f\"\\nX_train shape: {X_train.shape}\")\n",
    "print(f\"y_train_multiclass labels shape: {y_train_multi.shape}\")\n",
    "print(f\"X_test  shape: {X_test.shape}\")\n",
    "print(f\"y_test_multiclass labels shape: {y_test_multi.shape}\")\n",
    "\n",
    "# print the class distribution of binary_y and y_multiclass\n",
    "# print the class distribution of binary_y and y_multiclass\n",
    "print(\"Multi-class target class distribution (train):\")\n",
    "print(Counter(np.argmax(y_train_multi, axis=1)))\n",
    "print(\"Multi-class target class distribution (test):\")\n",
    "print(Counter(np.argmax(y_test_multi, axis=1)))\n",
    "\n",
    "# scaling the training data\n",
    "scaler = MinMaxScaler()\n",
    "X_train = scaler.fit_transform(X_train)\n",
    "X_test = scaler.transform(X_test)\n",
    "\n",
    "print(\"Scaling complete.\")"
   ]
  },
  {
   "cell_type": "code",
   "execution_count": 6,
   "id": "c5844b6c",
   "metadata": {},
   "outputs": [
    {
     "name": "stdout",
     "output_type": "stream",
     "text": [
      "Total samples: 352834 | Generating 352815 sequences (window_size=20)\n",
      "\n",
      "--- Seq 1/352815 ---\n",
      "  X indices: 0 to 19\n",
      "  y index:   19 → label=[0. 0. 1. 0. 0. 0. 0. 0. 0.]\n",
      "  window.shape: (20, 44)\n",
      "\n",
      "--- Seq 2/352815 ---\n",
      "  X indices: 1 to 20\n",
      "  y index:   20 → label=[0. 0. 0. 0. 0. 1. 0. 0. 0.]\n",
      "  window.shape: (20, 44)\n",
      "\n",
      "--- Seq 3/352815 ---\n",
      "  X indices: 2 to 21\n",
      "  y index:   21 → label=[0. 0. 0. 0. 0. 1. 0. 0. 0.]\n",
      "  window.shape: (20, 44)\n",
      "\n",
      "--- Seq 4/352815 ---\n",
      "  X indices: 3 to 22\n",
      "  y index:   22 → label=[0. 0. 0. 0. 0. 1. 0. 0. 0.]\n",
      "  window.shape: (20, 44)\n",
      "\n",
      "--- Seq 5/352815 ---\n",
      "  X indices: 4 to 23\n",
      "  y index:   23 → label=[0. 0. 0. 0. 0. 1. 0. 0. 0.]\n",
      "  window.shape: (20, 44)\n",
      "\n",
      "Total sequences generated: 352815\n",
      "Total samples: 88209 | Generating 88190 sequences (window_size=20)\n",
      "\n",
      "--- Seq 1/88190 ---\n",
      "  X indices: 0 to 19\n",
      "  y index:   19 → label=[0. 0. 0. 0. 0. 1. 0. 0. 0.]\n",
      "  window.shape: (20, 44)\n",
      "\n",
      "--- Seq 2/88190 ---\n",
      "  X indices: 1 to 20\n",
      "  y index:   20 → label=[0. 0. 0. 0. 0. 1. 0. 0. 0.]\n",
      "  window.shape: (20, 44)\n",
      "\n",
      "--- Seq 3/88190 ---\n",
      "  X indices: 2 to 21\n",
      "  y index:   21 → label=[0. 0. 0. 0. 0. 1. 0. 0. 0.]\n",
      "  window.shape: (20, 44)\n",
      "\n",
      "--- Seq 4/88190 ---\n",
      "  X indices: 3 to 22\n",
      "  y index:   22 → label=[0. 0. 0. 0. 0. 1. 0. 0. 0.]\n",
      "  window.shape: (20, 44)\n",
      "\n",
      "--- Seq 5/88190 ---\n",
      "  X indices: 4 to 23\n",
      "  y index:   23 → label=[0. 0. 1. 0. 0. 0. 0. 0. 0.]\n",
      "  window.shape: (20, 44)\n",
      "\n",
      "Total sequences generated: 88190\n",
      "Train sequence shape: (352815, 20, 44)\n",
      "Test sequence shape: (88190, 20, 44)\n",
      "multi target distribution: Counter({np.int64(5): 240000, np.int64(0): 16000, np.int64(6): 16000, np.int64(7): 16000, np.int64(8): 16000, np.int64(2): 16000, np.int64(1): 16000, np.int64(3): 16000, np.int64(4): 834})\n",
      "Class distribution in y_train_seq: Counter({np.int64(5): 239988, np.int64(2): 16000, np.int64(1): 16000, np.int64(3): 16000, np.int64(6): 15999, np.int64(8): 15999, np.int64(0): 15999, np.int64(7): 15997, np.int64(4): 833})\n",
      "Class distribution in y_test_seq: Counter({np.int64(5): 59991, np.int64(2): 4000, np.int64(8): 3999, np.int64(3): 3999, np.int64(7): 3999, np.int64(6): 3998, np.int64(1): 3998, np.int64(0): 3997, np.int64(4): 209})\n"
     ]
    }
   ],
   "source": [
    "# --- Create Sequences ---\n",
    "def create_sequences(\n",
    "    X,\n",
    "    y,\n",
    "    window_size: int = 10,\n",
    "    debug: bool = False,\n",
    "    trace_limit: int = 5\n",
    "):\n",
    "    # Convert to numpy if not already\n",
    "    X = np.asarray(X)\n",
    "    y = np.asarray(y)\n",
    "\n",
    "    # Input validation\n",
    "    if len(X) != len(y):\n",
    "        raise ValueError(\"X and y must have the same number of samples\")\n",
    "    if len(X.shape) != 2:\n",
    "        raise ValueError(\"X must be a 2D array: (samples, features)\")\n",
    "    if len(y.shape) > 2:\n",
    "        raise ValueError(\"y must be a 1D or 2D array\")\n",
    "\n",
    "    X_seq, y_seq = [], []\n",
    "    total = len(X) - window_size + 1\n",
    "    if debug:\n",
    "        print(f\"Total samples: {len(X)} | Generating {total} sequences (window_size={window_size})\")\n",
    "\n",
    "    for i in range(total):\n",
    "        window = X[i : i + window_size]\n",
    "        label = y[i + window_size - 1]\n",
    "        X_seq.append(window)\n",
    "        y_seq.append(label)\n",
    "\n",
    "        if debug and i < trace_limit:\n",
    "            print(f\"\\n--- Seq {i+1}/{total} ---\")\n",
    "            print(f\"  X indices: {i} to {i+window_size-1}\")\n",
    "            print(f\"  y index:   {i+window_size-1} → label={label}\")\n",
    "            print(f\"  window.shape: {window.shape}\")\n",
    "\n",
    "    if debug:\n",
    "        print(f\"\\nTotal sequences generated: {len(X_seq)}\")\n",
    "\n",
    "    return np.array(X_seq), np.array(y_seq)\n",
    "\n",
    "\n",
    "TIMESTEPS = 20\n",
    "X_train_seq, y_train_seq = create_sequences(X_train, y_train_multi, window_size=TIMESTEPS, debug=True)\n",
    "X_test_seq, y_test_seq = create_sequences(X_test, y_test_multi, window_size=TIMESTEPS, debug=True)\n",
    "\n",
    "\n",
    "print(\"Train sequence shape:\", X_train_seq.shape)  # (samples, timesteps, features)\n",
    "print(\"Test sequence shape:\", X_test_seq.shape)\n",
    "print(\"multi target distribution:\", Counter(np.argmax(y_train_multi, axis=1)))\n",
    "\n",
    "# counters\n",
    "print(\"Class distribution in y_train_seq:\", Counter(np.argmax(y_train_seq, axis=1)))\n",
    "print(\"Class distribution in y_test_seq:\", Counter(np.argmax(y_test_seq, axis=1)))\n",
    "\n",
    "# multiclass sequence generation.\n",
    "# X_train_seq_multi, y_train_seq_multi = create_sequences(X_train, y_train_multi, debug=True)\n",
    "# X_test_seq_multi, y_test_seq_multi = create_sequences(X_test, y_test_multi, debug=True)\n"
   ]
  },
  {
   "cell_type": "code",
   "execution_count": 7,
   "id": "91448d9d",
   "metadata": {},
   "outputs": [
    {
     "name": "stdout",
     "output_type": "stream",
     "text": [
      "After ADASYN:\n",
      "Resampled X_train shape: (361902, 20, 44)\n",
      "Resampled y_train shape: (361902, 9)\n",
      "Resampled class distribution: Counter({np.int64(5): 239988, np.int64(2): 16000, np.int64(1): 16000, np.int64(3): 16000, np.int64(6): 15999, np.int64(8): 15999, np.int64(0): 15999, np.int64(7): 15997, np.int64(4): 9920})\n"
     ]
    }
   ],
   "source": [
    "from imblearn.over_sampling import ADASYN\n",
    "from collections import Counter\n",
    "\n",
    "# Convert one-hot to integer labels for y_train_seq\n",
    "y_train_seq_labels = np.argmax(y_train_seq, axis=1)\n",
    "\n",
    "# Apply ADASYN instead of SMOTE\n",
    "adasyn = ADASYN(\n",
    "    sampling_strategy={4: 10000},  # Only oversample class 4\n",
    "    random_state=42,\n",
    "    n_neighbors=5\n",
    ")\n",
    "X_train_res, y_train_res = adasyn.fit_resample(\n",
    "\tX_train_seq.reshape(X_train_seq.shape[0], -1),  # Flatten for ADASYN\n",
    "\ty_train_seq_labels\n",
    ")\n",
    "X_train_res = X_train_res.reshape(X_train_res.shape[0], TIMESTEPS, X_train_seq.shape[2])  # Reshape back to sequences\n",
    "y_train_res = to_categorical(y_train_res, num_classes=y_train_seq.shape[1])  # One-hot encode\t\n",
    "print(\"After ADASYN:\")\n",
    "print(\"Resampled X_train shape:\", X_train_res.shape)\n",
    "print(\"Resampled y_train shape:\", y_train_res.shape)\n",
    "print(\"Resampled class distribution:\", Counter(np.argmax(y_train_res, axis=1)))"
   ]
  },
  {
   "cell_type": "code",
   "execution_count": 8,
   "id": "ce8176f5",
   "metadata": {},
   "outputs": [
    {
     "name": "stdout",
     "output_type": "stream",
     "text": [
      "Final training shapes:\n",
      "X_train_seq_final shape: (289522, 20, 44)\n",
      "y_train_seq_final shape: (289522, 9)\n",
      "X_val_seq shape: (72380, 20, 44)\n",
      "y_val_seq shape: (72380, 9)\n",
      "Final training label distributions:\n",
      "y_train_seq_final distribution: Counter({np.int64(5): 192140, np.int64(3): 12871, np.int64(7): 12853, np.int64(2): 12846, np.int64(8): 12748, np.int64(6): 12738, np.int64(1): 12701, np.int64(0): 12680, np.int64(4): 7945})\n",
      "y_val_seq distribution: Counter({np.int64(5): 47848, np.int64(0): 3319, np.int64(1): 3299, np.int64(6): 3261, np.int64(8): 3251, np.int64(2): 3154, np.int64(7): 3144, np.int64(3): 3129, np.int64(4): 1975})\n"
     ]
    }
   ],
   "source": [
    "from sklearn.utils import shuffle\n",
    "\n",
    "X_train_seq_bal_shuffle, y_train_seq_bal_shuffle = shuffle(X_train_res, y_train_res, random_state=42)\n",
    "# X_train_seq_bal_shuffle, y_train_seq_bal_shuffle = shuffle(X_train_seq, y_train_seq, random_state=42)\n",
    "\n",
    "val_fraction = 0.2\n",
    "n_total = X_train_seq_bal_shuffle.shape[0]\n",
    "n_val = int(n_total * val_fraction)\n",
    "\n",
    "X_val_seq = X_train_seq_bal_shuffle[-n_val:]\n",
    "y_val_seq = y_train_seq_bal_shuffle[-n_val:]\n",
    "X_train_seq_final = X_train_seq_bal_shuffle[:-n_val]\n",
    "y_train_seq_final = y_train_seq_bal_shuffle[:-n_val]\n",
    "\n",
    "print(\"Final training shapes:\")\n",
    "print(f\"X_train_seq_final shape: {X_train_seq_final.shape}\")\n",
    "print(f\"y_train_seq_final shape: {y_train_seq_final.shape}\")\n",
    "print(f\"X_val_seq shape: {X_val_seq.shape}\")\n",
    "print(f\"y_val_seq shape: {y_val_seq.shape}\")\n",
    "\n",
    "print(\"Final training label distributions:\")\n",
    "print(f\"y_train_seq_final distribution: {Counter(np.argmax(y_train_seq_final, axis=1))}\")\n",
    "print(f\"y_val_seq distribution: {Counter(np.argmax(y_val_seq, axis=1))}\")"
   ]
  },
  {
   "cell_type": "code",
   "execution_count": 9,
   "id": "8c1cd211",
   "metadata": {},
   "outputs": [
    {
     "name": "stderr",
     "output_type": "stream",
     "text": [
      "WARNING: All log messages before absl::InitializeLog() is called are written to STDERR\n",
      "I0000 00:00:1757387844.946681  273319 gpu_device.cc:2020] Created device /job:localhost/replica:0/task:0/device:GPU:0 with 2278 MB memory:  -> device: 0, name: NVIDIA GeForce RTX 2050, pci bus id: 0000:01:00.0, compute capability: 8.6\n",
      "/home/jinesh-subedi/htdocs/thesis/thesisStudy/lib/python3.12/site-packages/keras/src/layers/rnn/bidirectional.py:107: UserWarning: Do not pass an `input_shape`/`input_dim` argument to a layer. When using Sequential models, prefer using an `Input(shape)` object as the first layer in the model instead.\n",
      "  super().__init__(**kwargs)\n"
     ]
    },
    {
     "data": {
      "text/html": [
       "<pre style=\"white-space:pre;overflow-x:auto;line-height:normal;font-family:Menlo,'DejaVu Sans Mono',consolas,'Courier New',monospace\"><span style=\"font-weight: bold\">Model: \"sequential\"</span>\n",
       "</pre>\n"
      ],
      "text/plain": [
       "\u001b[1mModel: \"sequential\"\u001b[0m\n"
      ]
     },
     "metadata": {},
     "output_type": "display_data"
    },
    {
     "data": {
      "text/html": [
       "<pre style=\"white-space:pre;overflow-x:auto;line-height:normal;font-family:Menlo,'DejaVu Sans Mono',consolas,'Courier New',monospace\">┏━━━━━━━━━━━━━━━━━━━━━━━━━━━━━━━━━┳━━━━━━━━━━━━━━━━━━━━━━━━┳━━━━━━━━━━━━━━━┓\n",
       "┃<span style=\"font-weight: bold\"> Layer (type)                    </span>┃<span style=\"font-weight: bold\"> Output Shape           </span>┃<span style=\"font-weight: bold\">       Param # </span>┃\n",
       "┡━━━━━━━━━━━━━━━━━━━━━━━━━━━━━━━━━╇━━━━━━━━━━━━━━━━━━━━━━━━╇━━━━━━━━━━━━━━━┩\n",
       "│ bidirectional (<span style=\"color: #0087ff; text-decoration-color: #0087ff\">Bidirectional</span>)   │ (<span style=\"color: #00d7ff; text-decoration-color: #00d7ff\">None</span>, <span style=\"color: #00af00; text-decoration-color: #00af00\">20</span>, <span style=\"color: #00af00; text-decoration-color: #00af00\">256</span>)        │       <span style=\"color: #00af00; text-decoration-color: #00af00\">177,152</span> │\n",
       "├─────────────────────────────────┼────────────────────────┼───────────────┤\n",
       "│ layer_normalization             │ (<span style=\"color: #00d7ff; text-decoration-color: #00d7ff\">None</span>, <span style=\"color: #00af00; text-decoration-color: #00af00\">20</span>, <span style=\"color: #00af00; text-decoration-color: #00af00\">256</span>)        │           <span style=\"color: #00af00; text-decoration-color: #00af00\">512</span> │\n",
       "│ (<span style=\"color: #0087ff; text-decoration-color: #0087ff\">LayerNormalization</span>)            │                        │               │\n",
       "├─────────────────────────────────┼────────────────────────┼───────────────┤\n",
       "│ dropout (<span style=\"color: #0087ff; text-decoration-color: #0087ff\">Dropout</span>)               │ (<span style=\"color: #00d7ff; text-decoration-color: #00d7ff\">None</span>, <span style=\"color: #00af00; text-decoration-color: #00af00\">20</span>, <span style=\"color: #00af00; text-decoration-color: #00af00\">256</span>)        │             <span style=\"color: #00af00; text-decoration-color: #00af00\">0</span> │\n",
       "├─────────────────────────────────┼────────────────────────┼───────────────┤\n",
       "│ bidirectional_1 (<span style=\"color: #0087ff; text-decoration-color: #0087ff\">Bidirectional</span>) │ (<span style=\"color: #00d7ff; text-decoration-color: #00d7ff\">None</span>, <span style=\"color: #00af00; text-decoration-color: #00af00\">128</span>)            │       <span style=\"color: #00af00; text-decoration-color: #00af00\">164,352</span> │\n",
       "├─────────────────────────────────┼────────────────────────┼───────────────┤\n",
       "│ layer_normalization_1           │ (<span style=\"color: #00d7ff; text-decoration-color: #00d7ff\">None</span>, <span style=\"color: #00af00; text-decoration-color: #00af00\">128</span>)            │           <span style=\"color: #00af00; text-decoration-color: #00af00\">256</span> │\n",
       "│ (<span style=\"color: #0087ff; text-decoration-color: #0087ff\">LayerNormalization</span>)            │                        │               │\n",
       "├─────────────────────────────────┼────────────────────────┼───────────────┤\n",
       "│ dropout_1 (<span style=\"color: #0087ff; text-decoration-color: #0087ff\">Dropout</span>)             │ (<span style=\"color: #00d7ff; text-decoration-color: #00d7ff\">None</span>, <span style=\"color: #00af00; text-decoration-color: #00af00\">128</span>)            │             <span style=\"color: #00af00; text-decoration-color: #00af00\">0</span> │\n",
       "├─────────────────────────────────┼────────────────────────┼───────────────┤\n",
       "│ dense (<span style=\"color: #0087ff; text-decoration-color: #0087ff\">Dense</span>)                   │ (<span style=\"color: #00d7ff; text-decoration-color: #00d7ff\">None</span>, <span style=\"color: #00af00; text-decoration-color: #00af00\">64</span>)             │         <span style=\"color: #00af00; text-decoration-color: #00af00\">8,256</span> │\n",
       "├─────────────────────────────────┼────────────────────────┼───────────────┤\n",
       "│ dense_1 (<span style=\"color: #0087ff; text-decoration-color: #0087ff\">Dense</span>)                 │ (<span style=\"color: #00d7ff; text-decoration-color: #00d7ff\">None</span>, <span style=\"color: #00af00; text-decoration-color: #00af00\">9</span>)              │           <span style=\"color: #00af00; text-decoration-color: #00af00\">585</span> │\n",
       "└─────────────────────────────────┴────────────────────────┴───────────────┘\n",
       "</pre>\n"
      ],
      "text/plain": [
       "┏━━━━━━━━━━━━━━━━━━━━━━━━━━━━━━━━━┳━━━━━━━━━━━━━━━━━━━━━━━━┳━━━━━━━━━━━━━━━┓\n",
       "┃\u001b[1m \u001b[0m\u001b[1mLayer (type)                   \u001b[0m\u001b[1m \u001b[0m┃\u001b[1m \u001b[0m\u001b[1mOutput Shape          \u001b[0m\u001b[1m \u001b[0m┃\u001b[1m \u001b[0m\u001b[1m      Param #\u001b[0m\u001b[1m \u001b[0m┃\n",
       "┡━━━━━━━━━━━━━━━━━━━━━━━━━━━━━━━━━╇━━━━━━━━━━━━━━━━━━━━━━━━╇━━━━━━━━━━━━━━━┩\n",
       "│ bidirectional (\u001b[38;5;33mBidirectional\u001b[0m)   │ (\u001b[38;5;45mNone\u001b[0m, \u001b[38;5;34m20\u001b[0m, \u001b[38;5;34m256\u001b[0m)        │       \u001b[38;5;34m177,152\u001b[0m │\n",
       "├─────────────────────────────────┼────────────────────────┼───────────────┤\n",
       "│ layer_normalization             │ (\u001b[38;5;45mNone\u001b[0m, \u001b[38;5;34m20\u001b[0m, \u001b[38;5;34m256\u001b[0m)        │           \u001b[38;5;34m512\u001b[0m │\n",
       "│ (\u001b[38;5;33mLayerNormalization\u001b[0m)            │                        │               │\n",
       "├─────────────────────────────────┼────────────────────────┼───────────────┤\n",
       "│ dropout (\u001b[38;5;33mDropout\u001b[0m)               │ (\u001b[38;5;45mNone\u001b[0m, \u001b[38;5;34m20\u001b[0m, \u001b[38;5;34m256\u001b[0m)        │             \u001b[38;5;34m0\u001b[0m │\n",
       "├─────────────────────────────────┼────────────────────────┼───────────────┤\n",
       "│ bidirectional_1 (\u001b[38;5;33mBidirectional\u001b[0m) │ (\u001b[38;5;45mNone\u001b[0m, \u001b[38;5;34m128\u001b[0m)            │       \u001b[38;5;34m164,352\u001b[0m │\n",
       "├─────────────────────────────────┼────────────────────────┼───────────────┤\n",
       "│ layer_normalization_1           │ (\u001b[38;5;45mNone\u001b[0m, \u001b[38;5;34m128\u001b[0m)            │           \u001b[38;5;34m256\u001b[0m │\n",
       "│ (\u001b[38;5;33mLayerNormalization\u001b[0m)            │                        │               │\n",
       "├─────────────────────────────────┼────────────────────────┼───────────────┤\n",
       "│ dropout_1 (\u001b[38;5;33mDropout\u001b[0m)             │ (\u001b[38;5;45mNone\u001b[0m, \u001b[38;5;34m128\u001b[0m)            │             \u001b[38;5;34m0\u001b[0m │\n",
       "├─────────────────────────────────┼────────────────────────┼───────────────┤\n",
       "│ dense (\u001b[38;5;33mDense\u001b[0m)                   │ (\u001b[38;5;45mNone\u001b[0m, \u001b[38;5;34m64\u001b[0m)             │         \u001b[38;5;34m8,256\u001b[0m │\n",
       "├─────────────────────────────────┼────────────────────────┼───────────────┤\n",
       "│ dense_1 (\u001b[38;5;33mDense\u001b[0m)                 │ (\u001b[38;5;45mNone\u001b[0m, \u001b[38;5;34m9\u001b[0m)              │           \u001b[38;5;34m585\u001b[0m │\n",
       "└─────────────────────────────────┴────────────────────────┴───────────────┘\n"
      ]
     },
     "metadata": {},
     "output_type": "display_data"
    },
    {
     "data": {
      "text/html": [
       "<pre style=\"white-space:pre;overflow-x:auto;line-height:normal;font-family:Menlo,'DejaVu Sans Mono',consolas,'Courier New',monospace\"><span style=\"font-weight: bold\"> Total params: </span><span style=\"color: #00af00; text-decoration-color: #00af00\">351,113</span> (1.34 MB)\n",
       "</pre>\n"
      ],
      "text/plain": [
       "\u001b[1m Total params: \u001b[0m\u001b[38;5;34m351,113\u001b[0m (1.34 MB)\n"
      ]
     },
     "metadata": {},
     "output_type": "display_data"
    },
    {
     "data": {
      "text/html": [
       "<pre style=\"white-space:pre;overflow-x:auto;line-height:normal;font-family:Menlo,'DejaVu Sans Mono',consolas,'Courier New',monospace\"><span style=\"font-weight: bold\"> Trainable params: </span><span style=\"color: #00af00; text-decoration-color: #00af00\">351,113</span> (1.34 MB)\n",
       "</pre>\n"
      ],
      "text/plain": [
       "\u001b[1m Trainable params: \u001b[0m\u001b[38;5;34m351,113\u001b[0m (1.34 MB)\n"
      ]
     },
     "metadata": {},
     "output_type": "display_data"
    },
    {
     "data": {
      "text/html": [
       "<pre style=\"white-space:pre;overflow-x:auto;line-height:normal;font-family:Menlo,'DejaVu Sans Mono',consolas,'Courier New',monospace\"><span style=\"font-weight: bold\"> Non-trainable params: </span><span style=\"color: #00af00; text-decoration-color: #00af00\">0</span> (0.00 B)\n",
       "</pre>\n"
      ],
      "text/plain": [
       "\u001b[1m Non-trainable params: \u001b[0m\u001b[38;5;34m0\u001b[0m (0.00 B)\n"
      ]
     },
     "metadata": {},
     "output_type": "display_data"
    },
    {
     "name": "stdout",
     "output_type": "stream",
     "text": [
      "Class weights for training: {0: np.float64(1.0053627760252366), 1: np.float64(1.003700496023935), 2: np.float64(0.9923711661217499), 3: np.float64(0.9904436329733509), 4: np.float64(1.6045311516677156), 5: np.float64(0.06634745498074321), 6: np.float64(1.000785052598524), 7: np.float64(0.9918307010036568), 8: np.float64(1.0)}\n",
      "Epoch 1/10\n"
     ]
    },
    {
     "name": "stderr",
     "output_type": "stream",
     "text": [
      "2025-09-09 09:02:38.483117: I external/local_xla/xla/stream_executor/cuda/cuda_dnn.cc:473] Loaded cuDNN version 91200\n"
     ]
    },
    {
     "name": "stdout",
     "output_type": "stream",
     "text": [
      "\u001b[1m4524/4524\u001b[0m \u001b[32m━━━━━━━━━━━━━━━━━━━━\u001b[0m\u001b[37m\u001b[0m \u001b[1m176s\u001b[0m 37ms/step - accuracy: 0.5804 - auc: 0.9097 - loss: 0.4492 - precision: 0.7710 - recall: 0.4617 - val_accuracy: 0.7554 - val_auc: 0.9599 - val_loss: 0.7750 - val_precision: 0.8238 - val_recall: 0.6713 - learning_rate: 1.0000e-04\n",
      "Epoch 2/10\n",
      "\u001b[1m4524/4524\u001b[0m \u001b[32m━━━━━━━━━━━━━━━━━━━━\u001b[0m\u001b[37m\u001b[0m \u001b[1m168s\u001b[0m 37ms/step - accuracy: 0.8125 - auc: 0.9767 - loss: 0.1949 - precision: 0.8484 - recall: 0.7802 - val_accuracy: 0.9020 - val_auc: 0.9874 - val_loss: 0.3732 - val_precision: 0.9123 - val_recall: 0.8956 - learning_rate: 1.0000e-04\n",
      "Epoch 3/10\n",
      "\u001b[1m4524/4524\u001b[0m \u001b[32m━━━━━━━━━━━━━━━━━━━━\u001b[0m\u001b[37m\u001b[0m \u001b[1m169s\u001b[0m 37ms/step - accuracy: 0.8781 - auc: 0.9870 - loss: 0.1176 - precision: 0.8923 - recall: 0.8655 - val_accuracy: 0.9186 - val_auc: 0.9909 - val_loss: 0.2947 - val_precision: 0.9264 - val_recall: 0.9117 - learning_rate: 1.0000e-04\n",
      "Epoch 4/10\n",
      "\u001b[1m4524/4524\u001b[0m \u001b[32m━━━━━━━━━━━━━━━━━━━━\u001b[0m\u001b[37m\u001b[0m \u001b[1m169s\u001b[0m 37ms/step - accuracy: 0.9025 - auc: 0.9900 - loss: 0.0873 - precision: 0.9118 - recall: 0.8935 - val_accuracy: 0.9276 - val_auc: 0.9913 - val_loss: 0.2690 - val_precision: 0.9335 - val_recall: 0.9243 - learning_rate: 1.0000e-04\n",
      "Epoch 5/10\n",
      "\u001b[1m4524/4524\u001b[0m \u001b[32m━━━━━━━━━━━━━━━━━━━━\u001b[0m\u001b[37m\u001b[0m \u001b[1m169s\u001b[0m 37ms/step - accuracy: 0.9156 - auc: 0.9917 - loss: 0.0725 - precision: 0.9229 - recall: 0.9091 - val_accuracy: 0.9385 - val_auc: 0.9929 - val_loss: 0.2363 - val_precision: 0.9423 - val_recall: 0.9349 - learning_rate: 1.0000e-04\n",
      "Epoch 6/10\n",
      "\u001b[1m4524/4524\u001b[0m \u001b[32m━━━━━━━━━━━━━━━━━━━━\u001b[0m\u001b[37m\u001b[0m \u001b[1m169s\u001b[0m 37ms/step - accuracy: 0.9251 - auc: 0.9928 - loss: 0.0619 - precision: 0.9309 - recall: 0.9198 - val_accuracy: 0.9444 - val_auc: 0.9936 - val_loss: 0.2109 - val_precision: 0.9482 - val_recall: 0.9416 - learning_rate: 1.0000e-04\n",
      "Epoch 7/10\n",
      "\u001b[1m4524/4524\u001b[0m \u001b[32m━━━━━━━━━━━━━━━━━━━━\u001b[0m\u001b[37m\u001b[0m \u001b[1m170s\u001b[0m 38ms/step - accuracy: 0.9317 - auc: 0.9937 - loss: 0.0545 - precision: 0.9368 - recall: 0.9273 - val_accuracy: 0.9493 - val_auc: 0.9940 - val_loss: 0.1914 - val_precision: 0.9518 - val_recall: 0.9472 - learning_rate: 1.0000e-04\n",
      "Epoch 8/10\n",
      "\u001b[1m4524/4524\u001b[0m \u001b[32m━━━━━━━━━━━━━━━━━━━━\u001b[0m\u001b[37m\u001b[0m \u001b[1m170s\u001b[0m 38ms/step - accuracy: 0.9374 - auc: 0.9944 - loss: 0.0493 - precision: 0.9415 - recall: 0.9335 - val_accuracy: 0.9574 - val_auc: 0.9945 - val_loss: 0.1763 - val_precision: 0.9600 - val_recall: 0.9552 - learning_rate: 1.0000e-04\n",
      "Epoch 9/10\n",
      "\u001b[1m4524/4524\u001b[0m \u001b[32m━━━━━━━━━━━━━━━━━━━━\u001b[0m\u001b[37m\u001b[0m \u001b[1m170s\u001b[0m 38ms/step - accuracy: 0.9430 - auc: 0.9948 - loss: 0.0450 - precision: 0.9464 - recall: 0.9393 - val_accuracy: 0.9638 - val_auc: 0.9950 - val_loss: 0.1503 - val_precision: 0.9658 - val_recall: 0.9619 - learning_rate: 1.0000e-04\n",
      "Epoch 10/10\n",
      "\u001b[1m4524/4524\u001b[0m \u001b[32m━━━━━━━━━━━━━━━━━━━━\u001b[0m\u001b[37m\u001b[0m \u001b[1m171s\u001b[0m 38ms/step - accuracy: 0.9489 - auc: 0.9953 - loss: 0.0411 - precision: 0.9521 - recall: 0.9455 - val_accuracy: 0.9655 - val_auc: 0.9955 - val_loss: 0.1457 - val_precision: 0.9669 - val_recall: 0.9641 - learning_rate: 1.0000e-04\n",
      "Restoring model weights from the end of the best epoch: 10.\n",
      "2756/2756 - 28s - 10ms/step - accuracy: 0.9640 - auc: 0.9955 - loss: 0.1499 - precision: 0.9654 - recall: 0.9625\n",
      "Test Loss: 0.14993205666542053\n",
      "Test Accuracy: 0.963986873626709\n"
     ]
    }
   ],
   "source": [
    "from tensorflow.keras.models import Sequential\n",
    "from tensorflow.keras.layers import Bidirectional, LSTM, Dense, Dropout\n",
    "from tensorflow.keras.callbacks import EarlyStopping, ReduceLROnPlateau\n",
    "from sklearn.utils.class_weight import compute_class_weight\n",
    "from tensorflow.keras.metrics import Precision\n",
    "from tensorflow.keras.layers import LayerNormalization\n",
    "from tensorflow.keras.regularizers import l2\n",
    "from tensorflow.keras.optimizers import Adam\n",
    "from tensorflow.keras.metrics import Recall, AUC\n",
    "from sklearn.metrics import (confusion_matrix, accuracy_score, recall_score, precision_score, f1_score, matthews_corrcoef, roc_auc_score, classification_report, roc_curve, precision_recall_curve)\n",
    "import matplotlib.pyplot as plt\n",
    "\n",
    "# Model definition\n",
    "model = Sequential([\n",
    "    Bidirectional(LSTM(\n",
    "        128, \n",
    "        return_sequences=True,  # Only final output\n",
    "        recurrent_dropout=0.2,\n",
    "        recurrent_activation='sigmoid',\n",
    "        activation='tanh'\n",
    "    ),\n",
    "    input_shape=(X_train_seq_final.shape[1], X_train_seq_final.shape[2])),\n",
    "    LayerNormalization(),\n",
    "    Dropout(0.2),\n",
    "    Bidirectional(LSTM(64)),\n",
    "    LayerNormalization(),\n",
    "    Dropout(0.2),\n",
    "    Dense(64, activation='relu'),\n",
    "    Dense(9, activation='softmax')\n",
    "])\n",
    "model.summary()\n",
    "\n",
    "optimizer = Adam(\n",
    "    learning_rate=0.0001,  # Very low initial LR\n",
    "    clipnorm=1.0,  # Gradient clipping to prevent exploding gradients\n",
    "    weight_decay=1e-4\n",
    ")\n",
    "\n",
    "model.compile(\n",
    "    optimizer=optimizer,\n",
    "    loss='categorical_crossentropy',\n",
    "    metrics=[\n",
    "        'accuracy',\n",
    "        AUC(name='auc'),\n",
    "        Recall(name='recall'),\n",
    "        Precision(name='precision')\n",
    "    ]\n",
    ")\n",
    "\n",
    "# Early stopping\n",
    "early_stopping = EarlyStopping(\n",
    "    monitor='val_loss',\n",
    "    patience=3,        # Key Change: Much lower patience\n",
    "    mode='min',\n",
    "    restore_best_weights=True, # This is correct and crucial\n",
    "    verbose=1\n",
    ")\n",
    "\n",
    "# Reduce learning rate after 2 epochs of no improvement\n",
    "reduce_lr = ReduceLROnPlateau(\n",
    "    monitor='val_loss',\n",
    "    factor=0.5,\n",
    "    patience=2,        # Usually, LR reduction has a lower patience than early stopping\n",
    "    min_lr=1e-6,\n",
    "    verbose=1\n",
    ")\n",
    "\n",
    "frequencies = np.sum(y_train_seq_final, axis=0)\n",
    "median_freq = np.median(frequencies)\n",
    "class_weights = {cls: median_freq / count for cls, count in enumerate(frequencies)}\n",
    "\n",
    "print(\"Class weights for training:\", class_weights)\n",
    "\n",
    "# Train\n",
    "history = model.fit(\n",
    "    X_train_seq_final, y_train_seq_final,\n",
    "    validation_data=(X_val_seq, y_val_seq),\n",
    "    epochs=10,\n",
    "    batch_size=64,\n",
    "    shuffle=False,  # Important for time series\n",
    "    callbacks=[early_stopping, reduce_lr],\n",
    "    class_weight=class_weights,\n",
    "    verbose=1\n",
    ")\n",
    "\n",
    "results = model.evaluate(X_test_seq, y_test_seq, verbose=2)\n",
    "\n",
    "print(\"Test Loss: {}\".format(results[0]))\n",
    "print(\"Test Accuracy: {}\".format(results[1]))\n"
   ]
  },
  {
   "cell_type": "code",
   "execution_count": 10,
   "id": "04980ee7",
   "metadata": {},
   "outputs": [
    {
     "name": "stdout",
     "output_type": "stream",
     "text": [
      "['backdoor' 'ddos' 'dos' 'injection' 'mitm' 'normal' 'password' 'scanning'\n",
      " 'xss']\n",
      "Encoded class 0 -> backdoor\n",
      "Encoded class 1 -> ddos\n",
      "Encoded class 2 -> dos\n",
      "Encoded class 3 -> injection\n",
      "Encoded class 4 -> mitm\n",
      "Encoded class 5 -> normal\n",
      "Encoded class 6 -> password\n",
      "Encoded class 7 -> scanning\n",
      "Encoded class 8 -> xss\n",
      "\u001b[1m2756/2756\u001b[0m \u001b[32m━━━━━━━━━━━━━━━━━━━━\u001b[0m\u001b[37m\u001b[0m \u001b[1m27s\u001b[0m 10ms/step\n",
      "              precision    recall  f1-score   support\n",
      "\n",
      "           0       0.96      1.00      0.98      3997\n",
      "           1       0.92      0.97      0.94      3998\n",
      "           2       0.95      0.96      0.96      4000\n",
      "           3       0.89      0.99      0.94      3999\n",
      "           4       0.18      0.99      0.31       209\n",
      "           5       1.00      0.96      0.98     59991\n",
      "           6       0.89      1.00      0.94      3998\n",
      "           7       0.94      0.99      0.97      3999\n",
      "           8       0.95      0.93      0.94      3999\n",
      "\n",
      "    accuracy                           0.96     88190\n",
      "   macro avg       0.85      0.98      0.88     88190\n",
      "weighted avg       0.97      0.96      0.97     88190\n",
      "\n"
     ]
    },
    {
     "data": {
      "image/png": "[encoded data removed]",
      "text/plain": [
       "<Figure size 1000x800 with 2 Axes>"
      ]
     },
     "metadata": {},
     "output_type": "display_data"
    },
    {
     "name": "stdout",
     "output_type": "stream",
     "text": [
      "    Class      FNR      FPR\n",
      " backdoor 0.000000 0.002007\n",
      "     ddos 0.033767 0.004240\n",
      "      dos 0.039500 0.002328\n",
      "injection 0.005501 0.005583\n",
      "     mitm 0.009569 0.010491\n",
      "   normal 0.042740 0.005284\n",
      " password 0.003252 0.005689\n",
      " scanning 0.005001 0.002922\n",
      "      xss 0.065516 0.002221\n"
     ]
    },
    {
     "data": {
      "image/png": "[encoded data removed]",
      "text/plain": [
       "<Figure size 1200x600 with 1 Axes>"
      ]
     },
     "metadata": {},
     "output_type": "display_data"
    }
   ],
   "source": [
    "import seaborn as sns\n",
    "\n",
    "# original class labels (what was in df[TARGET_TYPE])\n",
    "print(type_encoder.classes_)\n",
    "\n",
    "# numeric codes assigned\n",
    "for i, cls in enumerate(type_encoder.classes_):\n",
    "    print(f\"Encoded class {i} -> {cls}\")\n",
    "\n",
    "\n",
    "# Print classification report\n",
    "y_pred_probs = model.predict(X_test_seq)\n",
    "y_pred_classes = y_pred_probs.argmax(axis=1)\n",
    "y_true_classes = y_test_seq.argmax(axis=1)\n",
    "print(classification_report(y_true_classes, y_pred_classes))\n",
    "\n",
    "#confusion matrix\n",
    "cm = confusion_matrix(y_true_classes, y_pred_classes)\n",
    "\n",
    "plt.figure(figsize=(10, 8))\n",
    "sns.heatmap(cm, annot=True, fmt='d', cmap='Blues',\n",
    "            xticklabels=type_encoder.classes_,\n",
    "            yticklabels=type_encoder.classes_)\n",
    "plt.xlabel('Predicted')\n",
    "plt.ylabel('True')\n",
    "plt.title('Confusion Matrix')\n",
    "plt.show()\n",
    "\n",
    "# For multi-class, FNR and FPR are not simply tn, fp, fn, tp.\n",
    "# If you want per-class FNR/FPR:\n",
    "fnr = []\n",
    "fpr = []\n",
    "for i in range(cm.shape[0]):\n",
    "    fn = cm[i, :].sum() - cm[i, i]\n",
    "    tp = cm[i, i]\n",
    "    fp = cm[:, i].sum() - cm[i, i]\n",
    "    tn = cm.sum() - (tp + fn + fp)\n",
    "    fnr.append(fn / (fn + tp) if (fn + tp) > 0 else 0)\n",
    "    fpr.append(fp / (fp + tn) if (fp + tn) > 0 else 0)\n",
    "\n",
    "results_df = pd.DataFrame({\n",
    "    \"Class\": type_encoder.classes_,\n",
    "    \"FNR\": fnr,\n",
    "    \"FPR\": fpr\n",
    "})\n",
    "\n",
    "print(results_df.to_string(index=False))\n",
    "# print(\"False Negative Rate (FNR) per class:\", fnr)\n",
    "# print(\"False Positive Rate (FPR) per class:\", fpr)\n",
    "\n",
    "# plot validation loss and accuracy\n",
    "plt.figure(figsize=(12, 6))\n",
    "plt.plot(history.history['loss'], label='Train Loss')\n",
    "plt.plot(history.history['val_loss'], label='Validation Loss')\n",
    "plt.plot(history.history['accuracy'], label='Train Accuracy')\n",
    "plt.plot(history.history['val_accuracy'], label='Validation Accuracy')\n",
    "plt.title('Training and Validation Loss and Accuracy')\n",
    "plt.xlabel('Epoch')\n",
    "plt.ylabel('Loss/Accuracy')\n",
    "plt.legend()\n",
    "plt.show()\n"
   ]
  },
  {
   "cell_type": "code",
   "execution_count": 11,
   "id": "24888266",
   "metadata": {},
   "outputs": [
    {
     "name": "stdout",
     "output_type": "stream",
     "text": [
      "Fitting 3 folds for each of 1 candidates, totalling 3 fits\n"
     ]
    },
    {
     "name": "stderr",
     "output_type": "stream",
     "text": [
      "/home/jinesh-subedi/htdocs/thesis/thesisStudy/lib/python3.12/site-packages/keras/src/layers/rnn/bidirectional.py:107: UserWarning: Do not pass an `input_shape`/`input_dim` argument to a layer. When using Sequential models, prefer using an `Input(shape)` object as the first layer in the model instead.\n",
      "  super().__init__(**kwargs)\n"
     ]
    },
    {
     "name": "stdout",
     "output_type": "stream",
     "text": [
      "Epoch 1/6\n",
      "\u001b[1m2413/2413\u001b[0m \u001b[32m━━━━━━━━━━━━━━━━━━━━\u001b[0m\u001b[37m\u001b[0m \u001b[1m94s\u001b[0m 37ms/step - accuracy: 0.4816 - loss: 1.8688 - val_accuracy: 0.7189 - val_loss: 0.9378\n",
      "Epoch 2/6\n",
      "\u001b[1m2413/2413\u001b[0m \u001b[32m━━━━━━━━━━━━━━━━━━━━\u001b[0m\u001b[37m\u001b[0m \u001b[1m96s\u001b[0m 40ms/step - accuracy: 0.7555 - loss: 0.9722 - val_accuracy: 0.8543 - val_loss: 0.5097\n",
      "Epoch 3/6\n",
      "\u001b[1m2413/2413\u001b[0m \u001b[32m━━━━━━━━━━━━━━━━━━━━\u001b[0m\u001b[37m\u001b[0m \u001b[1m92s\u001b[0m 38ms/step - accuracy: 0.8397 - loss: 0.6325 - val_accuracy: 0.9010 - val_loss: 0.3971\n",
      "Epoch 4/6\n",
      "\u001b[1m2413/2413\u001b[0m \u001b[32m━━━━━━━━━━━━━━━━━━━━\u001b[0m\u001b[37m\u001b[0m \u001b[1m91s\u001b[0m 38ms/step - accuracy: 0.8638 - loss: 0.5044 - val_accuracy: 0.9040 - val_loss: 0.3824\n",
      "Epoch 5/6\n",
      "\u001b[1m2413/2413\u001b[0m \u001b[32m━━━━━━━━━━━━━━━━━━━━\u001b[0m\u001b[37m\u001b[0m \u001b[1m92s\u001b[0m 38ms/step - accuracy: 0.8788 - loss: 0.4181 - val_accuracy: 0.9199 - val_loss: 0.3281\n",
      "Epoch 6/6\n",
      "\u001b[1m2413/2413\u001b[0m \u001b[32m━━━━━━━━━━━━━━━━━━━━\u001b[0m\u001b[37m\u001b[0m \u001b[1m91s\u001b[0m 38ms/step - accuracy: 0.8916 - loss: 0.3592 - val_accuracy: 0.9071 - val_loss: 0.3264\n",
      "\u001b[1m1508/1508\u001b[0m \u001b[32m━━━━━━━━━━━━━━━━━━━━\u001b[0m\u001b[37m\u001b[0m \u001b[1m17s\u001b[0m 11ms/step\n",
      "[CV] END batch_size=64, epochs=6, model__dropout=0.36968991136373597, model__hidden_layer=28, model__learning_rate=0.0004230359046414507, model__lstm_units=65; total time= 9.7min\n"
     ]
    },
    {
     "name": "stderr",
     "output_type": "stream",
     "text": [
      "/home/jinesh-subedi/htdocs/thesis/thesisStudy/lib/python3.12/site-packages/keras/src/layers/rnn/bidirectional.py:107: UserWarning: Do not pass an `input_shape`/`input_dim` argument to a layer. When using Sequential models, prefer using an `Input(shape)` object as the first layer in the model instead.\n",
      "  super().__init__(**kwargs)\n"
     ]
    },
    {
     "name": "stdout",
     "output_type": "stream",
     "text": [
      "Epoch 1/6\n",
      "\u001b[1m2413/2413\u001b[0m \u001b[32m━━━━━━━━━━━━━━━━━━━━\u001b[0m\u001b[37m\u001b[0m \u001b[1m95s\u001b[0m 38ms/step - accuracy: 0.4810 - loss: 1.8646 - val_accuracy: 0.7420 - val_loss: 0.8765\n",
      "Epoch 2/6\n",
      "\u001b[1m2413/2413\u001b[0m \u001b[32m━━━━━━━━━━━━━━━━━━━━\u001b[0m\u001b[37m\u001b[0m \u001b[1m90s\u001b[0m 37ms/step - accuracy: 0.7764 - loss: 0.9027 - val_accuracy: 0.8621 - val_loss: 0.5141\n",
      "Epoch 3/6\n",
      "\u001b[1m2413/2413\u001b[0m \u001b[32m━━━━━━━━━━━━━━━━━━━━\u001b[0m\u001b[37m\u001b[0m \u001b[1m89s\u001b[0m 37ms/step - accuracy: 0.8509 - loss: 0.5616 - val_accuracy: 0.8923 - val_loss: 0.4161\n",
      "Epoch 4/6\n",
      "\u001b[1m2413/2413\u001b[0m \u001b[32m━━━━━━━━━━━━━━━━━━━━\u001b[0m\u001b[37m\u001b[0m \u001b[1m90s\u001b[0m 37ms/step - accuracy: 0.8740 - loss: 0.4254 - val_accuracy: 0.9059 - val_loss: 0.3914\n",
      "Epoch 5/6\n",
      "\u001b[1m2413/2413\u001b[0m \u001b[32m━━━━━━━━━━━━━━━━━━━━\u001b[0m\u001b[37m\u001b[0m \u001b[1m90s\u001b[0m 37ms/step - accuracy: 0.8862 - loss: 0.3665 - val_accuracy: 0.9139 - val_loss: 0.3377\n",
      "Epoch 6/6\n",
      "\u001b[1m2413/2413\u001b[0m \u001b[32m━━━━━━━━━━━━━━━━━━━━\u001b[0m\u001b[37m\u001b[0m \u001b[1m90s\u001b[0m 37ms/step - accuracy: 0.8940 - loss: 0.3181 - val_accuracy: 0.9282 - val_loss: 0.2961\n",
      "\u001b[1m1508/1508\u001b[0m \u001b[32m━━━━━━━━━━━━━━━━━━━━\u001b[0m\u001b[37m\u001b[0m \u001b[1m16s\u001b[0m 10ms/step\n",
      "[CV] END batch_size=64, epochs=6, model__dropout=0.36968991136373597, model__hidden_layer=28, model__learning_rate=0.0004230359046414507, model__lstm_units=65; total time= 9.4min\n"
     ]
    },
    {
     "name": "stderr",
     "output_type": "stream",
     "text": [
      "/home/jinesh-subedi/htdocs/thesis/thesisStudy/lib/python3.12/site-packages/keras/src/layers/rnn/bidirectional.py:107: UserWarning: Do not pass an `input_shape`/`input_dim` argument to a layer. When using Sequential models, prefer using an `Input(shape)` object as the first layer in the model instead.\n",
      "  super().__init__(**kwargs)\n"
     ]
    },
    {
     "name": "stdout",
     "output_type": "stream",
     "text": [
      "Epoch 1/6\n",
      "\u001b[1m2413/2413\u001b[0m \u001b[32m━━━━━━━━━━━━━━━━━━━━\u001b[0m\u001b[37m\u001b[0m \u001b[1m95s\u001b[0m 38ms/step - accuracy: 0.4511 - loss: 1.9694 - val_accuracy: 0.7525 - val_loss: 0.8533\n",
      "Epoch 2/6\n",
      "\u001b[1m2413/2413\u001b[0m \u001b[32m━━━━━━━━━━━━━━━━━━━━\u001b[0m\u001b[37m\u001b[0m \u001b[1m91s\u001b[0m 38ms/step - accuracy: 0.7246 - loss: 1.1054 - val_accuracy: 0.8298 - val_loss: 0.6598\n",
      "Epoch 3/6\n",
      "\u001b[1m2413/2413\u001b[0m \u001b[32m━━━━━━━━━━━━━━━━━━━━\u001b[0m\u001b[37m\u001b[0m \u001b[1m91s\u001b[0m 38ms/step - accuracy: 0.8077 - loss: 0.7189 - val_accuracy: 0.8487 - val_loss: 0.5113\n",
      "Epoch 4/6\n",
      "\u001b[1m2413/2413\u001b[0m \u001b[32m━━━━━━━━━━━━━━━━━━━━\u001b[0m\u001b[37m\u001b[0m \u001b[1m91s\u001b[0m 38ms/step - accuracy: 0.8519 - loss: 0.5317 - val_accuracy: 0.9039 - val_loss: 0.3792\n",
      "Epoch 5/6\n",
      "\u001b[1m2413/2413\u001b[0m \u001b[32m━━━━━━━━━━━━━━━━━━━━\u001b[0m\u001b[37m\u001b[0m \u001b[1m91s\u001b[0m 38ms/step - accuracy: 0.8744 - loss: 0.4167 - val_accuracy: 0.8883 - val_loss: 0.4060\n",
      "Epoch 6/6\n",
      "\u001b[1m2413/2413\u001b[0m \u001b[32m━━━━━━━━━━━━━━━━━━━━\u001b[0m\u001b[37m\u001b[0m \u001b[1m91s\u001b[0m 38ms/step - accuracy: 0.8862 - loss: 0.3508 - val_accuracy: 0.9242 - val_loss: 0.3038\n",
      "\u001b[1m1508/1508\u001b[0m \u001b[32m━━━━━━━━━━━━━━━━━━━━\u001b[0m\u001b[37m\u001b[0m \u001b[1m16s\u001b[0m 10ms/step\n",
      "[CV] END batch_size=64, epochs=6, model__dropout=0.36968991136373597, model__hidden_layer=28, model__learning_rate=0.0004230359046414507, model__lstm_units=65; total time= 9.5min\n",
      "Fitting 3 folds for each of 1 candidates, totalling 3 fits\n"
     ]
    },
    {
     "name": "stderr",
     "output_type": "stream",
     "text": [
      "/home/jinesh-subedi/htdocs/thesis/thesisStudy/lib/python3.12/site-packages/keras/src/layers/rnn/bidirectional.py:107: UserWarning: Do not pass an `input_shape`/`input_dim` argument to a layer. When using Sequential models, prefer using an `Input(shape)` object as the first layer in the model instead.\n",
      "  super().__init__(**kwargs)\n"
     ]
    },
    {
     "name": "stdout",
     "output_type": "stream",
     "text": [
      "Epoch 1/7\n",
      "\u001b[1m1207/1207\u001b[0m \u001b[32m━━━━━━━━━━━━━━━━━━━━\u001b[0m\u001b[37m\u001b[0m \u001b[1m59s\u001b[0m 46ms/step - accuracy: 0.2095 - loss: 2.2631 - val_accuracy: 0.2556 - val_loss: 1.5172\n",
      "Epoch 2/7\n",
      "\u001b[1m1207/1207\u001b[0m \u001b[32m━━━━━━━━━━━━━━━━━━━━\u001b[0m\u001b[37m\u001b[0m \u001b[1m55s\u001b[0m 45ms/step - accuracy: 0.5137 - loss: 1.6502 - val_accuracy: 0.6990 - val_loss: 0.9687\n",
      "Epoch 3/7\n",
      "\u001b[1m1207/1207\u001b[0m \u001b[32m━━━━━━━━━━━━━━━━━━━━\u001b[0m\u001b[37m\u001b[0m \u001b[1m55s\u001b[0m 45ms/step - accuracy: 0.6350 - loss: 1.6345 - val_accuracy: 0.6460 - val_loss: 1.2739\n",
      "Epoch 4/7\n",
      "\u001b[1m1207/1207\u001b[0m \u001b[32m━━━━━━━━━━━━━━━━━━━━\u001b[0m\u001b[37m\u001b[0m \u001b[1m54s\u001b[0m 45ms/step - accuracy: 0.6648 - loss: 1.7346 - val_accuracy: 0.7575 - val_loss: 0.8710\n",
      "Epoch 5/7\n",
      "\u001b[1m1207/1207\u001b[0m \u001b[32m━━━━━━━━━━━━━━━━━━━━\u001b[0m\u001b[37m\u001b[0m \u001b[1m55s\u001b[0m 45ms/step - accuracy: 0.6737 - loss: 1.7670 - val_accuracy: 0.7840 - val_loss: 0.7995\n",
      "Epoch 6/7\n",
      "\u001b[1m1207/1207\u001b[0m \u001b[32m━━━━━━━━━━━━━━━━━━━━\u001b[0m\u001b[37m\u001b[0m \u001b[1m55s\u001b[0m 45ms/step - accuracy: 0.6785 - loss: 1.6862 - val_accuracy: 0.7035 - val_loss: 0.9852\n",
      "Epoch 7/7\n",
      "\u001b[1m1207/1207\u001b[0m \u001b[32m━━━━━━━━━━━━━━━━━━━━\u001b[0m\u001b[37m\u001b[0m \u001b[1m55s\u001b[0m 45ms/step - accuracy: 0.6822 - loss: 1.7286 - val_accuracy: 0.7476 - val_loss: 0.9988\n",
      "\u001b[1m754/754\u001b[0m \u001b[32m━━━━━━━━━━━━━━━━━━━━\u001b[0m\u001b[37m\u001b[0m \u001b[1m11s\u001b[0m 14ms/step\n",
      "[CV] END batch_size=128, epochs=7, model__dropout=0.35361997739739914, model__hidden_layer=24, model__learning_rate=0.009255184092606152, model__lstm_units=100; total time= 6.7min\n"
     ]
    },
    {
     "name": "stderr",
     "output_type": "stream",
     "text": [
      "/home/jinesh-subedi/htdocs/thesis/thesisStudy/lib/python3.12/site-packages/keras/src/layers/rnn/bidirectional.py:107: UserWarning: Do not pass an `input_shape`/`input_dim` argument to a layer. When using Sequential models, prefer using an `Input(shape)` object as the first layer in the model instead.\n",
      "  super().__init__(**kwargs)\n"
     ]
    },
    {
     "name": "stdout",
     "output_type": "stream",
     "text": [
      "Epoch 1/7\n",
      "\u001b[1m1207/1207\u001b[0m \u001b[32m━━━━━━━━━━━━━━━━━━━━\u001b[0m\u001b[37m\u001b[0m \u001b[1m60s\u001b[0m 45ms/step - accuracy: 0.2787 - loss: 2.0675 - val_accuracy: 0.5042 - val_loss: 1.1809\n",
      "Epoch 2/7\n",
      "\u001b[1m1207/1207\u001b[0m \u001b[32m━━━━━━━━━━━━━━━━━━━━\u001b[0m\u001b[37m\u001b[0m \u001b[1m54s\u001b[0m 45ms/step - accuracy: 0.5219 - loss: 1.5495 - val_accuracy: 0.5401 - val_loss: 1.2365\n",
      "Epoch 3/7\n",
      "\u001b[1m1207/1207\u001b[0m \u001b[32m━━━━━━━━━━━━━━━━━━━━\u001b[0m\u001b[37m\u001b[0m \u001b[1m54s\u001b[0m 45ms/step - accuracy: 0.6525 - loss: 1.5215 - val_accuracy: 0.7837 - val_loss: 0.7684\n",
      "Epoch 4/7\n",
      "\u001b[1m1207/1207\u001b[0m \u001b[32m━━━━━━━━━━━━━━━━━━━━\u001b[0m\u001b[37m\u001b[0m \u001b[1m54s\u001b[0m 45ms/step - accuracy: 0.6813 - loss: 1.6767 - val_accuracy: 0.7339 - val_loss: 0.9429\n",
      "Epoch 5/7\n",
      "\u001b[1m1207/1207\u001b[0m \u001b[32m━━━━━━━━━━━━━━━━━━━━\u001b[0m\u001b[37m\u001b[0m \u001b[1m54s\u001b[0m 45ms/step - accuracy: 0.6870 - loss: 1.8232 - val_accuracy: 0.7692 - val_loss: 0.9595\n",
      "Epoch 6/7\n",
      "\u001b[1m1207/1207\u001b[0m \u001b[32m━━━━━━━━━━━━━━━━━━━━\u001b[0m\u001b[37m\u001b[0m \u001b[1m54s\u001b[0m 45ms/step - accuracy: 0.7035 - loss: 1.7357 - val_accuracy: 0.7162 - val_loss: 1.1066\n",
      "Epoch 7/7\n",
      "\u001b[1m1207/1207\u001b[0m \u001b[32m━━━━━━━━━━━━━━━━━━━━\u001b[0m\u001b[37m\u001b[0m \u001b[1m54s\u001b[0m 45ms/step - accuracy: 0.6820 - loss: 1.7608 - val_accuracy: 0.7393 - val_loss: 1.0473\n",
      "\u001b[1m754/754\u001b[0m \u001b[32m━━━━━━━━━━━━━━━━━━━━\u001b[0m\u001b[37m\u001b[0m \u001b[1m10s\u001b[0m 13ms/step\n",
      "[CV] END batch_size=128, epochs=7, model__dropout=0.35361997739739914, model__hidden_layer=24, model__learning_rate=0.009255184092606152, model__lstm_units=100; total time= 6.6min\n"
     ]
    },
    {
     "name": "stderr",
     "output_type": "stream",
     "text": [
      "/home/jinesh-subedi/htdocs/thesis/thesisStudy/lib/python3.12/site-packages/keras/src/layers/rnn/bidirectional.py:107: UserWarning: Do not pass an `input_shape`/`input_dim` argument to a layer. When using Sequential models, prefer using an `Input(shape)` object as the first layer in the model instead.\n",
      "  super().__init__(**kwargs)\n"
     ]
    },
    {
     "name": "stdout",
     "output_type": "stream",
     "text": [
      "Epoch 1/7\n",
      "\u001b[1m1207/1207\u001b[0m \u001b[32m━━━━━━━━━━━━━━━━━━━━\u001b[0m\u001b[37m\u001b[0m \u001b[1m58s\u001b[0m 45ms/step - accuracy: 0.3713 - loss: 1.9510 - val_accuracy: 0.5763 - val_loss: 1.3357\n",
      "Epoch 2/7\n",
      "\u001b[1m1207/1207\u001b[0m \u001b[32m━━━━━━━━━━━━━━━━━━━━\u001b[0m\u001b[37m\u001b[0m \u001b[1m54s\u001b[0m 45ms/step - accuracy: 0.6251 - loss: 1.5104 - val_accuracy: 0.6565 - val_loss: 1.1074\n",
      "Epoch 3/7\n",
      "\u001b[1m1207/1207\u001b[0m \u001b[32m━━━━━━━━━━━━━━━━━━━━\u001b[0m\u001b[37m\u001b[0m \u001b[1m54s\u001b[0m 45ms/step - accuracy: 0.6829 - loss: 1.4487 - val_accuracy: 0.7960 - val_loss: 0.7690\n",
      "Epoch 4/7\n",
      "\u001b[1m1207/1207\u001b[0m \u001b[32m━━━━━━━━━━━━━━━━━━━━\u001b[0m\u001b[37m\u001b[0m \u001b[1m54s\u001b[0m 45ms/step - accuracy: 0.7108 - loss: 1.4464 - val_accuracy: 0.8145 - val_loss: 0.6699\n",
      "Epoch 5/7\n",
      "\u001b[1m1207/1207\u001b[0m \u001b[32m━━━━━━━━━━━━━━━━━━━━\u001b[0m\u001b[37m\u001b[0m \u001b[1m54s\u001b[0m 45ms/step - accuracy: 0.7233 - loss: 1.5444 - val_accuracy: 0.7880 - val_loss: 0.9118\n",
      "Epoch 6/7\n",
      "\u001b[1m1207/1207\u001b[0m \u001b[32m━━━━━━━━━━━━━━━━━━━━\u001b[0m\u001b[37m\u001b[0m \u001b[1m54s\u001b[0m 45ms/step - accuracy: 0.7315 - loss: 1.6240 - val_accuracy: 0.7941 - val_loss: 0.7982\n",
      "Epoch 7/7\n",
      "\u001b[1m1207/1207\u001b[0m \u001b[32m━━━━━━━━━━━━━━━━━━━━\u001b[0m\u001b[37m\u001b[0m \u001b[1m54s\u001b[0m 45ms/step - accuracy: 0.7365 - loss: 1.6565 - val_accuracy: 0.7918 - val_loss: 0.8192\n",
      "\u001b[1m754/754\u001b[0m \u001b[32m━━━━━━━━━━━━━━━━━━━━\u001b[0m\u001b[37m\u001b[0m \u001b[1m10s\u001b[0m 13ms/step\n",
      "[CV] END batch_size=128, epochs=7, model__dropout=0.35361997739739914, model__hidden_layer=24, model__learning_rate=0.009255184092606152, model__lstm_units=100; total time= 6.6min\n",
      "Fitting 3 folds for each of 1 candidates, totalling 3 fits\n"
     ]
    },
    {
     "name": "stderr",
     "output_type": "stream",
     "text": [
      "/home/jinesh-subedi/htdocs/thesis/thesisStudy/lib/python3.12/site-packages/keras/src/layers/rnn/bidirectional.py:107: UserWarning: Do not pass an `input_shape`/`input_dim` argument to a layer. When using Sequential models, prefer using an `Input(shape)` object as the first layer in the model instead.\n",
      "  super().__init__(**kwargs)\n"
     ]
    },
    {
     "name": "stdout",
     "output_type": "stream",
     "text": [
      "Epoch 1/8\n",
      "\u001b[1m1207/1207\u001b[0m \u001b[32m━━━━━━━━━━━━━━━━━━━━\u001b[0m\u001b[37m\u001b[0m \u001b[1m55s\u001b[0m 42ms/step - accuracy: 0.4446 - loss: 1.7643 - val_accuracy: 0.6791 - val_loss: 0.9876\n",
      "Epoch 2/8\n",
      "\u001b[1m1207/1207\u001b[0m \u001b[32m━━━━━━━━━━━━━━━━━━━━\u001b[0m\u001b[37m\u001b[0m \u001b[1m50s\u001b[0m 41ms/step - accuracy: 0.6663 - loss: 1.2987 - val_accuracy: 0.7954 - val_loss: 0.7413\n",
      "Epoch 3/8\n",
      "\u001b[1m1207/1207\u001b[0m \u001b[32m━━━━━━━━━━━━━━━━━━━━\u001b[0m\u001b[37m\u001b[0m \u001b[1m50s\u001b[0m 42ms/step - accuracy: 0.7349 - loss: 1.0894 - val_accuracy: 0.8241 - val_loss: 0.6569\n",
      "Epoch 4/8\n",
      "\u001b[1m1207/1207\u001b[0m \u001b[32m━━━━━━━━━━━━━━━━━━━━\u001b[0m\u001b[37m\u001b[0m \u001b[1m50s\u001b[0m 42ms/step - accuracy: 0.7580 - loss: 0.9923 - val_accuracy: 0.8462 - val_loss: 0.6021\n",
      "Epoch 5/8\n",
      "\u001b[1m1207/1207\u001b[0m \u001b[32m━━━━━━━━━━━━━━━━━━━━\u001b[0m\u001b[37m\u001b[0m \u001b[1m50s\u001b[0m 41ms/step - accuracy: 0.7950 - loss: 0.8415 - val_accuracy: 0.8251 - val_loss: 0.6583\n",
      "Epoch 6/8\n",
      "\u001b[1m1207/1207\u001b[0m \u001b[32m━━━━━━━━━━━━━━━━━━━━\u001b[0m\u001b[37m\u001b[0m \u001b[1m50s\u001b[0m 42ms/step - accuracy: 0.8203 - loss: 0.7615 - val_accuracy: 0.8938 - val_loss: 0.4473\n",
      "Epoch 7/8\n",
      "\u001b[1m1207/1207\u001b[0m \u001b[32m━━━━━━━━━━━━━━━━━━━━\u001b[0m\u001b[37m\u001b[0m \u001b[1m50s\u001b[0m 42ms/step - accuracy: 0.8338 - loss: 0.7008 - val_accuracy: 0.8958 - val_loss: 0.4265\n",
      "Epoch 8/8\n",
      "\u001b[1m1207/1207\u001b[0m \u001b[32m━━━━━━━━━━━━━━━━━━━━\u001b[0m\u001b[37m\u001b[0m \u001b[1m50s\u001b[0m 42ms/step - accuracy: 0.8419 - loss: 0.6766 - val_accuracy: 0.8920 - val_loss: 0.4215\n",
      "\u001b[1m754/754\u001b[0m \u001b[32m━━━━━━━━━━━━━━━━━━━━\u001b[0m\u001b[37m\u001b[0m \u001b[1m10s\u001b[0m 13ms/step\n",
      "[CV] END batch_size=128, epochs=8, model__dropout=0.320578487113641, model__hidden_layer=25, model__learning_rate=0.004267825823787352, model__lstm_units=70; total time= 7.0min\n"
     ]
    },
    {
     "name": "stderr",
     "output_type": "stream",
     "text": [
      "/home/jinesh-subedi/htdocs/thesis/thesisStudy/lib/python3.12/site-packages/keras/src/layers/rnn/bidirectional.py:107: UserWarning: Do not pass an `input_shape`/`input_dim` argument to a layer. When using Sequential models, prefer using an `Input(shape)` object as the first layer in the model instead.\n",
      "  super().__init__(**kwargs)\n"
     ]
    },
    {
     "name": "stdout",
     "output_type": "stream",
     "text": [
      "Epoch 1/8\n",
      "\u001b[1m1207/1207\u001b[0m \u001b[32m━━━━━━━━━━━━━━━━━━━━\u001b[0m\u001b[37m\u001b[0m \u001b[1m54s\u001b[0m 41ms/step - accuracy: 0.3917 - loss: 1.8250 - val_accuracy: 0.6553 - val_loss: 1.0420\n",
      "Epoch 2/8\n",
      "\u001b[1m1207/1207\u001b[0m \u001b[32m━━━━━━━━━━━━━━━━━━━━\u001b[0m\u001b[37m\u001b[0m \u001b[1m49s\u001b[0m 41ms/step - accuracy: 0.7078 - loss: 1.2166 - val_accuracy: 0.8276 - val_loss: 0.5936\n",
      "Epoch 3/8\n",
      "\u001b[1m1207/1207\u001b[0m \u001b[32m━━━━━━━━━━━━━━━━━━━━\u001b[0m\u001b[37m\u001b[0m \u001b[1m49s\u001b[0m 41ms/step - accuracy: 0.7799 - loss: 0.9065 - val_accuracy: 0.8224 - val_loss: 0.6098\n",
      "Epoch 4/8\n",
      "\u001b[1m1207/1207\u001b[0m \u001b[32m━━━━━━━━━━━━━━━━━━━━\u001b[0m\u001b[37m\u001b[0m \u001b[1m49s\u001b[0m 41ms/step - accuracy: 0.8198 - loss: 0.7051 - val_accuracy: 0.8793 - val_loss: 0.4458\n",
      "Epoch 5/8\n",
      "\u001b[1m1207/1207\u001b[0m \u001b[32m━━━━━━━━━━━━━━━━━━━━\u001b[0m\u001b[37m\u001b[0m \u001b[1m49s\u001b[0m 41ms/step - accuracy: 0.8369 - loss: 0.6297 - val_accuracy: 0.8795 - val_loss: 0.4875\n",
      "Epoch 6/8\n",
      "\u001b[1m1207/1207\u001b[0m \u001b[32m━━━━━━━━━━━━━━━━━━━━\u001b[0m\u001b[37m\u001b[0m \u001b[1m49s\u001b[0m 41ms/step - accuracy: 0.8548 - loss: 0.5724 - val_accuracy: 0.8958 - val_loss: 0.4180\n",
      "Epoch 7/8\n",
      "\u001b[1m1207/1207\u001b[0m \u001b[32m━━━━━━━━━━━━━━━━━━━━\u001b[0m\u001b[37m\u001b[0m \u001b[1m49s\u001b[0m 40ms/step - accuracy: 0.8619 - loss: 0.5239 - val_accuracy: 0.9027 - val_loss: 0.4200\n",
      "Epoch 8/8\n",
      "\u001b[1m1207/1207\u001b[0m \u001b[32m━━━━━━━━━━━━━━━━━━━━\u001b[0m\u001b[37m\u001b[0m \u001b[1m50s\u001b[0m 41ms/step - accuracy: 0.8614 - loss: 0.5521 - val_accuracy: 0.8903 - val_loss: 0.4044\n",
      "\u001b[1m754/754\u001b[0m \u001b[32m━━━━━━━━━━━━━━━━━━━━\u001b[0m\u001b[37m\u001b[0m \u001b[1m9s\u001b[0m 12ms/step\n",
      "[CV] END batch_size=128, epochs=8, model__dropout=0.320578487113641, model__hidden_layer=25, model__learning_rate=0.004267825823787352, model__lstm_units=70; total time= 6.8min\n"
     ]
    },
    {
     "name": "stderr",
     "output_type": "stream",
     "text": [
      "/home/jinesh-subedi/htdocs/thesis/thesisStudy/lib/python3.12/site-packages/keras/src/layers/rnn/bidirectional.py:107: UserWarning: Do not pass an `input_shape`/`input_dim` argument to a layer. When using Sequential models, prefer using an `Input(shape)` object as the first layer in the model instead.\n",
      "  super().__init__(**kwargs)\n"
     ]
    },
    {
     "name": "stdout",
     "output_type": "stream",
     "text": [
      "Epoch 1/8\n",
      "\u001b[1m1207/1207\u001b[0m \u001b[32m━━━━━━━━━━━━━━━━━━━━\u001b[0m\u001b[37m\u001b[0m \u001b[1m53s\u001b[0m 41ms/step - accuracy: 0.5427 - loss: 1.5540 - val_accuracy: 0.7554 - val_loss: 0.8804\n",
      "Epoch 2/8\n",
      "\u001b[1m1207/1207\u001b[0m \u001b[32m━━━━━━━━━━━━━━━━━━━━\u001b[0m\u001b[37m\u001b[0m \u001b[1m48s\u001b[0m 40ms/step - accuracy: 0.7069 - loss: 1.2146 - val_accuracy: 0.7877 - val_loss: 0.7514\n",
      "Epoch 3/8\n",
      "\u001b[1m1207/1207\u001b[0m \u001b[32m━━━━━━━━━━━━━━━━━━━━\u001b[0m\u001b[37m\u001b[0m \u001b[1m48s\u001b[0m 40ms/step - accuracy: 0.7570 - loss: 1.0355 - val_accuracy: 0.7914 - val_loss: 0.7310\n",
      "Epoch 4/8\n",
      "\u001b[1m1207/1207\u001b[0m \u001b[32m━━━━━━━━━━━━━━━━━━━━\u001b[0m\u001b[37m\u001b[0m \u001b[1m48s\u001b[0m 40ms/step - accuracy: 0.7939 - loss: 0.8560 - val_accuracy: 0.8473 - val_loss: 0.4796\n",
      "Epoch 5/8\n",
      "\u001b[1m1207/1207\u001b[0m \u001b[32m━━━━━━━━━━━━━━━━━━━━\u001b[0m\u001b[37m\u001b[0m \u001b[1m48s\u001b[0m 40ms/step - accuracy: 0.8174 - loss: 0.7649 - val_accuracy: 0.8614 - val_loss: 0.4673\n",
      "Epoch 6/8\n",
      "\u001b[1m1207/1207\u001b[0m \u001b[32m━━━━━━━━━━━━━━━━━━━━\u001b[0m\u001b[37m\u001b[0m \u001b[1m48s\u001b[0m 40ms/step - accuracy: 0.8421 - loss: 0.6393 - val_accuracy: 0.8712 - val_loss: 0.4418\n",
      "Epoch 7/8\n",
      "\u001b[1m1207/1207\u001b[0m \u001b[32m━━━━━━━━━━━━━━━━━━━━\u001b[0m\u001b[37m\u001b[0m \u001b[1m48s\u001b[0m 40ms/step - accuracy: 0.8510 - loss: 0.6080 - val_accuracy: 0.9066 - val_loss: 0.3779\n",
      "Epoch 8/8\n",
      "\u001b[1m1207/1207\u001b[0m \u001b[32m━━━━━━━━━━━━━━━━━━━━\u001b[0m\u001b[37m\u001b[0m \u001b[1m48s\u001b[0m 40ms/step - accuracy: 0.8617 - loss: 0.5950 - val_accuracy: 0.9204 - val_loss: 0.3298\n",
      "\u001b[1m754/754\u001b[0m \u001b[32m━━━━━━━━━━━━━━━━━━━━\u001b[0m\u001b[37m\u001b[0m \u001b[1m9s\u001b[0m 12ms/step\n",
      "[CV] END batch_size=128, epochs=8, model__dropout=0.320578487113641, model__hidden_layer=25, model__learning_rate=0.004267825823787352, model__lstm_units=70; total time= 6.7min\n",
      "Fitting 3 folds for each of 1 candidates, totalling 3 fits\n"
     ]
    },
    {
     "name": "stderr",
     "output_type": "stream",
     "text": [
      "/home/jinesh-subedi/htdocs/thesis/thesisStudy/lib/python3.12/site-packages/keras/src/layers/rnn/bidirectional.py:107: UserWarning: Do not pass an `input_shape`/`input_dim` argument to a layer. When using Sequential models, prefer using an `Input(shape)` object as the first layer in the model instead.\n",
      "  super().__init__(**kwargs)\n"
     ]
    },
    {
     "name": "stdout",
     "output_type": "stream",
     "text": [
      "Epoch 1/5\n",
      "\u001b[1m1207/1207\u001b[0m \u001b[32m━━━━━━━━━━━━━━━━━━━━\u001b[0m\u001b[37m\u001b[0m \u001b[1m63s\u001b[0m 49ms/step - accuracy: 0.5437 - loss: 1.6361 - val_accuracy: 0.7752 - val_loss: 0.7565\n",
      "Epoch 2/5\n",
      "\u001b[1m1207/1207\u001b[0m \u001b[32m━━━━━━━━━━━━━━━━━━━━\u001b[0m\u001b[37m\u001b[0m \u001b[1m58s\u001b[0m 48ms/step - accuracy: 0.7676 - loss: 0.9434 - val_accuracy: 0.8587 - val_loss: 0.4905\n",
      "Epoch 3/5\n",
      "\u001b[1m1207/1207\u001b[0m \u001b[32m━━━━━━━━━━━━━━━━━━━━\u001b[0m\u001b[37m\u001b[0m \u001b[1m58s\u001b[0m 48ms/step - accuracy: 0.8368 - loss: 0.5780 - val_accuracy: 0.8884 - val_loss: 0.4923\n",
      "Epoch 4/5\n",
      "\u001b[1m1207/1207\u001b[0m \u001b[32m━━━━━━━━━━━━━━━━━━━━\u001b[0m\u001b[37m\u001b[0m \u001b[1m58s\u001b[0m 48ms/step - accuracy: 0.8563 - loss: 0.4839 - val_accuracy: 0.8590 - val_loss: 0.4958\n",
      "Epoch 5/5\n",
      "\u001b[1m1207/1207\u001b[0m \u001b[32m━━━━━━━━━━━━━━━━━━━━\u001b[0m\u001b[37m\u001b[0m \u001b[1m58s\u001b[0m 48ms/step - accuracy: 0.8644 - loss: 0.4584 - val_accuracy: 0.9131 - val_loss: 0.3575\n",
      "\u001b[1m754/754\u001b[0m \u001b[32m━━━━━━━━━━━━━━━━━━━━\u001b[0m\u001b[37m\u001b[0m \u001b[1m11s\u001b[0m 14ms/step\n",
      "[CV] END batch_size=128, epochs=5, model__dropout=0.35432876500968735, model__hidden_layer=19, model__learning_rate=0.0017912116195168797, model__lstm_units=109; total time= 5.1min\n"
     ]
    },
    {
     "name": "stderr",
     "output_type": "stream",
     "text": [
      "/home/jinesh-subedi/htdocs/thesis/thesisStudy/lib/python3.12/site-packages/keras/src/layers/rnn/bidirectional.py:107: UserWarning: Do not pass an `input_shape`/`input_dim` argument to a layer. When using Sequential models, prefer using an `Input(shape)` object as the first layer in the model instead.\n",
      "  super().__init__(**kwargs)\n"
     ]
    },
    {
     "name": "stdout",
     "output_type": "stream",
     "text": [
      "Epoch 1/5\n",
      "\u001b[1m1207/1207\u001b[0m \u001b[32m━━━━━━━━━━━━━━━━━━━━\u001b[0m\u001b[37m\u001b[0m \u001b[1m62s\u001b[0m 48ms/step - accuracy: 0.5805 - loss: 1.5801 - val_accuracy: 0.7667 - val_loss: 0.8239\n",
      "Epoch 2/5\n",
      "\u001b[1m1207/1207\u001b[0m \u001b[32m━━━━━━━━━━━━━━━━━━━━\u001b[0m\u001b[37m\u001b[0m \u001b[1m58s\u001b[0m 48ms/step - accuracy: 0.7725 - loss: 0.9297 - val_accuracy: 0.8561 - val_loss: 0.5425\n",
      "Epoch 3/5\n",
      "\u001b[1m1207/1207\u001b[0m \u001b[32m━━━━━━━━━━━━━━━━━━━━\u001b[0m\u001b[37m\u001b[0m \u001b[1m58s\u001b[0m 48ms/step - accuracy: 0.8428 - loss: 0.5716 - val_accuracy: 0.8947 - val_loss: 0.4415\n",
      "Epoch 4/5\n",
      "\u001b[1m1207/1207\u001b[0m \u001b[32m━━━━━━━━━━━━━━━━━━━━\u001b[0m\u001b[37m\u001b[0m \u001b[1m58s\u001b[0m 48ms/step - accuracy: 0.8604 - loss: 0.4681 - val_accuracy: 0.8951 - val_loss: 0.3939\n",
      "Epoch 5/5\n",
      "\u001b[1m1207/1207\u001b[0m \u001b[32m━━━━━━━━━━━━━━━━━━━━\u001b[0m\u001b[37m\u001b[0m \u001b[1m58s\u001b[0m 48ms/step - accuracy: 0.8636 - loss: 0.4610 - val_accuracy: 0.9118 - val_loss: 0.3527\n",
      "\u001b[1m754/754\u001b[0m \u001b[32m━━━━━━━━━━━━━━━━━━━━\u001b[0m\u001b[37m\u001b[0m \u001b[1m11s\u001b[0m 14ms/step\n",
      "[CV] END batch_size=128, epochs=5, model__dropout=0.35432876500968735, model__hidden_layer=19, model__learning_rate=0.0017912116195168797, model__lstm_units=109; total time= 5.1min\n"
     ]
    },
    {
     "name": "stderr",
     "output_type": "stream",
     "text": [
      "/home/jinesh-subedi/htdocs/thesis/thesisStudy/lib/python3.12/site-packages/keras/src/layers/rnn/bidirectional.py:107: UserWarning: Do not pass an `input_shape`/`input_dim` argument to a layer. When using Sequential models, prefer using an `Input(shape)` object as the first layer in the model instead.\n",
      "  super().__init__(**kwargs)\n"
     ]
    },
    {
     "name": "stdout",
     "output_type": "stream",
     "text": [
      "Epoch 1/5\n",
      "\u001b[1m1207/1207\u001b[0m \u001b[32m━━━━━━━━━━━━━━━━━━━━\u001b[0m\u001b[37m\u001b[0m \u001b[1m62s\u001b[0m 48ms/step - accuracy: 0.5362 - loss: 1.6613 - val_accuracy: 0.7903 - val_loss: 0.7338\n",
      "Epoch 2/5\n",
      "\u001b[1m1207/1207\u001b[0m \u001b[32m━━━━━━━━━━━━━━━━━━━━\u001b[0m\u001b[37m\u001b[0m \u001b[1m58s\u001b[0m 48ms/step - accuracy: 0.7400 - loss: 1.1061 - val_accuracy: 0.8205 - val_loss: 0.6205\n",
      "Epoch 3/5\n",
      "\u001b[1m1207/1207\u001b[0m \u001b[32m━━━━━━━━━━━━━━━━━━━━\u001b[0m\u001b[37m\u001b[0m \u001b[1m58s\u001b[0m 48ms/step - accuracy: 0.8178 - loss: 0.7169 - val_accuracy: 0.8809 - val_loss: 0.4181\n",
      "Epoch 4/5\n",
      "\u001b[1m1207/1207\u001b[0m \u001b[32m━━━━━━━━━━━━━━━━━━━━\u001b[0m\u001b[37m\u001b[0m \u001b[1m58s\u001b[0m 48ms/step - accuracy: 0.8429 - loss: 0.5548 - val_accuracy: 0.8871 - val_loss: 0.4340\n",
      "Epoch 5/5\n",
      "\u001b[1m1207/1207\u001b[0m \u001b[32m━━━━━━━━━━━━━━━━━━━━\u001b[0m\u001b[37m\u001b[0m \u001b[1m58s\u001b[0m 48ms/step - accuracy: 0.8562 - loss: 0.4831 - val_accuracy: 0.9170 - val_loss: 0.3255\n",
      "\u001b[1m754/754\u001b[0m \u001b[32m━━━━━━━━━━━━━━━━━━━━\u001b[0m\u001b[37m\u001b[0m \u001b[1m11s\u001b[0m 14ms/step\n",
      "[CV] END batch_size=128, epochs=5, model__dropout=0.35432876500968735, model__hidden_layer=19, model__learning_rate=0.0017912116195168797, model__lstm_units=109; total time= 5.1min\n",
      "Fitting 3 folds for each of 1 candidates, totalling 3 fits\n"
     ]
    },
    {
     "name": "stderr",
     "output_type": "stream",
     "text": [
      "/home/jinesh-subedi/htdocs/thesis/thesisStudy/lib/python3.12/site-packages/keras/src/layers/rnn/bidirectional.py:107: UserWarning: Do not pass an `input_shape`/`input_dim` argument to a layer. When using Sequential models, prefer using an `Input(shape)` object as the first layer in the model instead.\n",
      "  super().__init__(**kwargs)\n"
     ]
    },
    {
     "name": "stdout",
     "output_type": "stream",
     "text": [
      "Epoch 1/6\n",
      "\u001b[1m2413/2413\u001b[0m \u001b[32m━━━━━━━━━━━━━━━━━━━━\u001b[0m\u001b[37m\u001b[0m \u001b[1m94s\u001b[0m 37ms/step - accuracy: 0.4546 - loss: 1.9035 - val_accuracy: 0.6734 - val_loss: 0.9804\n",
      "Epoch 2/6\n",
      "\u001b[1m2413/2413\u001b[0m \u001b[32m━━━━━━━━━━━━━━━━━━━━\u001b[0m\u001b[37m\u001b[0m \u001b[1m89s\u001b[0m 37ms/step - accuracy: 0.7527 - loss: 1.0032 - val_accuracy: 0.8599 - val_loss: 0.4947\n",
      "Epoch 3/6\n",
      "\u001b[1m2413/2413\u001b[0m \u001b[32m━━━━━━━━━━━━━━━━━━━━\u001b[0m\u001b[37m\u001b[0m \u001b[1m90s\u001b[0m 37ms/step - accuracy: 0.8425 - loss: 0.5908 - val_accuracy: 0.8980 - val_loss: 0.3832\n",
      "Epoch 4/6\n",
      "\u001b[1m2413/2413\u001b[0m \u001b[32m━━━━━━━━━━━━━━━━━━━━\u001b[0m\u001b[37m\u001b[0m \u001b[1m90s\u001b[0m 37ms/step - accuracy: 0.8797 - loss: 0.4107 - val_accuracy: 0.9139 - val_loss: 0.3515\n",
      "Epoch 5/6\n",
      "\u001b[1m2413/2413\u001b[0m \u001b[32m━━━━━━━━━━━━━━━━━━━━\u001b[0m\u001b[37m\u001b[0m \u001b[1m90s\u001b[0m 37ms/step - accuracy: 0.8955 - loss: 0.3274 - val_accuracy: 0.9247 - val_loss: 0.3049\n",
      "Epoch 6/6\n",
      "\u001b[1m2413/2413\u001b[0m \u001b[32m━━━━━━━━━━━━━━━━━━━━\u001b[0m\u001b[37m\u001b[0m \u001b[1m90s\u001b[0m 37ms/step - accuracy: 0.9051 - loss: 0.2592 - val_accuracy: 0.9324 - val_loss: 0.2689\n",
      "\u001b[1m1508/1508\u001b[0m \u001b[32m━━━━━━━━━━━━━━━━━━━━\u001b[0m\u001b[37m\u001b[0m \u001b[1m16s\u001b[0m 10ms/step\n",
      "[CV] END batch_size=64, epochs=6, model__dropout=0.21349217543002436, model__hidden_layer=30, model__learning_rate=0.00021409728728692218, model__lstm_units=66; total time= 9.4min\n"
     ]
    },
    {
     "name": "stderr",
     "output_type": "stream",
     "text": [
      "/home/jinesh-subedi/htdocs/thesis/thesisStudy/lib/python3.12/site-packages/keras/src/layers/rnn/bidirectional.py:107: UserWarning: Do not pass an `input_shape`/`input_dim` argument to a layer. When using Sequential models, prefer using an `Input(shape)` object as the first layer in the model instead.\n",
      "  super().__init__(**kwargs)\n"
     ]
    },
    {
     "name": "stdout",
     "output_type": "stream",
     "text": [
      "Epoch 1/6\n",
      "\u001b[1m2413/2413\u001b[0m \u001b[32m━━━━━━━━━━━━━━━━━━━━\u001b[0m\u001b[37m\u001b[0m \u001b[1m93s\u001b[0m 37ms/step - accuracy: 0.4091 - loss: 1.9906 - val_accuracy: 0.7229 - val_loss: 0.8724\n",
      "Epoch 2/6\n",
      "\u001b[1m2413/2413\u001b[0m \u001b[32m━━━━━━━━━━━━━━━━━━━━\u001b[0m\u001b[37m\u001b[0m \u001b[1m89s\u001b[0m 37ms/step - accuracy: 0.7301 - loss: 1.0342 - val_accuracy: 0.8436 - val_loss: 0.5994\n",
      "Epoch 3/6\n",
      "\u001b[1m2413/2413\u001b[0m \u001b[32m━━━━━━━━━━━━━━━━━━━━\u001b[0m\u001b[37m\u001b[0m \u001b[1m89s\u001b[0m 37ms/step - accuracy: 0.8322 - loss: 0.5806 - val_accuracy: 0.8972 - val_loss: 0.4221\n",
      "Epoch 4/6\n",
      "\u001b[1m2413/2413\u001b[0m \u001b[32m━━━━━━━━━━━━━━━━━━━━\u001b[0m\u001b[37m\u001b[0m \u001b[1m89s\u001b[0m 37ms/step - accuracy: 0.8772 - loss: 0.3955 - val_accuracy: 0.9118 - val_loss: 0.3576\n",
      "Epoch 5/6\n",
      "\u001b[1m2413/2413\u001b[0m \u001b[32m━━━━━━━━━━━━━━━━━━━━\u001b[0m\u001b[37m\u001b[0m \u001b[1m89s\u001b[0m 37ms/step - accuracy: 0.8951 - loss: 0.3202 - val_accuracy: 0.9262 - val_loss: 0.3059\n",
      "Epoch 6/6\n",
      "\u001b[1m2413/2413\u001b[0m \u001b[32m━━━━━━━━━━━━━━━━━━━━\u001b[0m\u001b[37m\u001b[0m \u001b[1m89s\u001b[0m 37ms/step - accuracy: 0.9060 - loss: 0.2737 - val_accuracy: 0.9151 - val_loss: 0.3035\n",
      "\u001b[1m1508/1508\u001b[0m \u001b[32m━━━━━━━━━━━━━━━━━━━━\u001b[0m\u001b[37m\u001b[0m \u001b[1m16s\u001b[0m 10ms/step\n",
      "[CV] END batch_size=64, epochs=6, model__dropout=0.21349217543002436, model__hidden_layer=30, model__learning_rate=0.00021409728728692218, model__lstm_units=66; total time= 9.3min\n"
     ]
    },
    {
     "name": "stderr",
     "output_type": "stream",
     "text": [
      "/home/jinesh-subedi/htdocs/thesis/thesisStudy/lib/python3.12/site-packages/keras/src/layers/rnn/bidirectional.py:107: UserWarning: Do not pass an `input_shape`/`input_dim` argument to a layer. When using Sequential models, prefer using an `Input(shape)` object as the first layer in the model instead.\n",
      "  super().__init__(**kwargs)\n"
     ]
    },
    {
     "name": "stdout",
     "output_type": "stream",
     "text": [
      "Epoch 1/6\n",
      "\u001b[1m2413/2413\u001b[0m \u001b[32m━━━━━━━━━━━━━━━━━━━━\u001b[0m\u001b[37m\u001b[0m \u001b[1m93s\u001b[0m 37ms/step - accuracy: 0.4453 - loss: 1.8474 - val_accuracy: 0.6930 - val_loss: 0.9097\n",
      "Epoch 2/6\n",
      "\u001b[1m2413/2413\u001b[0m \u001b[32m━━━━━━━━━━━━━━━━━━━━\u001b[0m\u001b[37m\u001b[0m \u001b[1m89s\u001b[0m 37ms/step - accuracy: 0.7455 - loss: 1.0003 - val_accuracy: 0.8695 - val_loss: 0.4959\n",
      "Epoch 3/6\n",
      "\u001b[1m2413/2413\u001b[0m \u001b[32m━━━━━━━━━━━━━━━━━━━━\u001b[0m\u001b[37m\u001b[0m \u001b[1m89s\u001b[0m 37ms/step - accuracy: 0.8471 - loss: 0.5800 - val_accuracy: 0.9134 - val_loss: 0.3395\n",
      "Epoch 4/6\n",
      "\u001b[1m2413/2413\u001b[0m \u001b[32m━━━━━━━━━━━━━━━━━━━━\u001b[0m\u001b[37m\u001b[0m \u001b[1m89s\u001b[0m 37ms/step - accuracy: 0.8809 - loss: 0.3932 - val_accuracy: 0.9111 - val_loss: 0.3313\n",
      "Epoch 5/6\n",
      "\u001b[1m2413/2413\u001b[0m \u001b[32m━━━━━━━━━━━━━━━━━━━━\u001b[0m\u001b[37m\u001b[0m \u001b[1m90s\u001b[0m 37ms/step - accuracy: 0.8978 - loss: 0.3090 - val_accuracy: 0.9300 - val_loss: 0.2799\n",
      "Epoch 6/6\n",
      "\u001b[1m2413/2413\u001b[0m \u001b[32m━━━━━━━━━━━━━━━━━━━━\u001b[0m\u001b[37m\u001b[0m \u001b[1m90s\u001b[0m 37ms/step - accuracy: 0.9100 - loss: 0.2613 - val_accuracy: 0.9362 - val_loss: 0.2405\n",
      "\u001b[1m1508/1508\u001b[0m \u001b[32m━━━━━━━━━━━━━━━━━━━━\u001b[0m\u001b[37m\u001b[0m \u001b[1m16s\u001b[0m 10ms/step\n",
      "[CV] END batch_size=64, epochs=6, model__dropout=0.21349217543002436, model__hidden_layer=30, model__learning_rate=0.00021409728728692218, model__lstm_units=66; total time= 9.3min\n",
      "Fitting 3 folds for each of 1 candidates, totalling 3 fits\n"
     ]
    },
    {
     "name": "stderr",
     "output_type": "stream",
     "text": [
      "/home/jinesh-subedi/htdocs/thesis/thesisStudy/lib/python3.12/site-packages/keras/src/layers/rnn/bidirectional.py:107: UserWarning: Do not pass an `input_shape`/`input_dim` argument to a layer. When using Sequential models, prefer using an `Input(shape)` object as the first layer in the model instead.\n",
      "  super().__init__(**kwargs)\n"
     ]
    },
    {
     "name": "stdout",
     "output_type": "stream",
     "text": [
      "Epoch 1/7\n",
      "\u001b[1m1207/1207\u001b[0m \u001b[32m━━━━━━━━━━━━━━━━━━━━\u001b[0m\u001b[37m\u001b[0m \u001b[1m62s\u001b[0m 48ms/step - accuracy: 0.4389 - loss: 1.8245 - val_accuracy: 0.7060 - val_loss: 0.8713\n",
      "Epoch 2/7\n",
      "\u001b[1m1207/1207\u001b[0m \u001b[32m━━━━━━━━━━━━━━━━━━━━\u001b[0m\u001b[37m\u001b[0m \u001b[1m58s\u001b[0m 48ms/step - accuracy: 0.6908 - loss: 1.2593 - val_accuracy: 0.8063 - val_loss: 0.7311\n",
      "Epoch 3/7\n",
      "\u001b[1m1207/1207\u001b[0m \u001b[32m━━━━━━━━━━━━━━━━━━━━\u001b[0m\u001b[37m\u001b[0m \u001b[1m58s\u001b[0m 48ms/step - accuracy: 0.7654 - loss: 1.0177 - val_accuracy: 0.8519 - val_loss: 0.6001\n",
      "Epoch 4/7\n",
      "\u001b[1m1207/1207\u001b[0m \u001b[32m━━━━━━━━━━━━━━━━━━━━\u001b[0m\u001b[37m\u001b[0m \u001b[1m58s\u001b[0m 48ms/step - accuracy: 0.7910 - loss: 0.8645 - val_accuracy: 0.8225 - val_loss: 0.5895\n",
      "Epoch 5/7\n",
      "\u001b[1m1207/1207\u001b[0m \u001b[32m━━━━━━━━━━━━━━━━━━━━\u001b[0m\u001b[37m\u001b[0m \u001b[1m58s\u001b[0m 48ms/step - accuracy: 0.8280 - loss: 0.6875 - val_accuracy: 0.8847 - val_loss: 0.4010\n",
      "Epoch 6/7\n",
      "\u001b[1m1207/1207\u001b[0m \u001b[32m━━━━━━━━━━━━━━━━━━━━\u001b[0m\u001b[37m\u001b[0m \u001b[1m58s\u001b[0m 48ms/step - accuracy: 0.8613 - loss: 0.5684 - val_accuracy: 0.9015 - val_loss: 0.3930\n",
      "Epoch 7/7\n",
      "\u001b[1m1207/1207\u001b[0m \u001b[32m━━━━━━━━━━━━━━━━━━━━\u001b[0m\u001b[37m\u001b[0m \u001b[1m58s\u001b[0m 48ms/step - accuracy: 0.8690 - loss: 0.5107 - val_accuracy: 0.8990 - val_loss: 0.3849\n",
      "\u001b[1m754/754\u001b[0m \u001b[32m━━━━━━━━━━━━━━━━━━━━\u001b[0m\u001b[37m\u001b[0m \u001b[1m12s\u001b[0m 14ms/step\n",
      "[CV] END batch_size=128, epochs=7, model__dropout=0.3068587510184797, model__hidden_layer=24, model__learning_rate=0.002744681728625872, model__lstm_units=114; total time= 7.1min\n"
     ]
    },
    {
     "name": "stderr",
     "output_type": "stream",
     "text": [
      "/home/jinesh-subedi/htdocs/thesis/thesisStudy/lib/python3.12/site-packages/keras/src/layers/rnn/bidirectional.py:107: UserWarning: Do not pass an `input_shape`/`input_dim` argument to a layer. When using Sequential models, prefer using an `Input(shape)` object as the first layer in the model instead.\n",
      "  super().__init__(**kwargs)\n"
     ]
    },
    {
     "name": "stdout",
     "output_type": "stream",
     "text": [
      "Epoch 1/7\n",
      "\u001b[1m1207/1207\u001b[0m \u001b[32m━━━━━━━━━━━━━━━━━━━━\u001b[0m\u001b[37m\u001b[0m \u001b[1m63s\u001b[0m 49ms/step - accuracy: 0.5895 - loss: 1.5087 - val_accuracy: 0.7949 - val_loss: 0.7238\n",
      "Epoch 2/7\n",
      "\u001b[1m1207/1207\u001b[0m \u001b[32m━━━━━━━━━━━━━━━━━━━━\u001b[0m\u001b[37m\u001b[0m \u001b[1m58s\u001b[0m 48ms/step - accuracy: 0.7536 - loss: 1.0668 - val_accuracy: 0.7719 - val_loss: 0.6801\n",
      "Epoch 3/7\n",
      "\u001b[1m1207/1207\u001b[0m \u001b[32m━━━━━━━━━━━━━━━━━━━━\u001b[0m\u001b[37m\u001b[0m \u001b[1m58s\u001b[0m 48ms/step - accuracy: 0.8185 - loss: 0.7057 - val_accuracy: 0.8908 - val_loss: 0.4021\n",
      "Epoch 4/7\n",
      "\u001b[1m1207/1207\u001b[0m \u001b[32m━━━━━━━━━━━━━━━━━━━━\u001b[0m\u001b[37m\u001b[0m \u001b[1m58s\u001b[0m 48ms/step - accuracy: 0.8412 - loss: 0.5744 - val_accuracy: 0.8691 - val_loss: 0.4415\n",
      "Epoch 5/7\n",
      "\u001b[1m1207/1207\u001b[0m \u001b[32m━━━━━━━━━━━━━━━━━━━━\u001b[0m\u001b[37m\u001b[0m \u001b[1m58s\u001b[0m 48ms/step - accuracy: 0.8591 - loss: 0.5170 - val_accuracy: 0.8452 - val_loss: 0.4988\n",
      "Epoch 6/7\n",
      "\u001b[1m1207/1207\u001b[0m \u001b[32m━━━━━━━━━━━━━━━━━━━━\u001b[0m\u001b[37m\u001b[0m \u001b[1m58s\u001b[0m 48ms/step - accuracy: 0.8684 - loss: 0.4944 - val_accuracy: 0.8943 - val_loss: 0.3649\n",
      "Epoch 7/7\n",
      "\u001b[1m1207/1207\u001b[0m \u001b[32m━━━━━━━━━━━━━━━━━━━━\u001b[0m\u001b[37m\u001b[0m \u001b[1m58s\u001b[0m 48ms/step - accuracy: 0.8769 - loss: 0.4536 - val_accuracy: 0.8561 - val_loss: 0.3669\n",
      "\u001b[1m754/754\u001b[0m \u001b[32m━━━━━━━━━━━━━━━━━━━━\u001b[0m\u001b[37m\u001b[0m \u001b[1m11s\u001b[0m 14ms/step\n",
      "[CV] END batch_size=128, epochs=7, model__dropout=0.3068587510184797, model__hidden_layer=24, model__learning_rate=0.002744681728625872, model__lstm_units=114; total time= 7.1min\n"
     ]
    },
    {
     "name": "stderr",
     "output_type": "stream",
     "text": [
      "/home/jinesh-subedi/htdocs/thesis/thesisStudy/lib/python3.12/site-packages/keras/src/layers/rnn/bidirectional.py:107: UserWarning: Do not pass an `input_shape`/`input_dim` argument to a layer. When using Sequential models, prefer using an `Input(shape)` object as the first layer in the model instead.\n",
      "  super().__init__(**kwargs)\n"
     ]
    },
    {
     "name": "stdout",
     "output_type": "stream",
     "text": [
      "Epoch 1/7\n",
      "\u001b[1m1207/1207\u001b[0m \u001b[32m━━━━━━━━━━━━━━━━━━━━\u001b[0m\u001b[37m\u001b[0m \u001b[1m62s\u001b[0m 48ms/step - accuracy: 0.5444 - loss: 1.6639 - val_accuracy: 0.6103 - val_loss: 1.2822\n",
      "Epoch 2/7\n",
      "\u001b[1m1207/1207\u001b[0m \u001b[32m━━━━━━━━━━━━━━━━━━━━\u001b[0m\u001b[37m\u001b[0m \u001b[1m58s\u001b[0m 48ms/step - accuracy: 0.7097 - loss: 1.2681 - val_accuracy: 0.7878 - val_loss: 0.6714\n",
      "Epoch 3/7\n",
      "\u001b[1m1207/1207\u001b[0m \u001b[32m━━━━━━━━━━━━━━━━━━━━\u001b[0m\u001b[37m\u001b[0m \u001b[1m57s\u001b[0m 48ms/step - accuracy: 0.7654 - loss: 0.9985 - val_accuracy: 0.8425 - val_loss: 0.5066\n",
      "Epoch 4/7\n",
      "\u001b[1m1207/1207\u001b[0m \u001b[32m━━━━━━━━━━━━━━━━━━━━\u001b[0m\u001b[37m\u001b[0m \u001b[1m57s\u001b[0m 48ms/step - accuracy: 0.8261 - loss: 0.7649 - val_accuracy: 0.8983 - val_loss: 0.4638\n",
      "Epoch 5/7\n",
      "\u001b[1m1207/1207\u001b[0m \u001b[32m━━━━━━━━━━━━━━━━━━━━\u001b[0m\u001b[37m\u001b[0m \u001b[1m57s\u001b[0m 48ms/step - accuracy: 0.8468 - loss: 0.6553 - val_accuracy: 0.8678 - val_loss: 0.5307\n",
      "Epoch 6/7\n",
      "\u001b[1m1207/1207\u001b[0m \u001b[32m━━━━━━━━━━━━━━━━━━━━\u001b[0m\u001b[37m\u001b[0m \u001b[1m57s\u001b[0m 48ms/step - accuracy: 0.8639 - loss: 0.5556 - val_accuracy: 0.9078 - val_loss: 0.4187\n",
      "Epoch 7/7\n",
      "\u001b[1m1207/1207\u001b[0m \u001b[32m━━━━━━━━━━━━━━━━━━━━\u001b[0m\u001b[37m\u001b[0m \u001b[1m57s\u001b[0m 48ms/step - accuracy: 0.8784 - loss: 0.4869 - val_accuracy: 0.9059 - val_loss: 0.3853\n",
      "\u001b[1m754/754\u001b[0m \u001b[32m━━━━━━━━━━━━━━━━━━━━\u001b[0m\u001b[37m\u001b[0m \u001b[1m11s\u001b[0m 14ms/step\n",
      "[CV] END batch_size=128, epochs=7, model__dropout=0.3068587510184797, model__hidden_layer=24, model__learning_rate=0.002744681728625872, model__lstm_units=114; total time= 7.0min\n",
      "Fitting 3 folds for each of 1 candidates, totalling 3 fits\n"
     ]
    },
    {
     "name": "stderr",
     "output_type": "stream",
     "text": [
      "/home/jinesh-subedi/htdocs/thesis/thesisStudy/lib/python3.12/site-packages/keras/src/layers/rnn/bidirectional.py:107: UserWarning: Do not pass an `input_shape`/`input_dim` argument to a layer. When using Sequential models, prefer using an `Input(shape)` object as the first layer in the model instead.\n",
      "  super().__init__(**kwargs)\n"
     ]
    },
    {
     "name": "stdout",
     "output_type": "stream",
     "text": [
      "Epoch 1/7\n",
      "\u001b[1m2413/2413\u001b[0m \u001b[32m━━━━━━━━━━━━━━━━━━━━\u001b[0m\u001b[37m\u001b[0m \u001b[1m93s\u001b[0m 37ms/step - accuracy: 0.5700 - loss: 1.6639 - val_accuracy: 0.7567 - val_loss: 0.8266\n",
      "Epoch 2/7\n",
      "\u001b[1m2413/2413\u001b[0m \u001b[32m━━━━━━━━━━━━━━━━━━━━\u001b[0m\u001b[37m\u001b[0m \u001b[1m89s\u001b[0m 37ms/step - accuracy: 0.7835 - loss: 0.9092 - val_accuracy: 0.8770 - val_loss: 0.5017\n",
      "Epoch 3/7\n",
      "\u001b[1m2413/2413\u001b[0m \u001b[32m━━━━━━━━━━━━━━━━━━━━\u001b[0m\u001b[37m\u001b[0m \u001b[1m89s\u001b[0m 37ms/step - accuracy: 0.8460 - loss: 0.5623 - val_accuracy: 0.9071 - val_loss: 0.3921\n",
      "Epoch 4/7\n",
      "\u001b[1m2413/2413\u001b[0m \u001b[32m━━━━━━━━━━━━━━━━━━━━\u001b[0m\u001b[37m\u001b[0m \u001b[1m89s\u001b[0m 37ms/step - accuracy: 0.8668 - loss: 0.4902 - val_accuracy: 0.9185 - val_loss: 0.3256\n",
      "Epoch 5/7\n",
      "\u001b[1m2413/2413\u001b[0m \u001b[32m━━━━━━━━━━━━━━━━━━━━\u001b[0m\u001b[37m\u001b[0m \u001b[1m89s\u001b[0m 37ms/step - accuracy: 0.8728 - loss: 0.5079 - val_accuracy: 0.9091 - val_loss: 0.3527\n",
      "Epoch 6/7\n",
      "\u001b[1m2413/2413\u001b[0m \u001b[32m━━━━━━━━━━━━━━━━━━━━\u001b[0m\u001b[37m\u001b[0m \u001b[1m89s\u001b[0m 37ms/step - accuracy: 0.8765 - loss: 0.4988 - val_accuracy: 0.8908 - val_loss: 0.4205\n",
      "Epoch 7/7\n",
      "\u001b[1m2413/2413\u001b[0m \u001b[32m━━━━━━━━━━━━━━━━━━━━\u001b[0m\u001b[37m\u001b[0m \u001b[1m89s\u001b[0m 37ms/step - accuracy: 0.8800 - loss: 0.4870 - val_accuracy: 0.8988 - val_loss: 0.3959\n",
      "\u001b[1m1508/1508\u001b[0m \u001b[32m━━━━━━━━━━━━━━━━━━━━\u001b[0m\u001b[37m\u001b[0m \u001b[1m16s\u001b[0m 10ms/step\n",
      "[CV] END batch_size=64, epochs=7, model__dropout=0.29368136887440055, model__hidden_layer=20, model__learning_rate=0.001476030325476128, model__lstm_units=65; total time=10.7min\n"
     ]
    },
    {
     "name": "stderr",
     "output_type": "stream",
     "text": [
      "/home/jinesh-subedi/htdocs/thesis/thesisStudy/lib/python3.12/site-packages/keras/src/layers/rnn/bidirectional.py:107: UserWarning: Do not pass an `input_shape`/`input_dim` argument to a layer. When using Sequential models, prefer using an `Input(shape)` object as the first layer in the model instead.\n",
      "  super().__init__(**kwargs)\n"
     ]
    },
    {
     "name": "stdout",
     "output_type": "stream",
     "text": [
      "Epoch 1/7\n",
      "\u001b[1m2413/2413\u001b[0m \u001b[32m━━━━━━━━━━━━━━━━━━━━\u001b[0m\u001b[37m\u001b[0m \u001b[1m94s\u001b[0m 37ms/step - accuracy: 0.5801 - loss: 1.6389 - val_accuracy: 0.8145 - val_loss: 0.7191\n",
      "Epoch 2/7\n",
      "\u001b[1m2413/2413\u001b[0m \u001b[32m━━━━━━━━━━━━━━━━━━━━\u001b[0m\u001b[37m\u001b[0m \u001b[1m90s\u001b[0m 37ms/step - accuracy: 0.7935 - loss: 0.9247 - val_accuracy: 0.8684 - val_loss: 0.5359\n",
      "Epoch 3/7\n",
      "\u001b[1m2413/2413\u001b[0m \u001b[32m━━━━━━━━━━━━━━━━━━━━\u001b[0m\u001b[37m\u001b[0m \u001b[1m90s\u001b[0m 37ms/step - accuracy: 0.8516 - loss: 0.6066 - val_accuracy: 0.9173 - val_loss: 0.3660\n",
      "Epoch 4/7\n",
      "\u001b[1m2413/2413\u001b[0m \u001b[32m━━━━━━━━━━━━━━━━━━━━\u001b[0m\u001b[37m\u001b[0m \u001b[1m90s\u001b[0m 37ms/step - accuracy: 0.8688 - loss: 0.4978 - val_accuracy: 0.9120 - val_loss: 0.3520\n",
      "Epoch 5/7\n",
      "\u001b[1m2413/2413\u001b[0m \u001b[32m━━━━━━━━━━━━━━━━━━━━\u001b[0m\u001b[37m\u001b[0m \u001b[1m90s\u001b[0m 37ms/step - accuracy: 0.8795 - loss: 0.4599 - val_accuracy: 0.9194 - val_loss: 0.3005\n",
      "Epoch 6/7\n",
      "\u001b[1m2413/2413\u001b[0m \u001b[32m━━━━━━━━━━━━━━━━━━━━\u001b[0m\u001b[37m\u001b[0m \u001b[1m90s\u001b[0m 37ms/step - accuracy: 0.8826 - loss: 0.4495 - val_accuracy: 0.9183 - val_loss: 0.3418\n",
      "Epoch 7/7\n",
      "\u001b[1m2413/2413\u001b[0m \u001b[32m━━━━━━━━━━━━━━━━━━━━\u001b[0m\u001b[37m\u001b[0m \u001b[1m90s\u001b[0m 37ms/step - accuracy: 0.8853 - loss: 0.4626 - val_accuracy: 0.9108 - val_loss: 0.3414\n",
      "\u001b[1m1508/1508\u001b[0m \u001b[32m━━━━━━━━━━━━━━━━━━━━\u001b[0m\u001b[37m\u001b[0m \u001b[1m16s\u001b[0m 10ms/step\n",
      "[CV] END batch_size=64, epochs=7, model__dropout=0.29368136887440055, model__hidden_layer=20, model__learning_rate=0.001476030325476128, model__lstm_units=65; total time=10.9min\n"
     ]
    },
    {
     "name": "stderr",
     "output_type": "stream",
     "text": [
      "/home/jinesh-subedi/htdocs/thesis/thesisStudy/lib/python3.12/site-packages/keras/src/layers/rnn/bidirectional.py:107: UserWarning: Do not pass an `input_shape`/`input_dim` argument to a layer. When using Sequential models, prefer using an `Input(shape)` object as the first layer in the model instead.\n",
      "  super().__init__(**kwargs)\n"
     ]
    },
    {
     "name": "stdout",
     "output_type": "stream",
     "text": [
      "Epoch 1/7\n",
      "\u001b[1m2413/2413\u001b[0m \u001b[32m━━━━━━━━━━━━━━━━━━━━\u001b[0m\u001b[37m\u001b[0m \u001b[1m96s\u001b[0m 38ms/step - accuracy: 0.5898 - loss: 1.5249 - val_accuracy: 0.7899 - val_loss: 0.6678\n",
      "Epoch 2/7\n",
      "\u001b[1m2413/2413\u001b[0m \u001b[32m━━━━━━━━━━━━━━━━━━━━\u001b[0m\u001b[37m\u001b[0m \u001b[1m91s\u001b[0m 38ms/step - accuracy: 0.8161 - loss: 0.7432 - val_accuracy: 0.9037 - val_loss: 0.3719\n",
      "Epoch 3/7\n",
      "\u001b[1m2413/2413\u001b[0m \u001b[32m━━━━━━━━━━━━━━━━━━━━\u001b[0m\u001b[37m\u001b[0m \u001b[1m91s\u001b[0m 38ms/step - accuracy: 0.8477 - loss: 0.5973 - val_accuracy: 0.9015 - val_loss: 0.4054\n",
      "Epoch 4/7\n",
      "\u001b[1m2413/2413\u001b[0m \u001b[32m━━━━━━━━━━━━━━━━━━━━\u001b[0m\u001b[37m\u001b[0m \u001b[1m91s\u001b[0m 38ms/step - accuracy: 0.8664 - loss: 0.5024 - val_accuracy: 0.8822 - val_loss: 0.3798\n",
      "Epoch 5/7\n",
      "\u001b[1m2413/2413\u001b[0m \u001b[32m━━━━━━━━━━━━━━━━━━━━\u001b[0m\u001b[37m\u001b[0m \u001b[1m91s\u001b[0m 38ms/step - accuracy: 0.8769 - loss: 0.4753 - val_accuracy: 0.9235 - val_loss: 0.2717\n",
      "Epoch 6/7\n",
      "\u001b[1m2413/2413\u001b[0m \u001b[32m━━━━━━━━━━━━━━━━━━━━\u001b[0m\u001b[37m\u001b[0m \u001b[1m91s\u001b[0m 38ms/step - accuracy: 0.8799 - loss: 0.4778 - val_accuracy: 0.9203 - val_loss: 0.2942\n",
      "Epoch 7/7\n",
      "\u001b[1m2413/2413\u001b[0m \u001b[32m━━━━━━━━━━━━━━━━━━━━\u001b[0m\u001b[37m\u001b[0m \u001b[1m91s\u001b[0m 38ms/step - accuracy: 0.8846 - loss: 0.4658 - val_accuracy: 0.8988 - val_loss: 0.3617\n",
      "\u001b[1m1508/1508\u001b[0m \u001b[32m━━━━━━━━━━━━━━━━━━━━\u001b[0m\u001b[37m\u001b[0m \u001b[1m16s\u001b[0m 10ms/step\n",
      "[CV] END batch_size=64, epochs=7, model__dropout=0.29368136887440055, model__hidden_layer=20, model__learning_rate=0.001476030325476128, model__lstm_units=65; total time=11.0min\n",
      "Fitting 3 folds for each of 1 candidates, totalling 3 fits\n"
     ]
    },
    {
     "name": "stderr",
     "output_type": "stream",
     "text": [
      "/home/jinesh-subedi/htdocs/thesis/thesisStudy/lib/python3.12/site-packages/keras/src/layers/rnn/bidirectional.py:107: UserWarning: Do not pass an `input_shape`/`input_dim` argument to a layer. When using Sequential models, prefer using an `Input(shape)` object as the first layer in the model instead.\n",
      "  super().__init__(**kwargs)\n"
     ]
    },
    {
     "name": "stdout",
     "output_type": "stream",
     "text": [
      "Epoch 1/9\n",
      "\u001b[1m2413/2413\u001b[0m \u001b[32m━━━━━━━━━━━━━━━━━━━━\u001b[0m\u001b[37m\u001b[0m \u001b[1m114s\u001b[0m 45ms/step - accuracy: 0.5455 - loss: 1.6624 - val_accuracy: 0.7945 - val_loss: 0.7053\n",
      "Epoch 2/9\n",
      "\u001b[1m2413/2413\u001b[0m \u001b[32m━━━━━━━━━━━━━━━━━━━━\u001b[0m\u001b[37m\u001b[0m \u001b[1m109s\u001b[0m 45ms/step - accuracy: 0.8227 - loss: 0.7578 - val_accuracy: 0.8848 - val_loss: 0.3936\n",
      "Epoch 3/9\n",
      "\u001b[1m2413/2413\u001b[0m \u001b[32m━━━━━━━━━━━━━━━━━━━━\u001b[0m\u001b[37m\u001b[0m \u001b[1m109s\u001b[0m 45ms/step - accuracy: 0.8774 - loss: 0.4333 - val_accuracy: 0.9056 - val_loss: 0.3445\n",
      "Epoch 4/9\n",
      "\u001b[1m2413/2413\u001b[0m \u001b[32m━━━━━━━━━━━━━━━━━━━━\u001b[0m\u001b[37m\u001b[0m \u001b[1m109s\u001b[0m 45ms/step - accuracy: 0.8940 - loss: 0.3234 - val_accuracy: 0.9257 - val_loss: 0.2788\n",
      "Epoch 5/9\n",
      "\u001b[1m2413/2413\u001b[0m \u001b[32m━━━━━━━━━━━━━━━━━━━━\u001b[0m\u001b[37m\u001b[0m \u001b[1m109s\u001b[0m 45ms/step - accuracy: 0.9086 - loss: 0.2582 - val_accuracy: 0.9294 - val_loss: 0.2435\n",
      "Epoch 6/9\n",
      "\u001b[1m2413/2413\u001b[0m \u001b[32m━━━━━━━━━━━━━━━━━━━━\u001b[0m\u001b[37m\u001b[0m \u001b[1m109s\u001b[0m 45ms/step - accuracy: 0.9198 - loss: 0.2069 - val_accuracy: 0.9420 - val_loss: 0.2170\n",
      "Epoch 7/9\n",
      "\u001b[1m2413/2413\u001b[0m \u001b[32m━━━━━━━━━━━━━━━━━━━━\u001b[0m\u001b[37m\u001b[0m \u001b[1m109s\u001b[0m 45ms/step - accuracy: 0.9294 - loss: 0.1840 - val_accuracy: 0.9495 - val_loss: 0.1993\n",
      "Epoch 8/9\n",
      "\u001b[1m2413/2413\u001b[0m \u001b[32m━━━━━━━━━━━━━━━━━━━━\u001b[0m\u001b[37m\u001b[0m \u001b[1m109s\u001b[0m 45ms/step - accuracy: 0.9345 - loss: 0.1758 - val_accuracy: 0.9452 - val_loss: 0.1889\n",
      "Epoch 9/9\n",
      "\u001b[1m2413/2413\u001b[0m \u001b[32m━━━━━━━━━━━━━━━━━━━━\u001b[0m\u001b[37m\u001b[0m \u001b[1m109s\u001b[0m 45ms/step - accuracy: 0.9367 - loss: 0.1616 - val_accuracy: 0.9545 - val_loss: 0.1810\n",
      "\u001b[1m1508/1508\u001b[0m \u001b[32m━━━━━━━━━━━━━━━━━━━━\u001b[0m\u001b[37m\u001b[0m \u001b[1m19s\u001b[0m 12ms/step\n",
      "[CV] END batch_size=64, epochs=9, model__dropout=0.2678878904442561, model__hidden_layer=28, model__learning_rate=0.00025319161350442564, model__lstm_units=127; total time=16.7min\n"
     ]
    },
    {
     "name": "stderr",
     "output_type": "stream",
     "text": [
      "/home/jinesh-subedi/htdocs/thesis/thesisStudy/lib/python3.12/site-packages/keras/src/layers/rnn/bidirectional.py:107: UserWarning: Do not pass an `input_shape`/`input_dim` argument to a layer. When using Sequential models, prefer using an `Input(shape)` object as the first layer in the model instead.\n",
      "  super().__init__(**kwargs)\n"
     ]
    },
    {
     "name": "stdout",
     "output_type": "stream",
     "text": [
      "Epoch 1/9\n",
      "\u001b[1m2413/2413\u001b[0m \u001b[32m━━━━━━━━━━━━━━━━━━━━\u001b[0m\u001b[37m\u001b[0m \u001b[1m113s\u001b[0m 45ms/step - accuracy: 0.5660 - loss: 1.6367 - val_accuracy: 0.8206 - val_loss: 0.6895\n",
      "Epoch 2/9\n",
      "\u001b[1m2413/2413\u001b[0m \u001b[32m━━━━━━━━━━━━━━━━━━━━\u001b[0m\u001b[37m\u001b[0m \u001b[1m108s\u001b[0m 45ms/step - accuracy: 0.8115 - loss: 0.8421 - val_accuracy: 0.8928 - val_loss: 0.4078\n",
      "Epoch 3/9\n",
      "\u001b[1m2413/2413\u001b[0m \u001b[32m━━━━━━━━━━━━━━━━━━━━\u001b[0m\u001b[37m\u001b[0m \u001b[1m108s\u001b[0m 45ms/step - accuracy: 0.8699 - loss: 0.5007 - val_accuracy: 0.8968 - val_loss: 0.3363\n",
      "Epoch 4/9\n",
      "\u001b[1m2413/2413\u001b[0m \u001b[32m━━━━━━━━━━━━━━━━━━━━\u001b[0m\u001b[37m\u001b[0m \u001b[1m108s\u001b[0m 45ms/step - accuracy: 0.8928 - loss: 0.3580 - val_accuracy: 0.9249 - val_loss: 0.3204\n",
      "Epoch 5/9\n",
      "\u001b[1m2413/2413\u001b[0m \u001b[32m━━━━━━━━━━━━━━━━━━━━\u001b[0m\u001b[37m\u001b[0m \u001b[1m109s\u001b[0m 45ms/step - accuracy: 0.9073 - loss: 0.2863 - val_accuracy: 0.9246 - val_loss: 0.2738\n",
      "Epoch 6/9\n",
      "\u001b[1m2413/2413\u001b[0m \u001b[32m━━━━━━━━━━━━━━━━━━━━\u001b[0m\u001b[37m\u001b[0m \u001b[1m109s\u001b[0m 45ms/step - accuracy: 0.9133 - loss: 0.2559 - val_accuracy: 0.9287 - val_loss: 0.2388\n",
      "Epoch 7/9\n",
      "\u001b[1m2413/2413\u001b[0m \u001b[32m━━━━━━━━━━━━━━━━━━━━\u001b[0m\u001b[37m\u001b[0m \u001b[1m109s\u001b[0m 45ms/step - accuracy: 0.9193 - loss: 0.2237 - val_accuracy: 0.9332 - val_loss: 0.2364\n",
      "Epoch 8/9\n",
      "\u001b[1m2413/2413\u001b[0m \u001b[32m━━━━━━━━━━━━━━━━━━━━\u001b[0m\u001b[37m\u001b[0m \u001b[1m109s\u001b[0m 45ms/step - accuracy: 0.9287 - loss: 0.1989 - val_accuracy: 0.9540 - val_loss: 0.1751\n",
      "Epoch 9/9\n",
      "\u001b[1m2413/2413\u001b[0m \u001b[32m━━━━━━━━━━━━━━━━━━━━\u001b[0m\u001b[37m\u001b[0m \u001b[1m109s\u001b[0m 45ms/step - accuracy: 0.9333 - loss: 0.1911 - val_accuracy: 0.9445 - val_loss: 0.2219\n",
      "\u001b[1m1508/1508\u001b[0m \u001b[32m━━━━━━━━━━━━━━━━━━━━\u001b[0m\u001b[37m\u001b[0m \u001b[1m19s\u001b[0m 12ms/step\n",
      "[CV] END batch_size=64, epochs=9, model__dropout=0.2678878904442561, model__hidden_layer=28, model__learning_rate=0.00025319161350442564, model__lstm_units=127; total time=16.7min\n"
     ]
    },
    {
     "name": "stderr",
     "output_type": "stream",
     "text": [
      "/home/jinesh-subedi/htdocs/thesis/thesisStudy/lib/python3.12/site-packages/keras/src/layers/rnn/bidirectional.py:107: UserWarning: Do not pass an `input_shape`/`input_dim` argument to a layer. When using Sequential models, prefer using an `Input(shape)` object as the first layer in the model instead.\n",
      "  super().__init__(**kwargs)\n"
     ]
    },
    {
     "name": "stdout",
     "output_type": "stream",
     "text": [
      "Epoch 1/9\n",
      "\u001b[1m2413/2413\u001b[0m \u001b[32m━━━━━━━━━━━━━━━━━━━━\u001b[0m\u001b[37m\u001b[0m \u001b[1m112s\u001b[0m 45ms/step - accuracy: 0.5287 - loss: 1.7196 - val_accuracy: 0.7716 - val_loss: 0.7307\n",
      "Epoch 2/9\n",
      "\u001b[1m2413/2413\u001b[0m \u001b[32m━━━━━━━━━━━━━━━━━━━━\u001b[0m\u001b[37m\u001b[0m \u001b[1m108s\u001b[0m 45ms/step - accuracy: 0.7980 - loss: 0.8202 - val_accuracy: 0.8833 - val_loss: 0.4296\n",
      "Epoch 3/9\n",
      "\u001b[1m2413/2413\u001b[0m \u001b[32m━━━━━━━━━━━━━━━━━━━━\u001b[0m\u001b[37m\u001b[0m \u001b[1m108s\u001b[0m 45ms/step - accuracy: 0.8690 - loss: 0.4971 - val_accuracy: 0.9122 - val_loss: 0.3697\n",
      "Epoch 4/9\n",
      "\u001b[1m2413/2413\u001b[0m \u001b[32m━━━━━━━━━━━━━━━━━━━━\u001b[0m\u001b[37m\u001b[0m \u001b[1m108s\u001b[0m 45ms/step - accuracy: 0.8946 - loss: 0.3492 - val_accuracy: 0.9233 - val_loss: 0.2939\n",
      "Epoch 5/9\n",
      "\u001b[1m2413/2413\u001b[0m \u001b[32m━━━━━━━━━━━━━━━━━━━━\u001b[0m\u001b[37m\u001b[0m \u001b[1m108s\u001b[0m 45ms/step - accuracy: 0.9087 - loss: 0.2869 - val_accuracy: 0.9208 - val_loss: 0.2761\n",
      "Epoch 6/9\n",
      "\u001b[1m2413/2413\u001b[0m \u001b[32m━━━━━━━━━━━━━━━━━━━━\u001b[0m\u001b[37m\u001b[0m \u001b[1m108s\u001b[0m 45ms/step - accuracy: 0.9209 - loss: 0.2392 - val_accuracy: 0.9472 - val_loss: 0.1885\n",
      "Epoch 7/9\n",
      "\u001b[1m2413/2413\u001b[0m \u001b[32m━━━━━━━━━━━━━━━━━━━━\u001b[0m\u001b[37m\u001b[0m \u001b[1m108s\u001b[0m 45ms/step - accuracy: 0.9305 - loss: 0.2179 - val_accuracy: 0.9394 - val_loss: 0.2444\n",
      "Epoch 8/9\n",
      "\u001b[1m2413/2413\u001b[0m \u001b[32m━━━━━━━━━━━━━━━━━━━━\u001b[0m\u001b[37m\u001b[0m \u001b[1m108s\u001b[0m 45ms/step - accuracy: 0.9353 - loss: 0.1861 - val_accuracy: 0.9402 - val_loss: 0.1984\n",
      "Epoch 9/9\n",
      "\u001b[1m2413/2413\u001b[0m \u001b[32m━━━━━━━━━━━━━━━━━━━━\u001b[0m\u001b[37m\u001b[0m \u001b[1m109s\u001b[0m 45ms/step - accuracy: 0.9414 - loss: 0.1694 - val_accuracy: 0.9659 - val_loss: 0.1550\n",
      "\u001b[1m1508/1508\u001b[0m \u001b[32m━━━━━━━━━━━━━━━━━━━━\u001b[0m\u001b[37m\u001b[0m \u001b[1m19s\u001b[0m 12ms/step\n",
      "[CV] END batch_size=64, epochs=9, model__dropout=0.2678878904442561, model__hidden_layer=28, model__learning_rate=0.00025319161350442564, model__lstm_units=127; total time=16.6min\n",
      "Fitting 3 folds for each of 1 candidates, totalling 3 fits\n"
     ]
    },
    {
     "name": "stderr",
     "output_type": "stream",
     "text": [
      "/home/jinesh-subedi/htdocs/thesis/thesisStudy/lib/python3.12/site-packages/keras/src/layers/rnn/bidirectional.py:107: UserWarning: Do not pass an `input_shape`/`input_dim` argument to a layer. When using Sequential models, prefer using an `Input(shape)` object as the first layer in the model instead.\n",
      "  super().__init__(**kwargs)\n"
     ]
    },
    {
     "name": "stdout",
     "output_type": "stream",
     "text": [
      "Epoch 1/9\n",
      "\u001b[1m2413/2413\u001b[0m \u001b[32m━━━━━━━━━━━━━━━━━━━━\u001b[0m\u001b[37m\u001b[0m \u001b[1m103s\u001b[0m 41ms/step - accuracy: 0.5803 - loss: 1.6354 - val_accuracy: 0.7829 - val_loss: 0.7921\n",
      "Epoch 2/9\n",
      "\u001b[1m2413/2413\u001b[0m \u001b[32m━━━━━━━━━━━━━━━━━━━━\u001b[0m\u001b[37m\u001b[0m \u001b[1m99s\u001b[0m 41ms/step - accuracy: 0.7937 - loss: 0.9218 - val_accuracy: 0.8754 - val_loss: 0.5057\n",
      "Epoch 3/9\n",
      "\u001b[1m2413/2413\u001b[0m \u001b[32m━━━━━━━━━━━━━━━━━━━━\u001b[0m\u001b[37m\u001b[0m \u001b[1m99s\u001b[0m 41ms/step - accuracy: 0.8409 - loss: 0.6436 - val_accuracy: 0.8926 - val_loss: 0.4481\n",
      "Epoch 4/9\n",
      "\u001b[1m2413/2413\u001b[0m \u001b[32m━━━━━━━━━━━━━━━━━━━━\u001b[0m\u001b[37m\u001b[0m \u001b[1m99s\u001b[0m 41ms/step - accuracy: 0.8601 - loss: 0.5659 - val_accuracy: 0.9070 - val_loss: 0.3665\n",
      "Epoch 5/9\n",
      "\u001b[1m2413/2413\u001b[0m \u001b[32m━━━━━━━━━━━━━━━━━━━━\u001b[0m\u001b[37m\u001b[0m \u001b[1m99s\u001b[0m 41ms/step - accuracy: 0.8728 - loss: 0.5424 - val_accuracy: 0.9213 - val_loss: 0.3387\n",
      "Epoch 6/9\n",
      "\u001b[1m2413/2413\u001b[0m \u001b[32m━━━━━━━━━━━━━━━━━━━━\u001b[0m\u001b[37m\u001b[0m \u001b[1m99s\u001b[0m 41ms/step - accuracy: 0.8781 - loss: 0.5411 - val_accuracy: 0.9070 - val_loss: 0.3820\n",
      "Epoch 7/9\n",
      "\u001b[1m2413/2413\u001b[0m \u001b[32m━━━━━━━━━━━━━━━━━━━━\u001b[0m\u001b[37m\u001b[0m \u001b[1m99s\u001b[0m 41ms/step - accuracy: 0.8880 - loss: 0.4925 - val_accuracy: 0.8988 - val_loss: 0.4135\n",
      "Epoch 8/9\n",
      "\u001b[1m2413/2413\u001b[0m \u001b[32m━━━━━━━━━━━━━━━━━━━━\u001b[0m\u001b[37m\u001b[0m \u001b[1m99s\u001b[0m 41ms/step - accuracy: 0.8884 - loss: 0.5039 - val_accuracy: 0.8961 - val_loss: 0.4034\n",
      "Epoch 9/9\n",
      "\u001b[1m2413/2413\u001b[0m \u001b[32m━━━━━━━━━━━━━━━━━━━━\u001b[0m\u001b[37m\u001b[0m \u001b[1m99s\u001b[0m 41ms/step - accuracy: 0.8888 - loss: 0.5352 - val_accuracy: 0.9180 - val_loss: 0.3310\n",
      "\u001b[1m1508/1508\u001b[0m \u001b[32m━━━━━━━━━━━━━━━━━━━━\u001b[0m\u001b[37m\u001b[0m \u001b[1m19s\u001b[0m 12ms/step\n",
      "[CV] END batch_size=64, epochs=9, model__dropout=0.34786445122192156, model__hidden_layer=24, model__learning_rate=0.0015922289005058789, model__lstm_units=107; total time=15.3min\n"
     ]
    },
    {
     "name": "stderr",
     "output_type": "stream",
     "text": [
      "/home/jinesh-subedi/htdocs/thesis/thesisStudy/lib/python3.12/site-packages/keras/src/layers/rnn/bidirectional.py:107: UserWarning: Do not pass an `input_shape`/`input_dim` argument to a layer. When using Sequential models, prefer using an `Input(shape)` object as the first layer in the model instead.\n",
      "  super().__init__(**kwargs)\n"
     ]
    },
    {
     "name": "stdout",
     "output_type": "stream",
     "text": [
      "Epoch 1/9\n",
      "\u001b[1m2413/2413\u001b[0m \u001b[32m━━━━━━━━━━━━━━━━━━━━\u001b[0m\u001b[37m\u001b[0m \u001b[1m104s\u001b[0m 42ms/step - accuracy: 0.6102 - loss: 1.5995 - val_accuracy: 0.7886 - val_loss: 0.7950\n",
      "Epoch 2/9\n",
      "\u001b[1m2413/2413\u001b[0m \u001b[32m━━━━━━━━━━━━━━━━━━━━\u001b[0m\u001b[37m\u001b[0m \u001b[1m99s\u001b[0m 41ms/step - accuracy: 0.7967 - loss: 0.9254 - val_accuracy: 0.8808 - val_loss: 0.4160\n",
      "Epoch 3/9\n",
      "\u001b[1m2413/2413\u001b[0m \u001b[32m━━━━━━━━━━━━━━━━━━━━\u001b[0m\u001b[37m\u001b[0m \u001b[1m99s\u001b[0m 41ms/step - accuracy: 0.8493 - loss: 0.6133 - val_accuracy: 0.9042 - val_loss: 0.3153\n",
      "Epoch 4/9\n",
      "\u001b[1m2413/2413\u001b[0m \u001b[32m━━━━━━━━━━━━━━━━━━━━\u001b[0m\u001b[37m\u001b[0m \u001b[1m100s\u001b[0m 41ms/step - accuracy: 0.8606 - loss: 0.5820 - val_accuracy: 0.8777 - val_loss: 0.3792\n",
      "Epoch 5/9\n",
      "\u001b[1m2413/2413\u001b[0m \u001b[32m━━━━━━━━━━━━━━━━━━━━\u001b[0m\u001b[37m\u001b[0m \u001b[1m100s\u001b[0m 41ms/step - accuracy: 0.8746 - loss: 0.5575 - val_accuracy: 0.8887 - val_loss: 0.3933\n",
      "Epoch 6/9\n",
      "\u001b[1m2413/2413\u001b[0m \u001b[32m━━━━━━━━━━━━━━━━━━━━\u001b[0m\u001b[37m\u001b[0m \u001b[1m100s\u001b[0m 41ms/step - accuracy: 0.8743 - loss: 0.5646 - val_accuracy: 0.9237 - val_loss: 0.3885\n",
      "Epoch 7/9\n",
      "\u001b[1m2413/2413\u001b[0m \u001b[32m━━━━━━━━━━━━━━━━━━━━\u001b[0m\u001b[37m\u001b[0m \u001b[1m100s\u001b[0m 41ms/step - accuracy: 0.8820 - loss: 0.5714 - val_accuracy: 0.8952 - val_loss: 0.4116\n",
      "Epoch 8/9\n",
      "\u001b[1m2413/2413\u001b[0m \u001b[32m━━━━━━━━━━━━━━━━━━━━\u001b[0m\u001b[37m\u001b[0m \u001b[1m100s\u001b[0m 41ms/step - accuracy: 0.8887 - loss: 0.5181 - val_accuracy: 0.9129 - val_loss: 0.3585\n",
      "Epoch 9/9\n",
      "\u001b[1m2413/2413\u001b[0m \u001b[32m━━━━━━━━━━━━━━━━━━━━\u001b[0m\u001b[37m\u001b[0m \u001b[1m100s\u001b[0m 41ms/step - accuracy: 0.8941 - loss: 0.5378 - val_accuracy: 0.9255 - val_loss: 0.3043\n",
      "\u001b[1m1508/1508\u001b[0m \u001b[32m━━━━━━━━━━━━━━━━━━━━\u001b[0m\u001b[37m\u001b[0m \u001b[1m18s\u001b[0m 11ms/step\n",
      "[CV] END batch_size=64, epochs=9, model__dropout=0.34786445122192156, model__hidden_layer=24, model__learning_rate=0.0015922289005058789, model__lstm_units=107; total time=15.4min\n"
     ]
    },
    {
     "name": "stderr",
     "output_type": "stream",
     "text": [
      "/home/jinesh-subedi/htdocs/thesis/thesisStudy/lib/python3.12/site-packages/keras/src/layers/rnn/bidirectional.py:107: UserWarning: Do not pass an `input_shape`/`input_dim` argument to a layer. When using Sequential models, prefer using an `Input(shape)` object as the first layer in the model instead.\n",
      "  super().__init__(**kwargs)\n"
     ]
    },
    {
     "name": "stdout",
     "output_type": "stream",
     "text": [
      "Epoch 1/9\n",
      "\u001b[1m2413/2413\u001b[0m \u001b[32m━━━━━━━━━━━━━━━━━━━━\u001b[0m\u001b[37m\u001b[0m \u001b[1m104s\u001b[0m 42ms/step - accuracy: 0.6023 - loss: 1.6266 - val_accuracy: 0.7903 - val_loss: 0.7289\n",
      "Epoch 2/9\n",
      "\u001b[1m2413/2413\u001b[0m \u001b[32m━━━━━━━━━━━━━━━━━━━━\u001b[0m\u001b[37m\u001b[0m \u001b[1m100s\u001b[0m 41ms/step - accuracy: 0.7935 - loss: 0.9398 - val_accuracy: 0.8848 - val_loss: 0.4357\n",
      "Epoch 3/9\n",
      "\u001b[1m2413/2413\u001b[0m \u001b[32m━━━━━━━━━━━━━━━━━━━━\u001b[0m\u001b[37m\u001b[0m \u001b[1m100s\u001b[0m 41ms/step - accuracy: 0.8407 - loss: 0.6643 - val_accuracy: 0.8869 - val_loss: 0.4282\n",
      "Epoch 4/9\n",
      "\u001b[1m2413/2413\u001b[0m \u001b[32m━━━━━━━━━━━━━━━━━━━━\u001b[0m\u001b[37m\u001b[0m \u001b[1m100s\u001b[0m 41ms/step - accuracy: 0.8584 - loss: 0.6177 - val_accuracy: 0.9077 - val_loss: 0.3406\n",
      "Epoch 5/9\n",
      "\u001b[1m2413/2413\u001b[0m \u001b[32m━━━━━━━━━━━━━━━━━━━━\u001b[0m\u001b[37m\u001b[0m \u001b[1m100s\u001b[0m 41ms/step - accuracy: 0.8678 - loss: 0.5794 - val_accuracy: 0.8948 - val_loss: 0.3369\n",
      "Epoch 6/9\n",
      "\u001b[1m2413/2413\u001b[0m \u001b[32m━━━━━━━━━━━━━━━━━━━━\u001b[0m\u001b[37m\u001b[0m \u001b[1m100s\u001b[0m 41ms/step - accuracy: 0.8758 - loss: 0.5904 - val_accuracy: 0.9154 - val_loss: 0.3218\n",
      "Epoch 7/9\n",
      "\u001b[1m2413/2413\u001b[0m \u001b[32m━━━━━━━━━━━━━━━━━━━━\u001b[0m\u001b[37m\u001b[0m \u001b[1m100s\u001b[0m 41ms/step - accuracy: 0.8743 - loss: 0.5801 - val_accuracy: 0.9223 - val_loss: 0.3417\n",
      "Epoch 8/9\n",
      "\u001b[1m2413/2413\u001b[0m \u001b[32m━━━━━━━━━━━━━━━━━━━━\u001b[0m\u001b[37m\u001b[0m \u001b[1m100s\u001b[0m 41ms/step - accuracy: 0.8827 - loss: 0.5966 - val_accuracy: 0.9157 - val_loss: 0.3690\n",
      "Epoch 9/9\n",
      "\u001b[1m2413/2413\u001b[0m \u001b[32m━━━━━━━━━━━━━━━━━━━━\u001b[0m\u001b[37m\u001b[0m \u001b[1m100s\u001b[0m 41ms/step - accuracy: 0.8890 - loss: 0.5608 - val_accuracy: 0.9094 - val_loss: 0.3577\n",
      "\u001b[1m1508/1508\u001b[0m \u001b[32m━━━━━━━━━━━━━━━━━━━━\u001b[0m\u001b[37m\u001b[0m \u001b[1m18s\u001b[0m 12ms/step\n",
      "[CV] END batch_size=64, epochs=9, model__dropout=0.34786445122192156, model__hidden_layer=24, model__learning_rate=0.0015922289005058789, model__lstm_units=107; total time=15.4min\n",
      "Fitting 3 folds for each of 1 candidates, totalling 3 fits\n"
     ]
    },
    {
     "name": "stderr",
     "output_type": "stream",
     "text": [
      "/home/jinesh-subedi/htdocs/thesis/thesisStudy/lib/python3.12/site-packages/keras/src/layers/rnn/bidirectional.py:107: UserWarning: Do not pass an `input_shape`/`input_dim` argument to a layer. When using Sequential models, prefer using an `Input(shape)` object as the first layer in the model instead.\n",
      "  super().__init__(**kwargs)\n"
     ]
    },
    {
     "name": "stdout",
     "output_type": "stream",
     "text": [
      "Epoch 1/7\n",
      "\u001b[1m2413/2413\u001b[0m \u001b[32m━━━━━━━━━━━━━━━━━━━━\u001b[0m\u001b[37m\u001b[0m \u001b[1m114s\u001b[0m 46ms/step - accuracy: 0.3042 - loss: 2.1260 - val_accuracy: 0.5545 - val_loss: 1.1587\n",
      "Epoch 2/7\n",
      "\u001b[1m2413/2413\u001b[0m \u001b[32m━━━━━━━━━━━━━━━━━━━━\u001b[0m\u001b[37m\u001b[0m \u001b[1m109s\u001b[0m 45ms/step - accuracy: 0.6221 - loss: 1.7860 - val_accuracy: 0.7088 - val_loss: 0.9134\n",
      "Epoch 3/7\n",
      "\u001b[1m2413/2413\u001b[0m \u001b[32m━━━━━━━━━━━━━━━━━━━━\u001b[0m\u001b[37m\u001b[0m \u001b[1m109s\u001b[0m 45ms/step - accuracy: 0.6891 - loss: 1.9326 - val_accuracy: 0.7839 - val_loss: 0.8797\n",
      "Epoch 4/7\n",
      "\u001b[1m2413/2413\u001b[0m \u001b[32m━━━━━━━━━━━━━━━━━━━━\u001b[0m\u001b[37m\u001b[0m \u001b[1m110s\u001b[0m 45ms/step - accuracy: 0.7150 - loss: 2.0497 - val_accuracy: 0.7878 - val_loss: 0.7863\n",
      "Epoch 5/7\n",
      "\u001b[1m2413/2413\u001b[0m \u001b[32m━━━━━━━━━━━━━━━━━━━━\u001b[0m\u001b[37m\u001b[0m \u001b[1m110s\u001b[0m 46ms/step - accuracy: 0.7150 - loss: 2.1368 - val_accuracy: 0.7915 - val_loss: 0.7514\n",
      "Epoch 6/7\n",
      "\u001b[1m2413/2413\u001b[0m \u001b[32m━━━━━━━━━━━━━━━━━━━━\u001b[0m\u001b[37m\u001b[0m \u001b[1m110s\u001b[0m 46ms/step - accuracy: 0.7231 - loss: 2.0773 - val_accuracy: 0.8047 - val_loss: 0.9047\n",
      "Epoch 7/7\n",
      "\u001b[1m2413/2413\u001b[0m \u001b[32m━━━━━━━━━━━━━━━━━━━━\u001b[0m\u001b[37m\u001b[0m \u001b[1m110s\u001b[0m 45ms/step - accuracy: 0.7261 - loss: 2.1926 - val_accuracy: 0.8195 - val_loss: 0.7536\n",
      "\u001b[1m1508/1508\u001b[0m \u001b[32m━━━━━━━━━━━━━━━━━━━━\u001b[0m\u001b[37m\u001b[0m \u001b[1m20s\u001b[0m 13ms/step\n",
      "[CV] END batch_size=64, epochs=7, model__dropout=0.3382299335522936, model__hidden_layer=22, model__learning_rate=0.006438630132112236, model__lstm_units=127; total time=13.2min\n"
     ]
    },
    {
     "name": "stderr",
     "output_type": "stream",
     "text": [
      "/home/jinesh-subedi/htdocs/thesis/thesisStudy/lib/python3.12/site-packages/keras/src/layers/rnn/bidirectional.py:107: UserWarning: Do not pass an `input_shape`/`input_dim` argument to a layer. When using Sequential models, prefer using an `Input(shape)` object as the first layer in the model instead.\n",
      "  super().__init__(**kwargs)\n"
     ]
    },
    {
     "name": "stdout",
     "output_type": "stream",
     "text": [
      "Epoch 1/7\n",
      "\u001b[1m2413/2413\u001b[0m \u001b[32m━━━━━━━━━━━━━━━━━━━━\u001b[0m\u001b[37m\u001b[0m \u001b[1m115s\u001b[0m 46ms/step - accuracy: 0.3475 - loss: 2.2165 - val_accuracy: 0.6399 - val_loss: 0.9683\n",
      "Epoch 2/7\n",
      "\u001b[1m2413/2413\u001b[0m \u001b[32m━━━━━━━━━━━━━━━━━━━━\u001b[0m\u001b[37m\u001b[0m \u001b[1m109s\u001b[0m 45ms/step - accuracy: 0.6246 - loss: 1.8339 - val_accuracy: 0.7164 - val_loss: 0.8767\n",
      "Epoch 3/7\n",
      "\u001b[1m2413/2413\u001b[0m \u001b[32m━━━━━━━━━━━━━━━━━━━━\u001b[0m\u001b[37m\u001b[0m \u001b[1m110s\u001b[0m 45ms/step - accuracy: 0.7018 - loss: 1.7680 - val_accuracy: 0.7468 - val_loss: 0.8652\n",
      "Epoch 4/7\n",
      "\u001b[1m2413/2413\u001b[0m \u001b[32m━━━━━━━━━━━━━━━━━━━━\u001b[0m\u001b[37m\u001b[0m \u001b[1m109s\u001b[0m 45ms/step - accuracy: 0.7122 - loss: 1.9292 - val_accuracy: 0.7567 - val_loss: 0.9090\n",
      "Epoch 5/7\n",
      "\u001b[1m2413/2413\u001b[0m \u001b[32m━━━━━━━━━━━━━━━━━━━━\u001b[0m\u001b[37m\u001b[0m \u001b[1m109s\u001b[0m 45ms/step - accuracy: 0.7174 - loss: 1.9085 - val_accuracy: 0.8128 - val_loss: 0.7053\n",
      "Epoch 6/7\n",
      "\u001b[1m2413/2413\u001b[0m \u001b[32m━━━━━━━━━━━━━━━━━━━━\u001b[0m\u001b[37m\u001b[0m \u001b[1m109s\u001b[0m 45ms/step - accuracy: 0.7482 - loss: 1.9164 - val_accuracy: 0.8601 - val_loss: 0.5910\n",
      "Epoch 7/7\n",
      "\u001b[1m2413/2413\u001b[0m \u001b[32m━━━━━━━━━━━━━━━━━━━━\u001b[0m\u001b[37m\u001b[0m \u001b[1m109s\u001b[0m 45ms/step - accuracy: 0.7482 - loss: 1.9962 - val_accuracy: 0.8765 - val_loss: 0.6869\n",
      "\u001b[1m1508/1508\u001b[0m \u001b[32m━━━━━━━━━━━━━━━━━━━━\u001b[0m\u001b[37m\u001b[0m \u001b[1m19s\u001b[0m 13ms/step\n",
      "[CV] END batch_size=64, epochs=7, model__dropout=0.3382299335522936, model__hidden_layer=22, model__learning_rate=0.006438630132112236, model__lstm_units=127; total time=13.2min\n"
     ]
    },
    {
     "name": "stderr",
     "output_type": "stream",
     "text": [
      "/home/jinesh-subedi/htdocs/thesis/thesisStudy/lib/python3.12/site-packages/keras/src/layers/rnn/bidirectional.py:107: UserWarning: Do not pass an `input_shape`/`input_dim` argument to a layer. When using Sequential models, prefer using an `Input(shape)` object as the first layer in the model instead.\n",
      "  super().__init__(**kwargs)\n"
     ]
    },
    {
     "name": "stdout",
     "output_type": "stream",
     "text": [
      "Epoch 1/7\n",
      "\u001b[1m2413/2413\u001b[0m \u001b[32m━━━━━━━━━━━━━━━━━━━━\u001b[0m\u001b[37m\u001b[0m \u001b[1m115s\u001b[0m 46ms/step - accuracy: 0.0274 - loss: 3.3019 - val_accuracy: 0.0286 - val_loss: 2.9684\n",
      "Epoch 2/7\n",
      "\u001b[1m2413/2413\u001b[0m \u001b[32m━━━━━━━━━━━━━━━━━━━━\u001b[0m\u001b[37m\u001b[0m \u001b[1m109s\u001b[0m 45ms/step - accuracy: 0.0272 - loss: 3.2485 - val_accuracy: 0.0286 - val_loss: 2.8308\n",
      "Epoch 3/7\n",
      "\u001b[1m2413/2413\u001b[0m \u001b[32m━━━━━━━━━━━━━━━━━━━━\u001b[0m\u001b[37m\u001b[0m \u001b[1m109s\u001b[0m 45ms/step - accuracy: 0.0272 - loss: 3.2467 - val_accuracy: 0.0286 - val_loss: 2.8422\n",
      "Epoch 4/7\n",
      "\u001b[1m2413/2413\u001b[0m \u001b[32m━━━━━━━━━━━━━━━━━━━━\u001b[0m\u001b[37m\u001b[0m \u001b[1m109s\u001b[0m 45ms/step - accuracy: 0.0272 - loss: 3.2463 - val_accuracy: 0.0286 - val_loss: 2.9229\n",
      "Epoch 5/7\n",
      "\u001b[1m2413/2413\u001b[0m \u001b[32m━━━━━━━━━━━━━━━━━━━━\u001b[0m\u001b[37m\u001b[0m \u001b[1m109s\u001b[0m 45ms/step - accuracy: 0.0272 - loss: 3.2460 - val_accuracy: 0.0286 - val_loss: 2.9274\n",
      "Epoch 6/7\n",
      "\u001b[1m2413/2413\u001b[0m \u001b[32m━━━━━━━━━━━━━━━━━━━━\u001b[0m\u001b[37m\u001b[0m \u001b[1m109s\u001b[0m 45ms/step - accuracy: 0.0272 - loss: 3.2462 - val_accuracy: 0.0286 - val_loss: 2.8609\n",
      "Epoch 7/7\n",
      "\u001b[1m2413/2413\u001b[0m \u001b[32m━━━━━━━━━━━━━━━━━━━━\u001b[0m\u001b[37m\u001b[0m \u001b[1m109s\u001b[0m 45ms/step - accuracy: 0.0272 - loss: 3.2468 - val_accuracy: 0.0286 - val_loss: 2.8780\n",
      "\u001b[1m1508/1508\u001b[0m \u001b[32m━━━━━━━━━━━━━━━━━━━━\u001b[0m\u001b[37m\u001b[0m \u001b[1m19s\u001b[0m 13ms/step\n",
      "[CV] END batch_size=64, epochs=7, model__dropout=0.3382299335522936, model__hidden_layer=22, model__learning_rate=0.006438630132112236, model__lstm_units=127; total time=13.2min\n"
     ]
    },
    {
     "name": "stderr",
     "output_type": "stream",
     "text": [
      "/home/jinesh-subedi/htdocs/thesis/thesisStudy/lib/python3.12/site-packages/keras/src/layers/rnn/bidirectional.py:107: UserWarning: Do not pass an `input_shape`/`input_dim` argument to a layer. When using Sequential models, prefer using an `Input(shape)` object as the first layer in the model instead.\n",
      "  super().__init__(**kwargs)\n"
     ]
    },
    {
     "name": "stdout",
     "output_type": "stream",
     "text": [
      "Epoch 1/9\n",
      "\u001b[1m3620/3620\u001b[0m \u001b[32m━━━━━━━━━━━━━━━━━━━━\u001b[0m\u001b[37m\u001b[0m \u001b[1m173s\u001b[0m 46ms/step - accuracy: 0.6203 - loss: 1.4017 - val_accuracy: 0.8436 - val_loss: 0.5701\n",
      "Epoch 2/9\n",
      "\u001b[1m3620/3620\u001b[0m \u001b[32m━━━━━━━━━━━━━━━━━━━━\u001b[0m\u001b[37m\u001b[0m \u001b[1m166s\u001b[0m 46ms/step - accuracy: 0.8633 - loss: 0.5425 - val_accuracy: 0.9082 - val_loss: 0.3324\n",
      "Epoch 3/9\n",
      "\u001b[1m3620/3620\u001b[0m \u001b[32m━━━━━━━━━━━━━━━━━━━━\u001b[0m\u001b[37m\u001b[0m \u001b[1m166s\u001b[0m 46ms/step - accuracy: 0.8968 - loss: 0.3177 - val_accuracy: 0.9184 - val_loss: 0.2936\n",
      "Epoch 4/9\n",
      "\u001b[1m3620/3620\u001b[0m \u001b[32m━━━━━━━━━━━━━━━━━━━━\u001b[0m\u001b[37m\u001b[0m \u001b[1m166s\u001b[0m 46ms/step - accuracy: 0.9184 - loss: 0.2418 - val_accuracy: 0.9434 - val_loss: 0.2209\n",
      "Epoch 5/9\n",
      "\u001b[1m3620/3620\u001b[0m \u001b[32m━━━━━━━━━━━━━━━━━━━━\u001b[0m\u001b[37m\u001b[0m \u001b[1m197s\u001b[0m 55ms/step - accuracy: 0.9322 - loss: 0.1922 - val_accuracy: 0.9573 - val_loss: 0.1833\n",
      "Epoch 6/9\n",
      "\u001b[1m3620/3620\u001b[0m \u001b[32m━━━━━━━━━━━━━━━━━━━━\u001b[0m\u001b[37m\u001b[0m \u001b[1m192s\u001b[0m 53ms/step - accuracy: 0.9399 - loss: 0.1753 - val_accuracy: 0.9612 - val_loss: 0.1756\n",
      "Epoch 7/9\n",
      "\u001b[1m3620/3620\u001b[0m \u001b[32m━━━━━━━━━━━━━━━━━━━━\u001b[0m\u001b[37m\u001b[0m \u001b[1m166s\u001b[0m 46ms/step - accuracy: 0.9439 - loss: 0.1591 - val_accuracy: 0.9630 - val_loss: 0.1694\n",
      "Epoch 8/9\n",
      "\u001b[1m3620/3620\u001b[0m \u001b[32m━━━━━━━━━━━━━━━━━━━━\u001b[0m\u001b[37m\u001b[0m \u001b[1m166s\u001b[0m 46ms/step - accuracy: 0.9474 - loss: 0.1429 - val_accuracy: 0.9543 - val_loss: 0.1710\n",
      "Epoch 9/9\n",
      "\u001b[1m3620/3620\u001b[0m \u001b[32m━━━━━━━━━━━━━━━━━━━━\u001b[0m\u001b[37m\u001b[0m \u001b[1m166s\u001b[0m 46ms/step - accuracy: 0.9504 - loss: 0.1360 - val_accuracy: 0.9639 - val_loss: 0.1496\n",
      "Best parameters: OrderedDict({'batch_size': 64, 'epochs': 9, 'model__dropout': 0.2678878904442561, 'model__hidden_layer': 28, 'model__learning_rate': 0.00025319161350442564, 'model__lstm_units': 127})\n",
      "Best cross-validation accuracy: 0.9543661648042748\n",
      "\u001b[1m1378/1378\u001b[0m \u001b[32m━━━━━━━━━━━━━━━━━━━━\u001b[0m\u001b[37m\u001b[0m \u001b[1m18s\u001b[0m 13ms/step\n",
      "Test set accuracy: 0.9627282004762445\n"
     ]
    }
   ],
   "source": [
    "# Hyperparameter Tuning with Bayesian Optimization (BayesSearchCV)\n",
    "from skopt import BayesSearchCV\n",
    "from skopt.space import Real, Integer, Categorical\n",
    "from scikeras.wrappers import KerasClassifier\n",
    "from tensorflow.keras.models import Sequential\n",
    "from tensorflow.keras.layers import Bidirectional, LSTM, Dense, Dropout, LayerNormalization\n",
    "from tensorflow.keras.regularizers import l2\n",
    "from tensorflow.keras.optimizers import Adam\n",
    "from tensorflow.keras.callbacks import EarlyStopping, ReduceLROnPlateau\n",
    "from sklearn.model_selection import StratifiedKFold\n",
    "from sklearn.utils.class_weight import compute_class_weight\n",
    "\n",
    "def build_bilstm_model(\n",
    "    lstm_units=64,\n",
    "    hidden_layer=32,\n",
    "    dropout=0.2,\n",
    "    learning_rate=0.001,\n",
    "    input_shape=(30, 44)\n",
    "):\n",
    "    model = Sequential([\n",
    "        Bidirectional(LSTM(int(lstm_units*2), return_sequences=True, activation='tanh', recurrent_activation='sigmoid', recurrent_dropout=0.2), input_shape=input_shape),\n",
    "        LayerNormalization(),\n",
    "        Dropout(dropout),\n",
    "        Bidirectional(LSTM(int(lstm_units))),\n",
    "        LayerNormalization(),\n",
    "        Dropout(dropout),\n",
    "        Dense(int(hidden_layer), activation='relu'),\n",
    "        Dense(9, activation='softmax')\n",
    "    ])\n",
    "    optimizer = Adam(learning_rate=learning_rate, clipnorm=1.0)\n",
    "    model.compile(optimizer=optimizer, loss='sparse_categorical_crossentropy', metrics=['accuracy'])\n",
    "    return model\n",
    "\n",
    "from sklearn.metrics import make_scorer\n",
    "\n",
    "def constrained_score(y_true, y_pred):\n",
    "    cm = confusion_matrix(y_true, y_pred)\n",
    "    if cm.shape == (2, 2):\n",
    "        tn, fp, fn, tp = cm.ravel()\n",
    "        fnr = fn / (fn + tp) if (fn + tp) > 0 else 0\n",
    "        fpr = fp / (fp + tn) if (fp + tn) > 0 else 0\n",
    "        acc = accuracy_score(y_true, y_pred)\n",
    "        # Constraints: FNR ≤ 0.01, FPR ≤ 0.5, Accuracy > 0.90\n",
    "        if fnr <= 0.01 and fpr <= 0.5 and acc > 0.90:\n",
    "            print(f\"Valid model found: FNR={fnr}, FPR={fpr}, Acc={acc}\")\n",
    "            return acc\n",
    "        else:\n",
    "            print(f\"Model rejected: FNR={fnr}, FPR={fpr}, Acc={acc}\")\n",
    "            return 0\n",
    "    else:\n",
    "        # If confusion matrix is not 2x2, return 0\n",
    "        return 0\n",
    "\n",
    "constrained_scorer = make_scorer(constrained_score)\n",
    "cv_strategy = StratifiedKFold(n_splits=3, shuffle=True, random_state=42)\n",
    "\n",
    "early_stopping = EarlyStopping(monitor='val_loss', patience=10, mode='min', restore_best_weights=True)\n",
    "reduce_lr = ReduceLROnPlateau(monitor='val_loss', factor=0.5, patience=5, min_lr=1e-6, verbose=1)\n",
    "\n",
    "class_weights = compute_class_weight(\n",
    "    class_weight=\"balanced\",\n",
    "    classes=np.arange(y_multiclass_onehot.shape[1]),\n",
    "    y=y_multiclass_onehot.argmax(axis=1)\n",
    ")\n",
    "class_weight_dict = dict(enumerate(class_weights))\n",
    "\n",
    "# Wrap the model for scikit-learn compatibility\n",
    "keras_clf = KerasClassifier(\n",
    "    model=build_bilstm_model,\n",
    "    input_shape=(X_train_seq_final.shape[1], X_train_seq_final.shape[2]),\n",
    "    verbose=1\n",
    ")\n",
    "\n",
    "# Define the hyperparameter search space\n",
    "param_space = {\n",
    "    'model__lstm_units': Integer(64, 128),\n",
    "    'model__hidden_layer': Integer(16, 32),\n",
    "    'model__dropout': Real(0.2, 0.4),\n",
    "    'model__learning_rate': Real(1e-4, 1e-2, prior='log-uniform'),\n",
    "    'batch_size': Categorical([64, 128]),\n",
    "    'epochs': Integer(5, 10)\n",
    "}\n",
    "\n",
    "opt = BayesSearchCV(\n",
    "    estimator=keras_clf,\n",
    "    search_spaces=param_space,\n",
    "    n_iter=10,\n",
    "    # scoring=constrained_scorer,\n",
    "    scoring=\"accuracy\",\n",
    "    # cv=2,\n",
    "    cv=cv_strategy,\n",
    "    n_jobs=1,\n",
    "    verbose=2,\n",
    "    refit=True\n",
    ")\n",
    "\n",
    "# Convert one-hot encoded targets to integer labels\n",
    "y_train_seq_final_labels = np.argmax(y_train_seq_final, axis=1)\n",
    "y_test_seq_labels = np.argmax(y_test_seq, axis=1)\n",
    "\n",
    "# Fit the optimizer (this may take a while)\n",
    "opt.fit(X_train_seq_final, y_train_seq_final_labels, callbacks=[early_stopping, reduce_lr], validation_split=0.2, class_weight=class_weight_dict, verbose=1)\n",
    "\n",
    "print('Best parameters:', opt.best_params_)\n",
    "print('Best cross-validation accuracy:', opt.best_score_)\n",
    "\n",
    "# Evaluate on test set\n",
    "test_score = opt.score(X_test_seq, y_test_seq_labels)\n",
    "print('Test set accuracy:', test_score)"
   ]
  },
  {
   "cell_type": "code",
   "execution_count": null,
   "id": "b2f9845c",
   "metadata": {},
   "outputs": [
    {
     "name": "stderr",
     "output_type": "stream",
     "text": [
      "/home/jinesh-subedi/htdocs/thesis/thesisStudy/lib/python3.12/site-packages/keras/src/layers/rnn/bidirectional.py:107: UserWarning: Do not pass an `input_shape`/`input_dim` argument to a layer. When using Sequential models, prefer using an `Input(shape)` object as the first layer in the model instead.\n",
      "  super().__init__(**kwargs)\n"
     ]
    }
   ],
   "source": [
    "# use the best params obtained from the above bayes search to train the model again and evaluate on test set.\n",
    "# Extract best parameters\n",
    "best_params = opt.best_params_\n",
    "# Build model with best parameters\n",
    "model = build_bilstm_model(\n",
    "    lstm_units=best_params['model__lstm_units'],\n",
    "    hidden_layer=best_params['model__hidden_layer'],\n",
    "    dropout=best_params['model__dropout'],\n",
    "    learning_rate=best_params['model__learning_rate'],\n",
    "    input_shape=(X_train_seq_final.shape[1], X_train_seq_final.shape[2])\n",
    ")\n",
    "\n",
    "# Train the model\n",
    "history = model.fit(\n",
    "    X_train_seq_final, y_train_seq_final_labels,\n",
    "    validation_data=(X_val_seq, np.argmax(y_val_seq, axis=1)),\n",
    "    epochs=best_params['epochs'],\n",
    "    batch_size=best_params['batch_size'],\n",
    "    callbacks=[early_stopping, reduce_lr],\n",
    "    class_weight=class_weight_dict,\n",
    "    verbose=1\n",
    ")\n",
    "\n",
    "# Evaluate on test set\n",
    "results = model.evaluate(X_test_seq, y_test_seq_labels, verbose=2)\n",
    "print(\"Test Loss: {}\".format(results[0]))\n",
    "print(\"Test Accuracy: {}\".format(results[1]))\n"
   ]
  },
  {
   "cell_type": "code",
   "execution_count": null,
   "id": "fa7cef21",
   "metadata": {},
   "outputs": [
    {
     "name": "stdout",
     "output_type": "stream",
     "text": [
      "\u001b[1m2756/2756\u001b[0m \u001b[32m━━━━━━━━━━━━━━━━━━━━\u001b[0m\u001b[37m\u001b[0m \u001b[1m28s\u001b[0m 10ms/step\n",
      "              precision    recall  f1-score   support\n",
      "\n",
      "           0       0.98      1.00      0.99      3997\n",
      "           1       0.90      0.96      0.93      3998\n",
      "           2       0.82      0.97      0.89      4000\n",
      "           3       0.91      0.96      0.93      3999\n",
      "           4       0.18      0.83      0.29       209\n",
      "           5       1.00      0.95      0.97     59991\n",
      "           6       0.94      0.99      0.96      3998\n",
      "           7       0.95      1.00      0.97      3999\n",
      "           8       0.89      0.97      0.93      3999\n",
      "\n",
      "    accuracy                           0.96     88190\n",
      "   macro avg       0.84      0.96      0.87     88190\n",
      "weighted avg       0.97      0.96      0.96     88190\n",
      "\n",
      "[[ 3997     0     0     0     0     0     0     0     0]\n",
      " [    0  3844    11   134     0     4     2     2     1]\n",
      " [    0     2  3872     1     0   124     0     0     1]\n",
      " [    0    62    84  3825     0     2     0     1    25]\n",
      " [    0     0     2     0   173     6     0     0    28]\n",
      " [   89   371   723   252   802 56976   171   222   385]\n",
      " [    0     9     6     0     1     0  3957     0    25]\n",
      " [    0     1     8     1     1     5     0  3983     0]\n",
      " [    0     1     7     0     2     2    90     0  3897]]\n"
     ]
    },
    {
     "data": {
      "image/png": "[encoded data removed]",
      "text/plain": [
       "<Figure size 1200x600 with 1 Axes>"
      ]
     },
     "metadata": {},
     "output_type": "display_data"
    }
   ],
   "source": [
    "\n",
    "# Print classification report\n",
    "y_pred_probs = model.predict(X_test_seq)\n",
    "y_pred_classes = y_pred_probs.argmax(axis=1)\n",
    "y_true_classes = y_test_seq_labels\n",
    "print(classification_report(y_true_classes, y_pred_classes))\n",
    "\n",
    "# confusion matrics\n",
    "cm = confusion_matrix(y_true_classes, y_pred_classes)\n",
    "print(cm)\n",
    "\n",
    "#plot the validation loss and accuracy\n",
    "plt.figure(figsize=(12, 6))\n",
    "plt.plot(history.history['loss'], label='Train Loss')   \n",
    "plt.plot(history.history['val_loss'], label='Validation Loss')\n",
    "plt.plot(history.history['accuracy'], label='Train Accuracy')\n",
    "plt.plot(history.history['val_accuracy'], label='Validation Accuracy')\n",
    "plt.title('Training and Validation Loss and Accuracy')\n",
    "plt.xlabel('Epoch')\n",
    "plt.ylabel('Loss/Accuracy')\n",
    "plt.legend()\n",
    "plt.show()\n",
    "\n"
   ]
  },
  {
   "cell_type": "code",
   "execution_count": null,
   "id": "cd9f03c7",
   "metadata": {},
   "outputs": [
    {
     "name": "stdout",
     "output_type": "stream",
     "text": [
      "\u001b[1m2756/2756\u001b[0m \u001b[32m━━━━━━━━━━━━━━━━━━━━\u001b[0m\u001b[37m\u001b[0m \u001b[1m28s\u001b[0m 10ms/step\n",
      "False Negative Rate (FNR) per class: [np.float64(0.0), np.float64(0.03851925962981491), np.float64(0.032), np.float64(0.04351087771942986), np.float64(0.1722488038277512), np.float64(0.05025753863079462), np.float64(0.01025512756378189), np.float64(0.004001000250062516), np.float64(0.025506376594148537)]\n",
      "False Positive Rate (FPR) per class: [np.float64(0.001057095007898519), np.float64(0.0052974154313949065), np.float64(0.009989309894286733), np.float64(0.004608568611846872), np.float64(0.00916106886714177), np.float64(0.005071101812120997), np.float64(0.0031238122386925125), np.float64(0.002672494684705016), np.float64(0.005523155681723699)]\n"
     ]
    }
   ],
   "source": [
    "# Calculate FPR and FNR\n",
    "y_pred_probs = model.predict(X_test_seq)\n",
    "y_pred_classes = y_pred_probs.argmax(axis=1)\n",
    "y_true_classes = y_test_seq_labels\n",
    "cm = confusion_matrix(y_true_classes, y_pred_classes)\n",
    "\n",
    "# For multi-class, calculate FNR and FPR per class\n",
    "fnr = []\n",
    "fpr = []\n",
    "for i in range(cm.shape[0]):\n",
    "\tfn = cm[i, :].sum() - cm[i, i]\n",
    "\ttp = cm[i, i]\n",
    "\tfp = cm[:, i].sum() - cm[i, i]\n",
    "\ttn = cm.sum() - (tp + fn + fp)\n",
    "\tfnr.append(fn / (fn + tp) if (fn + tp) > 0 else 0)\n",
    "\tfpr.append(fp / (fp + tn) if (fp + tn) > 0 else 0)\n",
    "\n",
    "print(\"False Negative Rate (FNR) per class:\", fnr)\n",
    "print(\"False Positive Rate (FPR) per class:\", fpr)"
   ]
  },
  {
   "cell_type": "code",
   "execution_count": null,
   "id": "4cd9e546",
   "metadata": {},
   "outputs": [
    {
     "name": "stdout",
     "output_type": "stream",
     "text": [
      "    Class      FNR      FPR\n",
      " backdoor 0.000000 0.001057\n",
      "     ddos 0.038519 0.005297\n",
      "      dos 0.032000 0.009989\n",
      "injection 0.043511 0.004609\n",
      "     mitm 0.172249 0.009161\n",
      "   normal 0.050258 0.005071\n",
      " password 0.010255 0.003124\n",
      " scanning 0.004001 0.002672\n",
      "      xss 0.025506 0.005523\n"
     ]
    }
   ],
   "source": [
    "import pandas as pd\n",
    "\n",
    "# Use type_encoder.classes_ to match the order and number of classes\n",
    "results_df = pd.DataFrame({\n",
    "    \"Class\": type_encoder.classes_,\n",
    "    \"FNR\": fnr,\n",
    "    \"FPR\": fpr\n",
    "})\n",
    "\n",
    "print(results_df.to_string(index=False))\n"
   ]
  }
 ],
 "metadata": {
  "kernelspec": {
   "display_name": "thesisStudy",
   "language": "python",
   "name": "python3"
  },
  "language_info": {
   "codemirror_mode": {
    "name": "ipython",
    "version": 3
   },
   "file_extension": ".py",
   "mimetype": "text/x-python",
   "name": "python",
   "nbconvert_exporter": "python",
   "pygments_lexer": "ipython3",
   "version": "3.12.3"
  }
 },
 "nbformat": 4,
 "nbformat_minor": 5
}
